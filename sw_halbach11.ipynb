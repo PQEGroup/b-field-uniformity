{
 "cells": [
  {
   "cell_type": "code",
   "execution_count": 9,
   "id": "f09b69e8-4464-4b40-8241-84266b1cfbcd",
   "metadata": {},
   "outputs": [],
   "source": [
    "import numpy as np\n",
    "import magpylib as magpy\n",
    "from magpylib.magnet import Cuboid, Cylinder, CylinderSegment\n",
    "from maggeometry import halbach_cylinder\n",
    "import plotly.graph_objects as go\n",
    "from plotly.subplots import make_subplots\n",
    "import matplotlib.pyplot as plt\n",
    "import numpy as np\n",
    "from scipy.optimize import minimize, Bounds\n",
    "from maghelper import get_field_on_axes, get_nonuniformity, make_flux_stream, centered_sweep_range, get_grid_nonuniformity, make_grid"
   ]
  },
  {
   "cell_type": "markdown",
   "id": "49da9989-4214-41f7-908c-374a20df21e8",
   "metadata": {},
   "source": [
    "### Nelder-Mead Adaptive Optimization of Halbach 11 main\n",
    "n = 11\n",
    "\n",
    "### Samwise"
   ]
  },
  {
   "cell_type": "code",
   "execution_count": 10,
   "id": "de664111-788c-4a6e-ad2f-3a54325673bd",
   "metadata": {},
   "outputs": [],
   "source": [
    "# def halbach_cylinder(Br, c_d, c_h, D, n, alternate=False):"
   ]
  },
  {
   "cell_type": "code",
   "execution_count": 11,
   "id": "d59be79b-87f9-4483-a15c-783a1a58ca22",
   "metadata": {},
   "outputs": [],
   "source": [
    "def get_grid_mag_and_target_nonuniformity(magnets, grid, grid_res, target=10, use_z=False):\n",
    "    mT_to_G = 10\n",
    "    B = magnets.getB(grid)\n",
    "    G = B * mT_to_G\n",
    "    # find magnitude of the b-field at all points over grid\n",
    "    Gmag = 0\n",
    "    if use_z:\n",
    "        Gmag = G[:,:,2]\n",
    "    else:\n",
    "        Gmag = np.linalg.norm(G, axis=2)\n",
    "#     Gmag = np.sqrt(G[:,:,0]**2 + G[:,:,1]**2 + G[:,:,2]**2)\n",
    "#     Gmag = G[:,:,2]\n",
    "    # find magnitude of b-field at center of grid\n",
    "    mid_id = int(grid_res/2)\n",
    "    Gcenter = Gmag[mid_id][mid_id]\n",
    "    # calculate nonuniformity with respect to center b-field\n",
    "    Gnon = np.abs((Gmag - Gcenter)/Gcenter)\n",
    "    Gtarget_non = np.abs((Gmag - target)/target)\n",
    "#     Gtarget_non = np.abs((Gmag - target)/target)\n",
    "#     max_nonuniformity = np.max(Gnon)\n",
    "    av_nonuniformity = np.sum(Gnon) / grid_res**2\n",
    "    av_target_nonuniformity = np.sum(Gtarget_non) / grid_res**2\n",
    "#     return Gmag, Gnon, Gcenter, av_nonuniformity, av_target_nonuniformity, max_nonuniformity\n",
    "    return Gcenter, av_nonuniformity, av_target_nonuniformity"
   ]
  },
  {
   "cell_type": "code",
   "execution_count": 12,
   "id": "f147ec97-7d3b-4049-9a0a-92dc843f1c26",
   "metadata": {},
   "outputs": [],
   "source": [
    "from maghelper import get_field_on_axes, get_nonuniformity, make_flux_stream, centered_sweep_range, get_grid_nonuniformity, make_xy_grid"
   ]
  },
  {
   "cell_type": "code",
   "execution_count": 13,
   "id": "eb51176a-db8d-438d-919d-0e9c09e32fb9",
   "metadata": {},
   "outputs": [],
   "source": [
    "n = 11\n",
    "grid_res = 101\n",
    "grid = make_xy_grid([-10, 10], [-10, 10], grid_res)\n",
    "Br = 1.09e3\n",
    "c_h = 640\n",
    "threshold = 0.1 # in G\n",
    "target = 10\n",
    "\n",
    "          #c_d,     D\n",
    "bounds = ((1, 20), (21, 300))\n",
    "\n",
    "def obj1_nonuniformity(x):\n",
    "    magnets = halbach_cylinder(Br, x[0], c_h, x[1], n)\n",
    "    center_field, av_nonuniformity, av_target_nonuniformity = get_grid_mag_and_target_nonuniformity(magnets, grid, grid_res, target)\n",
    "    if (abs(center_field - target) > threshold):\n",
    "        return av_target_nonuniformity\n",
    "    return av_nonuniformity"
   ]
  },
  {
   "cell_type": "code",
   "execution_count": 14,
   "id": "e692a56d-49f5-462d-8d85-9e8f2157066d",
   "metadata": {
    "scrolled": true
   },
   "outputs": [
    {
     "name": "stdout",
     "output_type": "stream",
     "text": [
      "[6.5202478832587465, 249.99166540121956]\n",
      "Optimization terminated successfully.\n",
      "         Current function value: 0.000027\n",
      "         Iterations: 99\n",
      "         Function evaluations: 244\n",
      "[8.681745209173073, 260.31256544285503]\n"
     ]
    },
    {
     "name": "stderr",
     "output_type": "stream",
     "text": [
      "/var/folders/06/7pjfbw510cz2ch1m7lx8vvl80000gn/T/ipykernel_22091/1123013417.py:14: RuntimeWarning: Maximum number of iterations has been exceeded.\n",
      "  res = minimize(obj1_nonuniformity, x0, method=method, options=options, bounds=bounds)\n"
     ]
    },
    {
     "name": "stdout",
     "output_type": "stream",
     "text": [
      "[3.7799962890062755, 272.6927225361992]\n",
      "[7.181997451783075, 251.44787504130733]\n",
      "[10.245737439421221, 195.53618357606345]\n",
      "Optimization terminated successfully.\n",
      "         Current function value: 0.000027\n",
      "         Iterations: 100\n",
      "         Function evaluations: 242\n",
      "[8.158333353514045, 282.13976558945717]\n",
      "[15.932850234006851, 28.19680969930659]\n",
      "[3.6795046009687864, 232.22952731474237]\n",
      "Optimization terminated successfully.\n",
      "         Current function value: 0.000000\n",
      "         Iterations: 241\n",
      "         Function evaluations: 541\n",
      "[16.257787824775576, 171.72511239030518]\n",
      "Optimization terminated successfully.\n",
      "         Current function value: 0.000023\n",
      "         Iterations: 101\n",
      "         Function evaluations: 244\n",
      "[1.5182590482971565, 259.97073420870004]\n",
      "Optimization terminated successfully.\n",
      "         Current function value: 0.000000\n",
      "         Iterations: 139\n",
      "         Function evaluations: 318\n",
      "[5.819233914049986, 192.60671795069894]\n",
      "Optimization terminated successfully.\n",
      "         Current function value: 0.000000\n",
      "         Iterations: 163\n",
      "         Function evaluations: 370\n",
      "[4.782966167411315, 180.01520992742965]\n",
      "Optimization terminated successfully.\n",
      "         Current function value: 0.000000\n",
      "         Iterations: 129\n",
      "         Function evaluations: 282\n",
      "[11.504208506398594, 220.11471027372298]\n",
      "[16.764876357376046, 109.16610190384431]\n",
      "Optimization terminated successfully.\n",
      "         Current function value: 0.000000\n",
      "         Iterations: 293\n",
      "         Function evaluations: 612\n",
      "[2.499039099327197, 155.03622577005115]\n",
      "[2.8339545324213398, 23.245232711281922]\n",
      "Optimization terminated successfully.\n",
      "         Current function value: 0.000000\n",
      "         Iterations: 101\n",
      "         Function evaluations: 247\n",
      "[2.0523974576580915, 40.34161494353309]\n",
      "Optimization terminated successfully.\n",
      "         Current function value: 0.000000\n",
      "         Iterations: 95\n",
      "         Function evaluations: 223\n",
      "[19.988173527551666, 136.96250678881637]\n",
      "[13.559323187292073, 156.60053629065087]\n",
      "Optimization terminated successfully.\n",
      "         Current function value: 0.000000\n",
      "         Iterations: 155\n",
      "         Function evaluations: 346\n",
      "[7.820342168200043, 62.041696868336466]\n",
      "Optimization terminated successfully.\n",
      "         Current function value: 0.000000\n",
      "         Iterations: 119\n",
      "         Function evaluations: 277\n",
      "[12.175321823488638, 211.1411076936678]\n",
      "Optimization terminated successfully.\n",
      "         Current function value: 0.000027\n",
      "         Iterations: 100\n",
      "         Function evaluations: 252\n",
      "[16.061698134970086, 151.2835079280656]\n",
      "[17.964040161367574, 225.54126263375306]\n",
      "Optimization terminated successfully.\n",
      "         Current function value: 0.000027\n",
      "         Iterations: 108\n",
      "         Function evaluations: 246\n",
      "[19.751508304699406, 92.93049221115005]\n",
      "[7.441891695281489, 145.70129009432864]\n",
      "Optimization terminated successfully.\n",
      "         Current function value: 0.000000\n",
      "         Iterations: 283\n",
      "         Function evaluations: 600\n",
      "Objective function values:\n",
      "[2.6597821202365677e-05, 2.6597817527391923e-05, 2.1762456876628036e-07, 2.659781872800163e-05, 2.6597816327485386e-05, 2.659782505082578e-05, 2.1758716748376841e-07, 2.1761834993727915e-07, 2.2851697058871123e-05, 2.1763154270590781e-07, 2.1760892464047794e-07, 2.1761602550643917e-07, 2.659781829973841e-05, 2.1759139471560822e-07, 2.1764430165829754e-07, 2.1764126662390286e-07, 2.1761597452158051e-07, 2.659781875037047e-05, 2.1760794875464298e-07, 2.1758478630252665e-07, 2.6597818250274818e-05, 2.1762567381037916e-07, 2.6597818247775515e-05, 2.659781858648557e-05, 2.176575779280016e-07]\n",
      "Result parameters:\n",
      "[array([  3.91705862, 300.        ]), array([  3.9190198, 300.       ]), array([ 1.        , 77.04123099]), array([  3.91817955, 300.        ]), array([  3.91923258, 300.        ]), array([  3.9150459, 300.       ]), array([ 1.        , 77.04061859]), array([ 1.      , 77.040839]), array([  3.71091994, 284.35150482]), array([ 1.00001546, 77.04350815]), array([ 1.00001169, 77.04130683]), array([ 1.        , 77.04096969]), array([  3.91924012, 300.        ]), array([ 1.00000179, 77.04105886]), array([ 1.        , 77.04224771]), array([ 1.        , 77.04383441]), array([ 1.        , 77.04229632]), array([  3.91921226, 300.        ]), array([ 1.        , 77.04047822]), array([ 1.        , 77.04065969]), array([  3.91909294, 300.        ]), array([ 1.        , 77.04163932]), array([  3.91889461, 300.        ]), array([  3.91860465, 300.        ]), array([ 1.        , 77.04467258])]\n",
      "Starting guesses:\n",
      "[[6.5202478832587465, 249.99166540121956], [8.681745209173073, 260.31256544285503], [3.7799962890062755, 272.6927225361992], [7.181997451783075, 251.44787504130733], [10.245737439421221, 195.53618357606345], [8.158333353514045, 282.13976558945717], [15.932850234006851, 28.19680969930659], [3.6795046009687864, 232.22952731474237], [16.257787824775576, 171.72511239030518], [1.5182590482971565, 259.97073420870004], [5.819233914049986, 192.60671795069894], [4.782966167411315, 180.01520992742965], [11.504208506398594, 220.11471027372298], [16.764876357376046, 109.16610190384431], [2.499039099327197, 155.03622577005115], [2.8339545324213398, 23.245232711281922], [2.0523974576580915, 40.34161494353309], [19.988173527551666, 136.96250678881637], [13.559323187292073, 156.60053629065087], [7.820342168200043, 62.041696868336466], [12.175321823488638, 211.1411076936678], [16.061698134970086, 151.2835079280656], [17.964040161367574, 225.54126263375306], [19.751508304699406, 92.93049221115005], [7.441891695281489, 145.70129009432864]]\n"
     ]
    }
   ],
   "source": [
    "options = {'disp': True, 'fatol': 1e-18, 'maxiter': 5e3, 'adaptive': True}\n",
    "method = \"Nelder-Mead\"\n",
    "\n",
    "shots = 25\n",
    "results_x = []\n",
    "results_fun = []\n",
    "guesses_x0 = []\n",
    "b_len = len(bounds)\n",
    "for i in range(shots):\n",
    "    x0 = [0, 0]\n",
    "    for b in range(b_len):\n",
    "        x0[b] = np.random.uniform(low=bounds[b][0], high=bounds[b][1])\n",
    "    print(x0)\n",
    "    res = minimize(obj1_nonuniformity, x0, method=method, options=options, bounds=bounds)\n",
    "    guesses_x0.append(x0)\n",
    "    results_x.append(res.x)\n",
    "    results_fun.append(res.fun)\n",
    "\n",
    "print(\"Objective function values:\")\n",
    "print(results_fun)\n",
    "print(\"Result parameters:\")\n",
    "print(results_x)\n",
    "print(\"Starting guesses:\")\n",
    "print(guesses_x0)"
   ]
  },
  {
   "cell_type": "code",
   "execution_count": 15,
   "id": "589652d9-7526-4bd5-9856-9cca94938169",
   "metadata": {},
   "outputs": [
    {
     "name": "stdout",
     "output_type": "stream",
     "text": [
      "[array([  3.91705862, 300.        ]), array([  3.9190198, 300.       ]), array([ 1.        , 77.04123099]), array([  3.91817955, 300.        ]), array([  3.91923258, 300.        ]), array([  3.9150459, 300.       ]), array([ 1.        , 77.04061859]), array([ 1.      , 77.040839]), array([  3.71091994, 284.35150482]), array([ 1.00001546, 77.04350815]), array([ 1.00001169, 77.04130683]), array([ 1.        , 77.04096969]), array([  3.91924012, 300.        ]), array([ 1.00000179, 77.04105886]), array([ 1.        , 77.04224771]), array([ 1.        , 77.04383441]), array([ 1.        , 77.04229632]), array([  3.91921226, 300.        ]), array([ 1.        , 77.04047822]), array([ 1.        , 77.04065969]), array([  3.91909294, 300.        ]), array([ 1.        , 77.04163932]), array([  3.91889461, 300.        ]), array([  3.91860465, 300.        ]), array([ 1.        , 77.04467258])]\n"
     ]
    }
   ],
   "source": [
    "print(results_x)"
   ]
  },
  {
   "cell_type": "code",
   "execution_count": 16,
   "id": "e4452b35-0ab3-46a1-98dc-53f18db65ebf",
   "metadata": {},
   "outputs": [],
   "source": [
    "charr = np.full((1, shots), 640).flatten()\n",
    "r_n = np.full((1, shots), n).flatten()"
   ]
  },
  {
   "cell_type": "code",
   "execution_count": 17,
   "id": "3ade58bf-00ea-4069-bf6a-ec6884fb1768",
   "metadata": {},
   "outputs": [],
   "source": [
    "from maggeometry import halbach_cylinder\n",
    "from maghelper import get_field_on_axes, get_nonuniformity, make_flux_stream, centered_sweep_range, get_grid_nonuniformity, make_xy_grid, get_grid_mag_and_nonuniformity\n",
    "grid_res = 101\n",
    "grid = make_xy_grid([-10, 10], [-10, 10], grid_res)\n",
    "results_g_center = []\n",
    "results_nonun = []\n",
    "for x in results_x:\n",
    "    magnets = halbach_cylinder(Br, x[0], charr[0], x[1], n)\n",
    "    Gmag, Gnon, center_field, av_nonuniformity, max_abs_nonuniformity = get_grid_mag_and_nonuniformity(magnets, grid, grid_res)\n",
    "    results_g_center.append(center_field)\n",
    "    results_nonun.append(av_nonuniformity)"
   ]
  },
  {
   "cell_type": "code",
   "execution_count": 18,
   "id": "c8fd0acb-f506-49cb-900c-aed1476f3a0f",
   "metadata": {
    "scrolled": true
   },
   "outputs": [
    {
     "name": "stdout",
     "output_type": "stream",
     "text": [
      "Number of unique results: 25\n",
      "    nonuniformity  center_field_gauss  n_rods  cyl_height  cyl_diameter  \\\n",
      "0    2.175848e-07           10.099871    11.0       640.0      1.000000   \n",
      "1    2.175872e-07           10.099881    11.0       640.0      1.000000   \n",
      "2    2.175914e-07           10.099802    11.0       640.0      1.000002   \n",
      "3    2.176079e-07           10.099918    11.0       640.0      1.000000   \n",
      "4    2.176089e-07           10.099937    11.0       640.0      1.000012   \n",
      "5    2.176160e-07           10.099442    11.0       640.0      1.000000   \n",
      "6    2.176160e-07           10.099789    11.0       640.0      1.000000   \n",
      "7    2.176183e-07           10.099824    11.0       640.0      1.000000   \n",
      "8    2.176246e-07           10.099721    11.0       640.0      1.000000   \n",
      "9    2.176257e-07           10.099614    11.0       640.0      1.000000   \n",
      "10   2.176315e-07           10.099436    11.0       640.0      1.000015   \n",
      "11   2.176413e-07           10.099038    11.0       640.0      1.000000   \n",
      "12   2.176443e-07           10.099454    11.0       640.0      1.000000   \n",
      "13   2.176576e-07           10.098818    11.0       640.0      1.000000   \n",
      "14   2.285170e-05           10.099995    11.0       640.0      3.710920   \n",
      "15   2.659782e-05           10.098877    11.0       640.0      3.919233   \n",
      "16   2.659782e-05           10.097781    11.0       640.0      3.919020   \n",
      "17   2.659782e-05           10.097136    11.0       640.0      3.918895   \n",
      "18   2.659782e-05           10.098158    11.0       640.0      3.919093   \n",
      "19   2.659782e-05           10.098916    11.0       640.0      3.919240   \n",
      "20   2.659782e-05           10.095641    11.0       640.0      3.918605   \n",
      "21   2.659782e-05           10.093451    11.0       640.0      3.918180   \n",
      "22   2.659782e-05           10.098772    11.0       640.0      3.919212   \n",
      "23   2.659782e-05           10.087677    11.0       640.0      3.917059   \n",
      "24   2.659783e-05           10.077313    11.0       640.0      3.915046   \n",
      "\n",
      "             D  g_cyl_diameter         g_D  \n",
      "0    77.040660        7.820342   62.041697  \n",
      "1    77.040619       15.932850   28.196810  \n",
      "2    77.041059       16.764876  109.166102  \n",
      "3    77.040478       13.559323  156.600536  \n",
      "4    77.041307        5.819234  192.606718  \n",
      "5    77.042296        2.052397   40.341615  \n",
      "6    77.040970        4.782966  180.015210  \n",
      "7    77.040839        3.679505  232.229527  \n",
      "8    77.041231        3.779996  272.692723  \n",
      "9    77.041639       16.061698  151.283508  \n",
      "10   77.043508        1.518259  259.970734  \n",
      "11   77.043834        2.833955   23.245233  \n",
      "12   77.042248        2.499039  155.036226  \n",
      "13   77.044673        7.441892  145.701290  \n",
      "14  284.351505       16.257788  171.725112  \n",
      "15  300.000000       10.245737  195.536184  \n",
      "16  300.000000        8.681745  260.312565  \n",
      "17  300.000000       17.964040  225.541263  \n",
      "18  300.000000       12.175322  211.141108  \n",
      "19  300.000000       11.504209  220.114710  \n",
      "20  300.000000       19.751508   92.930492  \n",
      "21  300.000000        7.181997  251.447875  \n",
      "22  300.000000       19.988174  136.962507  \n",
      "23  300.000000        6.520248  249.991665  \n",
      "24  300.000000        8.158333  282.139766  \n"
     ]
    }
   ],
   "source": [
    "import pandas as pd\n",
    "def make_opt_res_halbach_csv(name, fun, g_center, r_n, r_ch, x, guesses):\n",
    "    r_f = np.array([fun])\n",
    "    r_g = np.array(guesses)\n",
    "    r_gc = np.array([g_center])\n",
    "    r_n = np.array([r_n])\n",
    "    r_ch = np.array([r_ch])\n",
    "    r_x = np.array(x)\n",
    "    a = np.concatenate((r_f.T, r_gc.T, r_n.T, r_ch.T, r_x, r_g), axis=1)\n",
    "    b = a[a[:, 0].argsort()]\n",
    "\n",
    "    columns = ['nonuniformity', 'center_field_gauss', 'n_rods', 'cyl_height']\n",
    "\n",
    "    columns.append('cyl_diameter')\n",
    "    columns.append('D')\n",
    "    columns.append('g_cyl_diameter')\n",
    "    columns.append('g_D')\n",
    "    \n",
    "    \n",
    "    columns = np.array(columns)\n",
    "    b_df = pd.DataFrame(b, columns = columns)\n",
    "    \n",
    "    c = np.concatenate((r_f.T, r_x), axis=1)\n",
    "    new_array = [tuple(row) for row in c]\n",
    "    u = np.unique(new_array, axis=0)\n",
    "    n_unique = len(u)\n",
    "    print('Number of unique results:', n_unique)\n",
    "    print(b_df)\n",
    "    b_df.to_csv(name + str(n_unique) + '.csv')\n",
    "    return b, b_df\n",
    "\n",
    "import datetime\n",
    "today = datetime.datetime.today().strftime('%Y_%m_%d')\n",
    "\n",
    "b, b_df = make_opt_res_halbach_csv(f'results/halbach/samwise/{n}_{today}_samwise_halbach_main_1090mT_', results_fun, results_g_center, r_n, charr, results_x, guesses_x0)"
   ]
  },
  {
   "cell_type": "code",
   "execution_count": 12,
   "id": "cdc0acc2-1d04-4dd5-9eb7-0e33c143f57b",
   "metadata": {},
   "outputs": [
    {
     "name": "stdout",
     "output_type": "stream",
     "text": [
      "1.5573750827657786e-07\n"
     ]
    }
   ],
   "source": [
    "m = halbach_cylinder(Br, 1.101233, 640, 68.228286, n)\n",
    "Gmag, Gnon, center_field, av_nonuniformity, max_abs_nonuniformity = get_grid_mag_and_nonuniformity(m, grid, grid_res)\n",
    "print(av_nonuniformity)"
   ]
  },
  {
   "cell_type": "code",
   "execution_count": null,
   "id": "836fe4bf-625b-4afd-bb10-118a878bb35c",
   "metadata": {},
   "outputs": [],
   "source": []
  }
 ],
 "metadata": {
  "kernelspec": {
   "display_name": "Python 3 (ipykernel)",
   "language": "python",
   "name": "python3"
  },
  "language_info": {
   "codemirror_mode": {
    "name": "ipython",
    "version": 3
   },
   "file_extension": ".py",
   "mimetype": "text/x-python",
   "name": "python",
   "nbconvert_exporter": "python",
   "pygments_lexer": "ipython3",
   "version": "3.11.4"
  }
 },
 "nbformat": 4,
 "nbformat_minor": 5
}
