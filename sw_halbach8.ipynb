{
 "cells": [
  {
   "cell_type": "code",
   "execution_count": 2,
   "id": "f09b69e8-4464-4b40-8241-84266b1cfbcd",
   "metadata": {},
   "outputs": [],
   "source": [
    "import numpy as np\n",
    "import magpylib as magpy\n",
    "from magpylib.magnet import Cuboid, Cylinder, CylinderSegment\n",
    "from maggeometry import halbach_cylinder\n",
    "import plotly.graph_objects as go\n",
    "from plotly.subplots import make_subplots\n",
    "import matplotlib.pyplot as plt\n",
    "import numpy as np\n",
    "from scipy.optimize import minimize, Bounds\n",
    "from maghelper import get_field_on_axes, get_nonuniformity, make_flux_stream, centered_sweep_range, get_grid_nonuniformity, make_grid"
   ]
  },
  {
   "cell_type": "markdown",
   "id": "49da9989-4214-41f7-908c-374a20df21e8",
   "metadata": {},
   "source": [
    "### Nelder-Mead Adaptive Optimization of Halbach 8 main\n",
    "n = 8\n",
    "\n",
    "### Samwise"
   ]
  },
  {
   "cell_type": "code",
   "execution_count": 3,
   "id": "de664111-788c-4a6e-ad2f-3a54325673bd",
   "metadata": {},
   "outputs": [],
   "source": [
    "# def halbach_cylinder(Br, c_d, c_h, D, n, alternate=False):"
   ]
  },
  {
   "cell_type": "code",
   "execution_count": 4,
   "id": "d59be79b-87f9-4483-a15c-783a1a58ca22",
   "metadata": {},
   "outputs": [],
   "source": [
    "def get_grid_mag_and_target_nonuniformity(magnets, grid, grid_res, target=10, use_z=False):\n",
    "    mT_to_G = 10\n",
    "    B = magnets.getB(grid)\n",
    "    G = B * mT_to_G\n",
    "    # find magnitude of the b-field at all points over grid\n",
    "    Gmag = 0\n",
    "    if use_z:\n",
    "        Gmag = G[:,:,2]\n",
    "    else:\n",
    "        Gmag = np.linalg.norm(G, axis=2)\n",
    "#     Gmag = np.sqrt(G[:,:,0]**2 + G[:,:,1]**2 + G[:,:,2]**2)\n",
    "#     Gmag = G[:,:,2]\n",
    "    # find magnitude of b-field at center of grid\n",
    "    mid_id = int(grid_res/2)\n",
    "    Gcenter = Gmag[mid_id][mid_id]\n",
    "    # calculate nonuniformity with respect to center b-field\n",
    "    Gnon = np.abs((Gmag - Gcenter)/Gcenter)\n",
    "    Gtarget_non = np.abs((Gmag - target)/target)\n",
    "#     Gtarget_non = np.abs((Gmag - target)/target)\n",
    "#     max_nonuniformity = np.max(Gnon)\n",
    "    av_nonuniformity = np.sum(Gnon) / grid_res**2\n",
    "    av_target_nonuniformity = np.sum(Gtarget_non) / grid_res**2\n",
    "#     return Gmag, Gnon, Gcenter, av_nonuniformity, av_target_nonuniformity, max_nonuniformity\n",
    "    return Gcenter, av_nonuniformity, av_target_nonuniformity"
   ]
  },
  {
   "cell_type": "code",
   "execution_count": 5,
   "id": "f147ec97-7d3b-4049-9a0a-92dc843f1c26",
   "metadata": {},
   "outputs": [],
   "source": [
    "from maghelper import get_field_on_axes, get_nonuniformity, make_flux_stream, centered_sweep_range, get_grid_nonuniformity, make_xy_grid"
   ]
  },
  {
   "cell_type": "code",
   "execution_count": 6,
   "id": "eb51176a-db8d-438d-919d-0e9c09e32fb9",
   "metadata": {},
   "outputs": [],
   "source": [
    "n = 8\n",
    "grid_res = 101\n",
    "grid = make_xy_grid([-10, 10], [-10, 10], grid_res)\n",
    "Br = 1.09e3\n",
    "c_h = 640\n",
    "threshold = 0.1 # in G\n",
    "target = 10\n",
    "\n",
    "          #c_d,     D\n",
    "bounds = ((1, 20), (21, 300))\n",
    "\n",
    "def obj1_nonuniformity(x):\n",
    "    magnets = halbach_cylinder(Br, x[0], c_h, x[1], n)\n",
    "    center_field, av_nonuniformity, av_target_nonuniformity = get_grid_mag_and_target_nonuniformity(magnets, grid, grid_res, target)\n",
    "    if (abs(center_field - target) > threshold):\n",
    "        return av_target_nonuniformity\n",
    "    return av_nonuniformity"
   ]
  },
  {
   "cell_type": "code",
   "execution_count": 7,
   "id": "e692a56d-49f5-462d-8d85-9e8f2157066d",
   "metadata": {
    "scrolled": true
   },
   "outputs": [
    {
     "name": "stdout",
     "output_type": "stream",
     "text": [
      "[4.745769614545185, 202.99212436803114]\n"
     ]
    },
    {
     "name": "stderr",
     "output_type": "stream",
     "text": [
      "/var/folders/06/7pjfbw510cz2ch1m7lx8vvl80000gn/T/ipykernel_20935/1123013417.py:14: RuntimeWarning: Maximum number of iterations has been exceeded.\n",
      "  res = minimize(obj1_nonuniformity, x0, method=method, options=options, bounds=bounds)\n"
     ]
    },
    {
     "name": "stdout",
     "output_type": "stream",
     "text": [
      "[19.49931149141057, 58.937701093661026]\n",
      "[15.204848804960635, 299.4000676651341]\n",
      "Optimization terminated successfully.\n",
      "         Current function value: 0.000027\n",
      "         Iterations: 95\n",
      "         Function evaluations: 228\n",
      "[18.618656798513243, 299.5139273324633]\n",
      "[5.570238141635976, 143.46938412698637]\n",
      "[3.168749799211564, 88.93950372456605]\n",
      "Optimization terminated successfully.\n",
      "         Current function value: 0.000001\n",
      "         Iterations: 92\n",
      "         Function evaluations: 239\n",
      "[5.549019446458098, 227.733171417172]\n",
      "Optimization terminated successfully.\n",
      "         Current function value: 0.000001\n",
      "         Iterations: 144\n",
      "         Function evaluations: 331\n",
      "[8.969083380037455, 24.343199928112412]\n",
      "[9.514976712867218, 91.71698436815662]\n",
      "[5.788834093882194, 284.2852936421551]\n",
      "Optimization terminated successfully.\n",
      "         Current function value: 0.000027\n",
      "         Iterations: 83\n",
      "         Function evaluations: 206\n",
      "[14.979518168089704, 209.68603393630502]\n",
      "Optimization terminated successfully.\n",
      "         Current function value: 0.000027\n",
      "         Iterations: 94\n",
      "         Function evaluations: 235\n",
      "[11.10379603477696, 84.22206479975318]\n",
      "[11.654490245104178, 220.38326734739545]\n",
      "[3.8399769121210383, 81.37681155700213]\n",
      "Optimization terminated successfully.\n",
      "         Current function value: 0.000001\n",
      "         Iterations: 102\n",
      "         Function evaluations: 256\n",
      "[13.233522607361738, 254.62481608952697]\n",
      "Optimization terminated successfully.\n",
      "         Current function value: 0.000027\n",
      "         Iterations: 101\n",
      "         Function evaluations: 245\n",
      "[8.028818868045644, 109.1853320803327]\n",
      "Optimization terminated successfully.\n",
      "         Current function value: 0.000001\n",
      "         Iterations: 185\n",
      "         Function evaluations: 406\n",
      "[6.896197921001746, 35.06788444091059]\n",
      "Optimization terminated successfully.\n",
      "         Current function value: 0.000074\n",
      "         Iterations: 107\n",
      "         Function evaluations: 239\n",
      "[9.378188620017038, 134.9313229214411]\n",
      "[8.076311810044018, 216.40965474396194]\n",
      "Optimization terminated successfully.\n",
      "         Current function value: 0.000001\n",
      "         Iterations: 358\n",
      "         Function evaluations: 766\n",
      "[1.969346833702283, 193.6485150123324]\n",
      "Optimization terminated successfully.\n",
      "         Current function value: 0.000001\n",
      "         Iterations: 150\n",
      "         Function evaluations: 345\n",
      "[15.96363835218072, 178.3137616865801]\n",
      "[7.364012679606718, 135.90276595278496]\n",
      "[19.145890938033414, 31.494638231373507]\n",
      "Optimization terminated successfully.\n",
      "         Current function value: 0.000074\n",
      "         Iterations: 101\n",
      "         Function evaluations: 229\n",
      "[12.399363943650775, 291.4018008496385]\n",
      "[17.8860027734321, 69.03372632038653]\n",
      "Objective function values:\n",
      "[1.4711131280560977e-06, 1.4711108464384776e-06, 2.659659589922955e-05, 2.6596597165420284e-05, 1.4711081131522236e-06, 1.471108683891893e-06, 1.4711054212463331e-06, 7.360812395142378e-05, 1.4711074362155162e-06, 2.6596597642491682e-05, 2.6596596575188658e-05, 1.4711091263955026e-06, 2.6596596161998176e-05, 1.4711093486163766e-06, 2.6596597404335223e-05, 1.4711062779066755e-06, 7.360815538272591e-05, 1.4711087954506743e-06, 1.4711103205794512e-06, 1.4711064470182351e-06, 2.6257972918734217e-05, 1.4711083421875636e-06, 7.360813834961767e-05, 2.6596597734893904e-05, 7.360814003954045e-05]\n",
      "Result parameters:\n",
      "[array([  1.81408834, 120.10409334]), array([  1.82711715, 120.11376491]), array([  4.59593312, 300.        ]), array([  4.59548858, 300.        ]), array([  1.81431257, 120.13895327]), array([  1.82359528, 120.12267313]), array([  1.82366815, 120.14971748]), array([ 1.       , 66.3615305]), array([  1.82040839, 120.13744377]), array([  4.59516116, 300.        ]), array([  4.59582318, 300.        ]), array([  1.8224266 , 120.13003909]), array([  4.5959355, 300.       ]), array([  1.82057706, 120.14483816]), array([  4.5955174, 300.       ]), array([  1.81880048, 120.13821613]), array([ 1.        , 66.36152757]), array([  1.82296389, 120.11954623]), array([  1.82094653, 120.14472709]), array([  1.81877578, 120.13998533]), array([  4.57441615, 298.62413039]), array([  1.821527  , 120.16772069]), array([ 1.        , 66.36153017]), array([  4.59553698, 300.        ]), array([ 1.        , 66.36152984])]\n",
      "Starting guesses:\n",
      "[[4.745769614545185, 202.99212436803114], [19.49931149141057, 58.937701093661026], [15.204848804960635, 299.4000676651341], [18.618656798513243, 299.5139273324633], [5.570238141635976, 143.46938412698637], [3.168749799211564, 88.93950372456605], [5.549019446458098, 227.733171417172], [8.969083380037455, 24.343199928112412], [9.514976712867218, 91.71698436815662], [5.788834093882194, 284.2852936421551], [14.979518168089704, 209.68603393630502], [11.10379603477696, 84.22206479975318], [11.654490245104178, 220.38326734739545], [3.8399769121210383, 81.37681155700213], [13.233522607361738, 254.62481608952697], [8.028818868045644, 109.1853320803327], [6.896197921001746, 35.06788444091059], [9.378188620017038, 134.9313229214411], [8.076311810044018, 216.40965474396194], [1.969346833702283, 193.6485150123324], [15.96363835218072, 178.3137616865801], [7.364012679606718, 135.90276595278496], [19.145890938033414, 31.494638231373507], [12.399363943650775, 291.4018008496385], [17.8860027734321, 69.03372632038653]]\n"
     ]
    }
   ],
   "source": [
    "options = {'disp': True, 'fatol': 1e-18, 'maxiter': 5e3, 'adaptive': True}\n",
    "method = \"Nelder-Mead\"\n",
    "\n",
    "shots = 25\n",
    "results_x = []\n",
    "results_fun = []\n",
    "guesses_x0 = []\n",
    "b_len = len(bounds)\n",
    "for i in range(shots):\n",
    "    x0 = [0, 0]\n",
    "    for b in range(b_len):\n",
    "        x0[b] = np.random.uniform(low=bounds[b][0], high=bounds[b][1])\n",
    "    print(x0)\n",
    "    res = minimize(obj1_nonuniformity, x0, method=method, options=options, bounds=bounds)\n",
    "    guesses_x0.append(x0)\n",
    "    results_x.append(res.x)\n",
    "    results_fun.append(res.fun)\n",
    "\n",
    "print(\"Objective function values:\")\n",
    "print(results_fun)\n",
    "print(\"Result parameters:\")\n",
    "print(results_x)\n",
    "print(\"Starting guesses:\")\n",
    "print(guesses_x0)"
   ]
  },
  {
   "cell_type": "code",
   "execution_count": 8,
   "id": "589652d9-7526-4bd5-9856-9cca94938169",
   "metadata": {},
   "outputs": [
    {
     "name": "stdout",
     "output_type": "stream",
     "text": [
      "[array([  1.81408834, 120.10409334]), array([  1.82711715, 120.11376491]), array([  4.59593312, 300.        ]), array([  4.59548858, 300.        ]), array([  1.81431257, 120.13895327]), array([  1.82359528, 120.12267313]), array([  1.82366815, 120.14971748]), array([ 1.       , 66.3615305]), array([  1.82040839, 120.13744377]), array([  4.59516116, 300.        ]), array([  4.59582318, 300.        ]), array([  1.8224266 , 120.13003909]), array([  4.5959355, 300.       ]), array([  1.82057706, 120.14483816]), array([  4.5955174, 300.       ]), array([  1.81880048, 120.13821613]), array([ 1.        , 66.36152757]), array([  1.82296389, 120.11954623]), array([  1.82094653, 120.14472709]), array([  1.81877578, 120.13998533]), array([  4.57441615, 298.62413039]), array([  1.821527  , 120.16772069]), array([ 1.        , 66.36153017]), array([  4.59553698, 300.        ]), array([ 1.        , 66.36152984])]\n"
     ]
    }
   ],
   "source": [
    "print(results_x)"
   ]
  },
  {
   "cell_type": "code",
   "execution_count": 9,
   "id": "e4452b35-0ab3-46a1-98dc-53f18db65ebf",
   "metadata": {},
   "outputs": [],
   "source": [
    "charr = np.full((1, shots), 640).flatten()\n",
    "r_n = np.full((1, shots), n).flatten()"
   ]
  },
  {
   "cell_type": "code",
   "execution_count": 10,
   "id": "3ade58bf-00ea-4069-bf6a-ec6884fb1768",
   "metadata": {},
   "outputs": [],
   "source": [
    "from maggeometry import halbach_cylinder\n",
    "from maghelper import get_field_on_axes, get_nonuniformity, make_flux_stream, centered_sweep_range, get_grid_nonuniformity, make_xy_grid, get_grid_mag_and_nonuniformity\n",
    "grid_res = 101\n",
    "grid = make_xy_grid([-10, 10], [-10, 10], grid_res)\n",
    "results_g_center = []\n",
    "results_nonun = []\n",
    "for x in results_x:\n",
    "    magnets = halbach_cylinder(Br, x[0], charr[0], x[1], n)\n",
    "    Gmag, Gnon, center_field, av_nonuniformity, max_abs_nonuniformity = get_grid_mag_and_nonuniformity(magnets, grid, grid_res)\n",
    "    results_g_center.append(center_field)\n",
    "    results_nonun.append(av_nonuniformity)"
   ]
  },
  {
   "cell_type": "code",
   "execution_count": 11,
   "id": "c8fd0acb-f506-49cb-900c-aed1476f3a0f",
   "metadata": {
    "scrolled": true
   },
   "outputs": [
    {
     "name": "stdout",
     "output_type": "stream",
     "text": [
      "Number of unique results: 25\n",
      "    nonuniformity  center_field_gauss  n_rods  cyl_height  cyl_diameter  \\\n",
      "0        0.000001           10.040183     8.0       640.0      1.823668   \n",
      "1        0.000001            9.988571     8.0       640.0      1.818800   \n",
      "2        0.000001            9.988005     8.0       640.0      1.818776   \n",
      "3        0.000001           10.006368     8.0       640.0      1.820408   \n",
      "4        0.000001            9.939216     8.0       640.0      1.814313   \n",
      "5        0.000001           10.013617     8.0       640.0      1.821527   \n",
      "6        0.000001           10.043906     8.0       640.0      1.823595   \n",
      "7        0.000001           10.037475     8.0       640.0      1.822964   \n",
      "8        0.000001           10.029805     8.0       640.0      1.822427   \n",
      "9        0.000001           10.006989     8.0       640.0      1.820577   \n",
      "10       0.000001           10.011070     8.0       640.0      1.820947   \n",
      "11       0.000001           10.084235     8.0       640.0      1.827117   \n",
      "12       0.000001            9.942533     8.0       640.0      1.814088   \n",
      "13       0.000026           10.099992     8.0       640.0      4.574416   \n",
      "14       0.000027           10.099872     8.0       640.0      4.595933   \n",
      "15       0.000027           10.099882     8.0       640.0      4.595935   \n",
      "16       0.000027           10.099389     8.0       640.0      4.595823   \n",
      "17       0.000027           10.097918     8.0       640.0      4.595489   \n",
      "18       0.000027           10.098045     8.0       640.0      4.595517   \n",
      "19       0.000027           10.096479     8.0       640.0      4.595161   \n",
      "20       0.000027           10.098131     8.0       640.0      4.595537   \n",
      "21       0.000074            9.900000     8.0       640.0      1.000000   \n",
      "22       0.000074            9.900000     8.0       640.0      1.000000   \n",
      "23       0.000074            9.900001     8.0       640.0      1.000000   \n",
      "24       0.000074            9.900001     8.0       640.0      1.000000   \n",
      "\n",
      "             D  g_cyl_diameter         g_D  \n",
      "0   120.149717        5.549019  227.733171  \n",
      "1   120.138216        8.028819  109.185332  \n",
      "2   120.139985        1.969347  193.648515  \n",
      "3   120.137444        9.514977   91.716984  \n",
      "4   120.138953        5.570238  143.469384  \n",
      "5   120.167721        7.364013  135.902766  \n",
      "6   120.122673        3.168750   88.939504  \n",
      "7   120.119546        9.378189  134.931323  \n",
      "8   120.130039       11.103796   84.222065  \n",
      "9   120.144838        3.839977   81.376812  \n",
      "10  120.144727        8.076312  216.409655  \n",
      "11  120.113765       19.499311   58.937701  \n",
      "12  120.104093        4.745770  202.992124  \n",
      "13  298.624130       15.963638  178.313762  \n",
      "14  300.000000       15.204849  299.400068  \n",
      "15  300.000000       11.654490  220.383267  \n",
      "16  300.000000       14.979518  209.686034  \n",
      "17  300.000000       18.618657  299.513927  \n",
      "18  300.000000       13.233523  254.624816  \n",
      "19  300.000000        5.788834  284.285294  \n",
      "20  300.000000       12.399364  291.401801  \n",
      "21   66.361530        8.969083   24.343200  \n",
      "22   66.361530       19.145891   31.494638  \n",
      "23   66.361530       17.886003   69.033726  \n",
      "24   66.361528        6.896198   35.067884  \n"
     ]
    }
   ],
   "source": [
    "import pandas as pd\n",
    "def make_opt_res_halbach_csv(name, fun, g_center, r_n, r_ch, x, guesses):\n",
    "    r_f = np.array([fun])\n",
    "    r_g = np.array(guesses)\n",
    "    r_gc = np.array([g_center])\n",
    "    r_n = np.array([r_n])\n",
    "    r_ch = np.array([r_ch])\n",
    "    r_x = np.array(x)\n",
    "    a = np.concatenate((r_f.T, r_gc.T, r_n.T, r_ch.T, r_x, r_g), axis=1)\n",
    "    b = a[a[:, 0].argsort()]\n",
    "\n",
    "    columns = ['nonuniformity', 'center_field_gauss', 'n_rods', 'cyl_height']\n",
    "\n",
    "    columns.append('cyl_diameter')\n",
    "    columns.append('D')\n",
    "    columns.append('g_cyl_diameter')\n",
    "    columns.append('g_D')\n",
    "    \n",
    "    \n",
    "    columns = np.array(columns)\n",
    "    b_df = pd.DataFrame(b, columns = columns)\n",
    "    \n",
    "    c = np.concatenate((r_f.T, r_x), axis=1)\n",
    "    new_array = [tuple(row) for row in c]\n",
    "    u = np.unique(new_array, axis=0)\n",
    "    n_unique = len(u)\n",
    "    print('Number of unique results:', n_unique)\n",
    "    print(b_df)\n",
    "    b_df.to_csv(name + str(n_unique) + '.csv')\n",
    "    return b, b_df\n",
    "\n",
    "import datetime\n",
    "today = datetime.datetime.today().strftime('%Y_%m_%d')\n",
    "\n",
    "b, b_df = make_opt_res_halbach_csv(f'results/halbach/samwise/{n}_{today}_samwise_halbach_main_1090mT_', results_fun, results_g_center, r_n, charr, results_x, guesses_x0)"
   ]
  },
  {
   "cell_type": "code",
   "execution_count": 12,
   "id": "cdc0acc2-1d04-4dd5-9eb7-0e33c143f57b",
   "metadata": {},
   "outputs": [
    {
     "name": "stdout",
     "output_type": "stream",
     "text": [
      "1.5573750827657786e-07\n"
     ]
    }
   ],
   "source": [
    "m = halbach_cylinder(Br, 1.101233, 640, 68.228286, n)\n",
    "Gmag, Gnon, center_field, av_nonuniformity, max_abs_nonuniformity = get_grid_mag_and_nonuniformity(m, grid, grid_res)\n",
    "print(av_nonuniformity)"
   ]
  },
  {
   "cell_type": "code",
   "execution_count": null,
   "id": "836fe4bf-625b-4afd-bb10-118a878bb35c",
   "metadata": {},
   "outputs": [],
   "source": []
  }
 ],
 "metadata": {
  "kernelspec": {
   "display_name": "Python 3 (ipykernel)",
   "language": "python",
   "name": "python3"
  },
  "language_info": {
   "codemirror_mode": {
    "name": "ipython",
    "version": 3
   },
   "file_extension": ".py",
   "mimetype": "text/x-python",
   "name": "python",
   "nbconvert_exporter": "python",
   "pygments_lexer": "ipython3",
   "version": "3.11.4"
  }
 },
 "nbformat": 4,
 "nbformat_minor": 5
}
