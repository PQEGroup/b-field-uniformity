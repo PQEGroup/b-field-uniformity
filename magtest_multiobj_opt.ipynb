{
 "cells": [
  {
   "cell_type": "markdown",
   "id": "851f8181",
   "metadata": {},
   "source": [
    "## Goal: test multi-objective optimization"
   ]
  },
  {
   "cell_type": "markdown",
   "id": "80438672",
   "metadata": {},
   "source": [
    "### 2 ring multi-objective: successful optimization for field strength!"
   ]
  },
  {
   "cell_type": "code",
   "execution_count": 40,
   "id": "8b012713",
   "metadata": {},
   "outputs": [
    {
     "name": "stdout",
     "output_type": "stream",
     "text": [
      "Optimization terminated successfully.\n",
      "         Current function value: -6.043279\n",
      "         Iterations: 150\n",
      "         Function evaluations: 319\n",
      "       message: Optimization terminated successfully.\n",
      "       success: True\n",
      "        status: 0\n",
      "           fun: -6.043279411155146\n",
      "             x: [ 1.370e+01  2.625e+02]\n",
      "           nit: 150\n",
      "          nfev: 319\n",
      " final_simplex: (array([[ 1.370e+01,  2.625e+02],\n",
      "                       [ 1.370e+01,  2.625e+02],\n",
      "                       [ 1.370e+01,  2.625e+02]]), array([-6.043e+00, -6.043e+00, -6.043e+00]))\n",
      "[ 13.70088584 262.53186908]\n"
     ]
    }
   ],
   "source": [
    "import numpy as np\n",
    "from scipy.optimize import minimize, Bounds\n",
    "from maghelper import get_field_on_axes, get_nonuniformity, make_flux_stream, centered_sweep_range, get_grid_nonuniformity, make_grid\n",
    "from maggeometry import two_rings\n",
    "import magpylib as magpy\n",
    "\n",
    "x_base = [150, 10]\n",
    "field_strength_target = 10 #Gauss\n",
    "\n",
    "Br = 1.09e3\n",
    "grid_res = 101\n",
    "grid = make_grid([-10, 10], [-10, 10], grid_res)\n",
    "def nonuniformity(x):\n",
    "    innerrad, width = x_base\n",
    "    thickness, dist = x\n",
    "    magnets = two_rings(Br, innerrad, width, thickness, dist)\n",
    "    grid_field, center_field, av_nonuniformity, max_abs_nonuniformity = get_grid_nonuniformity(magnets, grid, grid_res)\n",
    "    return av_nonuniformity\n",
    "\n",
    "def strength_and_nonuniformity(x):\n",
    "    innerrad, width = x_base\n",
    "    thickness, dist = x\n",
    "    magnets = two_rings(Br, innerrad, width, thickness, dist)\n",
    "    grid_field, center_field, av_nonuniformity, max_abs_nonuniformity = get_grid_nonuniformity(magnets, grid, grid_res)\n",
    "    cost = np.log10(av_nonuniformity) + abs(center_field - field_strength_target)\n",
    "    return cost\n",
    "\n",
    "# innerrad, width, thickness, dist\n",
    "bounds = ((2, 20), (1, 300))\n",
    "x0 = [2, 2.62805985e+02]\n",
    "options = {'disp':True, 'fatol': 5e-17}\n",
    "# options = {'disp':True}\n",
    "method = \"Nelder-Mead\"\n",
    "res = minimize(strength_and_nonuniformity, x0, method=method, options=options, bounds=bounds)\n",
    "# res = minimize(nonuniformity, x0, method=method, options=options, bounds=bounds)\n",
    "print(res)\n",
    "print(res.x)"
   ]
  },
  {
   "cell_type": "code",
   "execution_count": 41,
   "id": "f5c6689d",
   "metadata": {},
   "outputs": [
    {
     "name": "stdout",
     "output_type": "stream",
     "text": [
      "9.05150052212399e-07\n",
      "10.00000000804187\n"
     ]
    }
   ],
   "source": [
    "print(nonuniformity(res.x))\n",
    "innerrad, width = x_base\n",
    "thickness, dist = res.x\n",
    "magnets = two_rings(Br, innerrad, width, thickness, dist)\n",
    "grid_field, center_field, av_nonuniformity, max_abs_nonuniformity = get_grid_nonuniformity(magnets, grid, grid_res)\n",
    "print(center_field)"
   ]
  },
  {
   "cell_type": "markdown",
   "id": "deab8105",
   "metadata": {},
   "source": [
    "### 2 rings w/ cost function v2"
   ]
  },
  {
   "cell_type": "code",
   "execution_count": 46,
   "id": "e95a8ec1",
   "metadata": {},
   "outputs": [
    {
     "name": "stdout",
     "output_type": "stream",
     "text": [
      "Optimization terminated successfully.\n",
      "         Current function value: 0.000000\n",
      "         Iterations: 198\n",
      "         Function evaluations: 355\n",
      "       message: Optimization terminated successfully.\n",
      "       success: True\n",
      "        status: 0\n",
      "           fun: 5.693968770624182e-17\n",
      "             x: [ 1.500e+02  1.988e+01  7.331e+00  2.705e+02]\n",
      "           nit: 198\n",
      "          nfev: 355\n",
      " final_simplex: (array([[ 1.500e+02,  1.988e+01,  7.331e+00,  2.705e+02],\n",
      "                       [ 1.500e+02,  1.988e+01,  7.331e+00,  2.705e+02],\n",
      "                       ...,\n",
      "                       [ 1.500e+02,  1.988e+01,  7.331e+00,  2.705e+02],\n",
      "                       [ 1.500e+02,  1.988e+01,  7.331e+00,  2.705e+02]]), array([ 5.694e-17,  6.801e-17,  7.969e-17,  8.279e-17,\n",
      "                        8.708e-17]))\n",
      "[150.          19.87685011   7.33075237 270.48619207]\n"
     ]
    }
   ],
   "source": [
    "import numpy as np\n",
    "from scipy.optimize import minimize, Bounds\n",
    "from maghelper import get_field_on_axes, get_nonuniformity, make_flux_stream, centered_sweep_range, get_grid_nonuniformity, make_grid\n",
    "from maggeometry import two_rings\n",
    "import magpylib as magpy\n",
    "\n",
    "field_strength_target = 10 #Gauss\n",
    "\n",
    "Br = 1.09e3\n",
    "grid_res = 101\n",
    "grid = make_grid([-10, 10], [-10, 10], grid_res)\n",
    "def nonuniformity(x):\n",
    "    innerrad, width, thickness, dist = x\n",
    "    magnets = two_rings(Br, innerrad, width, thickness, dist)\n",
    "    grid_field, center_field, av_nonuniformity, max_abs_nonuniformity = get_grid_nonuniformity(magnets, grid, grid_res)\n",
    "    return av_nonuniformity\n",
    "\n",
    "def strength_and_nonuniformity2(x):\n",
    "    innerrad, width, thickness, dist = x\n",
    "    magnets = two_rings(Br, innerrad, width, thickness, dist)\n",
    "    grid_field, center_field, av_nonuniformity, max_abs_nonuniformity = get_grid_nonuniformity(magnets, grid, grid_res)\n",
    "    cost = av_nonuniformity * abs(center_field - field_strength_target)\n",
    "    return cost\n",
    "\n",
    "# innerrad, width, thickness, dist\n",
    "bounds = ((1, 150), (2, 20), (2, 20), (1, 300))\n",
    "x0 = [150, 10, 2, 2.62805985e+02]\n",
    "options = {'disp':True, 'fatol': 5e-17}\n",
    "# options = {'disp':True}\n",
    "method = \"Nelder-Mead\"\n",
    "res = minimize(strength_and_nonuniformity2, x0, method=method, options=options, bounds=bounds)\n",
    "# res = minimize(nonuniformity, x0, method=method, options=options, bounds=bounds)\n",
    "print(res)\n",
    "print(res.x)"
   ]
  },
  {
   "cell_type": "code",
   "execution_count": 48,
   "id": "f063a100",
   "metadata": {},
   "outputs": [
    {
     "name": "stdout",
     "output_type": "stream",
     "text": [
      "7.98858430954589e-07\n",
      "10.000000000071276\n"
     ]
    }
   ],
   "source": [
    "print(nonuniformity(res.x))\n",
    "innerrad, width, thickness, dist = res.x\n",
    "magnets = two_rings(Br, innerrad, width, thickness, dist)\n",
    "grid_field, center_field, av_nonuniformity, max_abs_nonuniformity = get_grid_nonuniformity(magnets, grid, grid_res)\n",
    "print(center_field)"
   ]
  },
  {
   "cell_type": "markdown",
   "id": "53fe0ef5",
   "metadata": {},
   "source": [
    "### 3 ring multiobjective test"
   ]
  },
  {
   "cell_type": "code",
   "execution_count": 32,
   "id": "30a9838d",
   "metadata": {},
   "outputs": [
    {
     "name": "stdout",
     "output_type": "stream",
     "text": [
      "       message: Maximum number of function evaluations has been exceeded.\n",
      "       success: False\n",
      "        status: 1\n",
      "           fun: -3.690908626260408\n",
      "             x: [ 1.500e+02  9.797e+01  1.974e+01  2.000e+01  1.256e+02]\n",
      "           nit: 550\n",
      "          nfev: 1000\n",
      " final_simplex: (array([[ 1.500e+02,  9.797e+01, ...,  2.000e+01,\n",
      "                         1.256e+02],\n",
      "                       [ 1.500e+02,  9.797e+01, ...,  2.000e+01,\n",
      "                         1.256e+02],\n",
      "                       ...,\n",
      "                       [ 1.500e+02,  9.797e+01, ...,  2.000e+01,\n",
      "                         1.256e+02],\n",
      "                       [ 1.500e+02,  9.797e+01, ...,  2.000e+01,\n",
      "                         1.256e+02]]), array([-3.691e+00, -3.691e+00, -3.691e+00, -3.691e+00,\n",
      "                       -3.691e+00, -3.691e+00]))\n",
      "[150.          97.97223407  19.74079492  19.9999088  125.63956837]\n"
     ]
    },
    {
     "name": "stderr",
     "output_type": "stream",
     "text": [
      "/var/folders/06/7pjfbw510cz2ch1m7lx8vvl80000gn/T/ipykernel_48807/1068926402.py:31: RuntimeWarning: Maximum number of function evaluations has been exceeded.\n",
      "  res = minimize(strength_and_nonuniformity, x0, method=method, options=options, bounds=bounds)\n"
     ]
    }
   ],
   "source": [
    "import numpy as np\n",
    "from scipy.optimize import minimize, Bounds\n",
    "from maghelper import get_field_on_axes, get_nonuniformity, make_flux_stream, centered_sweep_range, get_grid_nonuniformity, make_grid\n",
    "from maggeometry import two_rings, three_rings\n",
    "import magpylib as magpy\n",
    "\n",
    "x0 = [1.50000000e+02, 1.39848097e+02, 1.99851214e+01, 1.99624362e+01, 9.00538433e+01]\n",
    "field_strength_target = 10 #Gauss\n",
    "\n",
    "Br = 1.09e3\n",
    "grid_res = 101\n",
    "grid = make_grid([-10, 10], [-10, 10], grid_res)\n",
    "\n",
    "def nonuniformity(x):\n",
    "    innerrad1, innerrad2, width, thickness, dist = x\n",
    "    magnets = three_rings(Br, innerrad1, innerrad2, width, thickness, dist)\n",
    "    grid_field, center_field, av_nonuniformity, max_abs_nonuniformity = get_grid_nonuniformity(magnets, grid, grid_res)\n",
    "    cost = np.log10(av_nonuniformity) + abs(center_field - field_strength_target)\n",
    "    return av_nonuniformity\n",
    "\n",
    "def strength_and_nonuniformity(x):\n",
    "    innerrad1, innerrad2, width, thickness, dist = x\n",
    "    magnets = three_rings(Br, innerrad1, innerrad2, width, thickness, dist)\n",
    "    grid_field, center_field, av_nonuniformity, max_abs_nonuniformity = get_grid_nonuniformity(magnets, grid, grid_res)\n",
    "    cost = np.log10(av_nonuniformity) + abs(center_field - field_strength_target)\n",
    "    return cost\n",
    "bounds = ((1, 150), (1, 150), (2, 20), (2, 20), (1, 300))\n",
    "options = {'disp':True, 'fatol': 5e-17}\n",
    "method = \"Nelder-Mead\"\n",
    "res = minimize(strength_and_nonuniformity, x0, method=method, options=options, bounds=bounds)\n",
    "print(res)\n",
    "print(res.x)"
   ]
  },
  {
   "cell_type": "code",
   "execution_count": 33,
   "id": "3a9e62e9",
   "metadata": {},
   "outputs": [
    {
     "name": "stdout",
     "output_type": "stream",
     "text": [
      "0.00020374707078497887\n",
      "9.999999999986215\n"
     ]
    }
   ],
   "source": [
    "print(nonuniformity(res.x))\n",
    "innerrad1, innerrad2, width, thickness, dist = res.x\n",
    "magnets = three_rings(Br, innerrad1, innerrad2, width, thickness, dist)\n",
    "grid_field, center_field, av_nonuniformity, max_abs_nonuniformity = get_grid_nonuniformity(magnets, grid, grid_res)\n",
    "print(center_field)"
   ]
  },
  {
   "cell_type": "code",
   "execution_count": 49,
   "id": "6482be20",
   "metadata": {},
   "outputs": [
    {
     "name": "stdout",
     "output_type": "stream",
     "text": [
      "Optimization terminated successfully.\n",
      "         Current function value: 0.000000\n",
      "         Iterations: 471\n",
      "         Function evaluations: 817\n",
      "       message: Optimization terminated successfully.\n",
      "       success: True\n",
      "        status: 0\n",
      "           fun: 6.372310428386734e-17\n",
      "             x: [ 1.500e+02  1.398e+02  1.771e+01  2.000e+00  8.864e+01]\n",
      "           nit: 471\n",
      "          nfev: 817\n",
      " final_simplex: (array([[ 1.500e+02,  1.398e+02, ...,  2.000e+00,\n",
      "                         8.864e+01],\n",
      "                       [ 1.500e+02,  1.398e+02, ...,  2.000e+00,\n",
      "                         8.864e+01],\n",
      "                       ...,\n",
      "                       [ 1.500e+02,  1.398e+02, ...,  2.000e+00,\n",
      "                         8.864e+01],\n",
      "                       [ 1.500e+02,  1.398e+02, ...,  2.000e+00,\n",
      "                         8.864e+01]]), array([ 6.372e-17,  7.634e-17,  7.984e-17,  8.629e-17,\n",
      "                        9.541e-17,  1.042e-16]))\n",
      "[150.         139.79143431  17.70797611   2.          88.63927975]\n"
     ]
    }
   ],
   "source": [
    "import numpy as np\n",
    "from scipy.optimize import minimize, Bounds\n",
    "from maghelper import get_field_on_axes, get_nonuniformity, make_flux_stream, centered_sweep_range, get_grid_nonuniformity, make_grid\n",
    "from maggeometry import two_rings, three_rings\n",
    "import magpylib as magpy\n",
    "\n",
    "x0 = [1.50000000e+02, 1.39848097e+02, 1.99851214e+01, 1.99624362e+01, 9.00538433e+01]\n",
    "field_strength_target = 10 #Gauss\n",
    "\n",
    "Br = 1.09e3\n",
    "grid_res = 101\n",
    "grid = make_grid([-10, 10], [-10, 10], grid_res)\n",
    "\n",
    "def nonuniformity(x):\n",
    "    innerrad1, innerrad2, width, thickness, dist = x\n",
    "    magnets = three_rings(Br, innerrad1, innerrad2, width, thickness, dist)\n",
    "    grid_field, center_field, av_nonuniformity, max_abs_nonuniformity = get_grid_nonuniformity(magnets, grid, grid_res)\n",
    "    cost = np.log10(av_nonuniformity) + abs(center_field - field_strength_target)\n",
    "    return av_nonuniformity\n",
    "\n",
    "def strength_and_nonuniformity(x):\n",
    "    innerrad1, innerrad2, width, thickness, dist = x\n",
    "    magnets = three_rings(Br, innerrad1, innerrad2, width, thickness, dist)\n",
    "    grid_field, center_field, av_nonuniformity, max_abs_nonuniformity = get_grid_nonuniformity(magnets, grid, grid_res)\n",
    "    cost = np.log10(av_nonuniformity) + abs(center_field - field_strength_target)\n",
    "    return cost\n",
    "\n",
    "def strength_and_nonuniformity2(x):\n",
    "    innerrad1, innerrad2, width, thickness, dist = x\n",
    "    magnets = three_rings(Br, innerrad1, innerrad2, width, thickness, dist)\n",
    "    grid_field, center_field, av_nonuniformity, max_abs_nonuniformity = get_grid_nonuniformity(magnets, grid, grid_res)\n",
    "    cost = av_nonuniformity*abs(center_field - field_strength_target)\n",
    "    return cost\n",
    "\n",
    "bounds = ((1, 150), (1, 150), (2, 20), (2, 20), (1, 300))\n",
    "options = {'disp':True, 'fatol': 5e-17}\n",
    "method = \"Nelder-Mead\"\n",
    "res = minimize(strength_and_nonuniformity2, x0, method=method, options=options, bounds=bounds)\n",
    "print(res)\n",
    "print(res.x)"
   ]
  },
  {
   "cell_type": "code",
   "execution_count": 50,
   "id": "cbc5f549",
   "metadata": {},
   "outputs": [
    {
     "name": "stdout",
     "output_type": "stream",
     "text": [
      "6.201987965018676e-08\n",
      "9.999999998972537\n"
     ]
    }
   ],
   "source": [
    "print(nonuniformity(res.x))\n",
    "innerrad1, innerrad2, width, thickness, dist = res.x\n",
    "magnets = three_rings(Br, innerrad1, innerrad2, width, thickness, dist)\n",
    "grid_field, center_field, av_nonuniformity, max_abs_nonuniformity = get_grid_nonuniformity(magnets, grid, grid_res)\n",
    "print(center_field)"
   ]
  },
  {
   "cell_type": "markdown",
   "id": "847192de",
   "metadata": {},
   "source": [
    "### 4 ring multiobjective test"
   ]
  },
  {
   "cell_type": "code",
   "execution_count": 34,
   "id": "a537fda2",
   "metadata": {},
   "outputs": [
    {
     "name": "stdout",
     "output_type": "stream",
     "text": [
      "Optimization terminated successfully.\n",
      "         Current function value: -8.973462\n",
      "         Iterations: 288\n",
      "         Function evaluations: 674\n",
      "       message: Optimization terminated successfully.\n",
      "       success: True\n",
      "        status: 0\n",
      "           fun: -8.97346230620897\n",
      "             x: [ 1.444e+02  5.111e+01  1.994e+01  2.102e+00  1.557e+02\n",
      "                  1.831e+02]\n",
      "           nit: 288\n",
      "          nfev: 674\n",
      " final_simplex: (array([[ 1.444e+02,  5.111e+01, ...,  1.557e+02,\n",
      "                         1.831e+02],\n",
      "                       [ 1.444e+02,  5.111e+01, ...,  1.557e+02,\n",
      "                         1.831e+02],\n",
      "                       ...,\n",
      "                       [ 1.444e+02,  5.111e+01, ...,  1.557e+02,\n",
      "                         1.831e+02],\n",
      "                       [ 1.444e+02,  5.111e+01, ...,  1.557e+02,\n",
      "                         1.831e+02]]), array([-8.973e+00, -8.973e+00, -8.973e+00, -8.973e+00,\n",
      "                       -8.973e+00, -8.973e+00, -8.973e+00]))\n",
      "[144.3822043   51.1104813   19.94298802   2.10186637 155.70638938\n",
      " 183.10564219]\n"
     ]
    }
   ],
   "source": [
    "import numpy as np\n",
    "from scipy.optimize import minimize, Bounds\n",
    "from maghelper import get_field_on_axes, get_nonuniformity, make_flux_stream, centered_sweep_range, get_grid_nonuniformity, make_grid\n",
    "from maggeometry import four_rings\n",
    "import magpylib as magpy\n",
    "from magpylib.magnet import CylinderSegment\n",
    "from alive_progress import alive_bar\n",
    "\n",
    "Br = 1.09e3\n",
    "grid_res = 101\n",
    "grid = make_grid([-10, 10], [-10, 10], grid_res)\n",
    "\n",
    "# cost function\n",
    "def nonuniformity(x):\n",
    "    innerrad1, innerrad2, width, thickness, dist1, dist2 = x\n",
    "    magnets = four_rings(Br, innerrad1, innerrad2, width, thickness, dist1, dist2)\n",
    "    grid_field, center_field, av_nonuniformity, max_abs_nonuniformity = get_grid_nonuniformity(magnets, grid, grid_res)\n",
    "    return av_nonuniformity\n",
    "\n",
    "def strength_and_nonuniformity(x):\n",
    "    innerrad1, innerrad2, width, thickness, dist1, dist2 = x\n",
    "    magnets = four_rings(Br, innerrad1, innerrad2, width, thickness, dist1, dist2)\n",
    "    grid_field, center_field, av_nonuniformity, max_abs_nonuniformity = get_grid_nonuniformity(magnets, grid, grid_res)\n",
    "    cost = np.log10(av_nonuniformity) + abs(center_field - field_strength_target)\n",
    "    return cost\n",
    "\n",
    "# innerrad, width, thickness, dist\n",
    "# bounds = ([1, 2, 2, 1], [150, 10, 20, 300])\n",
    "bounds = ((1, 150), (1, 150), (2, 20), (2, 20), (1, 300), (1, 300))\n",
    "options = {'disp':True, 'fatol': 5e-17}\n",
    "method = \"Nelder-Mead\"\n",
    "x0 = [144.38226051, 51.11048466, 19.94272085, 2, 155.70613803, 183.10542199]\n",
    "\n",
    "res = minimize(strength_and_nonuniformity, x0, method=method, options=options, bounds=bounds)\n",
    "# res = minimize(nonuniformity, x0, method=method, options=options, bounds=bounds)\n",
    "print(res)\n",
    "print(res.x)"
   ]
  },
  {
   "cell_type": "code",
   "execution_count": 35,
   "id": "bb3ebe1e",
   "metadata": {},
   "outputs": [
    {
     "name": "stdout",
     "output_type": "stream",
     "text": [
      "1.0630078269114723e-09\n",
      "9.999998768448117\n"
     ]
    }
   ],
   "source": [
    "print(nonuniformity(res.x))\n",
    "innerrad1, innerrad2, width, thickness, dist1, dist2 = res.x\n",
    "magnets = four_rings(Br, innerrad1, innerrad2, width, thickness, dist1, dist2)\n",
    "grid_field, center_field, av_nonuniformity, max_abs_nonuniformity = get_grid_nonuniformity(magnets, grid, grid_res)\n",
    "print(center_field)"
   ]
  },
  {
   "cell_type": "markdown",
   "id": "a0d2e1a6",
   "metadata": {},
   "source": [
    "### 4 rings using version 2 of cost function"
   ]
  },
  {
   "cell_type": "code",
   "execution_count": 38,
   "id": "038871aa",
   "metadata": {},
   "outputs": [
    {
     "name": "stdout",
     "output_type": "stream",
     "text": [
      "Optimization terminated successfully.\n",
      "         Current function value: 0.000000\n",
      "         Iterations: 157\n",
      "         Function evaluations: 310\n",
      "       message: Optimization terminated successfully.\n",
      "       success: True\n",
      "        status: 0\n",
      "           fun: 9.48486231110599e-17\n",
      "             x: [ 1.444e+02  5.111e+01  1.994e+01  2.102e+00  1.557e+02\n",
      "                  1.831e+02]\n",
      "           nit: 157\n",
      "          nfev: 310\n",
      " final_simplex: (array([[ 1.444e+02,  5.111e+01, ...,  1.557e+02,\n",
      "                         1.831e+02],\n",
      "                       [ 1.444e+02,  5.111e+01, ...,  1.557e+02,\n",
      "                         1.831e+02],\n",
      "                       ...,\n",
      "                       [ 1.444e+02,  5.111e+01, ...,  1.557e+02,\n",
      "                         1.831e+02],\n",
      "                       [ 1.444e+02,  5.111e+01, ...,  1.557e+02,\n",
      "                         1.831e+02]]), array([ 9.485e-17,  1.018e-16,  1.091e-16,  1.192e-16,\n",
      "                        1.279e-16,  1.393e-16,  1.403e-16]))\n",
      "[144.38058208  51.11036141  19.94273958   2.10186    155.70616587\n",
      " 183.10516963]\n"
     ]
    }
   ],
   "source": [
    "import numpy as np\n",
    "from scipy.optimize import minimize, Bounds\n",
    "from maghelper import get_field_on_axes, get_nonuniformity, make_flux_stream, centered_sweep_range, get_grid_nonuniformity, make_grid\n",
    "from maggeometry import four_rings\n",
    "import magpylib as magpy\n",
    "from magpylib.magnet import CylinderSegment\n",
    "from alive_progress import alive_bar\n",
    "\n",
    "Br = 1.09e3\n",
    "grid_res = 101\n",
    "grid = make_grid([-10, 10], [-10, 10], grid_res)\n",
    "\n",
    "# cost function\n",
    "def nonuniformity(x):\n",
    "    innerrad1, innerrad2, width, thickness, dist1, dist2 = x\n",
    "    magnets = four_rings(Br, innerrad1, innerrad2, width, thickness, dist1, dist2)\n",
    "    grid_field, center_field, av_nonuniformity, max_abs_nonuniformity = get_grid_nonuniformity(magnets, grid, grid_res)\n",
    "    return av_nonuniformity\n",
    "\n",
    "def strength_and_nonuniformity(x):\n",
    "    innerrad1, innerrad2, width, thickness, dist1, dist2 = x\n",
    "    magnets = four_rings(Br, innerrad1, innerrad2, width, thickness, dist1, dist2)\n",
    "    grid_field, center_field, av_nonuniformity, max_abs_nonuniformity = get_grid_nonuniformity(magnets, grid, grid_res)\n",
    "    cost = np.log10(av_nonuniformity) + abs(center_field - field_strength_target)\n",
    "    return cost\n",
    "\n",
    "def strength_and_nonuniformity2(x):\n",
    "    innerrad1, innerrad2, width, thickness, dist1, dist2 = x\n",
    "    magnets = four_rings(Br, innerrad1, innerrad2, width, thickness, dist1, dist2)\n",
    "    grid_field, center_field, av_nonuniformity, max_abs_nonuniformity = get_grid_nonuniformity(magnets, grid, grid_res)\n",
    "    cost = av_nonuniformity*abs(center_field - field_strength_target)\n",
    "    return cost\n",
    "# innerrad, width, thickness, dist\n",
    "# bounds = ([1, 2, 2, 1], [150, 10, 20, 300])\n",
    "bounds = ((1, 150), (1, 150), (2, 20), (2, 20), (1, 300), (1, 300))\n",
    "options = {'disp':True, 'fatol': 5e-17}\n",
    "method = \"Nelder-Mead\"\n",
    "x0 = [144.38226051, 51.11048466, 19.94272085, 2, 155.70613803, 183.10542199]\n",
    "\n",
    "res = minimize(strength_and_nonuniformity2, x0, method=method, options=options, bounds=bounds)\n",
    "print(res)\n",
    "print(res.x)"
   ]
  },
  {
   "cell_type": "code",
   "execution_count": 39,
   "id": "65492612",
   "metadata": {},
   "outputs": [
    {
     "name": "stdout",
     "output_type": "stream",
     "text": [
      "1.0937169158220585e-09\n",
      "10.000000086721364\n"
     ]
    }
   ],
   "source": [
    "print(nonuniformity(res.x))\n",
    "innerrad1, innerrad2, width, thickness, dist1, dist2 = res.x\n",
    "magnets = four_rings(Br, innerrad1, innerrad2, width, thickness, dist1, dist2)\n",
    "grid_field, center_field, av_nonuniformity, max_abs_nonuniformity = get_grid_nonuniformity(magnets, grid, grid_res)\n",
    "print(center_field)"
   ]
  },
  {
   "cell_type": "code",
   "execution_count": null,
   "id": "64d92605",
   "metadata": {},
   "outputs": [],
   "source": []
  }
 ],
 "metadata": {
  "kernelspec": {
   "display_name": "Python 3 (ipykernel)",
   "language": "python",
   "name": "python3"
  },
  "language_info": {
   "codemirror_mode": {
    "name": "ipython",
    "version": 3
   },
   "file_extension": ".py",
   "mimetype": "text/x-python",
   "name": "python",
   "nbconvert_exporter": "python",
   "pygments_lexer": "ipython3",
   "version": "3.11.3"
  }
 },
 "nbformat": 4,
 "nbformat_minor": 5
}
