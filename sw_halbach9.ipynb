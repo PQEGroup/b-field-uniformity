{
 "cells": [
  {
   "cell_type": "code",
   "execution_count": 2,
   "id": "f09b69e8-4464-4b40-8241-84266b1cfbcd",
   "metadata": {},
   "outputs": [],
   "source": [
    "import numpy as np\n",
    "import magpylib as magpy\n",
    "from magpylib.magnet import Cuboid, Cylinder, CylinderSegment\n",
    "from maggeometry import halbach_cylinder\n",
    "import plotly.graph_objects as go\n",
    "from plotly.subplots import make_subplots\n",
    "import matplotlib.pyplot as plt\n",
    "import numpy as np\n",
    "from scipy.optimize import minimize, Bounds\n",
    "from maghelper import get_field_on_axes, get_nonuniformity, make_flux_stream, centered_sweep_range, get_grid_nonuniformity, make_grid"
   ]
  },
  {
   "cell_type": "markdown",
   "id": "49da9989-4214-41f7-908c-374a20df21e8",
   "metadata": {},
   "source": [
    "### Nelder-Mead Adaptive Optimization of Halbach 9 main\n",
    "n = 9\n",
    "\n",
    "### Samwise"
   ]
  },
  {
   "cell_type": "code",
   "execution_count": 3,
   "id": "de664111-788c-4a6e-ad2f-3a54325673bd",
   "metadata": {},
   "outputs": [],
   "source": [
    "# def halbach_cylinder(Br, c_d, c_h, D, n, alternate=False):"
   ]
  },
  {
   "cell_type": "code",
   "execution_count": 4,
   "id": "d59be79b-87f9-4483-a15c-783a1a58ca22",
   "metadata": {},
   "outputs": [],
   "source": [
    "def get_grid_mag_and_target_nonuniformity(magnets, grid, grid_res, target=10, use_z=False):\n",
    "    mT_to_G = 10\n",
    "    B = magnets.getB(grid)\n",
    "    G = B * mT_to_G\n",
    "    # find magnitude of the b-field at all points over grid\n",
    "    Gmag = 0\n",
    "    if use_z:\n",
    "        Gmag = G[:,:,2]\n",
    "    else:\n",
    "        Gmag = np.linalg.norm(G, axis=2)\n",
    "#     Gmag = np.sqrt(G[:,:,0]**2 + G[:,:,1]**2 + G[:,:,2]**2)\n",
    "#     Gmag = G[:,:,2]\n",
    "    # find magnitude of b-field at center of grid\n",
    "    mid_id = int(grid_res/2)\n",
    "    Gcenter = Gmag[mid_id][mid_id]\n",
    "    # calculate nonuniformity with respect to center b-field\n",
    "    Gnon = np.abs((Gmag - Gcenter)/Gcenter)\n",
    "    Gtarget_non = np.abs((Gmag - target)/target)\n",
    "#     Gtarget_non = np.abs((Gmag - target)/target)\n",
    "#     max_nonuniformity = np.max(Gnon)\n",
    "    av_nonuniformity = np.sum(Gnon) / grid_res**2\n",
    "    av_target_nonuniformity = np.sum(Gtarget_non) / grid_res**2\n",
    "#     return Gmag, Gnon, Gcenter, av_nonuniformity, av_target_nonuniformity, max_nonuniformity\n",
    "    return Gcenter, av_nonuniformity, av_target_nonuniformity"
   ]
  },
  {
   "cell_type": "code",
   "execution_count": 5,
   "id": "f147ec97-7d3b-4049-9a0a-92dc843f1c26",
   "metadata": {},
   "outputs": [],
   "source": [
    "from maghelper import get_field_on_axes, get_nonuniformity, make_flux_stream, centered_sweep_range, get_grid_nonuniformity, make_xy_grid"
   ]
  },
  {
   "cell_type": "code",
   "execution_count": 6,
   "id": "eb51176a-db8d-438d-919d-0e9c09e32fb9",
   "metadata": {},
   "outputs": [],
   "source": [
    "n = 9\n",
    "grid_res = 101\n",
    "grid = make_xy_grid([-10, 10], [-10, 10], grid_res)\n",
    "Br = 1.09e3\n",
    "c_h = 640\n",
    "threshold = 0.1 # in G\n",
    "target = 10\n",
    "\n",
    "          #c_d,     D\n",
    "bounds = ((1, 20), (21, 300))\n",
    "\n",
    "def obj1_nonuniformity(x):\n",
    "    magnets = halbach_cylinder(Br, x[0], c_h, x[1], n)\n",
    "    center_field, av_nonuniformity, av_target_nonuniformity = get_grid_mag_and_target_nonuniformity(magnets, grid, grid_res, target)\n",
    "    if (abs(center_field - target) > threshold):\n",
    "        return av_target_nonuniformity\n",
    "    return av_nonuniformity"
   ]
  },
  {
   "cell_type": "code",
   "execution_count": null,
   "id": "e692a56d-49f5-462d-8d85-9e8f2157066d",
   "metadata": {
    "scrolled": true
   },
   "outputs": [
    {
     "name": "stdout",
     "output_type": "stream",
     "text": [
      "[3.2163110975182834, 255.49538992700386]\n"
     ]
    },
    {
     "name": "stderr",
     "output_type": "stream",
     "text": [
      "/var/folders/06/7pjfbw510cz2ch1m7lx8vvl80000gn/T/ipykernel_20940/1123013417.py:14: RuntimeWarning: Maximum number of iterations has been exceeded.\n",
      "  res = minimize(obj1_nonuniformity, x0, method=method, options=options, bounds=bounds)\n"
     ]
    },
    {
     "name": "stdout",
     "output_type": "stream",
     "text": [
      "[6.7739217983226006, 101.21539798347531]\n",
      "Optimization terminated successfully.\n",
      "         Current function value: 0.000000\n",
      "         Iterations: 160\n",
      "         Function evaluations: 360\n",
      "[6.004698406180351, 36.132024398383955]\n",
      "[17.366592140468306, 217.51969260578076]\n",
      "[15.460419657523563, 199.8240990924632]\n",
      "[15.134877685425474, 118.21608702588321]\n",
      "Optimization terminated successfully.\n",
      "         Current function value: 0.000000\n",
      "         Iterations: 133\n",
      "         Function evaluations: 296\n",
      "[4.259018298946037, 229.58156494087555]\n",
      "Optimization terminated successfully.\n",
      "         Current function value: 0.000000\n",
      "         Iterations: 193\n",
      "         Function evaluations: 424\n",
      "[10.146756717268053, 224.97672415159383]\n",
      "[10.338129254680299, 100.3723189669202]\n",
      "[4.096284808009029, 41.311557583397686]\n",
      "Optimization terminated successfully.\n",
      "         Current function value: 0.000000\n",
      "         Iterations: 97\n",
      "         Function evaluations: 229\n",
      "[14.921613240231041, 31.594659791356975]\n",
      "Optimization terminated successfully.\n",
      "         Current function value: 0.000000\n",
      "         Iterations: 87\n",
      "         Function evaluations: 216\n",
      "[12.084124601123168, 111.13719144095684]\n",
      "Optimization terminated successfully.\n",
      "         Current function value: 0.000000\n",
      "         Iterations: 132\n",
      "         Function evaluations: 298\n",
      "[2.818680708562468, 215.77149814106838]\n",
      "Optimization terminated successfully.\n",
      "         Current function value: 0.000000\n",
      "         Iterations: 123\n",
      "         Function evaluations: 281\n",
      "[7.3310504133996615, 38.04557005840669]\n",
      "Optimization terminated successfully.\n",
      "         Current function value: 0.000000\n",
      "         Iterations: 92\n",
      "         Function evaluations: 232\n",
      "[15.337053153864984, 161.61077548477616]\n",
      "[14.944251194290809, 124.93867700320166]\n"
     ]
    }
   ],
   "source": [
    "options = {'disp': True, 'fatol': 1e-18, 'maxiter': 5e3, 'adaptive': True}\n",
    "method = \"Nelder-Mead\"\n",
    "\n",
    "shots = 25\n",
    "results_x = []\n",
    "results_fun = []\n",
    "guesses_x0 = []\n",
    "b_len = len(bounds)\n",
    "for i in range(shots):\n",
    "    x0 = [0, 0]\n",
    "    for b in range(b_len):\n",
    "        x0[b] = np.random.uniform(low=bounds[b][0], high=bounds[b][1])\n",
    "    print(x0)\n",
    "    res = minimize(obj1_nonuniformity, x0, method=method, options=options, bounds=bounds)\n",
    "    guesses_x0.append(x0)\n",
    "    results_x.append(res.x)\n",
    "    results_fun.append(res.fun)\n",
    "\n",
    "print(\"Objective function values:\")\n",
    "print(results_fun)\n",
    "print(\"Result parameters:\")\n",
    "print(results_x)\n",
    "print(\"Starting guesses:\")\n",
    "print(guesses_x0)"
   ]
  },
  {
   "cell_type": "code",
   "execution_count": 7,
   "id": "589652d9-7526-4bd5-9856-9cca94938169",
   "metadata": {},
   "outputs": [
    {
     "name": "stdout",
     "output_type": "stream",
     "text": [
      "[array([ 1.10722033, 68.20068613]), array([ 1.10538425, 68.22645632]), array([ 1.10546849, 68.25113915]), array([ 1.10632423, 68.17203017]), array([ 1.1039182 , 68.20489546]), array([ 1.10528274, 68.17988064]), array([  4.91313203, 300.        ]), array([  4.91274976, 300.        ]), array([  4.91270058, 300.        ]), array([ 1.10464234, 68.18975325]), array([ 1.10495303, 68.17439025]), array([ 1.        , 62.07562626]), array([  4.91266973, 300.        ]), array([  4.91328816, 300.        ]), array([ 1.10123309, 68.22828601]), array([ 1.10589914, 68.24967072]), array([ 1.        , 62.07571181]), array([ 1.10409497, 68.178942  ]), array([  4.91203899, 300.        ]), array([ 1.10505445, 68.17585318]), array([ 1.10527117, 68.26592888]), array([ 1.10829653, 68.25493822]), array([ 1.        , 62.07557495]), array([ 1.10301058, 68.1812621 ]), array([ 1.10245568, 68.13842094])]\n"
     ]
    }
   ],
   "source": [
    "print(results_x)"
   ]
  },
  {
   "cell_type": "code",
   "execution_count": 8,
   "id": "e4452b35-0ab3-46a1-98dc-53f18db65ebf",
   "metadata": {},
   "outputs": [],
   "source": [
    "charr = np.full((1, shots), 640).flatten()\n",
    "r_n = np.full((1, shots), n).flatten()"
   ]
  },
  {
   "cell_type": "code",
   "execution_count": 9,
   "id": "3ade58bf-00ea-4069-bf6a-ec6884fb1768",
   "metadata": {},
   "outputs": [],
   "source": [
    "from maggeometry import halbach_cylinder\n",
    "from maghelper import get_field_on_axes, get_nonuniformity, make_flux_stream, centered_sweep_range, get_grid_nonuniformity, make_xy_grid, get_grid_mag_and_nonuniformity\n",
    "grid_res = 101\n",
    "grid = make_xy_grid([-10, 10], [-10, 10], grid_res)\n",
    "results_g_center = []\n",
    "results_nonun = []\n",
    "for x in results_x:\n",
    "    magnets = halbach_cylinder(Br, x[0], charr[0], x[1], n)\n",
    "    Gmag, Gnon, center_field, av_nonuniformity, max_abs_nonuniformity = get_grid_mag_and_nonuniformity(magnets, grid, grid_res)\n",
    "    results_g_center.append(center_field)\n",
    "    results_nonun.append(av_nonuniformity)"
   ]
  },
  {
   "cell_type": "code",
   "execution_count": 10,
   "id": "c8fd0acb-f506-49cb-900c-aed1476f3a0f",
   "metadata": {
    "scrolled": true
   },
   "outputs": [
    {
     "name": "stdout",
     "output_type": "stream",
     "text": [
      "Number of unique results: 25\n",
      "    nonuniformity  center_field_gauss  n_rods  cyl_height  cyl_diameter  \\\n",
      "0    1.556855e-07            9.938103     7.0       640.0      1.101233   \n",
      "1    1.556877e-07           10.058140     7.0       640.0      1.108297   \n",
      "2    1.556879e-07            9.993477     7.0       640.0      1.103918   \n",
      "3    1.556882e-07           10.004291     7.0       640.0      1.104095   \n",
      "4    1.556907e-07           10.013706     7.0       640.0      1.105384   \n",
      "5    1.556914e-07           10.021185     7.0       640.0      1.104953   \n",
      "6    1.556917e-07           10.025551     7.0       640.0      1.105283   \n",
      "7    1.556926e-07           10.011037     7.0       640.0      1.104642   \n",
      "8    1.556931e-07           10.054594     7.0       640.0      1.107220   \n",
      "9    1.556958e-07            9.983969     7.0       640.0      1.103011   \n",
      "10   1.556965e-07           10.000081     7.0       640.0      1.105271   \n",
      "11   1.556973e-07           10.007989     7.0       640.0      1.105468   \n",
      "12   1.556986e-07           10.016219     7.0       640.0      1.105899   \n",
      "13   1.556988e-07           10.046768     7.0       640.0      1.106324   \n",
      "14   1.556991e-07           10.022594     7.0       640.0      1.105054   \n",
      "15   1.556992e-07            9.986474     7.0       640.0      1.102456   \n",
      "16   2.320717e-07            9.900083     7.0       640.0      1.000000   \n",
      "17   2.320741e-07            9.900040     7.0       640.0      1.000000   \n",
      "18   2.320743e-07            9.900067     7.0       640.0      1.000000   \n",
      "19   2.659602e-05           10.099993     7.0       640.0      4.913288   \n",
      "20   2.659602e-05           10.097577     7.0       640.0      4.912701   \n",
      "21   2.659602e-05           10.099351     7.0       640.0      4.913132   \n",
      "22   2.659602e-05           10.097779     7.0       640.0      4.912750   \n",
      "23   2.659602e-05           10.097450     7.0       640.0      4.912670   \n",
      "24   2.659602e-05           10.094858     7.0       640.0      4.912039   \n",
      "\n",
      "             D  g_cyl_diameter         g_D  \n",
      "0    68.228286       18.778077  147.085445  \n",
      "1    68.254938        4.505563  293.322413  \n",
      "2    68.204895       19.229796  100.991925  \n",
      "3    68.178942        2.348170  283.928747  \n",
      "4    68.226456        3.709702  248.750699  \n",
      "5    68.174390        4.973935   81.449316  \n",
      "6    68.179881        3.071974   43.343922  \n",
      "7    68.189753        1.905741  119.506812  \n",
      "8    68.200686       18.122050  121.606008  \n",
      "9    68.181262       12.119028  155.885855  \n",
      "10   68.265929        4.213851  256.921259  \n",
      "11   68.251139       12.082610  182.620271  \n",
      "12   68.249671        4.184826  213.555808  \n",
      "13   68.172030       10.577478   94.567676  \n",
      "14   68.175853        1.266801  171.036755  \n",
      "15   68.138421       15.664310  185.935912  \n",
      "16   62.075575       13.965153   24.527443  \n",
      "17   62.075712       18.191505   33.948955  \n",
      "18   62.075626        6.174332   34.778842  \n",
      "19  300.000000       12.788732  220.267264  \n",
      "20  300.000000       18.204364  266.817955  \n",
      "21  300.000000       19.841630   93.158066  \n",
      "22  300.000000       18.539801  284.421243  \n",
      "23  300.000000       10.689667  246.652532  \n",
      "24  300.000000       12.764897  258.911165  \n"
     ]
    }
   ],
   "source": [
    "import pandas as pd\n",
    "def make_opt_res_halbach_csv(name, fun, g_center, r_n, r_ch, x, guesses):\n",
    "    r_f = np.array([fun])\n",
    "    r_g = np.array(guesses)\n",
    "    r_gc = np.array([g_center])\n",
    "    r_n = np.array([r_n])\n",
    "    r_ch = np.array([r_ch])\n",
    "    r_x = np.array(x)\n",
    "    a = np.concatenate((r_f.T, r_gc.T, r_n.T, r_ch.T, r_x, r_g), axis=1)\n",
    "    b = a[a[:, 0].argsort()]\n",
    "\n",
    "    columns = ['nonuniformity', 'center_field_gauss', 'n_rods', 'cyl_height']\n",
    "\n",
    "    columns.append('cyl_diameter')\n",
    "    columns.append('D')\n",
    "    columns.append('g_cyl_diameter')\n",
    "    columns.append('g_D')\n",
    "    \n",
    "    \n",
    "    columns = np.array(columns)\n",
    "    b_df = pd.DataFrame(b, columns = columns)\n",
    "    \n",
    "    c = np.concatenate((r_f.T, r_x), axis=1)\n",
    "    new_array = [tuple(row) for row in c]\n",
    "    u = np.unique(new_array, axis=0)\n",
    "    n_unique = len(u)\n",
    "    print('Number of unique results:', n_unique)\n",
    "    print(b_df)\n",
    "    b_df.to_csv(name + str(n_unique) + '.csv')\n",
    "    return b, b_df\n",
    "\n",
    "import datetime\n",
    "today = datetime.datetime.today().strftime('%Y_%m_%d')\n",
    "\n",
    "b, b_df = make_opt_res_halbach_csv(f'results/halbach/samwise/{n}_{today}_pippin1_halbach_main_1090mT_', results_fun, results_g_center, r_n, charr, results_x, guesses_x0)"
   ]
  },
  {
   "cell_type": "code",
   "execution_count": 12,
   "id": "cdc0acc2-1d04-4dd5-9eb7-0e33c143f57b",
   "metadata": {},
   "outputs": [
    {
     "name": "stdout",
     "output_type": "stream",
     "text": [
      "1.5573750827657786e-07\n"
     ]
    }
   ],
   "source": [
    "m = halbach_cylinder(Br, 1.101233, 640, 68.228286, n)\n",
    "Gmag, Gnon, center_field, av_nonuniformity, max_abs_nonuniformity = get_grid_mag_and_nonuniformity(m, grid, grid_res)\n",
    "print(av_nonuniformity)"
   ]
  },
  {
   "cell_type": "code",
   "execution_count": null,
   "id": "836fe4bf-625b-4afd-bb10-118a878bb35c",
   "metadata": {},
   "outputs": [],
   "source": []
  }
 ],
 "metadata": {
  "kernelspec": {
   "display_name": "Python 3 (ipykernel)",
   "language": "python",
   "name": "python3"
  },
  "language_info": {
   "codemirror_mode": {
    "name": "ipython",
    "version": 3
   },
   "file_extension": ".py",
   "mimetype": "text/x-python",
   "name": "python",
   "nbconvert_exporter": "python",
   "pygments_lexer": "ipython3",
   "version": "3.11.4"
  }
 },
 "nbformat": 4,
 "nbformat_minor": 5
}
