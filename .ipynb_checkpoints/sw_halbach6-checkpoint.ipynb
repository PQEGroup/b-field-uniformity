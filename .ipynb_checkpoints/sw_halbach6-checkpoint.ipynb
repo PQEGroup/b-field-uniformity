{
 "cells": [
  {
   "cell_type": "code",
   "execution_count": 19,
   "id": "f09b69e8-4464-4b40-8241-84266b1cfbcd",
   "metadata": {},
   "outputs": [],
   "source": [
    "import numpy as np\n",
    "import magpylib as magpy\n",
    "from magpylib.magnet import Cuboid, Cylinder, CylinderSegment\n",
    "from maggeometry import halbach_cylinder\n",
    "import pandas as pd\n",
    "import plotly.graph_objects as go\n",
    "from plotly.subplots import make_subplots\n",
    "import matplotlib.pyplot as plt\n",
    "import numpy as np\n",
    "from scipy.optimize import minimize, Bounds\n",
    "from maghelper import get_field_on_axes, get_nonuniformity, make_flux_stream, centered_sweep_range, get_grid_nonuniformity, make_grid, get_grid_mag_and_nonuniformity"
   ]
  },
  {
   "cell_type": "markdown",
   "id": "49da9989-4214-41f7-908c-374a20df21e8",
   "metadata": {},
   "source": [
    "### Nelder-Mead Adaptive Optimization of Halbach 6 main\n",
    "n = 6\n",
    "\n",
    "### Samwise"
   ]
  },
  {
   "cell_type": "code",
   "execution_count": 8,
   "id": "de664111-788c-4a6e-ad2f-3a54325673bd",
   "metadata": {},
   "outputs": [],
   "source": [
    "# def halbach_cylinder(Br, c_d, c_h, D, n, alternate=False):"
   ]
  },
  {
   "cell_type": "code",
   "execution_count": 9,
   "id": "d59be79b-87f9-4483-a15c-783a1a58ca22",
   "metadata": {},
   "outputs": [],
   "source": [
    "def get_grid_mag_and_target_nonuniformity(magnets, grid, grid_res, target=10, use_z=False):\n",
    "    mT_to_G = 10\n",
    "    B = magnets.getB(grid)\n",
    "    G = B * mT_to_G\n",
    "    # find magnitude of the b-field at all points over grid\n",
    "    Gmag = 0\n",
    "    if use_z:\n",
    "        Gmag = G[:,:,2]\n",
    "    else:\n",
    "        Gmag = np.linalg.norm(G, axis=2)\n",
    "#     Gmag = np.sqrt(G[:,:,0]**2 + G[:,:,1]**2 + G[:,:,2]**2)\n",
    "#     Gmag = G[:,:,2]\n",
    "    # find magnitude of b-field at center of grid\n",
    "    mid_id = int(grid_res/2)\n",
    "    Gcenter = Gmag[mid_id][mid_id]\n",
    "    # calculate nonuniformity with respect to center b-field\n",
    "    Gnon = np.abs((Gmag - Gcenter)/Gcenter)\n",
    "    Gtarget_non = np.abs((Gmag - target)/target)\n",
    "#     Gtarget_non = np.abs((Gmag - target)/target)\n",
    "#     max_nonuniformity = np.max(Gnon)\n",
    "    av_nonuniformity = np.sum(Gnon) / grid_res**2\n",
    "    av_target_nonuniformity = np.sum(Gtarget_non) / grid_res**2\n",
    "#     return Gmag, Gnon, Gcenter, av_nonuniformity, av_target_nonuniformity, max_nonuniformity\n",
    "    return Gcenter, av_nonuniformity, av_target_nonuniformity"
   ]
  },
  {
   "cell_type": "code",
   "execution_count": 10,
   "id": "f147ec97-7d3b-4049-9a0a-92dc843f1c26",
   "metadata": {},
   "outputs": [],
   "source": [
    "from maghelper import get_field_on_axes, get_nonuniformity, make_flux_stream, centered_sweep_range, get_grid_nonuniformity, make_xy_grid"
   ]
  },
  {
   "cell_type": "code",
   "execution_count": 11,
   "id": "eb51176a-db8d-438d-919d-0e9c09e32fb9",
   "metadata": {},
   "outputs": [],
   "source": [
    "n = 6\n",
    "grid_res = 101\n",
    "grid = make_xy_grid([-10, 10], [-10, 10], grid_res)\n",
    "Br = 1.09e3\n",
    "c_h = 640\n",
    "threshold = 0.1 # in G\n",
    "target = 10\n",
    "\n",
    "          #c_d,     D\n",
    "bounds = ((1, 20), (21, 300))\n",
    "\n",
    "def obj1_nonuniformity(x):\n",
    "    magnets = halbach_cylinder(Br, x[0], c_h, x[1], n)\n",
    "    center_field, av_nonuniformity, av_target_nonuniformity = get_grid_mag_and_target_nonuniformity(magnets, grid, grid_res, target)\n",
    "    if (abs(center_field - target) > threshold):\n",
    "        return av_target_nonuniformity\n",
    "    return av_nonuniformity"
   ]
  },
  {
   "cell_type": "code",
   "execution_count": 12,
   "id": "e692a56d-49f5-462d-8d85-9e8f2157066d",
   "metadata": {
    "scrolled": true
   },
   "outputs": [
    {
     "name": "stdout",
     "output_type": "stream",
     "text": [
      "[7.600552823689524, 146.12912922335477]\n"
     ]
    },
    {
     "name": "stderr",
     "output_type": "stream",
     "text": [
      "/var/folders/06/7pjfbw510cz2ch1m7lx8vvl80000gn/T/ipykernel_20051/1123013417.py:14: RuntimeWarning: Maximum number of iterations has been exceeded.\n",
      "  res = minimize(obj1_nonuniformity, x0, method=method, options=options, bounds=bounds)\n"
     ]
    },
    {
     "name": "stdout",
     "output_type": "stream",
     "text": [
      "[10.223741034570187, 63.23110298333134]\n",
      "Optimization terminated successfully.\n",
      "         Current function value: 0.000006\n",
      "         Iterations: 126\n",
      "         Function evaluations: 296\n",
      "[12.793179165209972, 165.83070402150528]\n",
      "Optimization terminated successfully.\n",
      "         Current function value: 0.000006\n",
      "         Iterations: 182\n",
      "         Function evaluations: 416\n",
      "[8.352769841732592, 194.55484295462026]\n",
      "[15.323979957963813, 94.50234171672184]\n",
      "Optimization terminated successfully.\n",
      "         Current function value: 0.000006\n",
      "         Iterations: 134\n",
      "         Function evaluations: 302\n",
      "[7.932133384454924, 263.921445178564]\n",
      "[3.048958381863139, 244.43153782006783]\n",
      "Optimization terminated successfully.\n",
      "         Current function value: 0.000006\n",
      "         Iterations: 103\n",
      "         Function evaluations: 259\n",
      "[10.00190564944204, 278.6467767379848]\n",
      "Optimization terminated successfully.\n",
      "         Current function value: 0.000027\n",
      "         Iterations: 69\n",
      "         Function evaluations: 186\n",
      "[18.332118626237353, 149.09108890349611]\n",
      "[19.069798913405965, 228.1978029658576]\n",
      "Optimization terminated successfully.\n",
      "         Current function value: 0.000027\n",
      "         Iterations: 101\n",
      "         Function evaluations: 233\n",
      "[9.467741762369485, 57.69303853117618]\n",
      "Optimization terminated successfully.\n",
      "         Current function value: 0.000006\n",
      "         Iterations: 294\n",
      "         Function evaluations: 632\n",
      "[17.264463772567716, 125.19644113885097]\n",
      "[19.450617002093907, 105.43436292374928]\n",
      "[2.24259707834261, 78.48650365281534]\n",
      "[8.442201312188095, 152.75751007696314]\n",
      "Optimization terminated successfully.\n",
      "         Current function value: 0.000006\n",
      "         Iterations: 107\n",
      "         Function evaluations: 268\n",
      "[19.692331883795756, 138.19625723764813]\n",
      "Optimization terminated successfully.\n",
      "         Current function value: 0.000027\n",
      "         Iterations: 77\n",
      "         Function evaluations: 200\n",
      "[2.4672107514830377, 147.32933442829327]\n",
      "Optimization terminated successfully.\n",
      "         Current function value: 0.000006\n",
      "         Iterations: 113\n",
      "         Function evaluations: 262\n",
      "[4.550512282785203, 129.65657033557562]\n",
      "[13.645864690574511, 141.70946043897737]\n",
      "Optimization terminated successfully.\n",
      "         Current function value: 0.000006\n",
      "         Iterations: 125\n",
      "         Function evaluations: 310\n",
      "[5.863128011950402, 30.816806910738617]\n",
      "Optimization terminated successfully.\n",
      "         Current function value: 0.001881\n",
      "         Iterations: 108\n",
      "         Function evaluations: 246\n",
      "[9.8796270629394, 294.50559831689384]\n",
      "[9.15429658816012, 164.3029884736897]\n",
      "[16.492614696981875, 137.69975505844252]\n",
      "Optimization terminated successfully.\n",
      "         Current function value: 0.000006\n",
      "         Iterations: 131\n",
      "         Function evaluations: 311\n",
      "[4.567040005200015, 77.13158224246439]\n",
      "[7.050049513876603, 184.3344040704319]\n",
      "Objective function values:\n",
      "[6.496862966749811e-06, 6.496862486427517e-06, 6.496861273625945e-06, 6.496866354690548e-06, 6.4968675846579e-06, 2.6607688921776374e-05, 6.4968640070310285e-06, 2.66076931271734e-05, 6.4968622555992305e-06, 2.660768921500715e-05, 6.496862603684655e-06, 6.496867045322741e-06, 6.496860609418646e-06, 6.496869207538253e-06, 6.496866380231868e-06, 2.6607688436183147e-05, 6.4968655501409795e-06, 6.496869022159713e-06, 6.496864910983493e-06, 0.0018806647604610585, 2.660769164865822e-05, 6.4968668316026945e-06, 6.4968645695192466e-06, 6.496861463955603e-06, 6.496861858171855e-06]\n",
      "Result parameters:\n",
      "[array([  3.04699117, 173.82020749]), array([  3.04793611, 173.81785489]), array([  3.04571671, 173.82451318]), array([  3.03168385, 173.82218697]), array([  3.04831538, 173.85888633]), array([  5.30657695, 300.        ]), array([  3.04762618, 173.81180128]), array([  5.30496487, 300.        ]), array([  3.04352933, 173.83697228]), array([  5.30664789, 300.        ]), array([  3.04926626, 173.84590724]), array([  3.03763809, 173.85076261]), array([  3.05305917, 173.81412684]), array([  3.04584656, 173.87853928]), array([  3.03726975, 173.8139231 ]), array([  5.30688178, 300.        ]), array([  3.03633458, 173.83210514]), array([  3.04214713, 173.77798029]), array([  3.04877355, 173.85487282]), array([ 1.        , 57.47130426]), array([  5.30557375, 300.        ]), array([  3.03917868, 173.83385392]), array([  3.04466379, 173.81831414]), array([  3.04575446, 173.83823442]), array([  3.0479509 , 173.81874271])]\n",
      "Starting guesses:\n",
      "[[7.600552823689524, 146.12912922335477], [10.223741034570187, 63.23110298333134], [12.793179165209972, 165.83070402150528], [8.352769841732592, 194.55484295462026], [15.323979957963813, 94.50234171672184], [7.932133384454924, 263.921445178564], [3.048958381863139, 244.43153782006783], [10.00190564944204, 278.6467767379848], [18.332118626237353, 149.09108890349611], [19.069798913405965, 228.1978029658576], [9.467741762369485, 57.69303853117618], [17.264463772567716, 125.19644113885097], [19.450617002093907, 105.43436292374928], [2.24259707834261, 78.48650365281534], [8.442201312188095, 152.75751007696314], [19.692331883795756, 138.19625723764813], [2.4672107514830377, 147.32933442829327], [4.550512282785203, 129.65657033557562], [13.645864690574511, 141.70946043897737], [5.863128011950402, 30.816806910738617], [9.8796270629394, 294.50559831689384], [9.15429658816012, 164.3029884736897], [16.492614696981875, 137.69975505844252], [4.567040005200015, 77.13158224246439], [7.050049513876603, 184.3344040704319]]\n"
     ]
    }
   ],
   "source": [
    "options = {'disp': True, 'fatol': 1e-18, 'maxiter': 5e3, 'adaptive': True}\n",
    "method = \"Nelder-Mead\"\n",
    "\n",
    "shots = 25\n",
    "results_x = []\n",
    "results_fun = []\n",
    "guesses_x0 = []\n",
    "b_len = len(bounds)\n",
    "for i in range(shots):\n",
    "    x0 = [0, 0]\n",
    "    for b in range(b_len):\n",
    "        x0[b] = np.random.uniform(low=bounds[b][0], high=bounds[b][1])\n",
    "    print(x0)\n",
    "    res = minimize(obj1_nonuniformity, x0, method=method, options=options, bounds=bounds)\n",
    "    guesses_x0.append(x0)\n",
    "    results_x.append(res.x)\n",
    "    results_fun.append(res.fun)\n",
    "\n",
    "print(\"Objective function values:\")\n",
    "print(results_fun)\n",
    "print(\"Result parameters:\")\n",
    "print(results_x)\n",
    "print(\"Starting guesses:\")\n",
    "print(guesses_x0)"
   ]
  },
  {
   "cell_type": "code",
   "execution_count": 20,
   "id": "589652d9-7526-4bd5-9856-9cca94938169",
   "metadata": {},
   "outputs": [
    {
     "name": "stdout",
     "output_type": "stream",
     "text": [
      "[array([  3.04699117, 173.82020749]), array([  3.04793611, 173.81785489]), array([  3.04571671, 173.82451318]), array([  3.03168385, 173.82218697]), array([  3.04831538, 173.85888633]), array([  5.30657695, 300.        ]), array([  3.04762618, 173.81180128]), array([  5.30496487, 300.        ]), array([  3.04352933, 173.83697228]), array([  5.30664789, 300.        ]), array([  3.04926626, 173.84590724]), array([  3.03763809, 173.85076261]), array([  3.05305917, 173.81412684]), array([  3.04584656, 173.87853928]), array([  3.03726975, 173.8139231 ]), array([  5.30688178, 300.        ]), array([  3.03633458, 173.83210514]), array([  3.04214713, 173.77798029]), array([  3.04877355, 173.85487282]), array([ 1.        , 57.47130426]), array([  5.30557375, 300.        ]), array([  3.03917868, 173.83385392]), array([  3.04466379, 173.81831414]), array([  3.04575446, 173.83823442]), array([  3.0479509 , 173.81874271])]\n"
     ]
    }
   ],
   "source": [
    "print(results_x)"
   ]
  },
  {
   "cell_type": "code",
   "execution_count": 21,
   "id": "e4452b35-0ab3-46a1-98dc-53f18db65ebf",
   "metadata": {},
   "outputs": [],
   "source": [
    "charr = np.full((1, shots), 640).flatten()\n",
    "r_n = np.full((1, shots), n).flatten()"
   ]
  },
  {
   "cell_type": "code",
   "execution_count": 22,
   "id": "687a0f46-6b03-4931-b37a-08c65f822146",
   "metadata": {},
   "outputs": [],
   "source": [
    "grid_res = 101\n",
    "grid = make_xy_grid([-10, 10], [-10, 10], grid_res)\n",
    "results_g_center = []\n",
    "results_nonun = []\n",
    "for x in results_x:\n",
    "    magnets = halbach_cylinder(Br, x[0], charr[0], x[1], n)\n",
    "    Gmag, Gnon, center_field, av_nonuniformity, max_abs_nonuniformity = get_grid_mag_and_nonuniformity(magnets, grid, grid_res)\n",
    "    results_g_center.append(center_field)\n",
    "    results_nonun.append(av_nonuniformity)"
   ]
  },
  {
   "cell_type": "code",
   "execution_count": 23,
   "id": "c8fd0acb-f506-49cb-900c-aed1476f3a0f",
   "metadata": {
    "scrolled": true
   },
   "outputs": [
    {
     "name": "stdout",
     "output_type": "stream",
     "text": [
      "Number of unique results: 25\n",
      "    nonuniformity  center_field_gauss  n_rods  cyl_height  cyl_diameter  \\\n",
      "0        0.000006           10.070722     6.0       640.0      3.053059   \n",
      "1        0.000006           10.021139     6.0       640.0      3.045717   \n",
      "2        0.000006           10.019800     6.0       640.0      3.045754   \n",
      "3        0.000006           10.036515     6.0       640.0      3.047951   \n",
      "4        0.000006           10.005311     6.0       640.0      3.043529   \n",
      "5        0.000006           10.036521     6.0       640.0      3.047936   \n",
      "6        0.000006           10.042030     6.0       640.0      3.049266   \n",
      "7        0.000006           10.030026     6.0       640.0      3.046991   \n",
      "8        0.000006           10.035181     6.0       640.0      3.047626   \n",
      "9        0.000006           10.014929     6.0       640.0      3.044664   \n",
      "10       0.000006           10.037746     6.0       640.0      3.048774   \n",
      "11       0.000006            9.958623     6.0       640.0      3.036335   \n",
      "12       0.000006            9.929276     6.0       640.0      3.031684   \n",
      "13       0.000006            9.966850     6.0       640.0      3.037270   \n",
      "14       0.000006            9.977086     6.0       640.0      3.039179   \n",
      "15       0.000006            9.965028     6.0       640.0      3.037638   \n",
      "16       0.000006           10.034265     6.0       640.0      3.048315   \n",
      "17       0.000006           10.003037     6.0       640.0      3.042147   \n",
      "18       0.000006           10.015746     6.0       640.0      3.045847   \n",
      "19       0.000027           10.099706     6.0       640.0      5.306882   \n",
      "20       0.000027           10.098545     6.0       640.0      5.306577   \n",
      "21       0.000027           10.098815     6.0       640.0      5.306648   \n",
      "22       0.000027           10.094728     6.0       640.0      5.305574   \n",
      "23       0.000027           10.092411     6.0       640.0      5.304965   \n",
      "24       0.001881            9.900000     6.0       640.0      1.000000   \n",
      "\n",
      "             D  g_cyl_diameter         g_D  \n",
      "0   173.814127       19.450617  105.434363  \n",
      "1   173.824513       12.793179  165.830704  \n",
      "2   173.838234        4.567040   77.131582  \n",
      "3   173.818743        7.050050  184.334404  \n",
      "4   173.836972       18.332119  149.091089  \n",
      "5   173.817855       10.223741   63.231103  \n",
      "6   173.845907        9.467742   57.693039  \n",
      "7   173.820207        7.600553  146.129129  \n",
      "8   173.811801        3.048958  244.431538  \n",
      "9   173.818314       16.492615  137.699755  \n",
      "10  173.854873       13.645865  141.709460  \n",
      "11  173.832105        2.467211  147.329334  \n",
      "12  173.822187        8.352770  194.554843  \n",
      "13  173.813923        8.442201  152.757510  \n",
      "14  173.833854        9.154297  164.302988  \n",
      "15  173.850763       17.264464  125.196441  \n",
      "16  173.858886       15.323980   94.502342  \n",
      "17  173.777980        4.550512  129.656570  \n",
      "18  173.878539        2.242597   78.486504  \n",
      "19  300.000000       19.692332  138.196257  \n",
      "20  300.000000        7.932133  263.921445  \n",
      "21  300.000000       19.069799  228.197803  \n",
      "22  300.000000        9.879627  294.505598  \n",
      "23  300.000000       10.001906  278.646777  \n",
      "24   57.471304        5.863128   30.816807  \n"
     ]
    }
   ],
   "source": [
    "def make_opt_res_halbach_csv(name, fun, g_center, r_n, r_ch, x, guesses):\n",
    "    r_f = np.array([fun])\n",
    "    r_g = np.array(guesses)\n",
    "    r_gc = np.array([g_center])\n",
    "    r_n = np.array([r_n])\n",
    "    r_ch = np.array([r_ch])\n",
    "    r_x = np.array(x)\n",
    "    a = np.concatenate((r_f.T, r_gc.T, r_n.T, r_ch.T, r_x, r_g), axis=1)\n",
    "    b = a[a[:, 0].argsort()]\n",
    "\n",
    "    columns = ['nonuniformity', 'center_field_gauss', 'n_rods', 'cyl_height']\n",
    "\n",
    "    columns.append('cyl_diameter')\n",
    "    columns.append('D')\n",
    "    columns.append('g_cyl_diameter')\n",
    "    columns.append('g_D')\n",
    "    \n",
    "    \n",
    "    columns = np.array(columns)\n",
    "    b_df = pd.DataFrame(b, columns = columns)\n",
    "    \n",
    "    c = np.concatenate((r_f.T, r_x), axis=1)\n",
    "    new_array = [tuple(row) for row in c]\n",
    "    u = np.unique(new_array, axis=0)\n",
    "    n_unique = len(u)\n",
    "    print('Number of unique results:', n_unique)\n",
    "    print(b_df)\n",
    "    b_df.to_csv(name + str(n_unique) + '.csv')\n",
    "    return b, b_df\n",
    "\n",
    "import datetime\n",
    "today = datetime.datetime.today().strftime('%Y_%m_%d')\n",
    "\n",
    "b, b_df = make_opt_res_halbach_csv(f'results/halbach/samwise/{n}_{today}_pippin1_halbach_main_1090mT_', results_fun, results_g_center, r_n, charr, results_x, guesses_x0)"
   ]
  },
  {
   "cell_type": "code",
   "execution_count": null,
   "id": "836fe4bf-625b-4afd-bb10-118a878bb35c",
   "metadata": {},
   "outputs": [],
   "source": []
  }
 ],
 "metadata": {
  "kernelspec": {
   "display_name": "Python 3 (ipykernel)",
   "language": "python",
   "name": "python3"
  },
  "language_info": {
   "codemirror_mode": {
    "name": "ipython",
    "version": 3
   },
   "file_extension": ".py",
   "mimetype": "text/x-python",
   "name": "python",
   "nbconvert_exporter": "python",
   "pygments_lexer": "ipython3",
   "version": "3.11.4"
  }
 },
 "nbformat": 4,
 "nbformat_minor": 5
}
