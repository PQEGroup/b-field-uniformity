{
 "cells": [
  {
   "cell_type": "markdown",
   "id": "8d9a93db",
   "metadata": {},
   "source": [
    "## 3 rings Samwise target 10G new asymmetric threshold test"
   ]
  },
  {
   "cell_type": "code",
   "execution_count": 2,
   "id": "ce62148b",
   "metadata": {},
   "outputs": [],
   "source": [
    "import numpy as np\n",
    "import magpylib as magpy\n",
    "from maggeometry import n_rings, four_rings\n",
    "from maghelper import get_field_on_axes, get_nonuniformity, make_flux_stream, centered_sweep_range, get_grid_nonuniformity, make_xy_grid"
   ]
  },
  {
   "cell_type": "code",
   "execution_count": 3,
   "id": "7726c3bb",
   "metadata": {},
   "outputs": [],
   "source": [
    "Br = 1.09e3\n",
    "mag_dir = (0,0,1)\n",
    "mirror1_z = False\n",
    "ringset_1_config = [Br, mag_dir, mirror1_z]\n",
    "\n",
    "r = 1.09e3\n",
    "mag_dir = (0,0,1)\n",
    "mirror2_z = True\n",
    "ringset_2_config = [Br, mag_dir, mirror2_z]\n",
    "# innerrad1, width1, thickness1, innerrad2, width2, thickness2, dist2\n",
    "bounds = ((1, 150), (2, 20), (2, 20),\n",
    "          (1, 150), (2, 20), (2, 20), (1, 300))"
   ]
  },
  {
   "cell_type": "code",
   "execution_count": 8,
   "id": "76ebc633",
   "metadata": {},
   "outputs": [],
   "source": [
    "def get_grid_mag_and_target_nonuniformity(magnets, grid, grid_res, target=-10, use_z=True):\n",
    "    mT_to_G = 10\n",
    "    B = magnets.getB(grid)\n",
    "    G = B * mT_to_G\n",
    "    # find magnitude of the b-field at all points over grid\n",
    "    Gmag = 0\n",
    "    if use_z:\n",
    "        Gmag = G[:,:,2]\n",
    "    else:\n",
    "        Gmag = np.linalg.norm(G, axis=2)\n",
    "    # find magnitude of b-field at center of grid\n",
    "    mid_id = int(grid_res/2)\n",
    "    Gcenter = Gmag[mid_id][mid_id]\n",
    "    # calculate nonuniformity with respect to center b-field\n",
    "    Gnon = np.abs((Gmag - Gcenter)/Gcenter)\n",
    "    Gtarget_non = np.abs((Gmag - target)/target)\n",
    "\n",
    "    av_nonuniformity = np.sum(Gnon) / grid_res**2\n",
    "    av_target_nonuniformity = np.sum(Gtarget_non) / grid_res**2\n",
    "#     return Gmag, Gnon, Gcenter, av_nonuniformity, av_target_nonuniformity, max_nonuniformity\n",
    "    return Gcenter, av_nonuniformity, av_target_nonuniformity"
   ]
  },
  {
   "cell_type": "code",
   "execution_count": 9,
   "id": "80446e48",
   "metadata": {},
   "outputs": [],
   "source": [
    "grid_res = 101\n",
    "grid = make_xy_grid([-10, 10], [-10, 10], grid_res)\n",
    "low_threshold = -0.1 # in G\n",
    "high_threshold = 1e-6\n",
    "target = -10\n",
    "def obj1_nonuniformity(x):\n",
    "    obj_ring_config=[[*ringset_1_config, *x[0:3], 0], [*ringset_2_config, *x[3:7]]]\n",
    "    magnets = n_rings(obj_ring_config)\n",
    "    center_field, av_nonuniformity, av_target_nonuniformity = get_grid_mag_and_target_nonuniformity(magnets, grid, grid_res, target)\n",
    "\n",
    "    # triggered only when center_field > -10.1 or center_field < -10+1e-6\n",
    "    if ((center_field - target < low_threshold) or (center_field - target > high_threshold)):\n",
    "        return av_target_nonuniformity\n",
    "    return av_nonuniformity"
   ]
  },
  {
   "cell_type": "code",
   "execution_count": 10,
   "id": "9493520d",
   "metadata": {
    "scrolled": true
   },
   "outputs": [
    {
     "name": "stdout",
     "output_type": "stream",
     "text": [
      "on 0: [125.35694174   2.           6.21443315 148.34655845  16.08220446         \n",
      "         2.89539756  78.54471838]\n",
      "                                                                                \r"
     ]
    },
    {
     "name": "stderr",
     "output_type": "stream",
     "text": [
      "on 0: /var/folders/06/7pjfbw510cz2ch1m7lx8vvl80000gn/T/ipykernel_52612/3812064488.py:19: RuntimeWarning: Maximum number of iterations has been exceeded.\n",
      "        res = minimize(obj1_nonuniformity, x0, method=method, options=options, bounds=bounds)\n"
     ]
    },
    {
     "name": "stdout",
     "output_type": "stream",
     "text": [
      "on 1: [150.           2.09485129  20.           1.00000001   2.                 \n",
      "         2.         299.99999063]\n",
      "on 2: [150.          20.           2.03674937 147.6675059    2.                 \n",
      "        19.99050472  96.16439131]\n",
      "on 3: [149.99998464   2.50723649  16.72245346   1.00013266   2.00002551         \n",
      "         2.00016796 299.98282842]\n",
      "on 4: [150.           2.09485129  20.           1.00000033   2.00000045         \n",
      "         2.         299.99996346]\n",
      "|████████████████████████████████████████| 5/5 [100%] in 26:06.1 (0.00/s)       \n",
      "Objective function values:\n",
      "[3.152755349175679e-08, 0.0034778349915031473, 2.331996704536812e-06, 0.0034808700549654446, 0.003477834993918656]\n",
      "Result parameters:\n",
      "[array([125.35694174,   2.        ,   6.21443315, 148.34655845,\n",
      "        16.08220446,   2.89539756,  78.54471838]), array([150.        ,   2.09485129,  20.        ,   1.00000001,\n",
      "         2.        ,   2.        , 299.99999063]), array([150.        ,  20.        ,   2.03674937, 147.6675059 ,\n",
      "         2.        ,  19.99050472,  96.16439131]), array([149.99998464,   2.50723649,  16.72245346,   1.00013266,\n",
      "         2.00002551,   2.00016796, 299.98282842]), array([150.        ,   2.09485129,  20.        ,   1.00000033,\n",
      "         2.00000045,   2.        , 299.99996346])]\n",
      "Starting guesses:\n",
      "[array([ 33.29594137,   3.45989641,  10.67063504,  57.99691018,\n",
      "        13.23716531,  14.90310694, 257.90152189]), array([34.45910447,  2.37658227,  4.39002415, 42.90562483, 15.80297882,\n",
      "        3.85553777, 92.73687271]), array([ 73.1249978 ,  18.31415628,  11.57324158, 123.74874617,\n",
      "         6.80042148,   8.81380941, 295.2129373 ]), array([ 47.83685115,   3.02773897,  13.30234991,  44.20694287,\n",
      "         3.46074403,  18.84857117, 160.74410809]), array([ 24.21841358,   3.02987999,  17.78076093,  37.23958398,\n",
      "         3.68186109,  11.63608491, 125.42427935])]\n"
     ]
    }
   ],
   "source": [
    "import numpy as np\n",
    "from scipy.optimize import minimize, Bounds\n",
    "from maggeometry import n_rings\n",
    "from maghelper import get_field_on_axes, get_nonuniformity, make_flux_stream, centered_sweep_range, get_grid_nonuniformity, make_grid\n",
    "from alive_progress import alive_bar\n",
    "\n",
    "options = {'disp': True, 'fatol': 1e-18, 'maxiter': 5e3, 'adaptive': True}\n",
    "method = \"Nelder-Mead\"\n",
    "\n",
    "shots = 5\n",
    "results_x = []\n",
    "results_fun = []\n",
    "guesses_x0 = []\n",
    "with alive_bar(shots, force_tty=True) as bar:\n",
    "    for i in range(shots):\n",
    "        x0 = np.zeros(len(bounds))\n",
    "        for b in range(len(bounds)):\n",
    "            x0[b] = np.random.uniform(low=bounds[b][0], high=bounds[b][1])\n",
    "        res = minimize(obj1_nonuniformity, x0, method=method, options=options, bounds=bounds)\n",
    "        guesses_x0.append(x0)\n",
    "        results_x.append(res.x)\n",
    "        print(res.x)\n",
    "        results_fun.append(res.fun)\n",
    "        bar()\n",
    "\n",
    "print(\"Objective function values:\")\n",
    "print(results_fun)\n",
    "print(\"Result parameters:\")\n",
    "print(results_x)\n",
    "print(\"Starting guesses:\")\n",
    "print(guesses_x0)"
   ]
  },
  {
   "cell_type": "code",
   "execution_count": 12,
   "id": "5594105d",
   "metadata": {
    "scrolled": true
   },
   "outputs": [
    {
     "name": "stdout",
     "output_type": "stream",
     "text": [
      "[10.074453543433801, 9.936704812516142, 10.09999068263915, 9.936648513284574, 9.936704812451527]\n",
      "[3.152755349175679e-08, 0.0066774771653548655, 2.331996704536812e-06, 0.006683282554535431, 0.006677477170077799]\n"
     ]
    }
   ],
   "source": [
    "from maggeometry import n_rings\n",
    "from maghelper import get_field_on_axes, get_nonuniformity, make_flux_stream, centered_sweep_range, get_grid_nonuniformity, make_xy_grid\n",
    "grid_res = 101\n",
    "grid = make_xy_grid([-10, 10], [-10, 10], grid_res)\n",
    "results_g_center = []\n",
    "results_nonun = []\n",
    "for x in results_x:\n",
    "    obj_ring_config=[[*ringset_1_config, *x[0:3], 0], [*ringset_2_config, *x[3:7]]]\n",
    "    magnets = n_rings(obj_ring_config)\n",
    "    grid_field, center_field, av_nonuniformity, max_abs_nonuniformity = get_grid_nonuniformity(magnets, grid, grid_res)\n",
    "    results_g_center.append(center_field)\n",
    "    results_nonun.append(av_nonuniformity)\n",
    "print(results_g_center)\n",
    "print(results_nonun)"
   ]
  },
  {
   "cell_type": "code",
   "execution_count": 13,
   "id": "83a540b7",
   "metadata": {
    "scrolled": true
   },
   "outputs": [
    {
     "name": "stdout",
     "output_type": "stream",
     "text": [
      "Number of unique results: 5\n",
      "   nonuniformity  center_field_gauss  r_1_innerrad  r_1_width  r_1_thickness  \\\n",
      "0   3.152755e-08           10.074454    125.356942   2.000000       6.214433   \n",
      "1   2.331997e-06           10.099991    150.000000  20.000000       2.036749   \n",
      "2   3.477835e-03            9.936705    150.000000   2.094851      20.000000   \n",
      "3   3.477835e-03            9.936705    150.000000   2.094851      20.000000   \n",
      "4   3.480870e-03            9.936649    149.999985   2.507236      16.722453   \n",
      "\n",
      "   r_1_dist  r_2_innerrad  r_2_width  r_2_thickness    r_2_dist  g_1_innerrad  \\\n",
      "0       0.0    148.346558  16.082204       2.895398   78.544718     33.295941   \n",
      "1       0.0    147.667506   2.000000      19.990505   96.164391     73.124998   \n",
      "2       0.0      1.000000   2.000000       2.000000  299.999991     34.459104   \n",
      "3       0.0      1.000000   2.000000       2.000000  299.999963     24.218414   \n",
      "4       0.0      1.000133   2.000026       2.000168  299.982828     47.836851   \n",
      "\n",
      "   g_1_width  g_1_thickness  g_1_dist  g_2_innerrad  g_2_width  g_2_thickness  \\\n",
      "0   3.459896      10.670635       0.0     57.996910  13.237165      14.903107   \n",
      "1  18.314156      11.573242       0.0    123.748746   6.800421       8.813809   \n",
      "2   2.376582       4.390024       0.0     42.905625  15.802979       3.855538   \n",
      "3   3.029880      17.780761       0.0     37.239584   3.681861      11.636085   \n",
      "4   3.027739      13.302350       0.0     44.206943   3.460744      18.848571   \n",
      "\n",
      "     g_2_dist  \n",
      "0  257.901522  \n",
      "1  295.212937  \n",
      "2   92.736873  \n",
      "3  125.424279  \n",
      "4  160.744108  \n"
     ]
    },
    {
     "data": {
      "text/plain": [
       "(array([[3.15275535e-08, 1.00744535e+01, 1.25356942e+02, 2.00000000e+00,\n",
       "         6.21443315e+00, 0.00000000e+00, 1.48346558e+02, 1.60822045e+01,\n",
       "         2.89539756e+00, 7.85447184e+01, 3.32959414e+01, 3.45989641e+00,\n",
       "         1.06706350e+01, 0.00000000e+00, 5.79969102e+01, 1.32371653e+01,\n",
       "         1.49031069e+01, 2.57901522e+02],\n",
       "        [2.33199670e-06, 1.00999907e+01, 1.50000000e+02, 2.00000000e+01,\n",
       "         2.03674937e+00, 0.00000000e+00, 1.47667506e+02, 2.00000000e+00,\n",
       "         1.99905047e+01, 9.61643913e+01, 7.31249978e+01, 1.83141563e+01,\n",
       "         1.15732416e+01, 0.00000000e+00, 1.23748746e+02, 6.80042148e+00,\n",
       "         8.81380941e+00, 2.95212937e+02],\n",
       "        [3.47783499e-03, 9.93670481e+00, 1.50000000e+02, 2.09485129e+00,\n",
       "         2.00000000e+01, 0.00000000e+00, 1.00000001e+00, 2.00000000e+00,\n",
       "         2.00000000e+00, 2.99999991e+02, 3.44591045e+01, 2.37658227e+00,\n",
       "         4.39002415e+00, 0.00000000e+00, 4.29056248e+01, 1.58029788e+01,\n",
       "         3.85553777e+00, 9.27368727e+01],\n",
       "        [3.47783499e-03, 9.93670481e+00, 1.50000000e+02, 2.09485129e+00,\n",
       "         2.00000000e+01, 0.00000000e+00, 1.00000033e+00, 2.00000045e+00,\n",
       "         2.00000000e+00, 2.99999963e+02, 2.42184136e+01, 3.02987999e+00,\n",
       "         1.77807609e+01, 0.00000000e+00, 3.72395840e+01, 3.68186109e+00,\n",
       "         1.16360849e+01, 1.25424279e+02],\n",
       "        [3.48087005e-03, 9.93664851e+00, 1.49999985e+02, 2.50723649e+00,\n",
       "         1.67224535e+01, 0.00000000e+00, 1.00013266e+00, 2.00002551e+00,\n",
       "         2.00016796e+00, 2.99982828e+02, 4.78368512e+01, 3.02773897e+00,\n",
       "         1.33023499e+01, 0.00000000e+00, 4.42069429e+01, 3.46074403e+00,\n",
       "         1.88485712e+01, 1.60744108e+02]]),\n",
       "    nonuniformity  center_field_gauss  r_1_innerrad  r_1_width  r_1_thickness  \\\n",
       " 0   3.152755e-08           10.074454    125.356942   2.000000       6.214433   \n",
       " 1   2.331997e-06           10.099991    150.000000  20.000000       2.036749   \n",
       " 2   3.477835e-03            9.936705    150.000000   2.094851      20.000000   \n",
       " 3   3.477835e-03            9.936705    150.000000   2.094851      20.000000   \n",
       " 4   3.480870e-03            9.936649    149.999985   2.507236      16.722453   \n",
       " \n",
       "    r_1_dist  r_2_innerrad  r_2_width  r_2_thickness    r_2_dist  g_1_innerrad  \\\n",
       " 0       0.0    148.346558  16.082204       2.895398   78.544718     33.295941   \n",
       " 1       0.0    147.667506   2.000000      19.990505   96.164391     73.124998   \n",
       " 2       0.0      1.000000   2.000000       2.000000  299.999991     34.459104   \n",
       " 3       0.0      1.000000   2.000000       2.000000  299.999963     24.218414   \n",
       " 4       0.0      1.000133   2.000026       2.000168  299.982828     47.836851   \n",
       " \n",
       "    g_1_width  g_1_thickness  g_1_dist  g_2_innerrad  g_2_width  g_2_thickness  \\\n",
       " 0   3.459896      10.670635       0.0     57.996910  13.237165      14.903107   \n",
       " 1  18.314156      11.573242       0.0    123.748746   6.800421       8.813809   \n",
       " 2   2.376582       4.390024       0.0     42.905625  15.802979       3.855538   \n",
       " 3   3.029880      17.780761       0.0     37.239584   3.681861      11.636085   \n",
       " 4   3.027739      13.302350       0.0     44.206943   3.460744      18.848571   \n",
       " \n",
       "      g_2_dist  \n",
       " 0  257.901522  \n",
       " 1  295.212937  \n",
       " 2   92.736873  \n",
       " 3  125.424279  \n",
       " 4  160.744108  )"
      ]
     },
     "execution_count": 13,
     "metadata": {},
     "output_type": "execute_result"
    }
   ],
   "source": [
    "from maghelper import make_opt_res_csv\n",
    "import datetime\n",
    "today = datetime.datetime.today().strftime('%Y_%m_%d')\n",
    "r_x = np.array(results_x)\n",
    "r_x = np.insert(r_x, 3, 0, axis=1)\n",
    "r_g = np.array(guesses_x0)\n",
    "r_g = np.insert(r_g, 3, 0, axis=1)\n",
    "make_opt_res_csv(f'results/3 rings/{today}_samwise_at_3r_1090mT_', results_fun, results_g_center, r_x, r_g)"
   ]
  },
  {
   "cell_type": "code",
   "execution_count": null,
   "id": "f3f72b38",
   "metadata": {},
   "outputs": [],
   "source": []
  },
  {
   "cell_type": "code",
   "execution_count": null,
   "id": "df84f89f",
   "metadata": {},
   "outputs": [],
   "source": []
  }
 ],
 "metadata": {
  "kernelspec": {
   "display_name": "Python 3 (ipykernel)",
   "language": "python",
   "name": "python3"
  },
  "language_info": {
   "codemirror_mode": {
    "name": "ipython",
    "version": 3
   },
   "file_extension": ".py",
   "mimetype": "text/x-python",
   "name": "python",
   "nbconvert_exporter": "python",
   "pygments_lexer": "ipython3",
   "version": "3.11.4"
  }
 },
 "nbformat": 4,
 "nbformat_minor": 5
}
