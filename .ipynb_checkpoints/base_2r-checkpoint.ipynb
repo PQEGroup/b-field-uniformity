{
 "cells": [
  {
   "cell_type": "markdown",
   "id": "afee0316",
   "metadata": {},
   "source": [
    "# Permanent magnet assembly B-field simulation"
   ]
  },
  {
   "cell_type": "markdown",
   "id": "f708b70e",
   "metadata": {},
   "source": [
    "## Ring 1: based on Aditya & Jack's simulation\n",
    "2 coil setup intended to emulate existing python simulation code\n",
    "\n",
    "Results match up pretty well.\n",
    "\n",
    "**Original python simulation: 8.821 G**\n",
    "\n",
    "**This implementation: 8.647G**\n",
    "\n",
    "**Nonuniformity graphs also agree**\n",
    "\n",
    "- Inner radius = 33.3 mm\n",
    "- Thickness = 2.4 mm\n",
    "- Width = 5 mm\n",
    "- Br = 1.09 T"
   ]
  },
  {
   "cell_type": "code",
   "execution_count": 1,
   "id": "a03607f2",
   "metadata": {
    "scrolled": false,
    "slideshow": {
     "slide_type": "slide"
    }
   },
   "outputs": [
    {
     "ename": "TypeError",
     "evalue": "get_field_on_axes() takes from 2 to 3 positional arguments but 6 were given",
     "output_type": "error",
     "traceback": [
      "\u001b[0;31m---------------------------------------------------------------------------\u001b[0m",
      "\u001b[0;31mTypeError\u001b[0m                                 Traceback (most recent call last)",
      "Cell \u001b[0;32mIn[1], line 21\u001b[0m\n\u001b[1;32m     18\u001b[0m ring2 \u001b[38;5;241m=\u001b[39m CylinderSegment(magnetization\u001b[38;5;241m=\u001b[39m(\u001b[38;5;241m0\u001b[39m,\u001b[38;5;241m0\u001b[39m,Br), dimension\u001b[38;5;241m=\u001b[39m(innerrad, innerrad\u001b[38;5;241m+\u001b[39mwidth,thickness,\u001b[38;5;241m0\u001b[39m,\u001b[38;5;241m360\u001b[39m), position \u001b[38;5;241m=\u001b[39m (\u001b[38;5;241m0\u001b[39m,\u001b[38;5;241m0\u001b[39m,\u001b[38;5;241m-\u001b[39mdist))\n\u001b[1;32m     19\u001b[0m coil1\u001b[38;5;241m.\u001b[39madd(ring)\u001b[38;5;241m.\u001b[39madd(ring2)\n\u001b[0;32m---> 21\u001b[0m \u001b[43mget_field_on_axes\u001b[49m\u001b[43m(\u001b[49m\u001b[43mcoil1\u001b[49m\u001b[43m,\u001b[49m\u001b[43m \u001b[49m\u001b[43mdist\u001b[49m\u001b[38;5;241;43m*\u001b[39;49m\u001b[38;5;241;43m2\u001b[39;49m\u001b[43m,\u001b[49m\u001b[43m \u001b[49m\u001b[43minnerrad\u001b[49m\u001b[38;5;241;43m*\u001b[39;49m\u001b[38;5;241;43m2\u001b[39;49m\u001b[43m,\u001b[49m\u001b[43m \u001b[49m\u001b[43m[\u001b[49m\u001b[38;5;241;43m-\u001b[39;49m\u001b[38;5;241;43m10\u001b[39;49m\u001b[43m,\u001b[49m\u001b[38;5;241;43m10\u001b[39;49m\u001b[43m]\u001b[49m\u001b[43m,\u001b[49m\u001b[43m \u001b[49m\u001b[43m[\u001b[49m\u001b[38;5;241;43m-\u001b[39;49m\u001b[38;5;241;43m10\u001b[39;49m\u001b[43m,\u001b[49m\u001b[38;5;241;43m10\u001b[39;49m\u001b[43m]\u001b[49m\u001b[43m,\u001b[49m\u001b[43m \u001b[49m\u001b[38;5;28;43;01mTrue\u001b[39;49;00m\u001b[43m)\u001b[49m\n\u001b[1;32m     23\u001b[0m x_bounds \u001b[38;5;241m=\u001b[39m [\u001b[38;5;241m-\u001b[39m\u001b[38;5;241m100\u001b[39m, \u001b[38;5;241m100\u001b[39m]\n\u001b[1;32m     24\u001b[0m z_bounds \u001b[38;5;241m=\u001b[39m [\u001b[38;5;241m-\u001b[39m\u001b[38;5;241m100\u001b[39m, \u001b[38;5;241m100\u001b[39m]\n",
      "\u001b[0;31mTypeError\u001b[0m: get_field_on_axes() takes from 2 to 3 positional arguments but 6 were given"
     ]
    }
   ],
   "source": [
    "import numpy as np\n",
    "from maghelper import get_field_on_axes, get_nonuniformity, make_flux_stream\n",
    "import magpylib as magpy\n",
    "from magpylib.magnet import CylinderSegment\n",
    "\n",
    "thickness = 2.4\n",
    "dist = 87.7\n",
    "# dist = 20\n",
    "innerrad = 33.3\n",
    "width = 5\n",
    "Br = 1.09\n",
    "mT_to_T = 1e3\n",
    "mT_to_G = 10\n",
    "Br = Br * mT_to_T\n",
    "\n",
    "coil1 = magpy.Collection()\n",
    "ring = CylinderSegment(magnetization=(0,0,Br), dimension=(innerrad, innerrad+width,thickness,0,360), position = (0,0,+dist))\n",
    "ring2 = CylinderSegment(magnetization=(0,0,Br), dimension=(innerrad, innerrad+width,thickness,0,360), position = (0,0,-dist))\n",
    "coil1.add(ring).add(ring2)\n",
    "\n",
    "get_field_on_axes(coil1, dist*2, innerrad*2, [-10,10], [-10,10], True)\n",
    "\n",
    "x_bounds = [-100, 100]\n",
    "z_bounds = [-100, 100]\n",
    "\n",
    "outerrad = innerrad+width\n",
    "nearsurface_z = dist - thickness/2\n",
    "farsurface_z = dist + thickness/2\n",
    "cross_section_coil1 = np.array([\n",
    "    [[-innerrad,-innerrad,-outerrad,-outerrad,-innerrad], [farsurface_z,nearsurface_z,nearsurface_z,farsurface_z,farsurface_z]],\n",
    "    [[innerrad,innerrad,outerrad,outerrad,innerrad], [farsurface_z,nearsurface_z,nearsurface_z,farsurface_z,farsurface_z]],\n",
    "    [[-innerrad,-innerrad,-outerrad,-outerrad,-innerrad], [-farsurface_z,-nearsurface_z,-nearsurface_z,-farsurface_z,-farsurface_z]],\n",
    "    [[innerrad,innerrad,outerrad,outerrad,innerrad], [-farsurface_z,-nearsurface_z,-nearsurface_z,-farsurface_z,-farsurface_z]]\n",
    "])\n",
    "\n",
    "make_flux_stream(coil1, x_bounds, z_bounds, cross_section_coil1)"
   ]
  },
  {
   "cell_type": "code",
   "execution_count": null,
   "id": "9180c025",
   "metadata": {},
   "outputs": [],
   "source": []
  }
 ],
 "metadata": {
  "kernelspec": {
   "display_name": "Python 3 (ipykernel)",
   "language": "python",
   "name": "python3"
  },
  "language_info": {
   "codemirror_mode": {
    "name": "ipython",
    "version": 3
   },
   "file_extension": ".py",
   "mimetype": "text/x-python",
   "name": "python",
   "nbconvert_exporter": "python",
   "pygments_lexer": "ipython3",
   "version": "3.11.3"
  }
 },
 "nbformat": 4,
 "nbformat_minor": 5
}
