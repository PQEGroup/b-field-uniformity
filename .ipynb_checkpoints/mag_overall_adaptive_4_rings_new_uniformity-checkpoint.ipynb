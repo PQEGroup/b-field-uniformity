{
 "cells": [
  {
   "cell_type": "code",
   "execution_count": 32,
   "id": "e0c05e76",
   "metadata": {},
   "outputs": [],
   "source": [
    "import numpy as np\n",
    "import magpylib as magpy\n",
    "from maggeometry import n_rings, four_rings\n",
    "from maghelper import get_field_on_axes, get_nonuniformity, make_flux_stream, centered_sweep_range, get_grid_nonuniformity, make_xy_grid"
   ]
  },
  {
   "cell_type": "markdown",
   "id": "f58cfa79",
   "metadata": {},
   "source": [
    "### Nelder Mead Adaptive Optimization of 4 rings with target threshold strength\n",
    "All variables can be optimized independently for each ring set\n",
    "\n",
    "1. Run 50 shots using Nelder-Mead with nonuniformity cost function\n",
    "2. Optimize for field strength using new cost function"
   ]
  },
  {
   "cell_type": "code",
   "execution_count": 33,
   "id": "5620d47f",
   "metadata": {},
   "outputs": [],
   "source": [
    "Br = 1.09e3\n",
    "mag_dir = (0,0,1)\n",
    "mirror1_z = True\n",
    "ringset_1_config = [Br, mag_dir, mirror1_z]\n",
    "\n",
    "r = 1.09e3\n",
    "mag_dir = (0,0,1)\n",
    "mirror2_z = True\n",
    "ringset_2_config = [Br, mag_dir, mirror2_z]\n",
    "# innerrad, width, thickness, dist\n",
    "bounds = ((1, 150), (2, 20), (2, 20), (1, 300),\n",
    "          (1, 150), (2, 20), (2, 20), (1, 300))"
   ]
  },
  {
   "cell_type": "markdown",
   "id": "567571b0",
   "metadata": {},
   "source": [
    "### Definition of 4 ring objective function"
   ]
  },
  {
   "cell_type": "code",
   "execution_count": 43,
   "id": "f1a5d356",
   "metadata": {},
   "outputs": [],
   "source": [
    "def get_grid_mag_and_target_nonuniformity(magnets, grid, grid_res, target=10, use_z=False):\n",
    "    mT_to_G = 10\n",
    "    B = magnets.getB(grid)\n",
    "    G = B * mT_to_G\n",
    "    # find magnitude of the b-field at all points over grid\n",
    "    Gmag = 0\n",
    "    if use_z:\n",
    "        Gmag = G[:,:,2]\n",
    "    else:\n",
    "        Gmag = np.linalg.norm(G, axis=2)\n",
    "#     Gmag = np.sqrt(G[:,:,0]**2 + G[:,:,1]**2 + G[:,:,2]**2)\n",
    "#     Gmag = G[:,:,2]\n",
    "    # find magnitude of b-field at center of grid\n",
    "    mid_id = int(grid_res/2)\n",
    "    Gcenter = Gmag[mid_id][mid_id]\n",
    "    # calculate nonuniformity with respect to center b-field\n",
    "    Gnon = np.abs((Gmag - Gcenter)/Gcenter)\n",
    "    Gtarget_non = np.abs((Gmag - target)/target)\n",
    "#     Gtarget_non = np.abs((Gmag - target)/target)\n",
    "#     max_nonuniformity = np.max(Gnon)\n",
    "    av_nonuniformity = np.sum(Gnon) / grid_res**2\n",
    "    av_target_nonuniformity = np.sum(Gtarget_non) / grid_res**2\n",
    "#     return Gmag, Gnon, Gcenter, av_nonuniformity, av_target_nonuniformity, max_nonuniformity\n",
    "    return Gcenter, av_nonuniformity, av_target_nonuniformity"
   ]
  },
  {
   "cell_type": "code",
   "execution_count": 35,
   "id": "2eaefb29",
   "metadata": {},
   "outputs": [],
   "source": [
    "grid_res = 101\n",
    "grid = make_xy_grid([-10, 10], [-10, 10], grid_res)\n",
    "threshold = 0.3 # in G\n",
    "target = 10\n",
    "def obj1_nonuniformity(x):\n",
    "    obj_ring_config=[[*ringset_1_config, *x[0:4]], [*ringset_2_config, *x[4:8]]]\n",
    "    magnets = n_rings(obj_ring_config)\n",
    "#     grid_field, nonun, center_field, av_nonuniformity, av_target_nonuniformity, max_abs_nonuniformity = get_grid_mag_and_target_nonuniformity(magnets, grid, grid_res)\n",
    "    center_field, av_nonuniformity, av_target_nonuniformity = get_grid_mag_and_target_nonuniformity(magnets, grid, grid_res, target)\n",
    "    if (abs(center_field - target) > threshold):\n",
    "        return av_target_nonuniformity\n",
    "    return av_nonuniformity"
   ]
  },
  {
   "cell_type": "code",
   "execution_count": 36,
   "id": "f0e393d5",
   "metadata": {
    "scrolled": true
   },
   "outputs": [
    {
     "name": "stdout",
     "output_type": "stream",
     "text": [
      "                                                                                \r"
     ]
    },
    {
     "name": "stderr",
     "output_type": "stream",
     "text": [
      "on 0: /var/folders/06/7pjfbw510cz2ch1m7lx8vvl80000gn/T/ipykernel_4086/2276614769.py:21: RuntimeWarning: Maximum number of iterations has been exceeded.\n",
      "        res = minimize(obj1_nonuniformity, x0, method=method, options=options, bounds=bounds)\n"
     ]
    },
    {
     "name": "stdout",
     "output_type": "stream",
     "text": [
      "|████████████████████████⚠︎               | (!) 6/10 [60%] in 1:12:04.8 (0.00/s) \n"
     ]
    },
    {
     "ename": "KeyboardInterrupt",
     "evalue": "",
     "output_type": "error",
     "traceback": [
      "\u001b[0;31m---------------------------------------------------------------------------\u001b[0m",
      "\u001b[0;31mKeyboardInterrupt\u001b[0m                         Traceback (most recent call last)",
      "Cell \u001b[0;32mIn[36], line 21\u001b[0m\n\u001b[1;32m     19\u001b[0m \u001b[38;5;28;01mif\u001b[39;00m (x0[\u001b[38;5;241m7\u001b[39m] \u001b[38;5;241m<\u001b[39m x0[\u001b[38;5;241m3\u001b[39m]):\n\u001b[1;32m     20\u001b[0m     x0[\u001b[38;5;241m3\u001b[39m], x0[\u001b[38;5;241m7\u001b[39m] \u001b[38;5;241m=\u001b[39m x0[\u001b[38;5;241m7\u001b[39m], x0[\u001b[38;5;241m3\u001b[39m]\n\u001b[0;32m---> 21\u001b[0m res \u001b[38;5;241m=\u001b[39m \u001b[43mminimize\u001b[49m\u001b[43m(\u001b[49m\u001b[43mobj1_nonuniformity\u001b[49m\u001b[43m,\u001b[49m\u001b[43m \u001b[49m\u001b[43mx0\u001b[49m\u001b[43m,\u001b[49m\u001b[43m \u001b[49m\u001b[43mmethod\u001b[49m\u001b[38;5;241;43m=\u001b[39;49m\u001b[43mmethod\u001b[49m\u001b[43m,\u001b[49m\u001b[43m \u001b[49m\u001b[43moptions\u001b[49m\u001b[38;5;241;43m=\u001b[39;49m\u001b[43moptions\u001b[49m\u001b[43m,\u001b[49m\u001b[43m \u001b[49m\u001b[43mbounds\u001b[49m\u001b[38;5;241;43m=\u001b[39;49m\u001b[43mbounds\u001b[49m\u001b[43m)\u001b[49m\n\u001b[1;32m     22\u001b[0m guesses_x0\u001b[38;5;241m.\u001b[39mappend(x0)\n\u001b[1;32m     23\u001b[0m results_x\u001b[38;5;241m.\u001b[39mappend(res\u001b[38;5;241m.\u001b[39mx)\n",
      "File \u001b[0;32m/opt/homebrew/anaconda3/envs/pqe/lib/python3.11/site-packages/scipy/optimize/_minimize.py:684\u001b[0m, in \u001b[0;36mminimize\u001b[0;34m(fun, x0, args, method, jac, hess, hessp, bounds, constraints, tol, callback, options)\u001b[0m\n\u001b[1;32m    681\u001b[0m     bounds \u001b[38;5;241m=\u001b[39m standardize_bounds(bounds, x0, meth)\n\u001b[1;32m    683\u001b[0m \u001b[38;5;28;01mif\u001b[39;00m meth \u001b[38;5;241m==\u001b[39m \u001b[38;5;124m'\u001b[39m\u001b[38;5;124mnelder-mead\u001b[39m\u001b[38;5;124m'\u001b[39m:\n\u001b[0;32m--> 684\u001b[0m     res \u001b[38;5;241m=\u001b[39m \u001b[43m_minimize_neldermead\u001b[49m\u001b[43m(\u001b[49m\u001b[43mfun\u001b[49m\u001b[43m,\u001b[49m\u001b[43m \u001b[49m\u001b[43mx0\u001b[49m\u001b[43m,\u001b[49m\u001b[43m \u001b[49m\u001b[43margs\u001b[49m\u001b[43m,\u001b[49m\u001b[43m \u001b[49m\u001b[43mcallback\u001b[49m\u001b[43m,\u001b[49m\u001b[43m \u001b[49m\u001b[43mbounds\u001b[49m\u001b[38;5;241;43m=\u001b[39;49m\u001b[43mbounds\u001b[49m\u001b[43m,\u001b[49m\n\u001b[1;32m    685\u001b[0m \u001b[43m                               \u001b[49m\u001b[38;5;241;43m*\u001b[39;49m\u001b[38;5;241;43m*\u001b[39;49m\u001b[43moptions\u001b[49m\u001b[43m)\u001b[49m\n\u001b[1;32m    686\u001b[0m \u001b[38;5;28;01melif\u001b[39;00m meth \u001b[38;5;241m==\u001b[39m \u001b[38;5;124m'\u001b[39m\u001b[38;5;124mpowell\u001b[39m\u001b[38;5;124m'\u001b[39m:\n\u001b[1;32m    687\u001b[0m     res \u001b[38;5;241m=\u001b[39m _minimize_powell(fun, x0, args, callback, bounds, \u001b[38;5;241m*\u001b[39m\u001b[38;5;241m*\u001b[39moptions)\n",
      "File \u001b[0;32m/opt/homebrew/anaconda3/envs/pqe/lib/python3.11/site-packages/scipy/optimize/_optimize.py:870\u001b[0m, in \u001b[0;36m_minimize_neldermead\u001b[0;34m(func, x0, args, callback, maxiter, maxfev, disp, return_all, initial_simplex, xatol, fatol, adaptive, bounds, **unknown_options)\u001b[0m\n\u001b[1;32m    868\u001b[0m \u001b[38;5;28;01mif\u001b[39;00m bounds \u001b[38;5;129;01mis\u001b[39;00m \u001b[38;5;129;01mnot\u001b[39;00m \u001b[38;5;28;01mNone\u001b[39;00m:\n\u001b[1;32m    869\u001b[0m     xr \u001b[38;5;241m=\u001b[39m np\u001b[38;5;241m.\u001b[39mclip(xr, lower_bound, upper_bound)\n\u001b[0;32m--> 870\u001b[0m fxr \u001b[38;5;241m=\u001b[39m \u001b[43mfunc\u001b[49m\u001b[43m(\u001b[49m\u001b[43mxr\u001b[49m\u001b[43m)\u001b[49m\n\u001b[1;32m    871\u001b[0m doshrink \u001b[38;5;241m=\u001b[39m \u001b[38;5;241m0\u001b[39m\n\u001b[1;32m    873\u001b[0m \u001b[38;5;28;01mif\u001b[39;00m fxr \u001b[38;5;241m<\u001b[39m fsim[\u001b[38;5;241m0\u001b[39m]:\n",
      "File \u001b[0;32m/opt/homebrew/anaconda3/envs/pqe/lib/python3.11/site-packages/scipy/optimize/_optimize.py:569\u001b[0m, in \u001b[0;36m_wrap_scalar_function_maxfun_validation.<locals>.function_wrapper\u001b[0;34m(x, *wrapper_args)\u001b[0m\n\u001b[1;32m    567\u001b[0m ncalls[\u001b[38;5;241m0\u001b[39m] \u001b[38;5;241m+\u001b[39m\u001b[38;5;241m=\u001b[39m \u001b[38;5;241m1\u001b[39m\n\u001b[1;32m    568\u001b[0m \u001b[38;5;66;03m# A copy of x is sent to the user function (gh13740)\u001b[39;00m\n\u001b[0;32m--> 569\u001b[0m fx \u001b[38;5;241m=\u001b[39m \u001b[43mfunction\u001b[49m\u001b[43m(\u001b[49m\u001b[43mnp\u001b[49m\u001b[38;5;241;43m.\u001b[39;49m\u001b[43mcopy\u001b[49m\u001b[43m(\u001b[49m\u001b[43mx\u001b[49m\u001b[43m)\u001b[49m\u001b[43m,\u001b[49m\u001b[43m \u001b[49m\u001b[38;5;241;43m*\u001b[39;49m\u001b[43m(\u001b[49m\u001b[43mwrapper_args\u001b[49m\u001b[43m \u001b[49m\u001b[38;5;241;43m+\u001b[39;49m\u001b[43m \u001b[49m\u001b[43margs\u001b[49m\u001b[43m)\u001b[49m\u001b[43m)\u001b[49m\n\u001b[1;32m    570\u001b[0m \u001b[38;5;66;03m# Ideally, we'd like to a have a true scalar returned from f(x). For\u001b[39;00m\n\u001b[1;32m    571\u001b[0m \u001b[38;5;66;03m# backwards-compatibility, also allow np.array([1.3]),\u001b[39;00m\n\u001b[1;32m    572\u001b[0m \u001b[38;5;66;03m# np.array([[1.3]]) etc.\u001b[39;00m\n\u001b[1;32m    573\u001b[0m \u001b[38;5;28;01mif\u001b[39;00m \u001b[38;5;129;01mnot\u001b[39;00m np\u001b[38;5;241m.\u001b[39misscalar(fx):\n",
      "Cell \u001b[0;32mIn[35], line 9\u001b[0m, in \u001b[0;36mobj1_nonuniformity\u001b[0;34m(x)\u001b[0m\n\u001b[1;32m      7\u001b[0m     magnets \u001b[38;5;241m=\u001b[39m n_rings(obj_ring_config)\n\u001b[1;32m      8\u001b[0m \u001b[38;5;66;03m#     grid_field, nonun, center_field, av_nonuniformity, av_target_nonuniformity, max_abs_nonuniformity = get_grid_mag_and_target_nonuniformity(magnets, grid, grid_res)\u001b[39;00m\n\u001b[0;32m----> 9\u001b[0m     center_field, av_nonuniformity, av_target_nonuniformity \u001b[38;5;241m=\u001b[39m \u001b[43mget_grid_mag_and_target_nonuniformity\u001b[49m\u001b[43m(\u001b[49m\u001b[43mmagnets\u001b[49m\u001b[43m,\u001b[49m\u001b[43m \u001b[49m\u001b[43mgrid\u001b[49m\u001b[43m,\u001b[49m\u001b[43m \u001b[49m\u001b[43mgrid_res\u001b[49m\u001b[43m,\u001b[49m\u001b[43m \u001b[49m\u001b[43mtarget\u001b[49m\u001b[43m)\u001b[49m\n\u001b[1;32m     10\u001b[0m     \u001b[38;5;28;01mif\u001b[39;00m (\u001b[38;5;28mabs\u001b[39m(center_field \u001b[38;5;241m-\u001b[39m target) \u001b[38;5;241m>\u001b[39m threshold):\n\u001b[1;32m     11\u001b[0m         \u001b[38;5;28;01mreturn\u001b[39;00m av_target_nonuniformity\n",
      "Cell \u001b[0;32mIn[34], line 3\u001b[0m, in \u001b[0;36mget_grid_mag_and_target_nonuniformity\u001b[0;34m(magnets, grid, grid_res, target, use_z)\u001b[0m\n\u001b[1;32m      1\u001b[0m \u001b[38;5;28;01mdef\u001b[39;00m \u001b[38;5;21mget_grid_mag_and_target_nonuniformity\u001b[39m(magnets, grid, grid_res, target\u001b[38;5;241m=\u001b[39m\u001b[38;5;241m10\u001b[39m, use_z\u001b[38;5;241m=\u001b[39m\u001b[38;5;28;01mFalse\u001b[39;00m):\n\u001b[1;32m      2\u001b[0m     mT_to_G \u001b[38;5;241m=\u001b[39m \u001b[38;5;241m10\u001b[39m\n\u001b[0;32m----> 3\u001b[0m     B \u001b[38;5;241m=\u001b[39m \u001b[43mmagnets\u001b[49m\u001b[38;5;241;43m.\u001b[39;49m\u001b[43mgetB\u001b[49m\u001b[43m(\u001b[49m\u001b[43mgrid\u001b[49m\u001b[43m)\u001b[49m\n\u001b[1;32m      4\u001b[0m     G \u001b[38;5;241m=\u001b[39m B \u001b[38;5;241m*\u001b[39m mT_to_G\n\u001b[1;32m      5\u001b[0m     \u001b[38;5;66;03m# find magnitude of the b-field at all points over grid\u001b[39;00m\n",
      "File \u001b[0;32m/opt/homebrew/anaconda3/envs/pqe/lib/python3.11/site-packages/magpylib/_src/obj_classes/class_Collection.py:580\u001b[0m, in \u001b[0;36mBaseCollection.getB\u001b[0;34m(self, squeeze, pixel_agg, output, *inputs)\u001b[0m\n\u001b[1;32m    520\u001b[0m \u001b[38;5;250m\u001b[39m\u001b[38;5;124;03m\"\"\"Compute B-field in [mT] for given sources and observers.\u001b[39;00m\n\u001b[1;32m    521\u001b[0m \n\u001b[1;32m    522\u001b[0m \u001b[38;5;124;03mParameters\u001b[39;00m\n\u001b[0;32m   (...)\u001b[0m\n\u001b[1;32m    575\u001b[0m \u001b[38;5;124;03m  [ 0.          0.         83.33333333]]]\u001b[39;00m\n\u001b[1;32m    576\u001b[0m \u001b[38;5;124;03m\"\"\"\u001b[39;00m\n\u001b[1;32m    578\u001b[0m sources, sensors \u001b[38;5;241m=\u001b[39m \u001b[38;5;28mself\u001b[39m\u001b[38;5;241m.\u001b[39m_validate_getBH_inputs(\u001b[38;5;241m*\u001b[39minputs)\n\u001b[0;32m--> 580\u001b[0m \u001b[38;5;28;01mreturn\u001b[39;00m \u001b[43mgetBH_level2\u001b[49m\u001b[43m(\u001b[49m\n\u001b[1;32m    581\u001b[0m \u001b[43m    \u001b[49m\u001b[43msources\u001b[49m\u001b[43m,\u001b[49m\n\u001b[1;32m    582\u001b[0m \u001b[43m    \u001b[49m\u001b[43msensors\u001b[49m\u001b[43m,\u001b[49m\n\u001b[1;32m    583\u001b[0m \u001b[43m    \u001b[49m\u001b[43msumup\u001b[49m\u001b[38;5;241;43m=\u001b[39;49m\u001b[38;5;28;43;01mFalse\u001b[39;49;00m\u001b[43m,\u001b[49m\n\u001b[1;32m    584\u001b[0m \u001b[43m    \u001b[49m\u001b[43msqueeze\u001b[49m\u001b[38;5;241;43m=\u001b[39;49m\u001b[43msqueeze\u001b[49m\u001b[43m,\u001b[49m\n\u001b[1;32m    585\u001b[0m \u001b[43m    \u001b[49m\u001b[43mpixel_agg\u001b[49m\u001b[38;5;241;43m=\u001b[39;49m\u001b[43mpixel_agg\u001b[49m\u001b[43m,\u001b[49m\n\u001b[1;32m    586\u001b[0m \u001b[43m    \u001b[49m\u001b[43moutput\u001b[49m\u001b[38;5;241;43m=\u001b[39;49m\u001b[43moutput\u001b[49m\u001b[43m,\u001b[49m\n\u001b[1;32m    587\u001b[0m \u001b[43m    \u001b[49m\u001b[43mfield\u001b[49m\u001b[38;5;241;43m=\u001b[39;49m\u001b[38;5;124;43m\"\u001b[39;49m\u001b[38;5;124;43mB\u001b[39;49m\u001b[38;5;124;43m\"\u001b[39;49m\u001b[43m,\u001b[49m\n\u001b[1;32m    588\u001b[0m \u001b[43m\u001b[49m\u001b[43m)\u001b[49m\n",
      "File \u001b[0;32m/opt/homebrew/anaconda3/envs/pqe/lib/python3.11/site-packages/magpylib/_src/fields/field_wrap_BH.py:311\u001b[0m, in \u001b[0;36mgetBH_level2\u001b[0;34m(sources, observers, field, sumup, squeeze, pixel_agg, output, **kwargs)\u001b[0m\n\u001b[1;32m    309\u001b[0m gr \u001b[38;5;241m=\u001b[39m group[\u001b[38;5;124m\"\u001b[39m\u001b[38;5;124msources\u001b[39m\u001b[38;5;124m\"\u001b[39m]\n\u001b[1;32m    310\u001b[0m src_dict \u001b[38;5;241m=\u001b[39m get_src_dict(gr, n_pix, n_pp, poso)  \u001b[38;5;66;03m# compute array dict for level1\u001b[39;00m\n\u001b[0;32m--> 311\u001b[0m B_group \u001b[38;5;241m=\u001b[39m \u001b[43mgetBH_level1\u001b[49m\u001b[43m(\u001b[49m\n\u001b[1;32m    312\u001b[0m \u001b[43m    \u001b[49m\u001b[43mfield_func\u001b[49m\u001b[38;5;241;43m=\u001b[39;49m\u001b[43mfield_func\u001b[49m\u001b[43m,\u001b[49m\u001b[43m \u001b[49m\u001b[43mfield\u001b[49m\u001b[38;5;241;43m=\u001b[39;49m\u001b[43mfield\u001b[49m\u001b[43m,\u001b[49m\u001b[43m \u001b[49m\u001b[38;5;241;43m*\u001b[39;49m\u001b[38;5;241;43m*\u001b[39;49m\u001b[43msrc_dict\u001b[49m\n\u001b[1;32m    313\u001b[0m \u001b[43m\u001b[49m\u001b[43m)\u001b[49m  \u001b[38;5;66;03m# compute field\u001b[39;00m\n\u001b[1;32m    314\u001b[0m B_group \u001b[38;5;241m=\u001b[39m B_group\u001b[38;5;241m.\u001b[39mreshape(\n\u001b[1;32m    315\u001b[0m     (lg, max_path_len, n_pix, \u001b[38;5;241m3\u001b[39m)\n\u001b[1;32m    316\u001b[0m )  \u001b[38;5;66;03m# reshape (2% slower for large arrays)\u001b[39;00m\n\u001b[1;32m    317\u001b[0m \u001b[38;5;28;01mfor\u001b[39;00m gr_ind \u001b[38;5;129;01min\u001b[39;00m \u001b[38;5;28mrange\u001b[39m(lg):  \u001b[38;5;66;03m# put into dedicated positions in B\u001b[39;00m\n",
      "File \u001b[0;32m/opt/homebrew/anaconda3/envs/pqe/lib/python3.11/site-packages/magpylib/_src/fields/field_wrap_BH.py:137\u001b[0m, in \u001b[0;36mgetBH_level1\u001b[0;34m(field_func, field, position, orientation, observers, **kwargs)\u001b[0m\n\u001b[1;32m    121\u001b[0m \u001b[38;5;250m\u001b[39m\u001b[38;5;124;03m\"\"\"Vectorized field computation\u001b[39;00m\n\u001b[1;32m    122\u001b[0m \n\u001b[1;32m    123\u001b[0m \u001b[38;5;124;03m- applies spatial transformations global CS <-> source CS\u001b[39;00m\n\u001b[0;32m   (...)\u001b[0m\n\u001b[1;32m    133\u001b[0m \n\u001b[1;32m    134\u001b[0m \u001b[38;5;124;03m\"\"\"\u001b[39;00m\n\u001b[1;32m    136\u001b[0m \u001b[38;5;66;03m# transform obs_pos into source CS\u001b[39;00m\n\u001b[0;32m--> 137\u001b[0m pos_rel_rot \u001b[38;5;241m=\u001b[39m \u001b[43morientation\u001b[49m\u001b[38;5;241;43m.\u001b[39;49m\u001b[43mapply\u001b[49m\u001b[43m(\u001b[49m\u001b[43mobservers\u001b[49m\u001b[43m \u001b[49m\u001b[38;5;241;43m-\u001b[39;49m\u001b[43m \u001b[49m\u001b[43mposition\u001b[49m\u001b[43m,\u001b[49m\u001b[43m \u001b[49m\u001b[43minverse\u001b[49m\u001b[38;5;241;43m=\u001b[39;49m\u001b[38;5;28;43;01mTrue\u001b[39;49;00m\u001b[43m)\u001b[49m\n\u001b[1;32m    139\u001b[0m \u001b[38;5;66;03m# compute field\u001b[39;00m\n\u001b[1;32m    140\u001b[0m BH \u001b[38;5;241m=\u001b[39m field_func(field\u001b[38;5;241m=\u001b[39mfield, observers\u001b[38;5;241m=\u001b[39mpos_rel_rot, \u001b[38;5;241m*\u001b[39m\u001b[38;5;241m*\u001b[39mkwargs)\n",
      "File \u001b[0;32m_rotation.pyx:1777\u001b[0m, in \u001b[0;36mscipy.spatial.transform._rotation.Rotation.apply\u001b[0;34m()\u001b[0m\n",
      "File \u001b[0;32m<__array_function__ internals>:177\u001b[0m, in \u001b[0;36meinsum\u001b[0;34m(*args, **kwargs)\u001b[0m\n",
      "\u001b[0;31mKeyboardInterrupt\u001b[0m: "
     ]
    }
   ],
   "source": [
    "import numpy as np\n",
    "from scipy.optimize import minimize, Bounds\n",
    "from maggeometry import n_rings\n",
    "from maghelper import get_field_on_axes, get_nonuniformity, make_flux_stream, centered_sweep_range, get_grid_nonuniformity, make_grid\n",
    "from alive_progress import alive_bar\n",
    "\n",
    "options = {'disp': True, 'fatol': 1e-15, 'maxiter': 5e3, 'adaptive': True}\n",
    "method = \"Nelder-Mead\"\n",
    "\n",
    "shots = 10\n",
    "results_x = []\n",
    "results_fun = []\n",
    "guesses_x0 = []\n",
    "with alive_bar(shots, force_tty=True) as bar:\n",
    "    for i in range(shots):\n",
    "        x0 = np.zeros(len(bounds))\n",
    "        for b in range(len(bounds)):\n",
    "            x0[b] = np.random.uniform(low=bounds[b][0], high=bounds[b][1])\n",
    "        if (x0[7] < x0[3]):\n",
    "            x0[3], x0[7] = x0[7], x0[3]\n",
    "        res = minimize(obj1_nonuniformity, x0, method=method, options=options, bounds=bounds)\n",
    "        guesses_x0.append(x0)\n",
    "        results_x.append(res.x)\n",
    "        results_fun.append(res.fun)\n",
    "        bar()\n",
    "\n",
    "print(\"Objective function values:\")\n",
    "print(results_fun)\n",
    "print(\"Result parameters:\")\n",
    "print(results_x)\n",
    "print(\"Starting guesses:\")\n",
    "print(guesses_x0)"
   ]
  },
  {
   "cell_type": "code",
   "execution_count": 37,
   "id": "f408baf3",
   "metadata": {},
   "outputs": [
    {
     "name": "stdout",
     "output_type": "stream",
     "text": [
      "[9.801437289459521, 10.049042537176332, 9.700000000008453, 10.217846591751051, 10.2999290665539, 9.699999999997644]\n",
      "[8.011181807396748e-07, 1.8136399115896354e-08, 2.828278568209459e-06, 9.007206771079244e-08, 7.648203910330254e-07, 0.022460447008104508]\n"
     ]
    }
   ],
   "source": [
    "from maggeometry import n_rings\n",
    "from maghelper import get_field_on_axes, get_nonuniformity, make_flux_stream, centered_sweep_range, get_grid_nonuniformity, make_xy_grid\n",
    "grid_res = 101\n",
    "grid = make_xy_grid([-10, 10], [-10, 10], grid_res)\n",
    "results_g_center = []\n",
    "results_nonun = []\n",
    "for x in results_x:\n",
    "    obj_ring_config=[[*ringset_1_config, *x[0:4]], [*ringset_2_config, *x[4:8]]]\n",
    "    magnets = n_rings(obj_ring_config)\n",
    "    grid_field, center_field, av_nonuniformity, max_abs_nonuniformity = get_grid_nonuniformity(magnets, grid, grid_res)\n",
    "    results_g_center.append(center_field)\n",
    "    results_nonun.append(av_nonuniformity)\n",
    "print(results_g_center)\n",
    "print(results_nonun)"
   ]
  },
  {
   "cell_type": "code",
   "execution_count": 39,
   "id": "67b5f3ac",
   "metadata": {},
   "outputs": [
    {
     "name": "stdout",
     "output_type": "stream",
     "text": [
      "[array([  1.        ,  10.63842081,   2.8805474 , 298.17282335,\n",
      "       149.99998535,  19.9999029 ,   6.93824033, 267.77652685]), array([  5.73164595,   5.62026   ,   5.05463989, 139.68816742,\n",
      "       108.97840818,  12.5652557 ,   4.00875408, 156.90266153]), array([132.92764321,   6.99436756,   9.81807341, 211.91491421,\n",
      "        79.70128785,   6.27415518,   2.        , 163.49547043]), array([ 81.21255017,   3.6311245 ,   2.01024462,  82.51733122,\n",
      "        24.36023738,  17.72922425,   3.29396112, 165.68939446]), array([149.99779049,   5.89086199,  19.72981882, 238.72311434,\n",
      "        12.12236695,   6.46114383,   2.56648286, 196.05613927]), array([116.82866972,  14.27603707,   6.92195679,  94.63643825,\n",
      "        46.67867884,   2.07843725,  20.        , 181.23345685])]\n",
      "[array([ 39.65682517,  11.73149763,   9.39112774, 163.9224476 ,\n",
      "       126.68089923,   5.28697528,   9.45348594, 299.48835653]), array([ 12.00485927,  13.03129743,  12.27739519,  69.76229575,\n",
      "        58.72515302,  12.17031232,   4.29980068, 107.9997322 ]), array([ 45.67366175,  18.17768059,   8.96554763,  82.24910962,\n",
      "       124.61559239,  11.46282986,   3.03048876, 210.49941788]), array([ 68.10733247,   3.60694654,   2.95650075,  77.58475805,\n",
      "        23.75854055,  17.03096983,   3.52112674, 199.54364483]), array([111.55744918,   3.16815695,  18.32476079, 177.32771632,\n",
      "        46.92356202,   2.10915987,   5.02919287, 200.61605763]), array([ 85.95599966,  17.07547732,  14.55892142,  69.96250453,\n",
      "        84.44018751,   2.08178373,  17.62865556, 182.38311479])]\n"
     ]
    }
   ],
   "source": [
    "print(results_x)\n",
    "print(guesses_x0)"
   ]
  },
  {
   "cell_type": "code",
   "execution_count": 12,
   "id": "346ab016",
   "metadata": {},
   "outputs": [
    {
     "name": "stdout",
     "output_type": "stream",
     "text": [
      "Number of unique results: 50\n",
      "    nonuniformity  center_field_gauss  r_1_innerrad  r_1_width  r_1_thickness  \\\n",
      "0    1.134055e-09           42.751981     46.599539  16.297544       7.039698   \n",
      "1    1.717574e-09           27.431667     93.603736  11.867787      18.112806   \n",
      "2    2.908894e-09            3.543188     23.729052   4.664503      19.906640   \n",
      "3    2.958583e-09            6.155185     36.898796  11.100835       2.165177   \n",
      "4    3.055586e-09            8.800313    147.290318  10.450160       6.530180   \n",
      "5    3.066152e-09            7.924040     30.122990   2.896567       5.513173   \n",
      "6    3.093035e-09           13.222464    149.665122   3.182106      19.998862   \n",
      "7    4.501418e-09           17.384327    140.164711   4.854240      14.916302   \n",
      "8    6.023945e-09            8.529758    131.227743  10.745510       3.392122   \n",
      "9    6.188918e-09            9.891181      4.415345  14.488275      19.999808   \n",
      "10   1.028934e-08           29.808445    114.000687  14.377360      19.994293   \n",
      "11   1.033308e-08           67.061982    148.480217   9.886266      10.643851   \n",
      "12   1.553043e-08           67.590607    149.933429  18.126328       7.250092   \n",
      "13   1.716812e-08            9.428303    108.713408  11.124118       2.220703   \n",
      "14   2.347766e-08           20.963718    107.586738   7.885320      14.199205   \n",
      "15   2.748250e-08           52.077711    149.884708  13.947149      17.879047   \n",
      "16   2.749923e-08           90.947303    149.354722  19.988489      19.994711   \n",
      "17   4.151048e-08          133.349762     68.372446   5.807249      15.774844   \n",
      "18   9.835793e-08           25.460578     80.041757  11.825831       4.009845   \n",
      "19   1.085190e-07           69.122786     25.004413   7.140093      16.609447   \n",
      "20   1.190381e-07           27.771020     63.960302   7.139861      19.999619   \n",
      "21   2.370047e-07          259.716969     89.810576  17.060878      18.686715   \n",
      "22   2.839301e-07           25.450408    148.594231  19.985444      14.206684   \n",
      "23   4.259212e-07           27.376284     81.654907   2.242249      13.513344   \n",
      "24   5.624432e-07           13.193550     36.444495   2.246324      12.780419   \n",
      "25   6.360274e-07          147.296108    100.510085  18.741986       8.566944   \n",
      "26   8.000254e-07            2.726401    150.000000   2.000000      19.312308   \n",
      "27   8.007786e-07            6.661913    149.999743   2.000613       2.000000   \n",
      "28   8.075814e-07           26.338960    149.999969  14.289336       2.007116   \n",
      "29   8.353183e-07            4.817956    149.276996  11.073100       3.511611   \n",
      "30   8.397696e-07           15.916097     58.178698   4.678436      11.582056   \n",
      "31   8.920182e-07            8.781573    149.981552   4.490963      13.354130   \n",
      "32   8.948066e-07            5.760689    149.996463   4.067736      15.764969   \n",
      "33   9.193545e-07           13.355671      1.000002   5.481156      11.160620   \n",
      "34   9.199580e-07            6.086848    135.019093  20.000000       2.000005   \n",
      "35   9.225536e-07           10.682035    149.948903   8.760084      16.419922   \n",
      "36   9.342325e-07            3.871191    149.999865  10.806117       2.981012   \n",
      "37   9.439586e-07            2.674442    149.981738   3.229540       3.208823   \n",
      "38   9.695124e-07            9.751412    149.941051  19.999934       6.848921   \n",
      "39   9.768840e-07            0.854927    149.986739   4.066470       2.263577   \n",
      "40   9.829060e-07            2.493379    149.999956   4.928325       6.160192   \n",
      "41   1.004149e-06            1.238849    149.999945   2.202489       7.058096   \n",
      "42   1.018867e-06            2.587260     69.557254   6.413665       2.323736   \n",
      "43   8.132231e-06           10.236207    149.999932  19.178851       2.102699   \n",
      "44   9.303300e-06           92.978796    150.000000  20.000000      19.999999   \n",
      "45   9.378298e-06           92.600496      1.000000   2.000000       2.000000   \n",
      "46   9.378308e-06           92.600591      1.001954   2.000758       2.000000   \n",
      "47   9.378363e-06           92.599025      1.000000   2.000126       2.003450   \n",
      "48   9.388677e-06           92.524796      1.000000   2.003788      20.000000   \n",
      "49   9.629446e-06           90.169227    149.999604  20.000000       2.000000   \n",
      "\n",
      "      r_1_dist  r_2_innerrad  r_2_width  r_2_thickness    r_2_dist  \\\n",
      "0   162.253378    149.749929  18.726432      12.990065  167.754663   \n",
      "1   206.760835    143.388198   2.597551       8.389925   99.130109   \n",
      "2   278.693545    149.858484   3.196587       3.993581  162.477135   \n",
      "3   195.255047    142.394394  18.615960       2.000000  179.991918   \n",
      "4   197.240682     28.615616   6.337588       3.737951  184.841142   \n",
      "5   176.289663    148.021696   8.293718       7.838119  201.210704   \n",
      "6   171.145926     38.621321   8.669503      11.449357  226.184832   \n",
      "7   161.317502     19.013675  18.888104      10.394745  228.674377   \n",
      "8   158.639908     14.995900  10.362088       9.197301  212.418179   \n",
      "9   232.249838    131.441025   7.246611       4.743720  150.658539   \n",
      "10  211.362128    137.548053   2.005937       5.862241   54.850259   \n",
      "11   94.990930     72.492200  19.647845      19.816577  172.367265   \n",
      "12   15.880303    143.092937  19.377926      13.172565   93.589333   \n",
      "13  128.541903      6.761025  14.775891       8.116898  189.355434   \n",
      "14  160.604979      8.858621   3.076210       5.893067  119.771416   \n",
      "15   79.218945    116.597722   4.324245       6.700790   12.153752   \n",
      "16   52.005961     72.542364   2.000029      17.098910   95.364823   \n",
      "17   65.515316     25.705479  11.594762      11.624099   83.708506   \n",
      "18  101.787562     11.930649   8.540883       7.590671  124.208427   \n",
      "19  115.829208     78.310379   8.670873      10.827409   90.646257   \n",
      "20  131.804042    132.662752  11.271037       7.161483   62.941084   \n",
      "21   21.596484     67.230337  10.048716      14.676646   58.973601   \n",
      "22  234.077197      1.022639   8.873479      14.835190  183.284417   \n",
      "23   23.165334     54.480327   4.412618       2.295020   57.211605   \n",
      "24  208.068068    149.917716  20.000000       6.635488  227.929003   \n",
      "25    1.020612     65.982336  14.916049       5.672271   50.974670   \n",
      "26  300.000000    150.000000   2.000184       2.000000  185.578228   \n",
      "27  298.104186    149.997967  19.988831       4.652947  269.303437   \n",
      "28  300.000000    149.999996  18.905168      18.746654  268.336137   \n",
      "29  300.000000    149.959967  15.786961       2.033922  246.346357   \n",
      "30  217.761117    149.999968  13.831120       8.511975  207.536786   \n",
      "31  206.463861     31.904659  11.209787       7.699092  274.558713   \n",
      "32  299.999886    149.814438   5.229386       4.064582  220.915335   \n",
      "33  268.913701    149.997223   8.970117      19.547924  258.259591   \n",
      "34  269.635937    149.999994  19.887672       2.131060  251.478804   \n",
      "35  260.718092     16.496782   2.003459       2.000079  300.000000   \n",
      "36  274.937512    149.999933   3.376238       6.119457  245.345079   \n",
      "37  222.679283    148.907431   2.000000      13.786020  291.631009   \n",
      "38  276.222341    116.521875   2.000165       2.085441  175.823659   \n",
      "39  238.623737      1.000000   7.813452       2.000017  263.366266   \n",
      "40  251.050609      9.951270   2.659448       4.998933  299.755911   \n",
      "41  252.235528      1.074041   3.167571       2.024299  254.816482   \n",
      "42  265.855426    149.995722   7.098909       2.451496  210.741684   \n",
      "43   52.735160    150.000000   4.314264       2.000000  114.331368   \n",
      "44   57.526398    150.000000   2.000000       2.000000  115.493008   \n",
      "45  300.000000    150.000000  19.999987      19.999915   57.757544   \n",
      "46  300.000000    149.999985  19.999944      19.999977   57.757543   \n",
      "47  299.928510    149.999886  19.999704      19.999806   57.757422   \n",
      "48  300.000000    149.999807  19.999585      19.999526   57.764249   \n",
      "49  300.000000    150.000000  19.999999      19.999982   57.791841   \n",
      "\n",
      "    g_1_innerrad  g_1_width  g_1_thickness    g_1_dist  g_2_innerrad  \\\n",
      "0      43.767754  17.597897      13.365209  139.096588    141.357469   \n",
      "1     122.716116  10.176730      16.149845  211.815330    109.471592   \n",
      "2      93.534765   4.234123      19.992528  296.052055     98.519614   \n",
      "3      77.540354  16.476719       4.577977  182.359863     23.237370   \n",
      "4      72.792235   6.229518      13.047684  165.123179     29.335543   \n",
      "5      28.481429   9.228902      12.721196  103.349390     60.578158   \n",
      "6     107.683434  17.008785      10.676421  222.325845     86.618769   \n",
      "7      98.103568  12.677940      13.344800  107.169645     22.917004   \n",
      "8     139.709194  11.374609       3.683059  146.055857     14.501984   \n",
      "9       4.239805  14.909988      18.277327  276.403001    134.919933   \n",
      "10    142.171609  13.117110      17.063572  283.627855     84.723122   \n",
      "11    143.329852  10.595050      10.539715   81.631085    106.492778   \n",
      "12     99.930656  17.248844       5.233405   57.672761     99.102491   \n",
      "13    113.634761   9.922789       2.434691  127.649143      7.051270   \n",
      "14     96.755343   9.415808      16.724784  205.807329     11.689383   \n",
      "15    138.867082  14.668302      15.890781  109.812486    130.276725   \n",
      "16     42.783019   4.020976      16.464330   29.009635     80.347452   \n",
      "17     36.602852  17.176805      16.224679  105.846622     34.642129   \n",
      "18     65.142244  10.987843       4.857035  124.207362     12.831430   \n",
      "19     24.527079   6.010919      17.562833  108.400283    121.188034   \n",
      "20     64.214907   9.042406      15.406829   70.124094    147.462940   \n",
      "21    101.953391  14.885694      17.293980   25.524841     57.849175   \n",
      "22    120.437517  16.219070      10.388578  202.836555      9.823452   \n",
      "23     19.446980   3.399401       5.481258   11.337384     98.739610   \n",
      "24     26.382403  18.934483       4.038269   87.913251    106.885116   \n",
      "25     71.094076  16.810740       7.408295    3.263511     71.345843   \n",
      "26     33.401479  10.203836      18.621138  257.574255     51.070399   \n",
      "27     34.550607   2.332957       8.282353  199.894689     29.226575   \n",
      "28     38.404153  15.561110       8.867305  110.530263     56.586169   \n",
      "29    114.261920  10.665651       9.706789  191.318836    123.307571   \n",
      "30     61.943560   5.406866       9.265732  226.587596    105.456114   \n",
      "31     86.156760  10.557073       3.458899  163.795476     64.351383   \n",
      "32    122.477899  12.213510      12.273258  257.864779    120.196085   \n",
      "33      6.383272   7.715920       5.373011  136.361504     69.503003   \n",
      "34    148.974304  19.838513       5.436137  259.080086     45.394259   \n",
      "35     52.482069   8.351137      12.244124  221.297148     13.243134   \n",
      "36    129.626213  13.303177       6.233667  252.601804    116.567544   \n",
      "37    138.864913  16.982777      11.892674  135.633146    144.486102   \n",
      "38     52.935995  11.752121       9.354147  120.474139     70.525073   \n",
      "39     39.324703  13.486946      16.074012   56.924000     23.069824   \n",
      "40     74.339784   6.066392       6.468108  203.037219     11.711221   \n",
      "41    142.277989   2.649464       7.532613  297.838502      3.503032   \n",
      "42     85.571092  14.239217       5.683845  209.822809     70.873294   \n",
      "43    119.480295  17.470264      14.590554   41.182751     61.926940   \n",
      "44     73.601059  12.351306      16.318957   21.330219     35.244968   \n",
      "45     17.891025  18.077457      12.440658  184.822459    104.360720   \n",
      "46     74.320418   9.968184      12.591253   58.309754     15.938444   \n",
      "47     65.926716  10.704321       9.534766  275.947374    122.310449   \n",
      "48     24.164275  11.382765      19.753240  164.478973     33.349980   \n",
      "49     26.528311  14.441284       6.284647  262.326915     58.809181   \n",
      "\n",
      "    g_2_width  g_2_thickness    g_2_dist  \n",
      "0   13.452645      11.265443  245.438608  \n",
      "1    3.342091      12.267693   79.287931  \n",
      "2    3.457288       8.358249  206.339142  \n",
      "3   14.301204      18.795413   34.622921  \n",
      "4    6.091296       3.622253  253.051143  \n",
      "5    7.361048      12.315805  242.084844  \n",
      "6   15.815363      11.021159  206.924284  \n",
      "7   11.468119      13.809341  251.504716  \n",
      "8    9.461726       8.961716  204.722808  \n",
      "9    7.662375       5.030040  130.957540  \n",
      "10   2.460867       9.083137   43.468895  \n",
      "11  19.212125      19.730985  170.989986  \n",
      "12  15.649145      11.485452   75.436577  \n",
      "13  14.582629       8.856822  155.812003  \n",
      "14   3.279263      10.407206   58.871901  \n",
      "15   4.178755       7.391615   13.670926  \n",
      "16   2.701256      11.130506   91.849219  \n",
      "17  18.404095       8.029934   45.352418  \n",
      "18   8.363064       8.732285  102.072657  \n",
      "19   9.376974      11.286882   77.257379  \n",
      "20  13.687980      14.302566   62.486234  \n",
      "21  11.551785      15.586567   54.122371  \n",
      "22  16.237856      12.153222  236.642456  \n",
      "23  17.743260       8.443861  286.838869  \n",
      "24  19.401430      10.428830  282.504805  \n",
      "25  18.344051       5.721412   45.887534  \n",
      "26   4.916764       8.918419  242.825811  \n",
      "27  19.115903       3.938299   53.324537  \n",
      "28  12.853916       5.822542  204.053411  \n",
      "29   7.812801      17.689360   77.525726  \n",
      "30  16.520435      14.428879  210.281682  \n",
      "31   5.325933      13.224967  242.183788  \n",
      "32   5.927222      14.930944  126.421229  \n",
      "33   9.467032      12.306131  173.096451  \n",
      "34  10.809804       9.289573   43.216040  \n",
      "35  16.704198      14.447346  116.704472  \n",
      "36   3.977246       9.017526  152.798401  \n",
      "37   8.819222       8.694055  192.297861  \n",
      "38  13.035206       6.362496  189.194789  \n",
      "39   6.202209       7.843344  156.172447  \n",
      "40   8.839099       7.745016  269.691468  \n",
      "41   7.727753       3.764642   42.396439  \n",
      "42  14.165349      12.357928  154.600410  \n",
      "43  13.699218      14.872114  288.550982  \n",
      "44   2.219172       7.076181  228.087840  \n",
      "45  10.553712      17.564201   20.809300  \n",
      "46  18.748221      18.109605   11.172582  \n",
      "47   9.941382      18.867440   68.572115  \n",
      "48  15.879562      10.151615   27.734183  \n",
      "49   8.982043       3.793638   30.157470  \n"
     ]
    }
   ],
   "source": [
    "from maghelper import make_opt_res_csv\n",
    "today = datetime.datetime.today().strftime('%Y_%m_%d')\n",
    "b, b_df = make_opt_res_csv(f'results/4 rings/{today}_adaptive_stage1opt_4rings_1090T_', results_fun, results_g_center, results_x, guesses_x0)"
   ]
  },
  {
   "cell_type": "code",
   "execution_count": null,
   "id": "44c4a3c5",
   "metadata": {},
   "outputs": [],
   "source": []
  },
  {
   "cell_type": "code",
   "execution_count": 53,
   "id": "afffd84a",
   "metadata": {},
   "outputs": [
    {
     "name": "stderr",
     "output_type": "stream",
     "text": [
      "2023-07-17 18:03:22,153 - pyswarms.single.global_best - INFO - Optimize for 100 iters with {'c1': 0.4, 'c2': 0.3, 'w': 0.9}\n",
      "pyswarms.single.global_best:   0%|                                        |0/100"
     ]
    },
    {
     "name": "stdout",
     "output_type": "stream",
     "text": [
      "[[ 89.58409175 128.50447001   6.23234038 101.60488088  65.97623849]\n",
      " [ 57.62140932  80.6249772    2.68052926  92.45289203 233.91572498]\n",
      " [100.70059523  49.86143694   8.59205338 233.38917391 187.09291999]\n",
      " [ 74.80940247  92.718617     3.18118365  56.73116879 164.77092533]\n",
      " [ 74.04733318 109.67889685   8.43269815 147.88231651  48.23283211]\n",
      " [ 69.31539551  72.25999099   9.85278255 198.63127248  65.92568744]\n",
      " [ 48.54375164 138.0127546    4.46845812 145.9296483   16.79266906]\n",
      " [ 60.26913878  51.00879704   9.34736891 207.51284717 258.60465795]\n",
      " [ 36.14064436  14.42273589   3.01485522 203.21191088 172.25536377]\n",
      " [ 82.07497044  30.61238978   7.09322778 178.57483866 102.64227977]\n",
      " [143.65494109 106.69322944   2.90097     72.58686723  33.6882424 ]\n",
      " [114.38672373  21.60140546   5.43572102 154.55899304 240.37606992]\n",
      " [139.06578709 104.94462451   4.03785266  33.33203018 173.63844395]\n",
      " [ 28.17158861 118.43198219   5.41276495 122.39742191 105.11212632]\n",
      " [ 53.04117993  46.91823298   3.08985154  27.17961244  85.19062438]\n",
      " [119.83647385  79.59508694   2.35182303 161.40909178 164.99843181]\n",
      " [114.25469385  10.73644893   4.07707375 181.24325281 137.7235577 ]\n",
      " [136.54083523 117.47374952   3.90654347  71.53835618  34.6233915 ]\n",
      " [ 77.96617741  52.90921928   4.59150253   1.78301982 118.86997875]\n",
      " [139.80544318  73.71613864   6.47156382 246.19573122  31.23058227]]\n"
     ]
    },
    {
     "name": "stderr",
     "output_type": "stream",
     "text": [
      "\n"
     ]
    },
    {
     "ename": "ValueError",
     "evalue": "too many values to unpack (expected 5)",
     "output_type": "error",
     "traceback": [
      "\u001b[0;31m---------------------------------------------------------------------------\u001b[0m",
      "\u001b[0;31mValueError\u001b[0m                                Traceback (most recent call last)",
      "Cell \u001b[0;32mIn[53], line 40\u001b[0m\n\u001b[1;32m     37\u001b[0m optimizer \u001b[38;5;241m=\u001b[39m ps\u001b[38;5;241m.\u001b[39msingle\u001b[38;5;241m.\u001b[39mGlobalBestPSO(n_particles\u001b[38;5;241m=\u001b[39m\u001b[38;5;241m20\u001b[39m, dimensions\u001b[38;5;241m=\u001b[39m\u001b[38;5;241m5\u001b[39m, options\u001b[38;5;241m=\u001b[39moptions, oh_strategy\u001b[38;5;241m=\u001b[39moh_strategy, bounds\u001b[38;5;241m=\u001b[39mbounds)\n\u001b[1;32m     39\u001b[0m \u001b[38;5;66;03m# Perform optimization\u001b[39;00m\n\u001b[0;32m---> 40\u001b[0m cost, pos \u001b[38;5;241m=\u001b[39m \u001b[43moptimizer\u001b[49m\u001b[38;5;241;43m.\u001b[39;49m\u001b[43moptimize\u001b[49m\u001b[43m(\u001b[49m\u001b[43mnonuniformity\u001b[49m\u001b[43m,\u001b[49m\u001b[43m \u001b[49m\u001b[43miters\u001b[49m\u001b[38;5;241;43m=\u001b[39;49m\u001b[38;5;241;43m100\u001b[39;49m\u001b[43m)\u001b[49m\n",
      "File \u001b[0;32m/opt/homebrew/anaconda3/envs/pqe/lib/python3.11/site-packages/pyswarms/single/global_best.py:209\u001b[0m, in \u001b[0;36mGlobalBestPSO.optimize\u001b[0;34m(self, objective_func, iters, n_processes, verbose, **kwargs)\u001b[0m\n\u001b[1;32m    205\u001b[0m ftol_history \u001b[38;5;241m=\u001b[39m deque(maxlen\u001b[38;5;241m=\u001b[39m\u001b[38;5;28mself\u001b[39m\u001b[38;5;241m.\u001b[39mftol_iter)\n\u001b[1;32m    206\u001b[0m \u001b[38;5;28;01mfor\u001b[39;00m i \u001b[38;5;129;01min\u001b[39;00m \u001b[38;5;28mself\u001b[39m\u001b[38;5;241m.\u001b[39mrep\u001b[38;5;241m.\u001b[39mpbar(iters, \u001b[38;5;28mself\u001b[39m\u001b[38;5;241m.\u001b[39mname) \u001b[38;5;28;01mif\u001b[39;00m verbose \u001b[38;5;28;01melse\u001b[39;00m \u001b[38;5;28mrange\u001b[39m(iters):\n\u001b[1;32m    207\u001b[0m     \u001b[38;5;66;03m# Compute cost for current position and personal best\u001b[39;00m\n\u001b[1;32m    208\u001b[0m     \u001b[38;5;66;03m# fmt: off\u001b[39;00m\n\u001b[0;32m--> 209\u001b[0m     \u001b[38;5;28mself\u001b[39m\u001b[38;5;241m.\u001b[39mswarm\u001b[38;5;241m.\u001b[39mcurrent_cost \u001b[38;5;241m=\u001b[39m \u001b[43mcompute_objective_function\u001b[49m\u001b[43m(\u001b[49m\u001b[38;5;28;43mself\u001b[39;49m\u001b[38;5;241;43m.\u001b[39;49m\u001b[43mswarm\u001b[49m\u001b[43m,\u001b[49m\u001b[43m \u001b[49m\u001b[43mobjective_func\u001b[49m\u001b[43m,\u001b[49m\u001b[43m \u001b[49m\u001b[43mpool\u001b[49m\u001b[38;5;241;43m=\u001b[39;49m\u001b[43mpool\u001b[49m\u001b[43m,\u001b[49m\u001b[43m \u001b[49m\u001b[38;5;241;43m*\u001b[39;49m\u001b[38;5;241;43m*\u001b[39;49m\u001b[43mkwargs\u001b[49m\u001b[43m)\u001b[49m\n\u001b[1;32m    210\u001b[0m     \u001b[38;5;28mself\u001b[39m\u001b[38;5;241m.\u001b[39mswarm\u001b[38;5;241m.\u001b[39mpbest_pos, \u001b[38;5;28mself\u001b[39m\u001b[38;5;241m.\u001b[39mswarm\u001b[38;5;241m.\u001b[39mpbest_cost \u001b[38;5;241m=\u001b[39m compute_pbest(\u001b[38;5;28mself\u001b[39m\u001b[38;5;241m.\u001b[39mswarm)\n\u001b[1;32m    211\u001b[0m     \u001b[38;5;66;03m# Set best_cost_yet_found for ftol\u001b[39;00m\n",
      "File \u001b[0;32m/opt/homebrew/anaconda3/envs/pqe/lib/python3.11/site-packages/pyswarms/backend/operators.py:239\u001b[0m, in \u001b[0;36mcompute_objective_function\u001b[0;34m(swarm, objective_func, pool, **kwargs)\u001b[0m\n\u001b[1;32m    214\u001b[0m \u001b[38;5;250m\u001b[39m\u001b[38;5;124;03m\"\"\"Evaluate particles using the objective function\u001b[39;00m\n\u001b[1;32m    215\u001b[0m \n\u001b[1;32m    216\u001b[0m \u001b[38;5;124;03mThis method evaluates each particle in the swarm according to the objective\u001b[39;00m\n\u001b[0;32m   (...)\u001b[0m\n\u001b[1;32m    236\u001b[0m \u001b[38;5;124;03m    Cost-matrix for the given swarm\u001b[39;00m\n\u001b[1;32m    237\u001b[0m \u001b[38;5;124;03m\"\"\"\u001b[39;00m\n\u001b[1;32m    238\u001b[0m \u001b[38;5;28;01mif\u001b[39;00m pool \u001b[38;5;129;01mis\u001b[39;00m \u001b[38;5;28;01mNone\u001b[39;00m:\n\u001b[0;32m--> 239\u001b[0m     \u001b[38;5;28;01mreturn\u001b[39;00m \u001b[43mobjective_func\u001b[49m\u001b[43m(\u001b[49m\u001b[43mswarm\u001b[49m\u001b[38;5;241;43m.\u001b[39;49m\u001b[43mposition\u001b[49m\u001b[43m,\u001b[49m\u001b[43m \u001b[49m\u001b[38;5;241;43m*\u001b[39;49m\u001b[38;5;241;43m*\u001b[39;49m\u001b[43mkwargs\u001b[49m\u001b[43m)\u001b[49m\n\u001b[1;32m    240\u001b[0m \u001b[38;5;28;01melse\u001b[39;00m:\n\u001b[1;32m    241\u001b[0m     results \u001b[38;5;241m=\u001b[39m pool\u001b[38;5;241m.\u001b[39mmap(\n\u001b[1;32m    242\u001b[0m         partial(objective_func, \u001b[38;5;241m*\u001b[39m\u001b[38;5;241m*\u001b[39mkwargs),\n\u001b[1;32m    243\u001b[0m         np\u001b[38;5;241m.\u001b[39marray_split(swarm\u001b[38;5;241m.\u001b[39mposition, pool\u001b[38;5;241m.\u001b[39m_processes),\n\u001b[1;32m    244\u001b[0m     )\n",
      "Cell \u001b[0;32mIn[53], line 24\u001b[0m, in \u001b[0;36mnonuniformity\u001b[0;34m(x)\u001b[0m\n\u001b[1;32m     22\u001b[0m \u001b[38;5;28;01mdef\u001b[39;00m \u001b[38;5;21mnonuniformity\u001b[39m(x):\n\u001b[1;32m     23\u001b[0m     \u001b[38;5;28mprint\u001b[39m(x)\n\u001b[0;32m---> 24\u001b[0m     innerrad1, innerrad2, width, dist1, dist2 \u001b[38;5;241m=\u001b[39m x\n\u001b[1;32m     25\u001b[0m     thickness \u001b[38;5;241m=\u001b[39m \u001b[38;5;241m2\u001b[39m\n\u001b[1;32m     26\u001b[0m     magnets \u001b[38;5;241m=\u001b[39m four_rings(Br, innerrad1, innerrad2, width, thickness, dist1, dist2)\n",
      "\u001b[0;31mValueError\u001b[0m: too many values to unpack (expected 5)"
     ]
    }
   ],
   "source": [
    "import numpy as np\n",
    "from scipy.optimize import minimize, Bounds\n",
    "from maghelper import get_field_on_axes, get_nonuniformity, make_flux_stream, centered_sweep_range, get_grid_nonuniformity, make_grid\n",
    "from maggeometry import four_rings\n",
    "import magpylib as magpy\n",
    "from magpylib.magnet import CylinderSegment\n",
    "import pyswarms as ps\n",
    "from pyswarms.utils.functions import single_obj as fx\n",
    "\n",
    "Br = 1.09e3\n",
    "grid_res = 101\n",
    "grid = make_grid([-10, 10], [-10, 10], grid_res)\n",
    "# def nonuniformity(x):\n",
    "#     f = []\n",
    "#     for i in range(len(x)):\n",
    "#         innerrad1, innerrad2, width, dist1, dist2 = x[i]\n",
    "#         thickness = 2\n",
    "#         magnets = four_rings(Br, innerrad1, innerrad2, width, thickness, dist1, dist2)\n",
    "#         grid_field, center_field, av_nonuniformity, max_abs_nonuniformity = get_grid_nonuniformity(magnets, grid, grid_res)\n",
    "#         f.append(av_nonuniformity)\n",
    "#     return f\n",
    "def nonuniformity(x):\n",
    "    print(x)\n",
    "    innerrad1, innerrad2, width, dist1, dist2 = x\n",
    "    thickness = 2\n",
    "    magnets = four_rings(Br, innerrad1, innerrad2, width, thickness, dist1, dist2)\n",
    "    grid_field, center_field, av_nonuniformity, max_abs_nonuniformity = get_grid_nonuniformity(magnets, grid, grid_res)\n",
    "#     f.append(av_nonuniformity)\n",
    "    return av_nonuniformity\n",
    "\n",
    "options = {'c1': 0.4, 'c2': 0.3, 'w':0.9}\n",
    "oh_strategy = {\"w\":'exp_decay', 'c1':'nonlin_mod', 'c2':'lin_variation'}\n",
    "\n",
    "bounds = ([10, 10, 2, 1, 1], [150, 150, 10, 250, 270])\n",
    "\n",
    "# Call instance of PSO\n",
    "optimizer = ps.single.GlobalBestPSO(n_particles=20, dimensions=5, options=options, oh_strategy=oh_strategy, bounds=bounds)\n",
    "\n",
    "# Perform optimization\n",
    "cost, pos = optimizer.optimize(nonuniformity, iters=100)"
   ]
  },
  {
   "cell_type": "code",
   "execution_count": 50,
   "id": "00c23caa",
   "metadata": {},
   "outputs": [
    {
     "name": "stderr",
     "output_type": "stream",
     "text": [
      "2023-07-17 17:59:38,234 - pyswarms.single.global_best - INFO - Optimize for 100 iters with {'c1': 0.4, 'c2': 0.3, 'w': 0.9}\n",
      "pyswarms.single.global_best:   0%|                                        |0/100\n"
     ]
    },
    {
     "ename": "MagpylibBadUserInput",
     "evalue": "Input parameter `CylinderSegment.dimension` must contain only float compatible entries.\nsetting an array element with a sequence. The requested array has an inhomogeneous shape after 1 dimensions. The detected shape was (5,) + inhomogeneous part.",
     "output_type": "error",
     "traceback": [
      "\u001b[0;31m---------------------------------------------------------------------------\u001b[0m",
      "\u001b[0;31mValueError\u001b[0m                                Traceback (most recent call last)",
      "File \u001b[0;32m/opt/homebrew/anaconda3/envs/pqe/lib/python3.11/site-packages/magpylib/_src/input_checks.py:44\u001b[0m, in \u001b[0;36mmake_float_array\u001b[0;34m(inp, msg)\u001b[0m\n\u001b[1;32m     43\u001b[0m \u001b[38;5;28;01mtry\u001b[39;00m:\n\u001b[0;32m---> 44\u001b[0m     inp_array \u001b[38;5;241m=\u001b[39m np\u001b[38;5;241m.\u001b[39marray(inp, dtype\u001b[38;5;241m=\u001b[39m\u001b[38;5;28mfloat\u001b[39m)\n\u001b[1;32m     45\u001b[0m \u001b[38;5;28;01mexcept\u001b[39;00m \u001b[38;5;167;01mException\u001b[39;00m \u001b[38;5;28;01mas\u001b[39;00m err:\n",
      "\u001b[0;31mValueError\u001b[0m: setting an array element with a sequence. The requested array has an inhomogeneous shape after 1 dimensions. The detected shape was (5,) + inhomogeneous part.",
      "\nThe above exception was the direct cause of the following exception:\n",
      "\u001b[0;31mMagpylibBadUserInput\u001b[0m                      Traceback (most recent call last)",
      "Cell \u001b[0;32mIn[50], line 56\u001b[0m\n\u001b[1;32m     53\u001b[0m optimizer \u001b[38;5;241m=\u001b[39m ps\u001b[38;5;241m.\u001b[39msingle\u001b[38;5;241m.\u001b[39mGlobalBestPSO(n_particles\u001b[38;5;241m=\u001b[39m\u001b[38;5;241m20\u001b[39m, dimensions\u001b[38;5;241m=\u001b[39m\u001b[38;5;241m8\u001b[39m, options\u001b[38;5;241m=\u001b[39moptions, oh_strategy\u001b[38;5;241m=\u001b[39moh_strategy, bounds\u001b[38;5;241m=\u001b[39mbounds)\n\u001b[1;32m     55\u001b[0m \u001b[38;5;66;03m# Perform optimization\u001b[39;00m\n\u001b[0;32m---> 56\u001b[0m cost, pos \u001b[38;5;241m=\u001b[39m \u001b[43moptimizer\u001b[49m\u001b[38;5;241;43m.\u001b[39;49m\u001b[43moptimize\u001b[49m\u001b[43m(\u001b[49m\u001b[43mobj_pso_nonuniformity\u001b[49m\u001b[43m,\u001b[49m\u001b[43m \u001b[49m\u001b[43miters\u001b[49m\u001b[38;5;241;43m=\u001b[39;49m\u001b[38;5;241;43m100\u001b[39;49m\u001b[43m)\u001b[49m\n",
      "File \u001b[0;32m/opt/homebrew/anaconda3/envs/pqe/lib/python3.11/site-packages/pyswarms/single/global_best.py:209\u001b[0m, in \u001b[0;36mGlobalBestPSO.optimize\u001b[0;34m(self, objective_func, iters, n_processes, verbose, **kwargs)\u001b[0m\n\u001b[1;32m    205\u001b[0m ftol_history \u001b[38;5;241m=\u001b[39m deque(maxlen\u001b[38;5;241m=\u001b[39m\u001b[38;5;28mself\u001b[39m\u001b[38;5;241m.\u001b[39mftol_iter)\n\u001b[1;32m    206\u001b[0m \u001b[38;5;28;01mfor\u001b[39;00m i \u001b[38;5;129;01min\u001b[39;00m \u001b[38;5;28mself\u001b[39m\u001b[38;5;241m.\u001b[39mrep\u001b[38;5;241m.\u001b[39mpbar(iters, \u001b[38;5;28mself\u001b[39m\u001b[38;5;241m.\u001b[39mname) \u001b[38;5;28;01mif\u001b[39;00m verbose \u001b[38;5;28;01melse\u001b[39;00m \u001b[38;5;28mrange\u001b[39m(iters):\n\u001b[1;32m    207\u001b[0m     \u001b[38;5;66;03m# Compute cost for current position and personal best\u001b[39;00m\n\u001b[1;32m    208\u001b[0m     \u001b[38;5;66;03m# fmt: off\u001b[39;00m\n\u001b[0;32m--> 209\u001b[0m     \u001b[38;5;28mself\u001b[39m\u001b[38;5;241m.\u001b[39mswarm\u001b[38;5;241m.\u001b[39mcurrent_cost \u001b[38;5;241m=\u001b[39m \u001b[43mcompute_objective_function\u001b[49m\u001b[43m(\u001b[49m\u001b[38;5;28;43mself\u001b[39;49m\u001b[38;5;241;43m.\u001b[39;49m\u001b[43mswarm\u001b[49m\u001b[43m,\u001b[49m\u001b[43m \u001b[49m\u001b[43mobjective_func\u001b[49m\u001b[43m,\u001b[49m\u001b[43m \u001b[49m\u001b[43mpool\u001b[49m\u001b[38;5;241;43m=\u001b[39;49m\u001b[43mpool\u001b[49m\u001b[43m,\u001b[49m\u001b[43m \u001b[49m\u001b[38;5;241;43m*\u001b[39;49m\u001b[38;5;241;43m*\u001b[39;49m\u001b[43mkwargs\u001b[49m\u001b[43m)\u001b[49m\n\u001b[1;32m    210\u001b[0m     \u001b[38;5;28mself\u001b[39m\u001b[38;5;241m.\u001b[39mswarm\u001b[38;5;241m.\u001b[39mpbest_pos, \u001b[38;5;28mself\u001b[39m\u001b[38;5;241m.\u001b[39mswarm\u001b[38;5;241m.\u001b[39mpbest_cost \u001b[38;5;241m=\u001b[39m compute_pbest(\u001b[38;5;28mself\u001b[39m\u001b[38;5;241m.\u001b[39mswarm)\n\u001b[1;32m    211\u001b[0m     \u001b[38;5;66;03m# Set best_cost_yet_found for ftol\u001b[39;00m\n",
      "File \u001b[0;32m/opt/homebrew/anaconda3/envs/pqe/lib/python3.11/site-packages/pyswarms/backend/operators.py:239\u001b[0m, in \u001b[0;36mcompute_objective_function\u001b[0;34m(swarm, objective_func, pool, **kwargs)\u001b[0m\n\u001b[1;32m    214\u001b[0m \u001b[38;5;250m\u001b[39m\u001b[38;5;124;03m\"\"\"Evaluate particles using the objective function\u001b[39;00m\n\u001b[1;32m    215\u001b[0m \n\u001b[1;32m    216\u001b[0m \u001b[38;5;124;03mThis method evaluates each particle in the swarm according to the objective\u001b[39;00m\n\u001b[0;32m   (...)\u001b[0m\n\u001b[1;32m    236\u001b[0m \u001b[38;5;124;03m    Cost-matrix for the given swarm\u001b[39;00m\n\u001b[1;32m    237\u001b[0m \u001b[38;5;124;03m\"\"\"\u001b[39;00m\n\u001b[1;32m    238\u001b[0m \u001b[38;5;28;01mif\u001b[39;00m pool \u001b[38;5;129;01mis\u001b[39;00m \u001b[38;5;28;01mNone\u001b[39;00m:\n\u001b[0;32m--> 239\u001b[0m     \u001b[38;5;28;01mreturn\u001b[39;00m \u001b[43mobjective_func\u001b[49m\u001b[43m(\u001b[49m\u001b[43mswarm\u001b[49m\u001b[38;5;241;43m.\u001b[39;49m\u001b[43mposition\u001b[49m\u001b[43m,\u001b[49m\u001b[43m \u001b[49m\u001b[38;5;241;43m*\u001b[39;49m\u001b[38;5;241;43m*\u001b[39;49m\u001b[43mkwargs\u001b[49m\u001b[43m)\u001b[49m\n\u001b[1;32m    240\u001b[0m \u001b[38;5;28;01melse\u001b[39;00m:\n\u001b[1;32m    241\u001b[0m     results \u001b[38;5;241m=\u001b[39m pool\u001b[38;5;241m.\u001b[39mmap(\n\u001b[1;32m    242\u001b[0m         partial(objective_func, \u001b[38;5;241m*\u001b[39m\u001b[38;5;241m*\u001b[39mkwargs),\n\u001b[1;32m    243\u001b[0m         np\u001b[38;5;241m.\u001b[39marray_split(swarm\u001b[38;5;241m.\u001b[39mposition, pool\u001b[38;5;241m.\u001b[39m_processes),\n\u001b[1;32m    244\u001b[0m     )\n",
      "Cell \u001b[0;32mIn[50], line 28\u001b[0m, in \u001b[0;36mobj_pso_nonuniformity\u001b[0;34m(x)\u001b[0m\n\u001b[1;32m     26\u001b[0m \u001b[38;5;28;01mdef\u001b[39;00m \u001b[38;5;21mobj_pso_nonuniformity\u001b[39m(x):\n\u001b[1;32m     27\u001b[0m     obj_ring_config\u001b[38;5;241m=\u001b[39m[[\u001b[38;5;241m*\u001b[39mringset_1_config, \u001b[38;5;241m*\u001b[39mx[\u001b[38;5;241m0\u001b[39m:\u001b[38;5;241m4\u001b[39m]], [\u001b[38;5;241m*\u001b[39mringset_2_config, \u001b[38;5;241m*\u001b[39mx[\u001b[38;5;241m4\u001b[39m:\u001b[38;5;241m8\u001b[39m]]]\n\u001b[0;32m---> 28\u001b[0m     magnets \u001b[38;5;241m=\u001b[39m \u001b[43mn_rings\u001b[49m\u001b[43m(\u001b[49m\u001b[43mobj_ring_config\u001b[49m\u001b[43m)\u001b[49m\n\u001b[1;32m     29\u001b[0m     center_field, av_nonuniformity, av_target_nonuniformity \u001b[38;5;241m=\u001b[39m get_grid_mag_and_target_nonuniformity(magnets, grid, grid_res, target)\n\u001b[1;32m     30\u001b[0m     diff \u001b[38;5;241m=\u001b[39m \u001b[38;5;28mabs\u001b[39m(center_field \u001b[38;5;241m-\u001b[39m target)\n",
      "File \u001b[0;32m~/Documents/quantum/quantum_notes/projects/b_field/simulations/b-field-uniformity/maggeometry.py:75\u001b[0m, in \u001b[0;36mn_rings\u001b[0;34m(ring_specs, show)\u001b[0m\n\u001b[1;32m     73\u001b[0m Br, mag_dir, mirror_z, innerrad, width, thickness, dist \u001b[38;5;241m=\u001b[39m ring_spec\n\u001b[1;32m     74\u001b[0m magnetization \u001b[38;5;241m=\u001b[39m \u001b[38;5;28mtuple\u001b[39m(Br \u001b[38;5;241m*\u001b[39m axis \u001b[38;5;28;01mfor\u001b[39;00m axis \u001b[38;5;129;01min\u001b[39;00m mag_dir)\n\u001b[0;32m---> 75\u001b[0m ring \u001b[38;5;241m=\u001b[39m \u001b[43mCylinderSegment\u001b[49m\u001b[43m(\u001b[49m\u001b[43mmagnetization\u001b[49m\u001b[38;5;241;43m=\u001b[39;49m\u001b[43mmagnetization\u001b[49m\u001b[43m,\u001b[49m\n\u001b[1;32m     76\u001b[0m \u001b[43m                      \u001b[49m\u001b[43mdimension\u001b[49m\u001b[38;5;241;43m=\u001b[39;49m\u001b[43m(\u001b[49m\u001b[43minnerrad\u001b[49m\u001b[43m,\u001b[49m\u001b[43m \u001b[49m\u001b[43minnerrad\u001b[49m\u001b[43m \u001b[49m\u001b[38;5;241;43m+\u001b[39;49m\u001b[43m \u001b[49m\u001b[43mwidth\u001b[49m\u001b[43m,\u001b[49m\u001b[43m \u001b[49m\u001b[43mthickness\u001b[49m\u001b[43m,\u001b[49m\u001b[38;5;241;43m0\u001b[39;49m\u001b[43m,\u001b[49m\u001b[43m \u001b[49m\u001b[38;5;241;43m360\u001b[39;49m\u001b[43m)\u001b[49m\u001b[43m,\u001b[49m\n\u001b[1;32m     77\u001b[0m \u001b[43m                      \u001b[49m\u001b[43mposition\u001b[49m\u001b[38;5;241;43m=\u001b[39;49m\u001b[43m(\u001b[49m\u001b[38;5;241;43m0\u001b[39;49m\u001b[43m,\u001b[49m\u001b[43m \u001b[49m\u001b[38;5;241;43m0\u001b[39;49m\u001b[43m,\u001b[49m\u001b[43m \u001b[49m\u001b[43mdist\u001b[49m\u001b[43m)\u001b[49m\n\u001b[1;32m     78\u001b[0m \u001b[43m                      \u001b[49m\u001b[43m)\u001b[49m\n\u001b[1;32m     79\u001b[0m magnets\u001b[38;5;241m.\u001b[39madd(ring)\n\u001b[1;32m     80\u001b[0m \u001b[38;5;28;01mif\u001b[39;00m mirror_z:\n",
      "File \u001b[0;32m/opt/homebrew/anaconda3/envs/pqe/lib/python3.11/site-packages/magpylib/_src/obj_classes/class_magnet_CylinderSegment.py:109\u001b[0m, in \u001b[0;36mCylinderSegment.__init__\u001b[0;34m(self, magnetization, dimension, position, orientation, style, **kwargs)\u001b[0m\n\u001b[1;32m     98\u001b[0m \u001b[38;5;28;01mdef\u001b[39;00m \u001b[38;5;21m__init__\u001b[39m(\n\u001b[1;32m     99\u001b[0m     \u001b[38;5;28mself\u001b[39m,\n\u001b[1;32m    100\u001b[0m     magnetization\u001b[38;5;241m=\u001b[39m\u001b[38;5;28;01mNone\u001b[39;00m,\n\u001b[0;32m   (...)\u001b[0m\n\u001b[1;32m    107\u001b[0m \n\u001b[1;32m    108\u001b[0m     \u001b[38;5;66;03m# instance attributes\u001b[39;00m\n\u001b[0;32m--> 109\u001b[0m     \u001b[38;5;28;43mself\u001b[39;49m\u001b[38;5;241;43m.\u001b[39;49m\u001b[43mdimension\u001b[49m \u001b[38;5;241m=\u001b[39m dimension\n\u001b[1;32m    111\u001b[0m     \u001b[38;5;66;03m# init inheritance\u001b[39;00m\n\u001b[1;32m    112\u001b[0m     \u001b[38;5;28msuper\u001b[39m()\u001b[38;5;241m.\u001b[39m\u001b[38;5;21m__init__\u001b[39m(position, orientation, magnetization, style, \u001b[38;5;241m*\u001b[39m\u001b[38;5;241m*\u001b[39mkwargs)\n",
      "File \u001b[0;32m/opt/homebrew/anaconda3/envs/pqe/lib/python3.11/site-packages/magpylib/_src/obj_classes/class_magnet_CylinderSegment.py:128\u001b[0m, in \u001b[0;36mCylinderSegment.dimension\u001b[0;34m(self, dim)\u001b[0m\n\u001b[1;32m    125\u001b[0m \u001b[38;5;129m@dimension\u001b[39m\u001b[38;5;241m.\u001b[39msetter\n\u001b[1;32m    126\u001b[0m \u001b[38;5;28;01mdef\u001b[39;00m \u001b[38;5;21mdimension\u001b[39m(\u001b[38;5;28mself\u001b[39m, dim):\n\u001b[1;32m    127\u001b[0m \u001b[38;5;250m    \u001b[39m\u001b[38;5;124;03m\"\"\"Set Cylinder dimension (r1,r2,h,phi1,phi2), shape (5,), [mm, deg].\"\"\"\u001b[39;00m\n\u001b[0;32m--> 128\u001b[0m     \u001b[38;5;28mself\u001b[39m\u001b[38;5;241m.\u001b[39m_dimension \u001b[38;5;241m=\u001b[39m \u001b[43mcheck_format_input_cylinder_segment\u001b[49m\u001b[43m(\u001b[49m\u001b[43mdim\u001b[49m\u001b[43m)\u001b[49m\n",
      "File \u001b[0;32m/opt/homebrew/anaconda3/envs/pqe/lib/python3.11/site-packages/magpylib/_src/input_checks.py:391\u001b[0m, in \u001b[0;36mcheck_format_input_cylinder_segment\u001b[0;34m(inp)\u001b[0m\n\u001b[1;32m    384\u001b[0m \u001b[38;5;28;01mdef\u001b[39;00m \u001b[38;5;21mcheck_format_input_cylinder_segment\u001b[39m(inp):\n\u001b[1;32m    385\u001b[0m \u001b[38;5;250m    \u001b[39m\u001b[38;5;124;03m\"\"\"checks vertices input and returns in formatted form\u001b[39;00m\n\u001b[1;32m    386\u001b[0m \u001b[38;5;124;03m    - vector check with dim = (5) or none\u001b[39;00m\n\u001b[1;32m    387\u001b[0m \u001b[38;5;124;03m    - check if d1<d2, phi1<phi2\u001b[39;00m\n\u001b[1;32m    388\u001b[0m \u001b[38;5;124;03m    - check if phi2-phi1 > 360\u001b[39;00m\n\u001b[1;32m    389\u001b[0m \u001b[38;5;124;03m    - return error msg\u001b[39;00m\n\u001b[1;32m    390\u001b[0m \u001b[38;5;124;03m    \"\"\"\u001b[39;00m\n\u001b[0;32m--> 391\u001b[0m     inp \u001b[38;5;241m=\u001b[39m \u001b[43mcheck_format_input_vector\u001b[49m\u001b[43m(\u001b[49m\n\u001b[1;32m    392\u001b[0m \u001b[43m        \u001b[49m\u001b[43minp\u001b[49m\u001b[43m,\u001b[49m\n\u001b[1;32m    393\u001b[0m \u001b[43m        \u001b[49m\u001b[43mdims\u001b[49m\u001b[38;5;241;43m=\u001b[39;49m\u001b[43m(\u001b[49m\u001b[38;5;241;43m1\u001b[39;49m\u001b[43m,\u001b[49m\u001b[43m)\u001b[49m\u001b[43m,\u001b[49m\n\u001b[1;32m    394\u001b[0m \u001b[43m        \u001b[49m\u001b[43mshape_m1\u001b[49m\u001b[38;5;241;43m=\u001b[39;49m\u001b[38;5;241;43m5\u001b[39;49m\u001b[43m,\u001b[49m\n\u001b[1;32m    395\u001b[0m \u001b[43m        \u001b[49m\u001b[43msig_name\u001b[49m\u001b[38;5;241;43m=\u001b[39;49m\u001b[38;5;124;43m\"\u001b[39;49m\u001b[38;5;124;43mCylinderSegment.dimension\u001b[39;49m\u001b[38;5;124;43m\"\u001b[39;49m\u001b[43m,\u001b[49m\n\u001b[1;32m    396\u001b[0m \u001b[43m        \u001b[49m\u001b[43msig_type\u001b[49m\u001b[38;5;241;43m=\u001b[39;49m\u001b[43m(\u001b[49m\n\u001b[1;32m    397\u001b[0m \u001b[43m            \u001b[49m\u001b[38;5;124;43m\"\u001b[39;49m\u001b[38;5;124;43marray_like of the form (r1, r2, h, phi1, phi2) with r1<r2,\u001b[39;49m\u001b[38;5;124;43m\"\u001b[39;49m\n\u001b[1;32m    398\u001b[0m \u001b[43m            \u001b[49m\u001b[38;5;124;43m\"\u001b[39;49m\u001b[38;5;124;43mphi1<phi2 and phi2-phi1<=360\u001b[39;49m\u001b[38;5;124;43m\"\u001b[39;49m\n\u001b[1;32m    399\u001b[0m \u001b[43m        \u001b[49m\u001b[43m)\u001b[49m\u001b[43m,\u001b[49m\n\u001b[1;32m    400\u001b[0m \u001b[43m        \u001b[49m\u001b[43mallow_None\u001b[49m\u001b[38;5;241;43m=\u001b[39;49m\u001b[38;5;28;43;01mTrue\u001b[39;49;00m\u001b[43m,\u001b[49m\n\u001b[1;32m    401\u001b[0m \u001b[43m    \u001b[49m\u001b[43m)\u001b[49m\n\u001b[1;32m    403\u001b[0m     \u001b[38;5;28;01mif\u001b[39;00m inp \u001b[38;5;129;01mis\u001b[39;00m \u001b[38;5;28;01mNone\u001b[39;00m:\n\u001b[1;32m    404\u001b[0m         \u001b[38;5;28;01mreturn\u001b[39;00m \u001b[38;5;28;01mNone\u001b[39;00m\n",
      "File \u001b[0;32m/opt/homebrew/anaconda3/envs/pqe/lib/python3.11/site-packages/magpylib/_src/input_checks.py:338\u001b[0m, in \u001b[0;36mcheck_format_input_vector\u001b[0;34m(inp, dims, shape_m1, sig_name, sig_type, length, reshape, allow_None, forbid_negative0)\u001b[0m\n\u001b[1;32m    331\u001b[0m         \u001b[38;5;28;01mreturn\u001b[39;00m \u001b[38;5;28;01mNone\u001b[39;00m\n\u001b[1;32m    333\u001b[0m is_array_like(\n\u001b[1;32m    334\u001b[0m     inp,\n\u001b[1;32m    335\u001b[0m     \u001b[38;5;124mf\u001b[39m\u001b[38;5;124m\"\u001b[39m\u001b[38;5;124mInput parameter `\u001b[39m\u001b[38;5;132;01m{\u001b[39;00msig_name\u001b[38;5;132;01m}\u001b[39;00m\u001b[38;5;124m` must be \u001b[39m\u001b[38;5;132;01m{\u001b[39;00msig_type\u001b[38;5;132;01m}\u001b[39;00m\u001b[38;5;124m.\u001b[39m\u001b[38;5;130;01m\\n\u001b[39;00m\u001b[38;5;124m\"\u001b[39m\n\u001b[1;32m    336\u001b[0m     \u001b[38;5;124mf\u001b[39m\u001b[38;5;124m\"\u001b[39m\u001b[38;5;124mInstead received type \u001b[39m\u001b[38;5;132;01m{\u001b[39;00m\u001b[38;5;28mtype\u001b[39m(inp)\u001b[38;5;132;01m}\u001b[39;00m\u001b[38;5;124m.\u001b[39m\u001b[38;5;124m\"\u001b[39m,\n\u001b[1;32m    337\u001b[0m )\n\u001b[0;32m--> 338\u001b[0m inp \u001b[38;5;241m=\u001b[39m \u001b[43mmake_float_array\u001b[49m\u001b[43m(\u001b[49m\n\u001b[1;32m    339\u001b[0m \u001b[43m    \u001b[49m\u001b[43minp\u001b[49m\u001b[43m,\u001b[49m\n\u001b[1;32m    340\u001b[0m \u001b[43m    \u001b[49m\u001b[38;5;124;43mf\u001b[39;49m\u001b[38;5;124;43m\"\u001b[39;49m\u001b[38;5;124;43mInput parameter `\u001b[39;49m\u001b[38;5;132;43;01m{\u001b[39;49;00m\u001b[43msig_name\u001b[49m\u001b[38;5;132;43;01m}\u001b[39;49;00m\u001b[38;5;124;43m` must contain only float compatible entries.\u001b[39;49m\u001b[38;5;130;43;01m\\n\u001b[39;49;00m\u001b[38;5;124;43m\"\u001b[39;49m\u001b[43m,\u001b[49m\n\u001b[1;32m    341\u001b[0m \u001b[43m\u001b[49m\u001b[43m)\u001b[49m\n\u001b[1;32m    342\u001b[0m check_array_shape(\n\u001b[1;32m    343\u001b[0m     inp,\n\u001b[1;32m    344\u001b[0m     dims\u001b[38;5;241m=\u001b[39mdims,\n\u001b[0;32m   (...)\u001b[0m\n\u001b[1;32m    350\u001b[0m     ),\n\u001b[1;32m    351\u001b[0m )\n\u001b[1;32m    352\u001b[0m \u001b[38;5;28;01mif\u001b[39;00m \u001b[38;5;28misinstance\u001b[39m(reshape, \u001b[38;5;28mtuple\u001b[39m):\n",
      "File \u001b[0;32m/opt/homebrew/anaconda3/envs/pqe/lib/python3.11/site-packages/magpylib/_src/input_checks.py:46\u001b[0m, in \u001b[0;36mmake_float_array\u001b[0;34m(inp, msg)\u001b[0m\n\u001b[1;32m     44\u001b[0m     inp_array \u001b[38;5;241m=\u001b[39m np\u001b[38;5;241m.\u001b[39marray(inp, dtype\u001b[38;5;241m=\u001b[39m\u001b[38;5;28mfloat\u001b[39m)\n\u001b[1;32m     45\u001b[0m \u001b[38;5;28;01mexcept\u001b[39;00m \u001b[38;5;167;01mException\u001b[39;00m \u001b[38;5;28;01mas\u001b[39;00m err:\n\u001b[0;32m---> 46\u001b[0m     \u001b[38;5;28;01mraise\u001b[39;00m MagpylibBadUserInput(msg \u001b[38;5;241m+\u001b[39m \u001b[38;5;124mf\u001b[39m\u001b[38;5;124m\"\u001b[39m\u001b[38;5;132;01m{\u001b[39;00merr\u001b[38;5;132;01m}\u001b[39;00m\u001b[38;5;124m\"\u001b[39m) \u001b[38;5;28;01mfrom\u001b[39;00m \u001b[38;5;21;01merr\u001b[39;00m\n\u001b[1;32m     47\u001b[0m \u001b[38;5;28;01mreturn\u001b[39;00m inp_array\n",
      "\u001b[0;31mMagpylibBadUserInput\u001b[0m: Input parameter `CylinderSegment.dimension` must contain only float compatible entries.\nsetting an array element with a sequence. The requested array has an inhomogeneous shape after 1 dimensions. The detected shape was (5,) + inhomogeneous part."
     ]
    }
   ],
   "source": [
    "import numpy as np\n",
    "from scipy.optimize import minimize, Bounds\n",
    "from maghelper import get_field_on_axes, get_nonuniformity, make_flux_stream, centered_sweep_range, get_grid_nonuniformity, make_grid\n",
    "from maggeometry import four_rings, n_rings\n",
    "import magpylib as magpy\n",
    "from magpylib.magnet import CylinderSegment\n",
    "import pyswarms as ps\n",
    "from pyswarms.utils.functions import single_obj as fx\n",
    "\n",
    "Br = 1.09e3\n",
    "grid_res = 101\n",
    "grid = make_grid([-10, 10], [-10, 10], grid_res)\n",
    "\n",
    "Br = 1.09e3\n",
    "mag_dir = (0,0,1)\n",
    "mirror1_z = True\n",
    "ringset_1_config = [Br, mag_dir, mirror1_z]\n",
    "\n",
    "r = 1.09e3\n",
    "mag_dir = (0,0,1)\n",
    "mirror2_z = True\n",
    "ringset_2_config = [Br, mag_dir, mirror2_z]\n",
    "\n",
    "target = 10\n",
    "\n",
    "def obj_pso_nonuniformity(x):\n",
    "    obj_ring_config=[[*ringset_1_config, *x[0:4]], [*ringset_2_config, *x[4:8]]]\n",
    "    magnets = n_rings(obj_ring_config)\n",
    "    center_field, av_nonuniformity, av_target_nonuniformity = get_grid_mag_and_target_nonuniformity(magnets, grid, grid_res, target)\n",
    "    diff = abs(center_field - target)\n",
    "#     if (abs(center_field - target) > threshold):\n",
    "#         return av_target_nonuniformity\n",
    "#     return av_nonuniformity\n",
    "    return av_nonuniformity * diff\n",
    "    \n",
    "# def nonuniformity(x):\n",
    "#     f = []\n",
    "#     for i in range(len(x)):\n",
    "#         innerrad1, innerrad2, width, dist1, dist2 = x[i]\n",
    "#         thickness = 2\n",
    "#         magnets = four_rings(Br, innerrad1, innerrad2, width, thickness, dist1, dist2)\n",
    "#         grid_field, center_field, av_nonuniformity, max_abs_nonuniformity = get_grid_nonuniformity(magnets, grid, grid_res)\n",
    "#         f.append(av_nonuniformity)\n",
    "#     return f\n",
    "\n",
    "options = {'c1': 0.4, 'c2': 0.3, 'w':0.9}\n",
    "# oh_strategy = {\"w\":'exp_decay', 'c1':'nonlin_mod', 'c2':'lin_variation'}\n",
    "\n",
    "bounds = (np.array([1.0, 2.0, 2.0, 1.0, 1.0, 2.0, 2.0, 1.0]),\n",
    "          np.array([150.0, 20.0, 20.0, 300.0, 150.0, 20.0, 20.0, 300.0]))\n",
    "\n",
    "# Call instance of PSO\n",
    "optimizer = ps.single.GlobalBestPSO(n_particles=20, dimensions=8, options=options, oh_strategy=oh_strategy, bounds=bounds)\n",
    "\n",
    "# Perform optimization\n",
    "cost, pos = optimizer.optimize(obj_pso_nonuniformity, iters=100)"
   ]
  },
  {
   "cell_type": "code",
   "execution_count": null,
   "id": "04427c2b",
   "metadata": {},
   "outputs": [],
   "source": []
  },
  {
   "cell_type": "markdown",
   "id": "0618805d",
   "metadata": {},
   "source": [
    "### Define 2nd stage multiobjective cost function"
   ]
  },
  {
   "cell_type": "code",
   "execution_count": 69,
   "id": "c4eeb335",
   "metadata": {},
   "outputs": [
    {
     "name": "stdout",
     "output_type": "stream",
     "text": [
      "5\n",
      "on 0: [ 43.52201844  15.01113059   7.11366009 167.2178223  139.69913331         \n",
      "        16.87833201  11.5577898  163.64356542]\n",
      "                                                                                \r"
     ]
    },
    {
     "name": "stderr",
     "output_type": "stream",
     "text": [
      "on 0: /var/folders/06/7pjfbw510cz2ch1m7lx8vvl80000gn/T/ipykernel_54811/3132313253.py:74: RuntimeWarning:\n",
      "      \n",
      "      Maximum number of function evaluations has been exceeded.\n"
     ]
    },
    {
     "name": "stdout",
     "output_type": "stream",
     "text": [
      "on 1: [ 93.8794871   11.87800796  18.21965725 208.94604398 143.41253497         \n",
      "         2.57911504   8.5449756  100.95399215]\n",
      "on 2: [ 23.72915962   4.66455908  19.9068819  278.69476379 149.85985463         \n",
      "         3.19662882   3.9936028  162.47755584]\n",
      "on 3: [ 36.899469    11.10097308   2.16520558 195.25577244 142.39590345         \n",
      "        18.61608984   2.00000692 179.99215184]\n",
      "on 4: [147.4270072   10.47098896   6.54461402 197.32109721  28.71831623         \n",
      "         6.35110617   3.74648367 184.94122589]\n",
      "|████████████████████████████████████████| 5/5 [100%] in 5:34.3 (0.01/s)        \n"
     ]
    }
   ],
   "source": [
    "import numpy as np\n",
    "from scipy.optimize import minimize, Bounds\n",
    "from maggeometry import n_rings\n",
    "from maghelper import get_field_on_axes, get_nonuniformity, make_flux_stream, centered_sweep_range, get_grid_nonuniformity, make_grid\n",
    "from alive_progress import alive_bar\n",
    "import random\n",
    "\n",
    "import numpy as np\n",
    "import pandas as pd\n",
    "\n",
    "\n",
    "\n",
    "st1 = pd.read_csv('results/4 rings/2023_07_14_adaptive_stage1opt_4rings_1090T_50.csv')\n",
    "st1 = np.delete(st1.to_numpy(), 0, axis=1) #remove first column of indices\n",
    "\n",
    "st2g1=st1[:5]\n",
    "print(len(st2g1))\n",
    "\n",
    "Br = 1.09e3\n",
    "mag_dir = (0,0,1)\n",
    "mirror1_z = True\n",
    "ringset_1_config = [Br, mag_dir, mirror1_z]\n",
    "\n",
    "r = 1.09e3\n",
    "mag_dir = (0,0,1)\n",
    "mirror2_z = True\n",
    "ringset_2_config = [Br, mag_dir, mirror2_z]\n",
    "# innerrad, width, thickness, dist\n",
    "bounds2 = ((1, 150), (2, 20), (2, 20), (1, 300),\n",
    "           (1, 150), (2, 20), (2, 20), (1, 300))\n",
    "\n",
    "field_strength_target = 10\n",
    "dist1 = 0\n",
    "\n",
    "grid_res = 101\n",
    "grid = make_xy_grid([-10, 10], [-10, 10], grid_res)\n",
    "# alpha = 0.2 # weight for multiobjective optimization\n",
    "\n",
    "\n",
    "results2_x = []\n",
    "results2_fun = []\n",
    "method2 = 'Nelder-Mead'\n",
    "options2 = {'disp':True, 'fatol': 1e-18, 'adaptive': True}\n",
    "\n",
    "alpha = 0.2\n",
    "b_threshold = 0.3\n",
    "def obj2_nonuniformity(x):\n",
    "    innerrad1, width1, thickness1, dist1, innerrad2, width2, thickness2, dist2 = x\n",
    "    obj_ring_config = [[Br, mag_dir, mirror1_z, innerrad1, width1, thickness1, dist1],\n",
    "                       [Br, mag_dir, mirror2_z, innerrad2, width2, thickness2, dist2]]\n",
    "    magnets = n_rings(obj_ring_config)\n",
    "    grid_field, center_field, av_nonuniformity, max_abs_nonuniformity = get_grid_nonuniformity(magnets, grid, grid_res, use_z=True)\n",
    "#             cost = av_nonuniformity*abs(center_field - field_strength_target)**2\n",
    "    diff = abs(center_field - field_strength_target)\n",
    "    cost = 0\n",
    "#     if diff <= b_threshold:\n",
    "#         cost = (av_nonuniformity/1e-7) * (diff**2 - b_threshold**2 + 1)\n",
    "#     else:\n",
    "#         cost = (av_nonuniformity/1e-7) * np.exp((diff - b_threshold))\n",
    "    if diff < b_threshold:\n",
    "        cost = alpha*(av_nonuniformity * 1e8 - 1) + (1-alpha)*diff**2\n",
    "    else:\n",
    "        cost = alpha*(av_nonuniformity * 1e8 - 1) + (1-alpha)*diff\n",
    "#     cost = av_nonuniformity*np.exp(abs(center_field - field_strength_target)**2)\n",
    "#     cost = alpha*av_nonuniformity * 1e8 + (1-alpha)*abs(center_field - field_strength_target)\n",
    "#             cost = alpha*(av_nonuniformity/1e-7)**4 + (1-alpha)*abs(center_field - field_strength_target)**2\n",
    "    return cost\n",
    "\n",
    "with alive_bar(len(st2g1), force_tty=True) as bar:\n",
    "    for s0 in st2g1:\n",
    "        min_nonun = s0[0]\n",
    "        innerrad1, width1, thickness1, dist1 = s0[2:6]\n",
    "        innerrad2, width2, thickness2, dist2 = s0[6:10]\n",
    "        res2 = minimize(obj2_nonuniformity, [innerrad1,\n",
    "                                             width1,\n",
    "                                             thickness1,\n",
    "                                             dist1,\n",
    "                                             innerrad2,\n",
    "                                             width2,\n",
    "                                             thickness2,\n",
    "                                             dist2], method=method2, options=options2, bounds=bounds2)\n",
    "        print(res2.x)\n",
    "        results2_x.append(res2.x)\n",
    "        results2_fun.append(res2.fun)\n",
    "        bar()\n",
    "        "
   ]
  },
  {
   "cell_type": "code",
   "execution_count": 70,
   "id": "20fe4234",
   "metadata": {},
   "outputs": [
    {
     "name": "stdout",
     "output_type": "stream",
     "text": [
      "[array([ 43.52201844,  15.01113059,   7.11366009, 167.2178223 ,\n",
      "       139.69913331,  16.87833201,  11.5577898 , 163.64356542]), array([ 93.8794871 ,  11.87800796,  18.21965725, 208.94604398,\n",
      "       143.41253497,   2.57911504,   8.5449756 , 100.95399215]), array([ 23.72915962,   4.66455908,  19.9068819 , 278.69476379,\n",
      "       149.85985463,   3.19662882,   3.9936028 , 162.47755584]), array([ 36.899469  ,  11.10097308,   2.16520558, 195.25577244,\n",
      "       142.39590345,  18.61608984,   2.00000692, 179.99215184]), array([147.4270072 ,  10.47098896,   6.54461402, 197.32109721,\n",
      "        28.71831623,   6.35110617,   3.74648367, 184.94122589])]\n",
      "[22.817801002781714, 13.613331389391355, 5.023600280563383, 2.9349952672443056, 0.8091477529686784]\n",
      "[1.8424345454569212e-08, 1.3582965115953259e-09, 2.9088057326475775e-09, 2.9584093305718056e-09, 3.639071170415345e-09]\n",
      "[38.31164261711291, 27.23270682394931, 3.54321979261196, 6.155216149208913, 8.829542088049536]\n"
     ]
    }
   ],
   "source": [
    "grid_res = 101\n",
    "grid = make_xy_grid([-10, 10], [-10, 10], grid_res)\n",
    "results2_nonun = []\n",
    "results2_g_center = []\n",
    "for x in results2_x:\n",
    "#     innerrad1, width1, thickness1, innerrad2, width2, thickness2, dist2 = x\n",
    "    obj_ring_config=[[*ringset_1_config, *x[0:4]], [*ringset_2_config, *x[4:8]]]\n",
    "    magnets = n_rings(obj_ring_config)\n",
    "    grid_field, center_field, av_nonuniformity, max_abs_nonuniformity = get_grid_nonuniformity(magnets, grid, grid_res)\n",
    "    results2_nonun.append(obj1_nonuniformity(x))\n",
    "    results2_g_center.append(center_field)\n",
    "print(results2_x)\n",
    "print(results2_fun)\n",
    "print(results2_nonun)\n",
    "print(results2_g_center)"
   ]
  },
  {
   "cell_type": "code",
   "execution_count": 66,
   "id": "bea36879",
   "metadata": {},
   "outputs": [
    {
     "name": "stdout",
     "output_type": "stream",
     "text": [
      "[array([ 46.60612508,  16.3101132 ,   7.04917355, 162.88113821,\n",
      "       149.59236163,  18.68245421,  12.92855539, 167.89727316]), array([ 93.75017147,  11.87534726,  18.01195446, 207.59985583,\n",
      "       143.35133308,   2.5707454 ,   8.41886548,  99.75403657]), array([ 23.72904916,   4.66450228,  19.90664017, 278.69354421,\n",
      "       149.8584466 ,   3.19658733,   3.99358061, 162.47714153]), array([ 36.89883973,  11.10084107,   2.16518825, 195.25475545,\n",
      "       142.39387717,  18.61607954,   2.00000511, 179.99167697]), array([147.28835333,  10.45067708,   6.53052515, 197.23884231,\n",
      "        28.61765969,   6.33785322,   3.73812921, 184.84081975])]\n",
      "[1.6442335709524075e+22, 2682046028.5151, 9.03639441896668, 0.05120846400221512, 0.00028394573722700245]\n",
      "[9.988834347102451e-10, 1.5615185437446989e-09, 2.908726828060164e-09, 2.9586454658708246e-09, 3.0564091388519913e-09]\n",
      "[42.53650426625185, 27.144190010916045, 3.5431878012980897, 6.1552672711225185, 8.801469537384385]\n"
     ]
    }
   ],
   "source": [
    "grid_res = 101\n",
    "grid = make_xy_grid([-10, 10], [-10, 10], grid_res)\n",
    "results2_nonun = []\n",
    "results2_g_center = []\n",
    "for x in results2_x:\n",
    "#     innerrad1, width1, thickness1, innerrad2, width2, thickness2, dist2 = x\n",
    "    obj_ring_config=[[*ringset_1_config, *x[0:4]], [*ringset_2_config, *x[4:8]]]\n",
    "    magnets = n_rings(obj_ring_config)\n",
    "    grid_field, center_field, av_nonuniformity, max_abs_nonuniformity = get_grid_nonuniformity(magnets, grid, grid_res)\n",
    "    results2_nonun.append(obj1_nonuniformity(x))\n",
    "    results2_g_center.append(center_field)\n",
    "print(results2_x)\n",
    "print(results2_fun)\n",
    "print(results2_nonun)\n",
    "print(results2_g_center)"
   ]
  },
  {
   "cell_type": "code",
   "execution_count": 18,
   "id": "8c3237dc",
   "metadata": {
    "scrolled": true
   },
   "outputs": [
    {
     "name": "stdout",
     "output_type": "stream",
     "text": [
      "50\n"
     ]
    }
   ],
   "source": [
    "import numpy as np\n",
    "import pandas as pd\n",
    "\n",
    "# guess_threshold = 2 # only use results that are within +x% of minimum homogeneity for stage 2\n",
    "\n",
    "st1 = pd.read_csv('results/4 rings/2023_07_14_adaptive_stage1opt_4rings_1090T_50.csv')\n",
    "st1 = np.delete(st1.to_numpy(), 0, axis=1) #remove first column of indices\n",
    "min_nonun = st1[0][0]\n",
    "# nonun_threshold = min_nonun*guess_threshold\n",
    "# print(\"Nonuniformity threshold:\", nonun_threshold)\n",
    "# st2g = st1[st1[:,0] < nonun_threshold]\n",
    "st2g=st1\n",
    "print(len(st2g))"
   ]
  },
  {
   "cell_type": "code",
   "execution_count": 19,
   "id": "7d29f061",
   "metadata": {},
   "outputs": [],
   "source": [
    "Br = 1.09e3\n",
    "mag_dir = (0,0,1)\n",
    "mirror1_z = True\n",
    "ringset_1_config = [Br, mag_dir, mirror1_z]\n",
    "\n",
    "r = 1.09e3\n",
    "mag_dir = (0,0,1)\n",
    "mirror2_z = True\n",
    "ringset_2_config = [Br, mag_dir, mirror2_z]\n",
    "# innerrad, width, thickness, dist\n",
    "bounds2 = ((1, 150), (2, 20), (2, 20), (1, 300),\n",
    "           (1, 150), (2, 20), (2, 20), (1, 300))"
   ]
  },
  {
   "cell_type": "markdown",
   "id": "07ecc5d5",
   "metadata": {},
   "source": [
    "## Objective function test"
   ]
  },
  {
   "cell_type": "code",
   "execution_count": 20,
   "id": "c384bbb9",
   "metadata": {},
   "outputs": [],
   "source": [
    "from maggeometry import n_rings, three_rings\n",
    "from maghelper import get_field_on_axes, get_nonuniformity, make_flux_stream, centered_sweep_range, get_grid_nonuniformity, make_xy_grid\n",
    "# 10G target\n",
    "field_strength_target = 10\n",
    "dist1 = 0\n",
    "\n",
    "grid_res = 101\n",
    "grid = make_xy_grid([-10, 10], [-10, 10], grid_res)\n",
    "# alpha = 0.2 # weight for multiobjective optimization\n",
    "def obj2_nonuniformity(x):\n",
    "    innerrad1, width1, thickness1, dist1, innerrad2, width2, thickness2, dist2 = x\n",
    "    obj_ring_config = [[Br, mag_dir, mirror1_z, innerrad1, width1, thickness1, dist1],\n",
    "                       [Br, mag_dir, mirror2_z, innerrad2, width2, thickness2, dist2]]\n",
    "    magnets = n_rings(obj_ring_config)\n",
    "    grid_field, center_field, av_nonuniformity, max_abs_nonuniformity = get_grid_nonuniformity(magnets, grid, grid_res, use_z=True)\n",
    "    cost = av_nonuniformity*abs(center_field - field_strength_target)\n",
    "#     cost = av_nonuniformity*abs(center_field - field_strength_target)**2\n",
    "#     cost = av_nonuniformity * 1e10 + abs(center_field - field_strength_target)\n",
    "#     cost = av_nonuniformity*np.exp(abs(center_field - field_strength_target)**2)\n",
    "#     cost = alpha*av_nonuniformity * 1e8 + (1-alpha)*abs(center_field - field_strength_target)\n",
    "    return cost"
   ]
  },
  {
   "cell_type": "code",
   "execution_count": 22,
   "id": "c991a3e5",
   "metadata": {
    "collapsed": true
   },
   "outputs": [
    {
     "name": "stdout",
     "output_type": "stream",
     "text": [
      "on 0: [ 44.95015098  16.81101237   7.22257731 164.78843967 146.20670731         \n",
      "        18.73449231  13.49079656 168.33450622]\n",
      "                                                                                \r"
     ]
    },
    {
     "name": "stderr",
     "output_type": "stream",
     "text": [
      "on 0: /var/folders/06/7pjfbw510cz2ch1m7lx8vvl80000gn/T/ipykernel_54811/1281444790.py:16: RuntimeWarning: Maximum number of iterations has been exceeded.\n",
      "        res2 = minimize(obj2_nonuniformity, [innerrad1,\n"
     ]
    },
    {
     "name": "stdout",
     "output_type": "stream",
     "text": [
      "on 1: [ 89.23880804  10.21869755  19.63174819 206.8087215  138.22423358         \n",
      "         2.94213257   8.0933496  105.16397327]\n",
      "|█▋⚠︎                                     | (!) 2/50 [4%] in 30:36.1 (0.00/s)    \n"
     ]
    },
    {
     "ename": "KeyboardInterrupt",
     "evalue": "",
     "output_type": "error",
     "traceback": [
      "\u001b[0;31m---------------------------------------------------------------------------\u001b[0m",
      "\u001b[0;31mKeyboardInterrupt\u001b[0m                         Traceback (most recent call last)",
      "Cell \u001b[0;32mIn[22], line 16\u001b[0m\n\u001b[1;32m     14\u001b[0m         innerrad1, width1, thickness1, dist1 \u001b[38;5;241m=\u001b[39m s0[\u001b[38;5;241m2\u001b[39m:\u001b[38;5;241m6\u001b[39m]\n\u001b[1;32m     15\u001b[0m         innerrad2, width2, thickness2, dist2 \u001b[38;5;241m=\u001b[39m s0[\u001b[38;5;241m6\u001b[39m:\u001b[38;5;241m10\u001b[39m]\n\u001b[0;32m---> 16\u001b[0m         res2 \u001b[38;5;241m=\u001b[39m \u001b[43mminimize\u001b[49m\u001b[43m(\u001b[49m\u001b[43mobj2_nonuniformity\u001b[49m\u001b[43m,\u001b[49m\u001b[43m \u001b[49m\u001b[43m[\u001b[49m\u001b[43minnerrad1\u001b[49m\u001b[43m,\u001b[49m\n\u001b[1;32m     17\u001b[0m \u001b[43m                                             \u001b[49m\u001b[43mwidth1\u001b[49m\u001b[43m,\u001b[49m\n\u001b[1;32m     18\u001b[0m \u001b[43m                                             \u001b[49m\u001b[43mthickness1\u001b[49m\u001b[43m,\u001b[49m\n\u001b[1;32m     19\u001b[0m \u001b[43m                                             \u001b[49m\u001b[43mdist1\u001b[49m\u001b[43m,\u001b[49m\n\u001b[1;32m     20\u001b[0m \u001b[43m                                             \u001b[49m\u001b[43minnerrad2\u001b[49m\u001b[43m,\u001b[49m\n\u001b[1;32m     21\u001b[0m \u001b[43m                                             \u001b[49m\u001b[43mwidth2\u001b[49m\u001b[43m,\u001b[49m\n\u001b[1;32m     22\u001b[0m \u001b[43m                                             \u001b[49m\u001b[43mthickness2\u001b[49m\u001b[43m,\u001b[49m\n\u001b[1;32m     23\u001b[0m \u001b[43m                                             \u001b[49m\u001b[43mdist2\u001b[49m\u001b[43m]\u001b[49m\u001b[43m,\u001b[49m\u001b[43m \u001b[49m\u001b[43mmethod\u001b[49m\u001b[38;5;241;43m=\u001b[39;49m\u001b[43mmethod2\u001b[49m\u001b[43m,\u001b[49m\u001b[43m \u001b[49m\u001b[43moptions\u001b[49m\u001b[38;5;241;43m=\u001b[39;49m\u001b[43moptions2\u001b[49m\u001b[43m,\u001b[49m\u001b[43m \u001b[49m\u001b[43mbounds\u001b[49m\u001b[38;5;241;43m=\u001b[39;49m\u001b[43mbounds2\u001b[49m\u001b[43m)\u001b[49m\n\u001b[1;32m     24\u001b[0m \u001b[38;5;66;03m#         res2 = minimize(obj2_nonuniformity, [innerrad1 + random.uniform(-s, s),\u001b[39;00m\n\u001b[1;32m     25\u001b[0m \u001b[38;5;66;03m#                                              width1 + random.uniform(-s, s),\u001b[39;00m\n\u001b[1;32m     26\u001b[0m \u001b[38;5;66;03m#                                              thickness1 + random.uniform(-s, s),\u001b[39;00m\n\u001b[0;32m   (...)\u001b[0m\n\u001b[1;32m     30\u001b[0m \u001b[38;5;66;03m#                                              thickness2 + random.uniform(-s, s),\u001b[39;00m\n\u001b[1;32m     31\u001b[0m \u001b[38;5;66;03m#                                              dist2 + random.uniform(-s, s)], method=method2, options=options2, bounds=bounds2)\u001b[39;00m\n\u001b[1;32m     32\u001b[0m         \u001b[38;5;28mprint\u001b[39m(res2\u001b[38;5;241m.\u001b[39mx)\n",
      "File \u001b[0;32m/opt/homebrew/anaconda3/envs/pqe/lib/python3.11/site-packages/scipy/optimize/_minimize.py:684\u001b[0m, in \u001b[0;36mminimize\u001b[0;34m(fun, x0, args, method, jac, hess, hessp, bounds, constraints, tol, callback, options)\u001b[0m\n\u001b[1;32m    681\u001b[0m     bounds \u001b[38;5;241m=\u001b[39m standardize_bounds(bounds, x0, meth)\n\u001b[1;32m    683\u001b[0m \u001b[38;5;28;01mif\u001b[39;00m meth \u001b[38;5;241m==\u001b[39m \u001b[38;5;124m'\u001b[39m\u001b[38;5;124mnelder-mead\u001b[39m\u001b[38;5;124m'\u001b[39m:\n\u001b[0;32m--> 684\u001b[0m     res \u001b[38;5;241m=\u001b[39m \u001b[43m_minimize_neldermead\u001b[49m\u001b[43m(\u001b[49m\u001b[43mfun\u001b[49m\u001b[43m,\u001b[49m\u001b[43m \u001b[49m\u001b[43mx0\u001b[49m\u001b[43m,\u001b[49m\u001b[43m \u001b[49m\u001b[43margs\u001b[49m\u001b[43m,\u001b[49m\u001b[43m \u001b[49m\u001b[43mcallback\u001b[49m\u001b[43m,\u001b[49m\u001b[43m \u001b[49m\u001b[43mbounds\u001b[49m\u001b[38;5;241;43m=\u001b[39;49m\u001b[43mbounds\u001b[49m\u001b[43m,\u001b[49m\n\u001b[1;32m    685\u001b[0m \u001b[43m                               \u001b[49m\u001b[38;5;241;43m*\u001b[39;49m\u001b[38;5;241;43m*\u001b[39;49m\u001b[43moptions\u001b[49m\u001b[43m)\u001b[49m\n\u001b[1;32m    686\u001b[0m \u001b[38;5;28;01melif\u001b[39;00m meth \u001b[38;5;241m==\u001b[39m \u001b[38;5;124m'\u001b[39m\u001b[38;5;124mpowell\u001b[39m\u001b[38;5;124m'\u001b[39m:\n\u001b[1;32m    687\u001b[0m     res \u001b[38;5;241m=\u001b[39m _minimize_powell(fun, x0, args, callback, bounds, \u001b[38;5;241m*\u001b[39m\u001b[38;5;241m*\u001b[39moptions)\n",
      "File \u001b[0;32m/opt/homebrew/anaconda3/envs/pqe/lib/python3.11/site-packages/scipy/optimize/_optimize.py:921\u001b[0m, in \u001b[0;36m_minimize_neldermead\u001b[0;34m(func, x0, args, callback, maxiter, maxfev, disp, return_all, initial_simplex, xatol, fatol, adaptive, bounds, **unknown_options)\u001b[0m\n\u001b[1;32m    918\u001b[0m                     \u001b[38;5;28;01mif\u001b[39;00m bounds \u001b[38;5;129;01mis\u001b[39;00m \u001b[38;5;129;01mnot\u001b[39;00m \u001b[38;5;28;01mNone\u001b[39;00m:\n\u001b[1;32m    919\u001b[0m                         sim[j] \u001b[38;5;241m=\u001b[39m np\u001b[38;5;241m.\u001b[39mclip(\n\u001b[1;32m    920\u001b[0m                             sim[j], lower_bound, upper_bound)\n\u001b[0;32m--> 921\u001b[0m                     fsim[j] \u001b[38;5;241m=\u001b[39m \u001b[43mfunc\u001b[49m\u001b[43m(\u001b[49m\u001b[43msim\u001b[49m\u001b[43m[\u001b[49m\u001b[43mj\u001b[49m\u001b[43m]\u001b[49m\u001b[43m)\u001b[49m\n\u001b[1;32m    922\u001b[0m     iterations \u001b[38;5;241m+\u001b[39m\u001b[38;5;241m=\u001b[39m \u001b[38;5;241m1\u001b[39m\n\u001b[1;32m    923\u001b[0m \u001b[38;5;28;01mexcept\u001b[39;00m _MaxFuncCallError:\n",
      "File \u001b[0;32m/opt/homebrew/anaconda3/envs/pqe/lib/python3.11/site-packages/scipy/optimize/_optimize.py:569\u001b[0m, in \u001b[0;36m_wrap_scalar_function_maxfun_validation.<locals>.function_wrapper\u001b[0;34m(x, *wrapper_args)\u001b[0m\n\u001b[1;32m    567\u001b[0m ncalls[\u001b[38;5;241m0\u001b[39m] \u001b[38;5;241m+\u001b[39m\u001b[38;5;241m=\u001b[39m \u001b[38;5;241m1\u001b[39m\n\u001b[1;32m    568\u001b[0m \u001b[38;5;66;03m# A copy of x is sent to the user function (gh13740)\u001b[39;00m\n\u001b[0;32m--> 569\u001b[0m fx \u001b[38;5;241m=\u001b[39m \u001b[43mfunction\u001b[49m\u001b[43m(\u001b[49m\u001b[43mnp\u001b[49m\u001b[38;5;241;43m.\u001b[39;49m\u001b[43mcopy\u001b[49m\u001b[43m(\u001b[49m\u001b[43mx\u001b[49m\u001b[43m)\u001b[49m\u001b[43m,\u001b[49m\u001b[43m \u001b[49m\u001b[38;5;241;43m*\u001b[39;49m\u001b[43m(\u001b[49m\u001b[43mwrapper_args\u001b[49m\u001b[43m \u001b[49m\u001b[38;5;241;43m+\u001b[39;49m\u001b[43m \u001b[49m\u001b[43margs\u001b[49m\u001b[43m)\u001b[49m\u001b[43m)\u001b[49m\n\u001b[1;32m    570\u001b[0m \u001b[38;5;66;03m# Ideally, we'd like to a have a true scalar returned from f(x). For\u001b[39;00m\n\u001b[1;32m    571\u001b[0m \u001b[38;5;66;03m# backwards-compatibility, also allow np.array([1.3]),\u001b[39;00m\n\u001b[1;32m    572\u001b[0m \u001b[38;5;66;03m# np.array([[1.3]]) etc.\u001b[39;00m\n\u001b[1;32m    573\u001b[0m \u001b[38;5;28;01mif\u001b[39;00m \u001b[38;5;129;01mnot\u001b[39;00m np\u001b[38;5;241m.\u001b[39misscalar(fx):\n",
      "Cell \u001b[0;32mIn[20], line 15\u001b[0m, in \u001b[0;36mobj2_nonuniformity\u001b[0;34m(x)\u001b[0m\n\u001b[1;32m     12\u001b[0m     obj_ring_config \u001b[38;5;241m=\u001b[39m [[Br, mag_dir, mirror1_z, innerrad1, width1, thickness1, dist1],\n\u001b[1;32m     13\u001b[0m                        [Br, mag_dir, mirror2_z, innerrad2, width2, thickness2, dist2]]\n\u001b[1;32m     14\u001b[0m     magnets \u001b[38;5;241m=\u001b[39m n_rings(obj_ring_config)\n\u001b[0;32m---> 15\u001b[0m     grid_field, center_field, av_nonuniformity, max_abs_nonuniformity \u001b[38;5;241m=\u001b[39m \u001b[43mget_grid_nonuniformity\u001b[49m\u001b[43m(\u001b[49m\u001b[43mmagnets\u001b[49m\u001b[43m,\u001b[49m\u001b[43m \u001b[49m\u001b[43mgrid\u001b[49m\u001b[43m,\u001b[49m\u001b[43m \u001b[49m\u001b[43mgrid_res\u001b[49m\u001b[43m,\u001b[49m\u001b[43m \u001b[49m\u001b[43muse_z\u001b[49m\u001b[38;5;241;43m=\u001b[39;49m\u001b[38;5;28;43;01mTrue\u001b[39;49;00m\u001b[43m)\u001b[49m\n\u001b[1;32m     16\u001b[0m     cost \u001b[38;5;241m=\u001b[39m av_nonuniformity\u001b[38;5;241m*\u001b[39m\u001b[38;5;28mabs\u001b[39m(center_field \u001b[38;5;241m-\u001b[39m field_strength_target)\n\u001b[1;32m     17\u001b[0m \u001b[38;5;66;03m#     cost = av_nonuniformity*abs(center_field - field_strength_target)**2\u001b[39;00m\n\u001b[1;32m     18\u001b[0m \u001b[38;5;66;03m#     cost = av_nonuniformity * 1e10 + abs(center_field - field_strength_target)\u001b[39;00m\n\u001b[1;32m     19\u001b[0m \u001b[38;5;66;03m#     cost = av_nonuniformity*np.exp(abs(center_field - field_strength_target)**2)\u001b[39;00m\n\u001b[1;32m     20\u001b[0m \u001b[38;5;66;03m#     cost = alpha*av_nonuniformity * 1e8 + (1-alpha)*abs(center_field - field_strength_target)\u001b[39;00m\n",
      "File \u001b[0;32m~/Documents/quantum/quantum_notes/projects/b_field/simulations/b-field-uniformity/maghelper.py:491\u001b[0m, in \u001b[0;36mget_grid_nonuniformity\u001b[0;34m(magnets, grid, grid_res, use_z)\u001b[0m\n\u001b[1;32m    490\u001b[0m \u001b[38;5;28;01mdef\u001b[39;00m \u001b[38;5;21mget_grid_nonuniformity\u001b[39m(magnets, grid, grid_res, use_z\u001b[38;5;241m=\u001b[39m\u001b[38;5;28;01mFalse\u001b[39;00m):\n\u001b[0;32m--> 491\u001b[0m     Gmag, Gnon, Gcenter, av_nonuniformity, max_nonuniformity \u001b[38;5;241m=\u001b[39m \u001b[43mget_grid_mag_and_nonuniformity\u001b[49m\u001b[43m(\u001b[49m\u001b[43mmagnets\u001b[49m\u001b[43m,\u001b[49m\u001b[43m \u001b[49m\u001b[43mgrid\u001b[49m\u001b[43m,\u001b[49m\u001b[43m \u001b[49m\u001b[43mgrid_res\u001b[49m\u001b[43m,\u001b[49m\u001b[43m \u001b[49m\u001b[43muse_z\u001b[49m\u001b[43m)\u001b[49m\n\u001b[1;32m    492\u001b[0m     \u001b[38;5;28;01mreturn\u001b[39;00m Gnon, Gcenter, av_nonuniformity, max_nonuniformity\n",
      "File \u001b[0;32m~/Documents/quantum/quantum_notes/projects/b_field/simulations/b-field-uniformity/maghelper.py:467\u001b[0m, in \u001b[0;36mget_grid_mag_and_nonuniformity\u001b[0;34m(magnets, grid, grid_res, use_z)\u001b[0m\n\u001b[1;32m    465\u001b[0m \u001b[38;5;28;01mdef\u001b[39;00m \u001b[38;5;21mget_grid_mag_and_nonuniformity\u001b[39m(magnets, grid, grid_res, use_z\u001b[38;5;241m=\u001b[39m\u001b[38;5;28;01mFalse\u001b[39;00m):\n\u001b[1;32m    466\u001b[0m     mT_to_G \u001b[38;5;241m=\u001b[39m \u001b[38;5;241m10\u001b[39m\n\u001b[0;32m--> 467\u001b[0m     B \u001b[38;5;241m=\u001b[39m \u001b[43mmagnets\u001b[49m\u001b[38;5;241;43m.\u001b[39;49m\u001b[43mgetB\u001b[49m\u001b[43m(\u001b[49m\u001b[43mgrid\u001b[49m\u001b[43m)\u001b[49m\n\u001b[1;32m    468\u001b[0m     G \u001b[38;5;241m=\u001b[39m B \u001b[38;5;241m*\u001b[39m mT_to_G\n\u001b[1;32m    469\u001b[0m     \u001b[38;5;66;03m# find magnitude of the b-field at all points over grid\u001b[39;00m\n",
      "File \u001b[0;32m/opt/homebrew/anaconda3/envs/pqe/lib/python3.11/site-packages/magpylib/_src/obj_classes/class_Collection.py:580\u001b[0m, in \u001b[0;36mBaseCollection.getB\u001b[0;34m(self, squeeze, pixel_agg, output, *inputs)\u001b[0m\n\u001b[1;32m    520\u001b[0m \u001b[38;5;250m\u001b[39m\u001b[38;5;124;03m\"\"\"Compute B-field in [mT] for given sources and observers.\u001b[39;00m\n\u001b[1;32m    521\u001b[0m \n\u001b[1;32m    522\u001b[0m \u001b[38;5;124;03mParameters\u001b[39;00m\n\u001b[0;32m   (...)\u001b[0m\n\u001b[1;32m    575\u001b[0m \u001b[38;5;124;03m  [ 0.          0.         83.33333333]]]\u001b[39;00m\n\u001b[1;32m    576\u001b[0m \u001b[38;5;124;03m\"\"\"\u001b[39;00m\n\u001b[1;32m    578\u001b[0m sources, sensors \u001b[38;5;241m=\u001b[39m \u001b[38;5;28mself\u001b[39m\u001b[38;5;241m.\u001b[39m_validate_getBH_inputs(\u001b[38;5;241m*\u001b[39minputs)\n\u001b[0;32m--> 580\u001b[0m \u001b[38;5;28;01mreturn\u001b[39;00m \u001b[43mgetBH_level2\u001b[49m\u001b[43m(\u001b[49m\n\u001b[1;32m    581\u001b[0m \u001b[43m    \u001b[49m\u001b[43msources\u001b[49m\u001b[43m,\u001b[49m\n\u001b[1;32m    582\u001b[0m \u001b[43m    \u001b[49m\u001b[43msensors\u001b[49m\u001b[43m,\u001b[49m\n\u001b[1;32m    583\u001b[0m \u001b[43m    \u001b[49m\u001b[43msumup\u001b[49m\u001b[38;5;241;43m=\u001b[39;49m\u001b[38;5;28;43;01mFalse\u001b[39;49;00m\u001b[43m,\u001b[49m\n\u001b[1;32m    584\u001b[0m \u001b[43m    \u001b[49m\u001b[43msqueeze\u001b[49m\u001b[38;5;241;43m=\u001b[39;49m\u001b[43msqueeze\u001b[49m\u001b[43m,\u001b[49m\n\u001b[1;32m    585\u001b[0m \u001b[43m    \u001b[49m\u001b[43mpixel_agg\u001b[49m\u001b[38;5;241;43m=\u001b[39;49m\u001b[43mpixel_agg\u001b[49m\u001b[43m,\u001b[49m\n\u001b[1;32m    586\u001b[0m \u001b[43m    \u001b[49m\u001b[43moutput\u001b[49m\u001b[38;5;241;43m=\u001b[39;49m\u001b[43moutput\u001b[49m\u001b[43m,\u001b[49m\n\u001b[1;32m    587\u001b[0m \u001b[43m    \u001b[49m\u001b[43mfield\u001b[49m\u001b[38;5;241;43m=\u001b[39;49m\u001b[38;5;124;43m\"\u001b[39;49m\u001b[38;5;124;43mB\u001b[39;49m\u001b[38;5;124;43m\"\u001b[39;49m\u001b[43m,\u001b[49m\n\u001b[1;32m    588\u001b[0m \u001b[43m\u001b[49m\u001b[43m)\u001b[49m\n",
      "File \u001b[0;32m/opt/homebrew/anaconda3/envs/pqe/lib/python3.11/site-packages/magpylib/_src/fields/field_wrap_BH.py:311\u001b[0m, in \u001b[0;36mgetBH_level2\u001b[0;34m(sources, observers, field, sumup, squeeze, pixel_agg, output, **kwargs)\u001b[0m\n\u001b[1;32m    309\u001b[0m gr \u001b[38;5;241m=\u001b[39m group[\u001b[38;5;124m\"\u001b[39m\u001b[38;5;124msources\u001b[39m\u001b[38;5;124m\"\u001b[39m]\n\u001b[1;32m    310\u001b[0m src_dict \u001b[38;5;241m=\u001b[39m get_src_dict(gr, n_pix, n_pp, poso)  \u001b[38;5;66;03m# compute array dict for level1\u001b[39;00m\n\u001b[0;32m--> 311\u001b[0m B_group \u001b[38;5;241m=\u001b[39m \u001b[43mgetBH_level1\u001b[49m\u001b[43m(\u001b[49m\n\u001b[1;32m    312\u001b[0m \u001b[43m    \u001b[49m\u001b[43mfield_func\u001b[49m\u001b[38;5;241;43m=\u001b[39;49m\u001b[43mfield_func\u001b[49m\u001b[43m,\u001b[49m\u001b[43m \u001b[49m\u001b[43mfield\u001b[49m\u001b[38;5;241;43m=\u001b[39;49m\u001b[43mfield\u001b[49m\u001b[43m,\u001b[49m\u001b[43m \u001b[49m\u001b[38;5;241;43m*\u001b[39;49m\u001b[38;5;241;43m*\u001b[39;49m\u001b[43msrc_dict\u001b[49m\n\u001b[1;32m    313\u001b[0m \u001b[43m\u001b[49m\u001b[43m)\u001b[49m  \u001b[38;5;66;03m# compute field\u001b[39;00m\n\u001b[1;32m    314\u001b[0m B_group \u001b[38;5;241m=\u001b[39m B_group\u001b[38;5;241m.\u001b[39mreshape(\n\u001b[1;32m    315\u001b[0m     (lg, max_path_len, n_pix, \u001b[38;5;241m3\u001b[39m)\n\u001b[1;32m    316\u001b[0m )  \u001b[38;5;66;03m# reshape (2% slower for large arrays)\u001b[39;00m\n\u001b[1;32m    317\u001b[0m \u001b[38;5;28;01mfor\u001b[39;00m gr_ind \u001b[38;5;129;01min\u001b[39;00m \u001b[38;5;28mrange\u001b[39m(lg):  \u001b[38;5;66;03m# put into dedicated positions in B\u001b[39;00m\n",
      "File \u001b[0;32m/opt/homebrew/anaconda3/envs/pqe/lib/python3.11/site-packages/magpylib/_src/fields/field_wrap_BH.py:140\u001b[0m, in \u001b[0;36mgetBH_level1\u001b[0;34m(field_func, field, position, orientation, observers, **kwargs)\u001b[0m\n\u001b[1;32m    137\u001b[0m pos_rel_rot \u001b[38;5;241m=\u001b[39m orientation\u001b[38;5;241m.\u001b[39mapply(observers \u001b[38;5;241m-\u001b[39m position, inverse\u001b[38;5;241m=\u001b[39m\u001b[38;5;28;01mTrue\u001b[39;00m)\n\u001b[1;32m    139\u001b[0m \u001b[38;5;66;03m# compute field\u001b[39;00m\n\u001b[0;32m--> 140\u001b[0m BH \u001b[38;5;241m=\u001b[39m \u001b[43mfield_func\u001b[49m\u001b[43m(\u001b[49m\u001b[43mfield\u001b[49m\u001b[38;5;241;43m=\u001b[39;49m\u001b[43mfield\u001b[49m\u001b[43m,\u001b[49m\u001b[43m \u001b[49m\u001b[43mobservers\u001b[49m\u001b[38;5;241;43m=\u001b[39;49m\u001b[43mpos_rel_rot\u001b[49m\u001b[43m,\u001b[49m\u001b[43m \u001b[49m\u001b[38;5;241;43m*\u001b[39;49m\u001b[38;5;241;43m*\u001b[39;49m\u001b[43mkwargs\u001b[49m\u001b[43m)\u001b[49m\n\u001b[1;32m    142\u001b[0m \u001b[38;5;66;03m# transform field back into global CS\u001b[39;00m\n\u001b[1;32m    143\u001b[0m BH \u001b[38;5;241m=\u001b[39m orientation\u001b[38;5;241m.\u001b[39mapply(BH)\n",
      "File \u001b[0;32m/opt/homebrew/anaconda3/envs/pqe/lib/python3.11/site-packages/magpylib/_src/fields/field_BH_cylinder_segment.py:2342\u001b[0m, in \u001b[0;36mmagnet_cylinder_segment_field_internal\u001b[0;34m(field, observers, magnetization, dimension)\u001b[0m\n\u001b[1;32m   2336\u001b[0m \u001b[38;5;66;03m# case2a: hollow cylinder <- should be vectorized together with above\u001b[39;00m\n\u001b[1;32m   2337\u001b[0m mask2 \u001b[38;5;241m=\u001b[39m (r1 \u001b[38;5;241m!=\u001b[39m \u001b[38;5;241m0\u001b[39m) \u001b[38;5;241m&\u001b[39m mask1x\n\u001b[1;32m   2338\u001b[0m BHfinal[mask2] \u001b[38;5;241m-\u001b[39m\u001b[38;5;241m=\u001b[39m magnet_cylinder_field(\n\u001b[1;32m   2339\u001b[0m     field,\n\u001b[1;32m   2340\u001b[0m     observers[mask2],\n\u001b[1;32m   2341\u001b[0m     magnetization[mask2],\n\u001b[0;32m-> 2342\u001b[0m     \u001b[43mnp\u001b[49m\u001b[38;5;241;43m.\u001b[39;49m\u001b[43mc_\u001b[49m\u001b[43m[\u001b[49m\u001b[38;5;241;43m2\u001b[39;49m\u001b[43m \u001b[49m\u001b[38;5;241;43m*\u001b[39;49m\u001b[43m \u001b[49m\u001b[43mr1\u001b[49m\u001b[43m[\u001b[49m\u001b[43mmask2\u001b[49m\u001b[43m]\u001b[49m\u001b[43m,\u001b[49m\u001b[43m \u001b[49m\u001b[43mh\u001b[49m\u001b[43m[\u001b[49m\u001b[43mmask2\u001b[49m\u001b[43m]\u001b[49m\u001b[43m]\u001b[49m,\n\u001b[1;32m   2343\u001b[0m )\n\u001b[1;32m   2345\u001b[0m \u001b[38;5;28;01mreturn\u001b[39;00m BHfinal\n",
      "File \u001b[0;32m/opt/homebrew/anaconda3/envs/pqe/lib/python3.11/site-packages/numpy/lib/index_tricks.py:329\u001b[0m, in \u001b[0;36mAxisConcatenator.__getitem__\u001b[0;34m(self, key)\u001b[0m\n\u001b[1;32m    326\u001b[0m     \u001b[38;5;28mself\u001b[39m\u001b[38;5;241m.\u001b[39mtrans1d \u001b[38;5;241m=\u001b[39m trans1d\n\u001b[1;32m    327\u001b[0m     \u001b[38;5;28mself\u001b[39m\u001b[38;5;241m.\u001b[39mndmin \u001b[38;5;241m=\u001b[39m ndmin\n\u001b[0;32m--> 329\u001b[0m \u001b[38;5;28;01mdef\u001b[39;00m \u001b[38;5;21m__getitem__\u001b[39m(\u001b[38;5;28mself\u001b[39m, key):\n\u001b[1;32m    330\u001b[0m     \u001b[38;5;66;03m# handle matrix builder syntax\u001b[39;00m\n\u001b[1;32m    331\u001b[0m     \u001b[38;5;28;01mif\u001b[39;00m \u001b[38;5;28misinstance\u001b[39m(key, \u001b[38;5;28mstr\u001b[39m):\n\u001b[1;32m    332\u001b[0m         frame \u001b[38;5;241m=\u001b[39m sys\u001b[38;5;241m.\u001b[39m_getframe()\u001b[38;5;241m.\u001b[39mf_back\n",
      "\u001b[0;31mKeyboardInterrupt\u001b[0m: "
     ]
    }
   ],
   "source": [
    "import numpy as np\n",
    "from scipy.optimize import minimize, Bounds\n",
    "from maggeometry import n_rings\n",
    "from maghelper import get_field_on_axes, get_nonuniformity, make_flux_stream, centered_sweep_range, get_grid_nonuniformity, make_grid\n",
    "from alive_progress import alive_bar\n",
    "import random\n",
    "results2_x = []\n",
    "results2_fun = []\n",
    "method2 = 'Nelder-Mead'\n",
    "options2 = {'disp':True, 'fatol': 1e-17, 'adaptive': True, 'maxiter': 5e3}\n",
    "s = 0.0\n",
    "with alive_bar(len(st2g), force_tty=True) as bar:\n",
    "    for s0 in st2g:\n",
    "        innerrad1, width1, thickness1, dist1 = s0[2:6]\n",
    "        innerrad2, width2, thickness2, dist2 = s0[6:10]\n",
    "        res2 = minimize(obj2_nonuniformity, [innerrad1,\n",
    "                                             width1,\n",
    "                                             thickness1,\n",
    "                                             dist1,\n",
    "                                             innerrad2,\n",
    "                                             width2,\n",
    "                                             thickness2,\n",
    "                                             dist2], method=method2, options=options2, bounds=bounds2)\n",
    "        print(res2.x)\n",
    "        results2_x.append(res2.x)\n",
    "        results2_fun.append(res2.fun)\n",
    "        bar()\n",
    "        \n",
    "print(results2_x)\n",
    "print(results2_fun)"
   ]
  },
  {
   "cell_type": "code",
   "execution_count": 37,
   "id": "444360f5",
   "metadata": {},
   "outputs": [
    {
     "name": "stdout",
     "output_type": "stream",
     "text": [
      "[array([ 44.95015098,  16.81101237,   7.22257731, 164.78843967,\n",
      "       146.20670731,  18.73449231,  13.49079656, 168.33450622]), array([ 89.23880804,  10.21869755,  19.63174819, 206.8087215 ,\n",
      "       138.22423358,   2.94213257,   8.0933496 , 105.16397327])]\n",
      "[3.610999289102799e-10, 1.7752984546057232e-10]\n",
      "[1.0264409176009655e-11, 1.0671758674059157e-11]\n",
      "[45.17980652547013, 26.63548163735287]\n"
     ]
    }
   ],
   "source": [
    "from maggeometry import n_rings, three_rings\n",
    "grid_res = 101\n",
    "grid = make_xy_grid([-10, 10], [-10, 10], grid_res)\n",
    "results2_nonun = []\n",
    "results2_g_center = []\n",
    "for x in results2_x:\n",
    "#     innerrad1, width1, thickness1, innerrad2, width2, thickness2, dist2 = x\n",
    "    obj_ring_config=[[*ringset_1_config, *x[0:4]], [*ringset_2_config, *x[4:8]]]\n",
    "    magnets = n_rings(obj_ring_config)\n",
    "    grid_field, center_field, av_nonuniformity, max_abs_nonuniformity = get_grid_nonuniformity(magnets, grid, grid_res)\n",
    "    results2_nonun.append(obj1_nonuniformity(x))\n",
    "    results2_g_center.append(center_field)\n",
    "print(results2_x)\n",
    "print(results2_fun)\n",
    "print(results2_nonun)\n",
    "print(results2_g_center)"
   ]
  },
  {
   "cell_type": "code",
   "execution_count": null,
   "id": "e61fbdb6",
   "metadata": {},
   "outputs": [],
   "source": []
  },
  {
   "cell_type": "code",
   "execution_count": null,
   "id": "689f6979",
   "metadata": {},
   "outputs": [],
   "source": []
  },
  {
   "cell_type": "code",
   "execution_count": null,
   "id": "f0cb789f",
   "metadata": {},
   "outputs": [],
   "source": []
  },
  {
   "cell_type": "code",
   "execution_count": null,
   "id": "dcf45ed5",
   "metadata": {},
   "outputs": [],
   "source": []
  },
  {
   "cell_type": "code",
   "execution_count": null,
   "id": "920624d0",
   "metadata": {},
   "outputs": [],
   "source": []
  },
  {
   "cell_type": "code",
   "execution_count": null,
   "id": "9bc48c2a",
   "metadata": {},
   "outputs": [],
   "source": []
  },
  {
   "cell_type": "code",
   "execution_count": null,
   "id": "31978955",
   "metadata": {},
   "outputs": [],
   "source": []
  }
 ],
 "metadata": {
  "celltoolbar": "Raw Cell Format",
  "kernelspec": {
   "display_name": "Python 3 (ipykernel)",
   "language": "python",
   "name": "python3"
  },
  "language_info": {
   "codemirror_mode": {
    "name": "ipython",
    "version": 3
   },
   "file_extension": ".py",
   "mimetype": "text/x-python",
   "name": "python",
   "nbconvert_exporter": "python",
   "pygments_lexer": "ipython3",
   "version": "3.11.3"
  }
 },
 "nbformat": 4,
 "nbformat_minor": 5
}
