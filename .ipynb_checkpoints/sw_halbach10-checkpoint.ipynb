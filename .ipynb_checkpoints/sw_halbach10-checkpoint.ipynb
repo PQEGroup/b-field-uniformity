{
 "cells": [
  {
   "cell_type": "code",
   "execution_count": 1,
   "id": "f09b69e8-4464-4b40-8241-84266b1cfbcd",
   "metadata": {},
   "outputs": [],
   "source": [
    "import numpy as np\n",
    "import magpylib as magpy\n",
    "from magpylib.magnet import Cuboid, Cylinder, CylinderSegment\n",
    "from maggeometry import halbach_cylinder\n",
    "import plotly.graph_objects as go\n",
    "from plotly.subplots import make_subplots\n",
    "import matplotlib.pyplot as plt\n",
    "import numpy as np\n",
    "from scipy.optimize import minimize, Bounds\n",
    "from maghelper import get_field_on_axes, get_nonuniformity, make_flux_stream, centered_sweep_range, get_grid_nonuniformity, make_grid"
   ]
  },
  {
   "cell_type": "markdown",
   "id": "49da9989-4214-41f7-908c-374a20df21e8",
   "metadata": {},
   "source": [
    "### Nelder-Mead Adaptive Optimization of Halbach 10 main\n",
    "n = 10\n",
    "\n",
    "### Samwise"
   ]
  },
  {
   "cell_type": "code",
   "execution_count": 2,
   "id": "de664111-788c-4a6e-ad2f-3a54325673bd",
   "metadata": {},
   "outputs": [],
   "source": [
    "# def halbach_cylinder(Br, c_d, c_h, D, n, alternate=False):"
   ]
  },
  {
   "cell_type": "code",
   "execution_count": 3,
   "id": "d59be79b-87f9-4483-a15c-783a1a58ca22",
   "metadata": {},
   "outputs": [],
   "source": [
    "def get_grid_mag_and_target_nonuniformity(magnets, grid, grid_res, target=10, use_z=False):\n",
    "    mT_to_G = 10\n",
    "    B = magnets.getB(grid)\n",
    "    G = B * mT_to_G\n",
    "    # find magnitude of the b-field at all points over grid\n",
    "    Gmag = 0\n",
    "    if use_z:\n",
    "        Gmag = G[:,:,2]\n",
    "    else:\n",
    "        Gmag = np.linalg.norm(G, axis=2)\n",
    "#     Gmag = np.sqrt(G[:,:,0]**2 + G[:,:,1]**2 + G[:,:,2]**2)\n",
    "#     Gmag = G[:,:,2]\n",
    "    # find magnitude of b-field at center of grid\n",
    "    mid_id = int(grid_res/2)\n",
    "    Gcenter = Gmag[mid_id][mid_id]\n",
    "    # calculate nonuniformity with respect to center b-field\n",
    "    Gnon = np.abs((Gmag - Gcenter)/Gcenter)\n",
    "    Gtarget_non = np.abs((Gmag - target)/target)\n",
    "#     Gtarget_non = np.abs((Gmag - target)/target)\n",
    "#     max_nonuniformity = np.max(Gnon)\n",
    "    av_nonuniformity = np.sum(Gnon) / grid_res**2\n",
    "    av_target_nonuniformity = np.sum(Gtarget_non) / grid_res**2\n",
    "#     return Gmag, Gnon, Gcenter, av_nonuniformity, av_target_nonuniformity, max_nonuniformity\n",
    "    return Gcenter, av_nonuniformity, av_target_nonuniformity"
   ]
  },
  {
   "cell_type": "code",
   "execution_count": 4,
   "id": "f147ec97-7d3b-4049-9a0a-92dc843f1c26",
   "metadata": {},
   "outputs": [],
   "source": [
    "from maghelper import get_field_on_axes, get_nonuniformity, make_flux_stream, centered_sweep_range, get_grid_nonuniformity, make_xy_grid"
   ]
  },
  {
   "cell_type": "code",
   "execution_count": 5,
   "id": "eb51176a-db8d-438d-919d-0e9c09e32fb9",
   "metadata": {},
   "outputs": [],
   "source": [
    "n = 10\n",
    "grid_res = 101\n",
    "grid = make_xy_grid([-10, 10], [-10, 10], grid_res)\n",
    "Br = 1.09e3\n",
    "c_h = 640\n",
    "threshold = 0.1 # in G\n",
    "target = 10\n",
    "\n",
    "          #c_d,     D\n",
    "bounds = ((1, 20), (21, 300))\n",
    "\n",
    "def obj1_nonuniformity(x):\n",
    "    magnets = halbach_cylinder(Br, x[0], c_h, x[1], n)\n",
    "    center_field, av_nonuniformity, av_target_nonuniformity = get_grid_mag_and_target_nonuniformity(magnets, grid, grid_res, target)\n",
    "    if (abs(center_field - target) > threshold):\n",
    "        return av_target_nonuniformity\n",
    "    return av_nonuniformity"
   ]
  },
  {
   "cell_type": "code",
   "execution_count": 6,
   "id": "e692a56d-49f5-462d-8d85-9e8f2157066d",
   "metadata": {
    "scrolled": true
   },
   "outputs": [
    {
     "name": "stdout",
     "output_type": "stream",
     "text": [
      "[13.749130184081235, 166.74011153083745]\n",
      "Optimization terminated successfully.\n",
      "         Current function value: 0.000019\n",
      "         Iterations: 102\n",
      "         Function evaluations: 235\n",
      "[14.576512684023815, 225.4106473329965]\n",
      "Optimization terminated successfully.\n",
      "         Current function value: 0.000027\n",
      "         Iterations: 113\n",
      "         Function evaluations: 261\n",
      "[17.63985911764754, 158.85512370548875]\n"
     ]
    },
    {
     "name": "stderr",
     "output_type": "stream",
     "text": [
      "/var/folders/06/7pjfbw510cz2ch1m7lx8vvl80000gn/T/ipykernel_22090/1123013417.py:14: RuntimeWarning: Maximum number of iterations has been exceeded.\n",
      "  res = minimize(obj1_nonuniformity, x0, method=method, options=options, bounds=bounds)\n"
     ]
    },
    {
     "name": "stdout",
     "output_type": "stream",
     "text": [
      "[12.825099221268367, 245.19422937388998]\n",
      "Optimization terminated successfully.\n",
      "         Current function value: 0.000027\n",
      "         Iterations: 110\n",
      "         Function evaluations: 264\n",
      "[1.6060780232190348, 166.49522158981864]\n",
      "[15.435067067901645, 146.69628075465522]\n",
      "Optimization terminated successfully.\n",
      "         Current function value: 0.000001\n",
      "         Iterations: 404\n",
      "         Function evaluations: 857\n",
      "[6.118877282432251, 227.54951169884214]\n",
      "[11.864688017940983, 238.49507183755756]\n",
      "Optimization terminated successfully.\n",
      "         Current function value: 0.000027\n",
      "         Iterations: 104\n",
      "         Function evaluations: 254\n",
      "[18.380728107766494, 32.87414314009353]\n",
      "[15.998503939032084, 135.94768907401513]\n",
      "Optimization terminated successfully.\n",
      "         Current function value: 0.000001\n",
      "         Iterations: 188\n",
      "         Function evaluations: 428\n",
      "[13.34879658826368, 28.926825974162394]\n",
      "[19.308433578463923, 253.966994186805]\n",
      "Optimization terminated successfully.\n",
      "         Current function value: 0.000027\n",
      "         Iterations: 92\n",
      "         Function evaluations: 228\n",
      "[3.492557779906323, 124.9033365361197]\n",
      "[19.918842856686513, 97.94390085135996]\n",
      "Optimization terminated successfully.\n",
      "         Current function value: 0.000027\n",
      "         Iterations: 109\n",
      "         Function evaluations: 261\n",
      "[9.31441029269076, 274.83915742336217]\n",
      "Optimization terminated successfully.\n",
      "         Current function value: 0.000027\n",
      "         Iterations: 98\n",
      "         Function evaluations: 243\n",
      "[6.1603798054566585, 292.0667572425293]\n",
      "Optimization terminated successfully.\n",
      "         Current function value: 0.000027\n",
      "         Iterations: 98\n",
      "         Function evaluations: 235\n",
      "[19.731198205305617, 94.65375311270698]\n",
      "Optimization terminated successfully.\n",
      "         Current function value: 0.000027\n",
      "         Iterations: 102\n",
      "         Function evaluations: 242\n",
      "[11.641628639630401, 270.7135010383965]\n",
      "Optimization terminated successfully.\n",
      "         Current function value: 0.000027\n",
      "         Iterations: 110\n",
      "         Function evaluations: 267\n",
      "[4.018242681283578, 257.52042596079775]\n",
      "[2.3957069151191064, 105.84939057961013]\n",
      "Optimization terminated successfully.\n",
      "         Current function value: 0.000001\n",
      "         Iterations: 118\n",
      "         Function evaluations: 274\n",
      "[12.573563142525309, 92.16898160520874]\n",
      "Optimization terminated successfully.\n",
      "         Current function value: 0.000001\n",
      "         Iterations: 183\n",
      "         Function evaluations: 409\n",
      "[5.069651694872152, 268.8556917948523]\n",
      "Optimization terminated successfully.\n",
      "         Current function value: 0.000027\n",
      "         Iterations: 101\n",
      "         Function evaluations: 249\n",
      "[2.0653564978050283, 233.3249663966845]\n",
      "Optimization terminated successfully.\n",
      "         Current function value: 0.000001\n",
      "         Iterations: 117\n",
      "         Function evaluations: 282\n",
      "[5.41644871921881, 284.47397760761095]\n",
      "[13.54470267055363, 175.47286450654687]\n",
      "Objective function values:\n",
      "[1.8826814835766564e-05, 2.6597501863064845e-05, 1.8047643693956588e-05, 2.6597500512177215e-05, 6.274605430246251e-07, 6.274754957792565e-07, 6.274724022111509e-07, 2.659750244127822e-05, 2.396364274353486e-06, 6.275037804544491e-07, 2.396370119091893e-06, 2.6597503597376368e-05, 6.274791570380341e-07, 2.6597503781057143e-05, 2.6597506901907903e-05, 2.6597502893683083e-05, 2.659750433411991e-05, 2.659750213191318e-05, 6.274881717522829e-07, 6.274623175286173e-07, 6.274835424766552e-07, 2.6597502852839564e-05, 6.2745124531076e-07, 2.6597504183044885e-05, 2.4022906736236873e-05]\n",
      "Result parameters:\n",
      "[array([  3.63986191, 266.22425891]), array([  4.11058208, 300.        ]), array([  3.58834144, 262.51068895]), array([  4.11046278, 300.        ]), array([ 1.28758116, 95.23744008]), array([ 1.29607843, 95.25284018]), array([ 1.28894409, 95.14789273]), array([  4.11054364, 300.        ]), array([ 1.        , 74.19345188]), array([ 1.28976262, 95.1193574 ]), array([ 1.        , 74.19342344]), array([  4.10969743, 300.        ]), array([ 1.2882745 , 95.14282064]), array([  4.10923007, 300.        ]), array([  4.10796129, 300.        ]), array([  4.11051312, 300.        ]), array([  4.10944635, 300.        ]), array([  4.11071357, 300.        ]), array([ 1.28860033, 95.17241344]), array([ 1.29082997, 95.26112591]), array([ 1.2893825 , 95.18017415]), array([  4.11053756, 300.        ]), array([ 1.29299299, 95.2249051 ]), array([  4.10942136, 300.        ]), array([  3.96183874, 289.35291477])]\n",
      "Starting guesses:\n",
      "[[13.749130184081235, 166.74011153083745], [14.576512684023815, 225.4106473329965], [17.63985911764754, 158.85512370548875], [12.825099221268367, 245.19422937388998], [1.6060780232190348, 166.49522158981864], [15.435067067901645, 146.69628075465522], [6.118877282432251, 227.54951169884214], [11.864688017940983, 238.49507183755756], [18.380728107766494, 32.87414314009353], [15.998503939032084, 135.94768907401513], [13.34879658826368, 28.926825974162394], [19.308433578463923, 253.966994186805], [3.492557779906323, 124.9033365361197], [19.918842856686513, 97.94390085135996], [9.31441029269076, 274.83915742336217], [6.1603798054566585, 292.0667572425293], [19.731198205305617, 94.65375311270698], [11.641628639630401, 270.7135010383965], [4.018242681283578, 257.52042596079775], [2.3957069151191064, 105.84939057961013], [12.573563142525309, 92.16898160520874], [5.069651694872152, 268.8556917948523], [2.0653564978050283, 233.3249663966845], [5.41644871921881, 284.47397760761095], [13.54470267055363, 175.47286450654687]]\n"
     ]
    }
   ],
   "source": [
    "options = {'disp': True, 'fatol': 1e-18, 'maxiter': 5e3, 'adaptive': True}\n",
    "method = \"Nelder-Mead\"\n",
    "\n",
    "shots = 25\n",
    "results_x = []\n",
    "results_fun = []\n",
    "guesses_x0 = []\n",
    "b_len = len(bounds)\n",
    "for i in range(shots):\n",
    "    x0 = [0, 0]\n",
    "    for b in range(b_len):\n",
    "        x0[b] = np.random.uniform(low=bounds[b][0], high=bounds[b][1])\n",
    "    print(x0)\n",
    "    res = minimize(obj1_nonuniformity, x0, method=method, options=options, bounds=bounds)\n",
    "    guesses_x0.append(x0)\n",
    "    results_x.append(res.x)\n",
    "    results_fun.append(res.fun)\n",
    "\n",
    "print(\"Objective function values:\")\n",
    "print(results_fun)\n",
    "print(\"Result parameters:\")\n",
    "print(results_x)\n",
    "print(\"Starting guesses:\")\n",
    "print(guesses_x0)"
   ]
  },
  {
   "cell_type": "code",
   "execution_count": 7,
   "id": "589652d9-7526-4bd5-9856-9cca94938169",
   "metadata": {},
   "outputs": [
    {
     "name": "stdout",
     "output_type": "stream",
     "text": [
      "[array([  3.63986191, 266.22425891]), array([  4.11058208, 300.        ]), array([  3.58834144, 262.51068895]), array([  4.11046278, 300.        ]), array([ 1.28758116, 95.23744008]), array([ 1.29607843, 95.25284018]), array([ 1.28894409, 95.14789273]), array([  4.11054364, 300.        ]), array([ 1.        , 74.19345188]), array([ 1.28976262, 95.1193574 ]), array([ 1.        , 74.19342344]), array([  4.10969743, 300.        ]), array([ 1.2882745 , 95.14282064]), array([  4.10923007, 300.        ]), array([  4.10796129, 300.        ]), array([  4.11051312, 300.        ]), array([  4.10944635, 300.        ]), array([  4.11071357, 300.        ]), array([ 1.28860033, 95.17241344]), array([ 1.29082997, 95.26112591]), array([ 1.2893825 , 95.18017415]), array([  4.11053756, 300.        ]), array([ 1.29299299, 95.2249051 ]), array([  4.10942136, 300.        ]), array([  3.96183874, 289.35291477])]\n"
     ]
    }
   ],
   "source": [
    "print(results_x)"
   ]
  },
  {
   "cell_type": "code",
   "execution_count": 8,
   "id": "e4452b35-0ab3-46a1-98dc-53f18db65ebf",
   "metadata": {},
   "outputs": [],
   "source": [
    "charr = np.full((1, shots), 640).flatten()\n",
    "r_n = np.full((1, shots), n).flatten()"
   ]
  },
  {
   "cell_type": "code",
   "execution_count": 9,
   "id": "3ade58bf-00ea-4069-bf6a-ec6884fb1768",
   "metadata": {},
   "outputs": [],
   "source": [
    "from maggeometry import halbach_cylinder\n",
    "from maghelper import get_field_on_axes, get_nonuniformity, make_flux_stream, centered_sweep_range, get_grid_nonuniformity, make_xy_grid, get_grid_mag_and_nonuniformity\n",
    "grid_res = 101\n",
    "grid = make_xy_grid([-10, 10], [-10, 10], grid_res)\n",
    "results_g_center = []\n",
    "results_nonun = []\n",
    "for x in results_x:\n",
    "    magnets = halbach_cylinder(Br, x[0], charr[0], x[1], n)\n",
    "    Gmag, Gnon, center_field, av_nonuniformity, max_abs_nonuniformity = get_grid_mag_and_nonuniformity(magnets, grid, grid_res)\n",
    "    results_g_center.append(center_field)\n",
    "    results_nonun.append(av_nonuniformity)"
   ]
  },
  {
   "cell_type": "code",
   "execution_count": 10,
   "id": "c8fd0acb-f506-49cb-900c-aed1476f3a0f",
   "metadata": {
    "scrolled": true
   },
   "outputs": [
    {
     "name": "stdout",
     "output_type": "stream",
     "text": [
      "Number of unique results: 25\n",
      "    nonuniformity  center_field_gauss  n_rods  cyl_height  cyl_diameter  \\\n",
      "0    6.274512e-07           10.046407    10.0       640.0      1.292993   \n",
      "1    6.274605e-07            9.959862    10.0       640.0      1.287581   \n",
      "2    6.274623e-07           10.005207    10.0       640.0      1.290830   \n",
      "3    6.274724e-07            9.999760    10.0       640.0      1.288944   \n",
      "4    6.274755e-07           10.088489    10.0       640.0      1.296078   \n",
      "5    6.274792e-07            9.990439    10.0       640.0      1.288274   \n",
      "6    6.274835e-07            9.999775    10.0       640.0      1.289382   \n",
      "7    6.274882e-07            9.989276    10.0       640.0      1.288600   \n",
      "8    6.275038e-07           10.018475    10.0       640.0      1.289763   \n",
      "9    2.396364e-06            9.900032    10.0       640.0      1.000000   \n",
      "10   2.396370e-06            9.900039    10.0       640.0      1.000000   \n",
      "11   1.804764e-05           10.099997    10.0       640.0      3.588341   \n",
      "12   1.882681e-05           10.099993    10.0       640.0      3.639862   \n",
      "13   2.402291e-05           10.099990    10.0       640.0      3.961839   \n",
      "14   2.659750e-05           10.098568    10.0       640.0      4.110463   \n",
      "15   2.659750e-05           10.099155    10.0       640.0      4.110582   \n",
      "16   2.659750e-05           10.099801    10.0       640.0      4.110714   \n",
      "17   2.659750e-05           10.098966    10.0       640.0      4.110544   \n",
      "18   2.659750e-05           10.098936    10.0       640.0      4.110538   \n",
      "19   2.659750e-05           10.098816    10.0       640.0      4.110513   \n",
      "20   2.659750e-05           10.094808    10.0       640.0      4.109697   \n",
      "21   2.659750e-05           10.092512    10.0       640.0      4.109230   \n",
      "22   2.659750e-05           10.093452    10.0       640.0      4.109421   \n",
      "23   2.659750e-05           10.093575    10.0       640.0      4.109446   \n",
      "24   2.659751e-05           10.086281    10.0       640.0      4.107961   \n",
      "\n",
      "             D  g_cyl_diameter         g_D  \n",
      "0    95.224905        2.065356  233.324966  \n",
      "1    95.237440        1.606078  166.495222  \n",
      "2    95.261126        2.395707  105.849391  \n",
      "3    95.147893        6.118877  227.549512  \n",
      "4    95.252840       15.435067  146.696281  \n",
      "5    95.142821        3.492558  124.903337  \n",
      "6    95.180174       12.573563   92.168982  \n",
      "7    95.172413        4.018243  257.520426  \n",
      "8    95.119357       15.998504  135.947689  \n",
      "9    74.193452       18.380728   32.874143  \n",
      "10   74.193423       13.348797   28.926826  \n",
      "11  262.510689       17.639859  158.855124  \n",
      "12  266.224259       13.749130  166.740112  \n",
      "13  289.352915       13.544703  175.472865  \n",
      "14  300.000000       12.825099  245.194229  \n",
      "15  300.000000       14.576513  225.410647  \n",
      "16  300.000000       11.641629  270.713501  \n",
      "17  300.000000       11.864688  238.495072  \n",
      "18  300.000000        5.069652  268.855692  \n",
      "19  300.000000        6.160380  292.066757  \n",
      "20  300.000000       19.308434  253.966994  \n",
      "21  300.000000       19.918843   97.943901  \n",
      "22  300.000000        5.416449  284.473978  \n",
      "23  300.000000       19.731198   94.653753  \n",
      "24  300.000000        9.314410  274.839157  \n"
     ]
    }
   ],
   "source": [
    "import pandas as pd\n",
    "def make_opt_res_halbach_csv(name, fun, g_center, r_n, r_ch, x, guesses):\n",
    "    r_f = np.array([fun])\n",
    "    r_g = np.array(guesses)\n",
    "    r_gc = np.array([g_center])\n",
    "    r_n = np.array([r_n])\n",
    "    r_ch = np.array([r_ch])\n",
    "    r_x = np.array(x)\n",
    "    a = np.concatenate((r_f.T, r_gc.T, r_n.T, r_ch.T, r_x, r_g), axis=1)\n",
    "    b = a[a[:, 0].argsort()]\n",
    "\n",
    "    columns = ['nonuniformity', 'center_field_gauss', 'n_rods', 'cyl_height']\n",
    "\n",
    "    columns.append('cyl_diameter')\n",
    "    columns.append('D')\n",
    "    columns.append('g_cyl_diameter')\n",
    "    columns.append('g_D')\n",
    "    \n",
    "    \n",
    "    columns = np.array(columns)\n",
    "    b_df = pd.DataFrame(b, columns = columns)\n",
    "    \n",
    "    c = np.concatenate((r_f.T, r_x), axis=1)\n",
    "    new_array = [tuple(row) for row in c]\n",
    "    u = np.unique(new_array, axis=0)\n",
    "    n_unique = len(u)\n",
    "    print('Number of unique results:', n_unique)\n",
    "    print(b_df)\n",
    "    b_df.to_csv(name + str(n_unique) + '.csv')\n",
    "    return b, b_df\n",
    "\n",
    "import datetime\n",
    "today = datetime.datetime.today().strftime('%Y_%m_%d')\n",
    "\n",
    "b, b_df = make_opt_res_halbach_csv(f'results/halbach/samwise/{n}_{today}_samwise_halbach_main_1090mT_', results_fun, results_g_center, r_n, charr, results_x, guesses_x0)"
   ]
  },
  {
   "cell_type": "code",
   "execution_count": 12,
   "id": "cdc0acc2-1d04-4dd5-9eb7-0e33c143f57b",
   "metadata": {},
   "outputs": [
    {
     "name": "stdout",
     "output_type": "stream",
     "text": [
      "1.5573750827657786e-07\n"
     ]
    }
   ],
   "source": [
    "m = halbach_cylinder(Br, 1.101233, 640, 68.228286, n)\n",
    "Gmag, Gnon, center_field, av_nonuniformity, max_abs_nonuniformity = get_grid_mag_and_nonuniformity(m, grid, grid_res)\n",
    "print(av_nonuniformity)"
   ]
  },
  {
   "cell_type": "code",
   "execution_count": null,
   "id": "836fe4bf-625b-4afd-bb10-118a878bb35c",
   "metadata": {},
   "outputs": [],
   "source": []
  }
 ],
 "metadata": {
  "kernelspec": {
   "display_name": "Python 3 (ipykernel)",
   "language": "python",
   "name": "python3"
  },
  "language_info": {
   "codemirror_mode": {
    "name": "ipython",
    "version": 3
   },
   "file_extension": ".py",
   "mimetype": "text/x-python",
   "name": "python",
   "nbconvert_exporter": "python",
   "pygments_lexer": "ipython3",
   "version": "3.11.4"
  }
 },
 "nbformat": 4,
 "nbformat_minor": 5
}
