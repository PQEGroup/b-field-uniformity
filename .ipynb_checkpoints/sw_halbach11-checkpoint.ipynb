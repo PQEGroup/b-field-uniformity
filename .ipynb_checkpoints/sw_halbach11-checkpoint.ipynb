{
 "cells": [
  {
   "cell_type": "code",
   "execution_count": 2,
   "id": "f09b69e8-4464-4b40-8241-84266b1cfbcd",
   "metadata": {},
   "outputs": [],
   "source": [
    "import numpy as np\n",
    "import magpylib as magpy\n",
    "from magpylib.magnet import Cuboid, Cylinder, CylinderSegment\n",
    "from maggeometry import halbach_cylinder\n",
    "import plotly.graph_objects as go\n",
    "from plotly.subplots import make_subplots\n",
    "import matplotlib.pyplot as plt\n",
    "import numpy as np\n",
    "from scipy.optimize import minimize, Bounds\n",
    "from maghelper import get_field_on_axes, get_nonuniformity, make_flux_stream, centered_sweep_range, get_grid_nonuniformity, make_grid"
   ]
  },
  {
   "cell_type": "markdown",
   "id": "49da9989-4214-41f7-908c-374a20df21e8",
   "metadata": {},
   "source": [
    "### Nelder-Mead Adaptive Optimization of Halbach 9 main\n",
    "n = 9\n",
    "\n",
    "### Samwise"
   ]
  },
  {
   "cell_type": "code",
   "execution_count": 3,
   "id": "de664111-788c-4a6e-ad2f-3a54325673bd",
   "metadata": {},
   "outputs": [],
   "source": [
    "# def halbach_cylinder(Br, c_d, c_h, D, n, alternate=False):"
   ]
  },
  {
   "cell_type": "code",
   "execution_count": 4,
   "id": "d59be79b-87f9-4483-a15c-783a1a58ca22",
   "metadata": {},
   "outputs": [],
   "source": [
    "def get_grid_mag_and_target_nonuniformity(magnets, grid, grid_res, target=10, use_z=False):\n",
    "    mT_to_G = 10\n",
    "    B = magnets.getB(grid)\n",
    "    G = B * mT_to_G\n",
    "    # find magnitude of the b-field at all points over grid\n",
    "    Gmag = 0\n",
    "    if use_z:\n",
    "        Gmag = G[:,:,2]\n",
    "    else:\n",
    "        Gmag = np.linalg.norm(G, axis=2)\n",
    "#     Gmag = np.sqrt(G[:,:,0]**2 + G[:,:,1]**2 + G[:,:,2]**2)\n",
    "#     Gmag = G[:,:,2]\n",
    "    # find magnitude of b-field at center of grid\n",
    "    mid_id = int(grid_res/2)\n",
    "    Gcenter = Gmag[mid_id][mid_id]\n",
    "    # calculate nonuniformity with respect to center b-field\n",
    "    Gnon = np.abs((Gmag - Gcenter)/Gcenter)\n",
    "    Gtarget_non = np.abs((Gmag - target)/target)\n",
    "#     Gtarget_non = np.abs((Gmag - target)/target)\n",
    "#     max_nonuniformity = np.max(Gnon)\n",
    "    av_nonuniformity = np.sum(Gnon) / grid_res**2\n",
    "    av_target_nonuniformity = np.sum(Gtarget_non) / grid_res**2\n",
    "#     return Gmag, Gnon, Gcenter, av_nonuniformity, av_target_nonuniformity, max_nonuniformity\n",
    "    return Gcenter, av_nonuniformity, av_target_nonuniformity"
   ]
  },
  {
   "cell_type": "code",
   "execution_count": 5,
   "id": "f147ec97-7d3b-4049-9a0a-92dc843f1c26",
   "metadata": {},
   "outputs": [],
   "source": [
    "from maghelper import get_field_on_axes, get_nonuniformity, make_flux_stream, centered_sweep_range, get_grid_nonuniformity, make_xy_grid"
   ]
  },
  {
   "cell_type": "code",
   "execution_count": 6,
   "id": "eb51176a-db8d-438d-919d-0e9c09e32fb9",
   "metadata": {},
   "outputs": [],
   "source": [
    "n = 9\n",
    "grid_res = 101\n",
    "grid = make_xy_grid([-10, 10], [-10, 10], grid_res)\n",
    "Br = 1.09e3\n",
    "c_h = 640\n",
    "threshold = 0.1 # in G\n",
    "target = 10\n",
    "\n",
    "          #c_d,     D\n",
    "bounds = ((1, 20), (21, 300))\n",
    "\n",
    "def obj1_nonuniformity(x):\n",
    "    magnets = halbach_cylinder(Br, x[0], c_h, x[1], n)\n",
    "    center_field, av_nonuniformity, av_target_nonuniformity = get_grid_mag_and_target_nonuniformity(magnets, grid, grid_res, target)\n",
    "    if (abs(center_field - target) > threshold):\n",
    "        return av_target_nonuniformity\n",
    "    return av_nonuniformity"
   ]
  },
  {
   "cell_type": "code",
   "execution_count": 7,
   "id": "e692a56d-49f5-462d-8d85-9e8f2157066d",
   "metadata": {
    "scrolled": true
   },
   "outputs": [
    {
     "name": "stdout",
     "output_type": "stream",
     "text": [
      "[3.2163110975182834, 255.49538992700386]\n"
     ]
    },
    {
     "name": "stderr",
     "output_type": "stream",
     "text": [
      "/var/folders/06/7pjfbw510cz2ch1m7lx8vvl80000gn/T/ipykernel_20940/1123013417.py:14: RuntimeWarning: Maximum number of iterations has been exceeded.\n",
      "  res = minimize(obj1_nonuniformity, x0, method=method, options=options, bounds=bounds)\n"
     ]
    },
    {
     "name": "stdout",
     "output_type": "stream",
     "text": [
      "[6.7739217983226006, 101.21539798347531]\n",
      "Optimization terminated successfully.\n",
      "         Current function value: 0.000000\n",
      "         Iterations: 160\n",
      "         Function evaluations: 360\n",
      "[6.004698406180351, 36.132024398383955]\n",
      "[17.366592140468306, 217.51969260578076]\n",
      "[15.460419657523563, 199.8240990924632]\n",
      "[15.134877685425474, 118.21608702588321]\n",
      "Optimization terminated successfully.\n",
      "         Current function value: 0.000000\n",
      "         Iterations: 133\n",
      "         Function evaluations: 296\n",
      "[4.259018298946037, 229.58156494087555]\n",
      "Optimization terminated successfully.\n",
      "         Current function value: 0.000000\n",
      "         Iterations: 193\n",
      "         Function evaluations: 424\n",
      "[10.146756717268053, 224.97672415159383]\n",
      "[10.338129254680299, 100.3723189669202]\n",
      "[4.096284808009029, 41.311557583397686]\n",
      "Optimization terminated successfully.\n",
      "         Current function value: 0.000000\n",
      "         Iterations: 97\n",
      "         Function evaluations: 229\n",
      "[14.921613240231041, 31.594659791356975]\n",
      "Optimization terminated successfully.\n",
      "         Current function value: 0.000000\n",
      "         Iterations: 87\n",
      "         Function evaluations: 216\n",
      "[12.084124601123168, 111.13719144095684]\n",
      "Optimization terminated successfully.\n",
      "         Current function value: 0.000000\n",
      "         Iterations: 132\n",
      "         Function evaluations: 298\n",
      "[2.818680708562468, 215.77149814106838]\n",
      "Optimization terminated successfully.\n",
      "         Current function value: 0.000000\n",
      "         Iterations: 123\n",
      "         Function evaluations: 281\n",
      "[7.3310504133996615, 38.04557005840669]\n",
      "Optimization terminated successfully.\n",
      "         Current function value: 0.000000\n",
      "         Iterations: 92\n",
      "         Function evaluations: 232\n",
      "[15.337053153864984, 161.61077548477616]\n",
      "[14.944251194290809, 124.93867700320166]\n",
      "[5.489125024460492, 261.26271816875783]\n",
      "Optimization terminated successfully.\n",
      "         Current function value: 0.000027\n",
      "         Iterations: 94\n",
      "         Function evaluations: 229\n",
      "[15.500652584956793, 288.69215419348376]\n",
      "[16.07804577493389, 189.34297838982326]\n",
      "Optimization terminated successfully.\n",
      "         Current function value: 0.000027\n",
      "         Iterations: 74\n",
      "         Function evaluations: 183\n",
      "[7.124751372935366, 121.05070982739936]\n",
      "Optimization terminated successfully.\n",
      "         Current function value: 0.000000\n",
      "         Iterations: 259\n",
      "         Function evaluations: 550\n",
      "[17.01709599482136, 265.33852407027393]\n",
      "Optimization terminated successfully.\n",
      "         Current function value: 0.000027\n",
      "         Iterations: 102\n",
      "         Function evaluations: 243\n",
      "[8.712075711988753, 275.0290754718617]\n",
      "Optimization terminated successfully.\n",
      "         Current function value: 0.000027\n",
      "         Iterations: 106\n",
      "         Function evaluations: 251\n",
      "[3.8918861340951443, 235.83269473443164]\n",
      "Optimization terminated successfully.\n",
      "         Current function value: 0.000000\n",
      "         Iterations: 414\n",
      "         Function evaluations: 865\n",
      "[11.828142052143331, 49.20966782883352]\n",
      "[7.072872080462099, 290.1988539891663]\n",
      "Objective function values:\n",
      "[1.4699450994219476e-07, 1.4698336901370984e-07, 1.469848540440118e-07, 2.6597117519074336e-05, 2.659711830470598e-05, 1.4698853833302523e-07, 1.469920186799438e-07, 2.659711845363407e-05, 1.469770921332004e-07, 1.469881696802174e-07, 1.4697384359706152e-07, 1.4698491795519935e-07, 1.4700460449359924e-07, 1.4696926786456347e-07, 1.7171369384428585e-05, 1.4697965765229857e-07, 2.659711687126072e-05, 2.659711723314604e-05, 2.6597118516423197e-05, 1.4699150264142509e-07, 2.659711750188442e-05, 2.6597117251333476e-05, 1.4697372457955737e-07, 1.4699170553530215e-07, 2.6597117694421456e-05]\n",
      "Result parameters:\n",
      "[array([ 1.        , 69.68782727]), array([ 1.0000034 , 69.68674011]), array([ 1.       , 69.6883995]), array([  4.33272784, 300.        ]), array([  4.33206247, 300.        ]), array([ 1.        , 69.68773295]), array([ 1.        , 69.68747801]), array([  4.33230198, 300.        ]), array([ 1.        , 69.68811844]), array([ 1.        , 69.68864234]), array([ 1.        , 69.68745386]), array([ 1.        , 69.68667842]), array([ 1.        , 69.68842267]), array([ 1.        , 69.68668206]), array([  3.72004818, 258.24006578]), array([ 1.        , 69.68674039]), array([  4.33288864, 300.        ]), array([  4.33275576, 300.        ]), array([  4.33280204, 300.        ]), array([ 1.00000121, 69.6874346 ]), array([  4.3327065, 300.       ]), array([  4.33265914, 300.        ]), array([ 1.        , 69.68670307]), array([ 1.        , 69.68763613]), array([  4.33244608, 300.        ])]\n",
      "Starting guesses:\n",
      "[[3.2163110975182834, 255.49538992700386], [6.7739217983226006, 101.21539798347531], [6.004698406180351, 36.132024398383955], [17.366592140468306, 217.51969260578076], [15.460419657523563, 199.8240990924632], [15.134877685425474, 118.21608702588321], [4.259018298946037, 229.58156494087555], [10.146756717268053, 224.97672415159383], [10.338129254680299, 100.3723189669202], [4.096284808009029, 41.311557583397686], [14.921613240231041, 31.594659791356975], [12.084124601123168, 111.13719144095684], [2.818680708562468, 215.77149814106838], [7.3310504133996615, 38.04557005840669], [15.337053153864984, 161.61077548477616], [14.944251194290809, 124.93867700320166], [5.489125024460492, 261.26271816875783], [15.500652584956793, 288.69215419348376], [16.07804577493389, 189.34297838982326], [7.124751372935366, 121.05070982739936], [17.01709599482136, 265.33852407027393], [8.712075711988753, 275.0290754718617], [3.8918861340951443, 235.83269473443164], [11.828142052143331, 49.20966782883352], [7.072872080462099, 290.1988539891663]]\n"
     ]
    }
   ],
   "source": [
    "options = {'disp': True, 'fatol': 1e-18, 'maxiter': 5e3, 'adaptive': True}\n",
    "method = \"Nelder-Mead\"\n",
    "\n",
    "shots = 25\n",
    "results_x = []\n",
    "results_fun = []\n",
    "guesses_x0 = []\n",
    "b_len = len(bounds)\n",
    "for i in range(shots):\n",
    "    x0 = [0, 0]\n",
    "    for b in range(b_len):\n",
    "        x0[b] = np.random.uniform(low=bounds[b][0], high=bounds[b][1])\n",
    "    print(x0)\n",
    "    res = minimize(obj1_nonuniformity, x0, method=method, options=options, bounds=bounds)\n",
    "    guesses_x0.append(x0)\n",
    "    results_x.append(res.x)\n",
    "    results_fun.append(res.fun)\n",
    "\n",
    "print(\"Objective function values:\")\n",
    "print(results_fun)\n",
    "print(\"Result parameters:\")\n",
    "print(results_x)\n",
    "print(\"Starting guesses:\")\n",
    "print(guesses_x0)"
   ]
  },
  {
   "cell_type": "code",
   "execution_count": 8,
   "id": "589652d9-7526-4bd5-9856-9cca94938169",
   "metadata": {},
   "outputs": [
    {
     "name": "stdout",
     "output_type": "stream",
     "text": [
      "[array([ 1.        , 69.68782727]), array([ 1.0000034 , 69.68674011]), array([ 1.       , 69.6883995]), array([  4.33272784, 300.        ]), array([  4.33206247, 300.        ]), array([ 1.        , 69.68773295]), array([ 1.        , 69.68747801]), array([  4.33230198, 300.        ]), array([ 1.        , 69.68811844]), array([ 1.        , 69.68864234]), array([ 1.        , 69.68745386]), array([ 1.        , 69.68667842]), array([ 1.        , 69.68842267]), array([ 1.        , 69.68668206]), array([  3.72004818, 258.24006578]), array([ 1.        , 69.68674039]), array([  4.33288864, 300.        ]), array([  4.33275576, 300.        ]), array([  4.33280204, 300.        ]), array([ 1.00000121, 69.6874346 ]), array([  4.3327065, 300.       ]), array([  4.33265914, 300.        ]), array([ 1.        , 69.68670307]), array([ 1.        , 69.68763613]), array([  4.33244608, 300.        ])]\n"
     ]
    }
   ],
   "source": [
    "print(results_x)"
   ]
  },
  {
   "cell_type": "code",
   "execution_count": 9,
   "id": "e4452b35-0ab3-46a1-98dc-53f18db65ebf",
   "metadata": {},
   "outputs": [],
   "source": [
    "charr = np.full((1, shots), 640).flatten()\n",
    "r_n = np.full((1, shots), n).flatten()"
   ]
  },
  {
   "cell_type": "code",
   "execution_count": 10,
   "id": "3ade58bf-00ea-4069-bf6a-ec6884fb1768",
   "metadata": {},
   "outputs": [],
   "source": [
    "from maggeometry import halbach_cylinder\n",
    "from maghelper import get_field_on_axes, get_nonuniformity, make_flux_stream, centered_sweep_range, get_grid_nonuniformity, make_xy_grid, get_grid_mag_and_nonuniformity\n",
    "grid_res = 101\n",
    "grid = make_xy_grid([-10, 10], [-10, 10], grid_res)\n",
    "results_g_center = []\n",
    "results_nonun = []\n",
    "for x in results_x:\n",
    "    magnets = halbach_cylinder(Br, x[0], charr[0], x[1], n)\n",
    "    Gmag, Gnon, center_field, av_nonuniformity, max_abs_nonuniformity = get_grid_mag_and_nonuniformity(magnets, grid, grid_res)\n",
    "    results_g_center.append(center_field)\n",
    "    results_nonun.append(av_nonuniformity)"
   ]
  },
  {
   "cell_type": "code",
   "execution_count": 11,
   "id": "c8fd0acb-f506-49cb-900c-aed1476f3a0f",
   "metadata": {
    "scrolled": true
   },
   "outputs": [
    {
     "name": "stdout",
     "output_type": "stream",
     "text": [
      "Number of unique results: 25\n",
      "    nonuniformity  center_field_gauss  n_rods  cyl_height  cyl_diameter  \\\n",
      "0    1.469693e-07           10.099898     9.0       640.0      1.000000   \n",
      "1    1.469737e-07           10.099892     9.0       640.0      1.000000   \n",
      "2    1.469738e-07           10.099674     9.0       640.0      1.000000   \n",
      "3    1.469771e-07           10.099482     9.0       640.0      1.000000   \n",
      "4    1.469797e-07           10.099881     9.0       640.0      1.000000   \n",
      "5    1.469834e-07           10.099950     9.0       640.0      1.000003   \n",
      "6    1.469849e-07           10.099400     9.0       640.0      1.000000   \n",
      "7    1.469849e-07           10.099899     9.0       640.0      1.000000   \n",
      "8    1.469882e-07           10.099330     9.0       640.0      1.000000   \n",
      "9    1.469885e-07           10.099593     9.0       640.0      1.000000   \n",
      "10   1.469915e-07           10.099704     9.0       640.0      1.000001   \n",
      "11   1.469917e-07           10.099621     9.0       640.0      1.000000   \n",
      "12   1.469920e-07           10.099667     9.0       640.0      1.000000   \n",
      "13   1.469945e-07           10.099566     9.0       640.0      1.000000   \n",
      "14   1.470046e-07           10.099393     9.0       640.0      1.000000   \n",
      "15   1.717137e-05           10.099999     9.0       640.0      3.720048   \n",
      "16   2.659712e-05           10.098944     9.0       640.0      4.332889   \n",
      "17   2.659712e-05           10.098325     9.0       640.0      4.332756   \n",
      "18   2.659712e-05           10.097875     9.0       640.0      4.332659   \n",
      "19   2.659712e-05           10.098095     9.0       640.0      4.332706   \n",
      "20   2.659712e-05           10.098195     9.0       640.0      4.332728   \n",
      "21   2.659712e-05           10.096881     9.0       640.0      4.332446   \n",
      "22   2.659712e-05           10.095093     9.0       640.0      4.332062   \n",
      "23   2.659712e-05           10.096210     9.0       640.0      4.332302   \n",
      "24   2.659712e-05           10.098541     9.0       640.0      4.332802   \n",
      "\n",
      "             D  g_cyl_diameter         g_D  \n",
      "0    69.686682        7.331050   38.045570  \n",
      "1    69.686703        3.891886  235.832695  \n",
      "2    69.687454       14.921613   31.594660  \n",
      "3    69.688118       10.338129  100.372319  \n",
      "4    69.686740       14.944251  124.938677  \n",
      "5    69.686740        6.773922  101.215398  \n",
      "6    69.688399        6.004698   36.132024  \n",
      "7    69.686678       12.084125  111.137191  \n",
      "8    69.688642        4.096285   41.311558  \n",
      "9    69.687733       15.134878  118.216087  \n",
      "10   69.687435        7.124751  121.050710  \n",
      "11   69.687636       11.828142   49.209668  \n",
      "12   69.687478        4.259018  229.581565  \n",
      "13   69.687827        3.216311  255.495390  \n",
      "14   69.688423        2.818681  215.771498  \n",
      "15  258.240066       15.337053  161.610775  \n",
      "16  300.000000        5.489125  261.262718  \n",
      "17  300.000000       15.500653  288.692154  \n",
      "18  300.000000        8.712076  275.029075  \n",
      "19  300.000000       17.017096  265.338524  \n",
      "20  300.000000       17.366592  217.519693  \n",
      "21  300.000000        7.072872  290.198854  \n",
      "22  300.000000       15.460420  199.824099  \n",
      "23  300.000000       10.146757  224.976724  \n",
      "24  300.000000       16.078046  189.342978  \n"
     ]
    }
   ],
   "source": [
    "import pandas as pd\n",
    "def make_opt_res_halbach_csv(name, fun, g_center, r_n, r_ch, x, guesses):\n",
    "    r_f = np.array([fun])\n",
    "    r_g = np.array(guesses)\n",
    "    r_gc = np.array([g_center])\n",
    "    r_n = np.array([r_n])\n",
    "    r_ch = np.array([r_ch])\n",
    "    r_x = np.array(x)\n",
    "    a = np.concatenate((r_f.T, r_gc.T, r_n.T, r_ch.T, r_x, r_g), axis=1)\n",
    "    b = a[a[:, 0].argsort()]\n",
    "\n",
    "    columns = ['nonuniformity', 'center_field_gauss', 'n_rods', 'cyl_height']\n",
    "\n",
    "    columns.append('cyl_diameter')\n",
    "    columns.append('D')\n",
    "    columns.append('g_cyl_diameter')\n",
    "    columns.append('g_D')\n",
    "    \n",
    "    \n",
    "    columns = np.array(columns)\n",
    "    b_df = pd.DataFrame(b, columns = columns)\n",
    "    \n",
    "    c = np.concatenate((r_f.T, r_x), axis=1)\n",
    "    new_array = [tuple(row) for row in c]\n",
    "    u = np.unique(new_array, axis=0)\n",
    "    n_unique = len(u)\n",
    "    print('Number of unique results:', n_unique)\n",
    "    print(b_df)\n",
    "    b_df.to_csv(name + str(n_unique) + '.csv')\n",
    "    return b, b_df\n",
    "\n",
    "import datetime\n",
    "today = datetime.datetime.today().strftime('%Y_%m_%d')\n",
    "\n",
    "b, b_df = make_opt_res_halbach_csv(f'results/halbach/samwise/{n}_{today}_samwise_halbach_main_1090mT_', results_fun, results_g_center, r_n, charr, results_x, guesses_x0)"
   ]
  },
  {
   "cell_type": "code",
   "execution_count": 12,
   "id": "cdc0acc2-1d04-4dd5-9eb7-0e33c143f57b",
   "metadata": {},
   "outputs": [
    {
     "name": "stdout",
     "output_type": "stream",
     "text": [
      "1.5573750827657786e-07\n"
     ]
    }
   ],
   "source": [
    "m = halbach_cylinder(Br, 1.101233, 640, 68.228286, n)\n",
    "Gmag, Gnon, center_field, av_nonuniformity, max_abs_nonuniformity = get_grid_mag_and_nonuniformity(m, grid, grid_res)\n",
    "print(av_nonuniformity)"
   ]
  },
  {
   "cell_type": "code",
   "execution_count": null,
   "id": "836fe4bf-625b-4afd-bb10-118a878bb35c",
   "metadata": {},
   "outputs": [],
   "source": []
  }
 ],
 "metadata": {
  "kernelspec": {
   "display_name": "Python 3 (ipykernel)",
   "language": "python",
   "name": "python3"
  },
  "language_info": {
   "codemirror_mode": {
    "name": "ipython",
    "version": 3
   },
   "file_extension": ".py",
   "mimetype": "text/x-python",
   "name": "python",
   "nbconvert_exporter": "python",
   "pygments_lexer": "ipython3",
   "version": "3.11.4"
  }
 },
 "nbformat": 4,
 "nbformat_minor": 5
}
