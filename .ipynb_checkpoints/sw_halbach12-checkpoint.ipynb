{
 "cells": [
  {
   "cell_type": "code",
   "execution_count": 1,
   "id": "f09b69e8-4464-4b40-8241-84266b1cfbcd",
   "metadata": {},
   "outputs": [],
   "source": [
    "import numpy as np\n",
    "import magpylib as magpy\n",
    "from magpylib.magnet import Cuboid, Cylinder, CylinderSegment\n",
    "from maggeometry import halbach_cylinder\n",
    "import plotly.graph_objects as go\n",
    "from plotly.subplots import make_subplots\n",
    "import matplotlib.pyplot as plt\n",
    "import numpy as np\n",
    "from scipy.optimize import minimize, Bounds\n",
    "from maghelper import get_field_on_axes, get_nonuniformity, make_flux_stream, centered_sweep_range, get_grid_nonuniformity, make_grid"
   ]
  },
  {
   "cell_type": "markdown",
   "id": "49da9989-4214-41f7-908c-374a20df21e8",
   "metadata": {},
   "source": [
    "### Nelder-Mead Adaptive Optimization of Halbach 12 main\n",
    "n = 12\n",
    "\n",
    "### Samwise"
   ]
  },
  {
   "cell_type": "code",
   "execution_count": 2,
   "id": "de664111-788c-4a6e-ad2f-3a54325673bd",
   "metadata": {},
   "outputs": [],
   "source": [
    "# def halbach_cylinder(Br, c_d, c_h, D, n, alternate=False):"
   ]
  },
  {
   "cell_type": "code",
   "execution_count": 3,
   "id": "d59be79b-87f9-4483-a15c-783a1a58ca22",
   "metadata": {},
   "outputs": [],
   "source": [
    "def get_grid_mag_and_target_nonuniformity(magnets, grid, grid_res, target=10, use_z=False):\n",
    "    mT_to_G = 10\n",
    "    B = magnets.getB(grid)\n",
    "    G = B * mT_to_G\n",
    "    # find magnitude of the b-field at all points over grid\n",
    "    Gmag = 0\n",
    "    if use_z:\n",
    "        Gmag = G[:,:,2]\n",
    "    else:\n",
    "        Gmag = np.linalg.norm(G, axis=2)\n",
    "#     Gmag = np.sqrt(G[:,:,0]**2 + G[:,:,1]**2 + G[:,:,2]**2)\n",
    "#     Gmag = G[:,:,2]\n",
    "    # find magnitude of b-field at center of grid\n",
    "    mid_id = int(grid_res/2)\n",
    "    Gcenter = Gmag[mid_id][mid_id]\n",
    "    # calculate nonuniformity with respect to center b-field\n",
    "    Gnon = np.abs((Gmag - Gcenter)/Gcenter)\n",
    "    Gtarget_non = np.abs((Gmag - target)/target)\n",
    "#     Gtarget_non = np.abs((Gmag - target)/target)\n",
    "#     max_nonuniformity = np.max(Gnon)\n",
    "    av_nonuniformity = np.sum(Gnon) / grid_res**2\n",
    "    av_target_nonuniformity = np.sum(Gtarget_non) / grid_res**2\n",
    "#     return Gmag, Gnon, Gcenter, av_nonuniformity, av_target_nonuniformity, max_nonuniformity\n",
    "    return Gcenter, av_nonuniformity, av_target_nonuniformity"
   ]
  },
  {
   "cell_type": "code",
   "execution_count": 4,
   "id": "f147ec97-7d3b-4049-9a0a-92dc843f1c26",
   "metadata": {},
   "outputs": [],
   "source": [
    "from maghelper import get_field_on_axes, get_nonuniformity, make_flux_stream, centered_sweep_range, get_grid_nonuniformity, make_xy_grid"
   ]
  },
  {
   "cell_type": "code",
   "execution_count": 5,
   "id": "eb51176a-db8d-438d-919d-0e9c09e32fb9",
   "metadata": {},
   "outputs": [],
   "source": [
    "n = 12\n",
    "grid_res = 101\n",
    "grid = make_xy_grid([-10, 10], [-10, 10], grid_res)\n",
    "Br = 1.09e3\n",
    "c_h = 640\n",
    "threshold = 0.1 # in G\n",
    "target = 10\n",
    "\n",
    "          #c_d,     D\n",
    "bounds = ((1, 20), (21, 300))\n",
    "\n",
    "def obj1_nonuniformity(x):\n",
    "    magnets = halbach_cylinder(Br, x[0], c_h, x[1], n)\n",
    "    center_field, av_nonuniformity, av_target_nonuniformity = get_grid_mag_and_target_nonuniformity(magnets, grid, grid_res, target)\n",
    "    if (abs(center_field - target) > threshold):\n",
    "        return av_target_nonuniformity\n",
    "    return av_nonuniformity"
   ]
  },
  {
   "cell_type": "code",
   "execution_count": 6,
   "id": "e692a56d-49f5-462d-8d85-9e8f2157066d",
   "metadata": {
    "scrolled": true
   },
   "outputs": [
    {
     "name": "stdout",
     "output_type": "stream",
     "text": [
      "[17.501956700862745, 231.56662666210534]\n",
      "Optimization terminated successfully.\n",
      "         Current function value: 0.000027\n",
      "         Iterations: 93\n",
      "         Function evaluations: 231\n",
      "[2.9836176989425987, 195.60211722484058]\n"
     ]
    },
    {
     "name": "stderr",
     "output_type": "stream",
     "text": [
      "/var/folders/06/7pjfbw510cz2ch1m7lx8vvl80000gn/T/ipykernel_22661/1123013417.py:14: RuntimeWarning: Maximum number of iterations has been exceeded.\n",
      "  res = minimize(obj1_nonuniformity, x0, method=method, options=options, bounds=bounds)\n"
     ]
    },
    {
     "name": "stdout",
     "output_type": "stream",
     "text": [
      "[8.390108791677413, 88.36749236649734]\n",
      "Optimization terminated successfully.\n",
      "         Current function value: 0.000000\n",
      "         Iterations: 135\n",
      "         Function evaluations: 306\n",
      "[18.872101119046448, 85.58743864657816]\n",
      "Optimization terminated successfully.\n",
      "         Current function value: 0.000000\n",
      "         Iterations: 99\n",
      "         Function evaluations: 237\n",
      "[5.900416059791317, 154.10636545150078]\n",
      "Optimization terminated successfully.\n",
      "         Current function value: 0.000000\n",
      "         Iterations: 498\n",
      "         Function evaluations: 1025\n",
      "[5.743587068446435, 265.4555600783392]\n",
      "Optimization terminated successfully.\n",
      "         Current function value: 0.000027\n",
      "         Iterations: 88\n",
      "         Function evaluations: 222\n",
      "[13.58733029794012, 275.223864201202]\n",
      "Optimization terminated successfully.\n",
      "         Current function value: 0.000027\n",
      "         Iterations: 81\n",
      "         Function evaluations: 206\n",
      "[13.779793335555945, 201.63905939543588]\n",
      "Optimization terminated successfully.\n",
      "         Current function value: 0.000027\n",
      "         Iterations: 105\n",
      "         Function evaluations: 249\n",
      "[1.0245371929108475, 92.00661379070071]\n",
      "Optimization terminated successfully.\n",
      "         Current function value: 0.000000\n",
      "         Iterations: 126\n",
      "         Function evaluations: 297\n",
      "[7.920181953008514, 263.76578983301624]\n",
      "[1.624294062590644, 25.122469209926965]\n",
      "[16.05739569824476, 77.55570133465403]\n",
      "Optimization terminated successfully.\n",
      "         Current function value: 0.000000\n",
      "         Iterations: 100\n",
      "         Function evaluations: 236\n",
      "[17.401143878534633, 33.16041583515635]\n",
      "[16.049317162788597, 231.53883124349647]\n",
      "Optimization terminated successfully.\n",
      "         Current function value: 0.000027\n",
      "         Iterations: 76\n",
      "         Function evaluations: 197\n",
      "[12.763099713325644, 152.20726515072718]\n",
      "[4.001635340887905, 289.556683964518]\n",
      "Optimization terminated successfully.\n",
      "         Current function value: 0.000027\n",
      "         Iterations: 80\n",
      "         Function evaluations: 204\n",
      "[12.11216489777636, 191.4546100517731]\n",
      "Optimization terminated successfully.\n",
      "         Current function value: 0.000027\n",
      "         Iterations: 93\n",
      "         Function evaluations: 239\n",
      "[3.83886270555148, 89.15934116400827]\n",
      "[16.81862012694715, 60.932385688210104]\n",
      "Optimization terminated successfully.\n",
      "         Current function value: 0.000000\n",
      "         Iterations: 102\n",
      "         Function evaluations: 242\n",
      "[9.957200953074386, 286.8605175910909]\n",
      "Optimization terminated successfully.\n",
      "         Current function value: 0.000027\n",
      "         Iterations: 102\n",
      "         Function evaluations: 236\n",
      "[19.561930431917162, 81.671773467673]\n",
      "Optimization terminated successfully.\n",
      "         Current function value: 0.000000\n",
      "         Iterations: 137\n",
      "         Function evaluations: 323\n",
      "[3.7777497947316196, 260.7968190583485]\n",
      "Optimization terminated successfully.\n",
      "         Current function value: 0.000000\n",
      "         Iterations: 134\n",
      "         Function evaluations: 313\n",
      "[8.31338290420842, 197.6754667609656]\n",
      "Optimization terminated successfully.\n",
      "         Current function value: 0.000027\n",
      "         Iterations: 108\n",
      "         Function evaluations: 259\n",
      "[6.130741896374092, 179.49526245510964]\n",
      "Optimization terminated successfully.\n",
      "         Current function value: 0.000000\n",
      "         Iterations: 140\n",
      "         Function evaluations: 312\n",
      "[16.063119068326795, 120.5408282490305]\n",
      "Objective function values:\n",
      "[2.6598082440405266e-05, 2.772048488522195e-07, 2.771809596309432e-07, 2.772226026546493e-07, 2.7722311473510174e-07, 2.6598080161283825e-05, 2.6598081657341142e-05, 2.6598084605026786e-05, 2.771741426719258e-07, 2.6598080270634535e-05, 2.7720464648461644e-07, 2.772037612596956e-07, 2.7721780873272557e-07, 2.6598080484113327e-05, 2.7721005411657007e-07, 2.6598080315415117e-05, 2.659807976525859e-05, 2.772125052703996e-07, 2.7719454635340214e-07, 2.6598082774906038e-05, 2.7719422203062905e-07, 2.7719539436041055e-07, 2.6598079014819253e-05, 2.771877754599465e-07, 2.771703338700469e-07]\n",
      "Result parameters:\n",
      "[array([  3.75091918, 300.        ]), array([ 1.        , 80.46857474]), array([ 1.        , 80.46538759]), array([ 1.        , 80.47083588]), array([ 1.        , 80.46925232]), array([  3.75239656, 300.        ]), array([  3.75188848, 300.        ]), array([  3.74945574, 300.        ]), array([ 1.        , 80.46563478]), array([  3.75243354, 300.        ]), array([ 1.        , 80.46822607]), array([ 1.        , 80.46531926]), array([ 1.        , 80.46900247]), array([  3.75189206, 300.        ]), array([ 1.00000306, 80.46601022]), array([  3.75222283, 300.        ]), array([  3.75218523, 300.        ]), array([ 1.00004511, 80.46995019]), array([ 1.        , 80.46700908]), array([  3.75126895, 300.        ]), array([ 1.        , 80.46649428]), array([ 1.        , 80.46663322]), array([  3.75240344, 300.        ]), array([ 1.        , 80.46695401]), array([ 1.        , 80.46629438])]\n",
      "Starting guesses:\n",
      "[[17.501956700862745, 231.56662666210534], [2.9836176989425987, 195.60211722484058], [8.390108791677413, 88.36749236649734], [18.872101119046448, 85.58743864657816], [5.900416059791317, 154.10636545150078], [5.743587068446435, 265.4555600783392], [13.58733029794012, 275.223864201202], [13.779793335555945, 201.63905939543588], [1.0245371929108475, 92.00661379070071], [7.920181953008514, 263.76578983301624], [1.624294062590644, 25.122469209926965], [16.05739569824476, 77.55570133465403], [17.401143878534633, 33.16041583515635], [16.049317162788597, 231.53883124349647], [12.763099713325644, 152.20726515072718], [4.001635340887905, 289.556683964518], [12.11216489777636, 191.4546100517731], [3.83886270555148, 89.15934116400827], [16.81862012694715, 60.932385688210104], [9.957200953074386, 286.8605175910909], [19.561930431917162, 81.671773467673], [3.7777497947316196, 260.7968190583485], [8.31338290420842, 197.6754667609656], [6.130741896374092, 179.49526245510964], [16.063119068326795, 120.5408282490305]]\n"
     ]
    }
   ],
   "source": [
    "options = {'disp': True, 'fatol': 1e-18, 'maxiter': 5e3, 'adaptive': True}\n",
    "method = \"Nelder-Mead\"\n",
    "\n",
    "shots = 25\n",
    "results_x = []\n",
    "results_fun = []\n",
    "guesses_x0 = []\n",
    "b_len = len(bounds)\n",
    "for i in range(shots):\n",
    "    x0 = [0, 0]\n",
    "    for b in range(b_len):\n",
    "        x0[b] = np.random.uniform(low=bounds[b][0], high=bounds[b][1])\n",
    "    print(x0)\n",
    "    res = minimize(obj1_nonuniformity, x0, method=method, options=options, bounds=bounds)\n",
    "    guesses_x0.append(x0)\n",
    "    results_x.append(res.x)\n",
    "    results_fun.append(res.fun)\n",
    "\n",
    "print(\"Objective function values:\")\n",
    "print(results_fun)\n",
    "print(\"Result parameters:\")\n",
    "print(results_x)\n",
    "print(\"Starting guesses:\")\n",
    "print(guesses_x0)"
   ]
  },
  {
   "cell_type": "code",
   "execution_count": 7,
   "id": "589652d9-7526-4bd5-9856-9cca94938169",
   "metadata": {},
   "outputs": [
    {
     "name": "stdout",
     "output_type": "stream",
     "text": [
      "[array([  3.75091918, 300.        ]), array([ 1.        , 80.46857474]), array([ 1.        , 80.46538759]), array([ 1.        , 80.47083588]), array([ 1.        , 80.46925232]), array([  3.75239656, 300.        ]), array([  3.75188848, 300.        ]), array([  3.74945574, 300.        ]), array([ 1.        , 80.46563478]), array([  3.75243354, 300.        ]), array([ 1.        , 80.46822607]), array([ 1.        , 80.46531926]), array([ 1.        , 80.46900247]), array([  3.75189206, 300.        ]), array([ 1.00000306, 80.46601022]), array([  3.75222283, 300.        ]), array([  3.75218523, 300.        ]), array([ 1.00004511, 80.46995019]), array([ 1.        , 80.46700908]), array([  3.75126895, 300.        ]), array([ 1.        , 80.46649428]), array([ 1.        , 80.46663322]), array([  3.75240344, 300.        ]), array([ 1.        , 80.46695401]), array([ 1.        , 80.46629438])]\n"
     ]
    }
   ],
   "source": [
    "print(results_x)"
   ]
  },
  {
   "cell_type": "code",
   "execution_count": 8,
   "id": "e4452b35-0ab3-46a1-98dc-53f18db65ebf",
   "metadata": {},
   "outputs": [],
   "source": [
    "charr = np.full((1, shots), 640).flatten()\n",
    "r_n = np.full((1, shots), n).flatten()"
   ]
  },
  {
   "cell_type": "code",
   "execution_count": 9,
   "id": "3ade58bf-00ea-4069-bf6a-ec6884fb1768",
   "metadata": {},
   "outputs": [],
   "source": [
    "from maggeometry import halbach_cylinder\n",
    "from maghelper import get_field_on_axes, get_nonuniformity, make_flux_stream, centered_sweep_range, get_grid_nonuniformity, make_xy_grid, get_grid_mag_and_nonuniformity\n",
    "grid_res = 101\n",
    "grid = make_xy_grid([-10, 10], [-10, 10], grid_res)\n",
    "results_g_center = []\n",
    "results_nonun = []\n",
    "for x in results_x:\n",
    "    magnets = halbach_cylinder(Br, x[0], charr[0], x[1], n)\n",
    "    Gmag, Gnon, center_field, av_nonuniformity, max_abs_nonuniformity = get_grid_mag_and_nonuniformity(magnets, grid, grid_res)\n",
    "    results_g_center.append(center_field)\n",
    "    results_nonun.append(av_nonuniformity)"
   ]
  },
  {
   "cell_type": "code",
   "execution_count": 10,
   "id": "c8fd0acb-f506-49cb-900c-aed1476f3a0f",
   "metadata": {
    "scrolled": true
   },
   "outputs": [
    {
     "name": "stdout",
     "output_type": "stream",
     "text": [
      "Number of unique results: 25\n",
      "    nonuniformity  center_field_gauss  n_rods  cyl_height  cyl_diameter  \\\n",
      "0    2.771703e-07           10.099738    12.0       640.0      1.000000   \n",
      "1    2.771741e-07           10.099903    12.0       640.0      1.000000   \n",
      "2    2.771810e-07           10.099965    12.0       640.0      1.000000   \n",
      "3    2.771878e-07           10.099572    12.0       640.0      1.000000   \n",
      "4    2.771942e-07           10.099688    12.0       640.0      1.000000   \n",
      "5    2.771945e-07           10.099558    12.0       640.0      1.000000   \n",
      "6    2.771954e-07           10.099653    12.0       640.0      1.000000   \n",
      "7    2.772038e-07           10.099983    12.0       640.0      1.000000   \n",
      "8    2.772046e-07           10.099253    12.0       640.0      1.000000   \n",
      "9    2.772048e-07           10.099165    12.0       640.0      1.000000   \n",
      "10   2.772101e-07           10.099871    12.0       640.0      1.000003   \n",
      "11   2.772125e-07           10.099731    12.0       640.0      1.000045   \n",
      "12   2.772178e-07           10.099058    12.0       640.0      1.000000   \n",
      "13   2.772226e-07           10.098598    12.0       640.0      1.000000   \n",
      "14   2.772231e-07           10.098995    12.0       640.0      1.000000   \n",
      "15   2.659808e-05           10.099005    12.0       640.0      3.752403   \n",
      "16   2.659808e-05           10.097831    12.0       640.0      3.752185   \n",
      "17   2.659808e-05           10.098968    12.0       640.0      3.752397   \n",
      "18   2.659808e-05           10.099167    12.0       640.0      3.752434   \n",
      "19   2.659808e-05           10.098033    12.0       640.0      3.752223   \n",
      "20   2.659808e-05           10.096253    12.0       640.0      3.751892   \n",
      "21   2.659808e-05           10.096234    12.0       640.0      3.751888   \n",
      "22   2.659808e-05           10.091018    12.0       640.0      3.750919   \n",
      "23   2.659808e-05           10.092900    12.0       640.0      3.751269   \n",
      "24   2.659808e-05           10.083145    12.0       640.0      3.749456   \n",
      "\n",
      "             D  g_cyl_diameter         g_D  \n",
      "0    80.466294       16.063119  120.540828  \n",
      "1    80.465635        1.024537   92.006614  \n",
      "2    80.465388        8.390109   88.367492  \n",
      "3    80.466954        6.130742  179.495262  \n",
      "4    80.466494       19.561930   81.671773  \n",
      "5    80.467009       16.818620   60.932386  \n",
      "6    80.466633        3.777750  260.796819  \n",
      "7    80.465319       16.057396   77.555701  \n",
      "8    80.468226        1.624294   25.122469  \n",
      "9    80.468575        2.983618  195.602117  \n",
      "10   80.466010       12.763100  152.207265  \n",
      "11   80.469950        3.838863   89.159341  \n",
      "12   80.469002       17.401144   33.160416  \n",
      "13   80.470836       18.872101   85.587439  \n",
      "14   80.469252        5.900416  154.106365  \n",
      "15  300.000000        8.313383  197.675467  \n",
      "16  300.000000       12.112165  191.454610  \n",
      "17  300.000000        5.743587  265.455560  \n",
      "18  300.000000        7.920182  263.765790  \n",
      "19  300.000000        4.001635  289.556684  \n",
      "20  300.000000       16.049317  231.538831  \n",
      "21  300.000000       13.587330  275.223864  \n",
      "22  300.000000       17.501957  231.566627  \n",
      "23  300.000000        9.957201  286.860518  \n",
      "24  300.000000       13.779793  201.639059  \n"
     ]
    }
   ],
   "source": [
    "import pandas as pd\n",
    "def make_opt_res_halbach_csv(name, fun, g_center, r_n, r_ch, x, guesses):\n",
    "    r_f = np.array([fun])\n",
    "    r_g = np.array(guesses)\n",
    "    r_gc = np.array([g_center])\n",
    "    r_n = np.array([r_n])\n",
    "    r_ch = np.array([r_ch])\n",
    "    r_x = np.array(x)\n",
    "    a = np.concatenate((r_f.T, r_gc.T, r_n.T, r_ch.T, r_x, r_g), axis=1)\n",
    "    b = a[a[:, 0].argsort()]\n",
    "\n",
    "    columns = ['nonuniformity', 'center_field_gauss', 'n_rods', 'cyl_height']\n",
    "\n",
    "    columns.append('cyl_diameter')\n",
    "    columns.append('D')\n",
    "    columns.append('g_cyl_diameter')\n",
    "    columns.append('g_D')\n",
    "    \n",
    "    \n",
    "    columns = np.array(columns)\n",
    "    b_df = pd.DataFrame(b, columns = columns)\n",
    "    \n",
    "    c = np.concatenate((r_f.T, r_x), axis=1)\n",
    "    new_array = [tuple(row) for row in c]\n",
    "    u = np.unique(new_array, axis=0)\n",
    "    n_unique = len(u)\n",
    "    print('Number of unique results:', n_unique)\n",
    "    print(b_df)\n",
    "    b_df.to_csv(name + str(n_unique) + '.csv')\n",
    "    return b, b_df\n",
    "\n",
    "import datetime\n",
    "today = datetime.datetime.today().strftime('%Y_%m_%d')\n",
    "\n",
    "b, b_df = make_opt_res_halbach_csv(f'results/halbach/samwise/{n}_{today}_samwise_halbach_main_1090mT_', results_fun, results_g_center, r_n, charr, results_x, guesses_x0)"
   ]
  },
  {
   "cell_type": "code",
   "execution_count": 12,
   "id": "cdc0acc2-1d04-4dd5-9eb7-0e33c143f57b",
   "metadata": {},
   "outputs": [
    {
     "name": "stdout",
     "output_type": "stream",
     "text": [
      "1.5573750827657786e-07\n"
     ]
    }
   ],
   "source": [
    "m = halbach_cylinder(Br, 1.101233, 640, 68.228286, n)\n",
    "Gmag, Gnon, center_field, av_nonuniformity, max_abs_nonuniformity = get_grid_mag_and_nonuniformity(m, grid, grid_res)\n",
    "print(av_nonuniformity)"
   ]
  },
  {
   "cell_type": "code",
   "execution_count": null,
   "id": "836fe4bf-625b-4afd-bb10-118a878bb35c",
   "metadata": {},
   "outputs": [],
   "source": []
  }
 ],
 "metadata": {
  "kernelspec": {
   "display_name": "Python 3 (ipykernel)",
   "language": "python",
   "name": "python3"
  },
  "language_info": {
   "codemirror_mode": {
    "name": "ipython",
    "version": 3
   },
   "file_extension": ".py",
   "mimetype": "text/x-python",
   "name": "python",
   "nbconvert_exporter": "python",
   "pygments_lexer": "ipython3",
   "version": "3.11.4"
  }
 },
 "nbformat": 4,
 "nbformat_minor": 5
}
