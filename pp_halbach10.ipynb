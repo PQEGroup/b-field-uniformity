{
 "cells": [
  {
   "cell_type": "code",
   "execution_count": 1,
   "id": "f09b69e8-4464-4b40-8241-84266b1cfbcd",
   "metadata": {},
   "outputs": [],
   "source": [
    "import numpy as np\n",
    "import magpylib as magpy\n",
    "from magpylib.magnet import Cuboid, Cylinder, CylinderSegment\n",
    "from maggeometry import halbach_cylinder\n",
    "import plotly.graph_objects as go\n",
    "from plotly.subplots import make_subplots\n",
    "import matplotlib.pyplot as plt"
   ]
  },
  {
   "cell_type": "markdown",
   "id": "49da9989-4214-41f7-908c-374a20df21e8",
   "metadata": {},
   "source": [
    "### Nelder-Mead Adaptive Optimization of Halbach 10 main\n",
    "n = 10\n",
    "\n",
    "### Pippin 1"
   ]
  },
  {
   "cell_type": "code",
   "execution_count": 2,
   "id": "de664111-788c-4a6e-ad2f-3a54325673bd",
   "metadata": {},
   "outputs": [],
   "source": [
    "# def halbach_cylinder(Br, c_d, c_h, D, n, alternate=False):"
   ]
  },
  {
   "cell_type": "code",
   "execution_count": 3,
   "id": "eb51176a-db8d-438d-919d-0e9c09e32fb9",
   "metadata": {},
   "outputs": [],
   "source": [
    "from maghelper import get_field_on_axes, get_nonuniformity, make_flux_stream, centered_sweep_range, get_grid_nonuniformity, make_xy_grid\n",
    "grid_res = 101\n",
    "grid = make_xy_grid([-10, 10], [-10, 10], grid_res)\n",
    "Br = 1.09e3\n",
    "n = 10\n",
    "c_h = 640\n",
    "          #c_d,     D\n",
    "bounds = ((1, 20), (21, 300))\n",
    "\n",
    "def obj1_nonuniformity(x):\n",
    "    magnets = halbach_cylinder(Br, x[0], c_h, x[1], n)\n",
    "    grid_field, center_field, av_nonuniformity, max_abs_nonuniformity = get_grid_nonuniformity(magnets, grid, grid_res)\n",
    "    return av_nonuniformity"
   ]
  },
  {
   "cell_type": "code",
   "execution_count": 4,
   "id": "e692a56d-49f5-462d-8d85-9e8f2157066d",
   "metadata": {
    "scrolled": true
   },
   "outputs": [
    {
     "name": "stdout",
     "output_type": "stream",
     "text": [
      "[13.719520258536647, 50.22670449094076]\n",
      "Optimization terminated successfully.\n",
      "         Current function value: 0.000001\n",
      "         Iterations: 45\n",
      "         Function evaluations: 95\n",
      "[13.28576943978044, 289.69820695012095]\n",
      "Optimization terminated successfully.\n",
      "         Current function value: 0.000001\n",
      "         Iterations: 41\n",
      "         Function evaluations: 84\n",
      "[17.306328754448366, 224.2538279766885]\n",
      "Optimization terminated successfully.\n",
      "         Current function value: 0.000001\n",
      "         Iterations: 41\n",
      "         Function evaluations: 88\n",
      "[7.750392069337438, 238.78823727649052]\n",
      "Optimization terminated successfully.\n",
      "         Current function value: 0.000001\n",
      "         Iterations: 71\n",
      "         Function evaluations: 139\n",
      "[1.5949808552949285, 133.01196510865023]\n",
      "Optimization terminated successfully.\n",
      "         Current function value: 0.000001\n",
      "         Iterations: 99\n",
      "         Function evaluations: 254\n",
      "[5.610777698405695, 166.1670731109604]\n",
      "Optimization terminated successfully.\n",
      "         Current function value: 0.000001\n",
      "         Iterations: 57\n",
      "         Function evaluations: 113\n",
      "[7.223089037625391, 226.731282583012]\n",
      "Optimization terminated successfully.\n",
      "         Current function value: 0.000001\n",
      "         Iterations: 53\n",
      "         Function evaluations: 112\n",
      "[11.54335651373578, 48.38599094778753]\n",
      "Optimization terminated successfully.\n",
      "         Current function value: 0.000001\n",
      "         Iterations: 51\n",
      "         Function evaluations: 106\n",
      "[2.6933752512878844, 121.24816228405524]\n",
      "Optimization terminated successfully.\n",
      "         Current function value: 0.000001\n",
      "         Iterations: 46\n",
      "         Function evaluations: 97\n",
      "[1.6498009870066088, 226.73968379212218]\n",
      "Optimization terminated successfully.\n",
      "         Current function value: 0.000001\n",
      "         Iterations: 92\n",
      "         Function evaluations: 235\n",
      "[12.221040245313164, 106.19990137478503]\n",
      "Optimization terminated successfully.\n",
      "         Current function value: 0.000001\n",
      "         Iterations: 50\n",
      "         Function evaluations: 104\n",
      "[16.18188839291358, 163.38054159318983]\n",
      "Optimization terminated successfully.\n",
      "         Current function value: 0.000001\n",
      "         Iterations: 38\n",
      "         Function evaluations: 86\n",
      "[10.590092315449118, 183.55933286633817]\n",
      "Optimization terminated successfully.\n",
      "         Current function value: 0.000001\n",
      "         Iterations: 46\n",
      "         Function evaluations: 99\n",
      "[9.665296891310893, 227.06395899662414]\n",
      "Optimization terminated successfully.\n",
      "         Current function value: 0.000001\n",
      "         Iterations: 50\n",
      "         Function evaluations: 100\n",
      "[18.277263113863054, 37.08428365681824]\n",
      "Optimization terminated successfully.\n",
      "         Current function value: 0.000001\n",
      "         Iterations: 44\n",
      "         Function evaluations: 91\n",
      "[2.102073183027652, 72.6770831187862]\n"
     ]
    },
    {
     "name": "stderr",
     "output_type": "stream",
     "text": [
      "/var/folders/06/7pjfbw510cz2ch1m7lx8vvl80000gn/T/ipykernel_99210/1290770021.py:19: RuntimeWarning: Maximum number of iterations has been exceeded.\n",
      "  res = minimize(obj1_nonuniformity, x0, method=method, options=options, bounds=bounds)\n"
     ]
    },
    {
     "name": "stdout",
     "output_type": "stream",
     "text": [
      "[16.979783665659163, 206.85522121996718]\n",
      "Optimization terminated successfully.\n",
      "         Current function value: 0.000001\n",
      "         Iterations: 40\n",
      "         Function evaluations: 86\n",
      "[3.553476363938866, 211.62040109260315]\n",
      "Optimization terminated successfully.\n",
      "         Current function value: 0.000001\n",
      "         Iterations: 70\n",
      "         Function evaluations: 161\n",
      "[14.519012541020098, 294.08709634064144]\n",
      "Optimization terminated successfully.\n",
      "         Current function value: 0.000001\n",
      "         Iterations: 46\n",
      "         Function evaluations: 98\n",
      "[5.992593199608001, 30.796826401365372]\n",
      "Optimization terminated successfully.\n",
      "         Current function value: 0.000001\n",
      "         Iterations: 56\n",
      "         Function evaluations: 115\n",
      "[8.596440941117688, 123.40278525592286]\n",
      "Optimization terminated successfully.\n",
      "         Current function value: 0.000001\n",
      "         Iterations: 77\n",
      "         Function evaluations: 159\n",
      "[14.627044311433247, 234.25070049317713]\n",
      "Optimization terminated successfully.\n",
      "         Current function value: 0.000001\n",
      "         Iterations: 47\n",
      "         Function evaluations: 102\n",
      "[2.837375217035647, 276.77628411744524]\n",
      "Optimization terminated successfully.\n",
      "         Current function value: 0.000001\n",
      "         Iterations: 42\n",
      "         Function evaluations: 95\n",
      "[3.932310532665303, 150.2241525753442]\n",
      "Optimization terminated successfully.\n",
      "         Current function value: 0.000001\n",
      "         Iterations: 63\n",
      "         Function evaluations: 145\n",
      "[1.7605205745152595, 96.5928079250539]\n",
      "Optimization terminated successfully.\n",
      "         Current function value: 0.000001\n",
      "         Iterations: 87\n",
      "         Function evaluations: 221\n",
      "Objective function values:\n",
      "[6.253363256421444e-07, 6.2533632895384e-07, 6.253363796233741e-07, 6.253363740222459e-07, 6.274911455999379e-07, 6.253362934663032e-07, 6.253363845413412e-07, 6.253362757834314e-07, 6.274554032305518e-07, 6.274847699809959e-07, 6.253363635735029e-07, 6.253363600039595e-07, 6.253362872348846e-07, 6.253362997415096e-07, 6.253363365986724e-07, 6.274918338633061e-07, 6.253362559237348e-07, 6.273707567897889e-07, 6.253363698447736e-07, 6.253363473603101e-07, 6.253364098863997e-07, 6.253363512637188e-07, 6.274202730197371e-07, 6.273884989987088e-07, 6.274925507205445e-07]\n",
      "Result parameters:\n",
      "[array([20.        , 95.26119987]), array([20.        , 95.26302834]), array([20.        , 95.25717851]), array([19.99977895, 95.25521922]), array([ 2.04215267, 95.1831647 ]), array([20.        , 95.26088196]), array([20.        , 95.26062781]), array([20.        , 95.25975625]), array([ 3.65478068, 95.21799346]), array([ 2.51570833, 95.19988756]), array([20.        , 95.26488956]), array([20.        , 95.26701761]), array([20.        , 95.25921646]), array([20.        , 95.25749439]), array([20.        , 95.26015694]), array([ 1.66909758, 95.17492965]), array([20.        , 95.25652288]), array([ 5.38752414, 95.20717551]), array([20.        , 95.26181198]), array([20.        , 95.26196225]), array([20.        , 95.25152487]), array([20.        , 95.26687284]), array([ 4.45579429, 95.2477798 ]), array([ 5.09661535, 95.19387459]), array([ 2.01675484, 95.22531974])]\n",
      "Starting guesses:\n",
      "[[13.719520258536647, 50.22670449094076], [13.28576943978044, 289.69820695012095], [17.306328754448366, 224.2538279766885], [7.750392069337438, 238.78823727649052], [1.5949808552949285, 133.01196510865023], [5.610777698405695, 166.1670731109604], [7.223089037625391, 226.731282583012], [11.54335651373578, 48.38599094778753], [2.6933752512878844, 121.24816228405524], [1.6498009870066088, 226.73968379212218], [12.221040245313164, 106.19990137478503], [16.18188839291358, 163.38054159318983], [10.590092315449118, 183.55933286633817], [9.665296891310893, 227.06395899662414], [18.277263113863054, 37.08428365681824], [2.102073183027652, 72.6770831187862], [16.979783665659163, 206.85522121996718], [3.553476363938866, 211.62040109260315], [14.519012541020098, 294.08709634064144], [5.992593199608001, 30.796826401365372], [8.596440941117688, 123.40278525592286], [14.627044311433247, 234.25070049317713], [2.837375217035647, 276.77628411744524], [3.932310532665303, 150.2241525753442], [1.7605205745152595, 96.5928079250539]]\n"
     ]
    }
   ],
   "source": [
    "import numpy as np\n",
    "from scipy.optimize import minimize, Bounds\n",
    "from maghelper import get_field_on_axes, get_nonuniformity, make_flux_stream, centered_sweep_range, get_grid_nonuniformity, make_grid\n",
    "from alive_progress import alive_bar\n",
    "\n",
    "options = {'disp': True, 'fatol': 1e-12, 'maxiter': 5e3, 'adaptive': True}\n",
    "method = \"Nelder-Mead\"\n",
    "\n",
    "shots = 25\n",
    "results_x = []\n",
    "results_fun = []\n",
    "guesses_x0 = []\n",
    "b_len = len(bounds)\n",
    "for i in range(shots):\n",
    "    x0 = [0, 0]\n",
    "    for b in range(b_len):\n",
    "        x0[b] = np.random.uniform(low=bounds[b][0], high=bounds[b][1])\n",
    "    print(x0)\n",
    "    res = minimize(obj1_nonuniformity, x0, method=method, options=options, bounds=bounds)\n",
    "    guesses_x0.append(x0)\n",
    "    results_x.append(res.x)\n",
    "    results_fun.append(res.fun)\n",
    "\n",
    "print(\"Objective function values:\")\n",
    "print(results_fun)\n",
    "print(\"Result parameters:\")\n",
    "print(results_x)\n",
    "print(\"Starting guesses:\")\n",
    "print(guesses_x0)"
   ]
  },
  {
   "cell_type": "code",
   "execution_count": 5,
   "id": "589652d9-7526-4bd5-9856-9cca94938169",
   "metadata": {},
   "outputs": [
    {
     "name": "stdout",
     "output_type": "stream",
     "text": [
      "[array([20.        , 95.26119987]), array([20.        , 95.26302834]), array([20.        , 95.25717851]), array([19.99977895, 95.25521922]), array([ 2.04215267, 95.1831647 ]), array([20.        , 95.26088196]), array([20.        , 95.26062781]), array([20.        , 95.25975625]), array([ 3.65478068, 95.21799346]), array([ 2.51570833, 95.19988756]), array([20.        , 95.26488956]), array([20.        , 95.26701761]), array([20.        , 95.25921646]), array([20.        , 95.25749439]), array([20.        , 95.26015694]), array([ 1.66909758, 95.17492965]), array([20.        , 95.25652288]), array([ 5.38752414, 95.20717551]), array([20.        , 95.26181198]), array([20.        , 95.26196225]), array([20.        , 95.25152487]), array([20.        , 95.26687284]), array([ 4.45579429, 95.2477798 ]), array([ 5.09661535, 95.19387459]), array([ 2.01675484, 95.22531974])]\n"
     ]
    }
   ],
   "source": [
    "print(results_x)"
   ]
  },
  {
   "cell_type": "code",
   "execution_count": 6,
   "id": "e4452b35-0ab3-46a1-98dc-53f18db65ebf",
   "metadata": {},
   "outputs": [],
   "source": [
    "c_h = np.full((1, shots), 640).flatten()\n",
    "r_n = np.full((1, shots), 10).flatten()"
   ]
  },
  {
   "cell_type": "code",
   "execution_count": 7,
   "id": "3ade58bf-00ea-4069-bf6a-ec6884fb1768",
   "metadata": {},
   "outputs": [
    {
     "name": "stdout",
     "output_type": "stream",
     "text": [
      "[2401.8589592501876, 2401.766726054832, 2402.0618271964267, 2402.1075781229633, 25.082787856777514, 2401.874995911173, 2401.8878164975436, 2401.9317833451496, 80.27940723129775, 38.0511096834031, 2401.6728462309984, 2401.565513959218, 2401.9590139579436, 2402.0458908510545, 2401.911570089739, 16.758611187846476, 2402.094904217788, 174.4852441421355, 2401.8280820495565, 2401.820502214072, 2402.3470826421753, 2401.572815819066, 119.25044784668587, 156.19436359232986, 24.44110730632664]\n",
      "[6.253363256421444e-07, 6.2533632895384e-07, 6.253363796233741e-07, 6.253363740222459e-07, 6.274911455999379e-07, 6.253362934663032e-07, 6.253363845413412e-07, 6.253362757834314e-07, 6.274554032305518e-07, 6.274847699809959e-07, 6.253363635735029e-07, 6.253363600039595e-07, 6.253362872348846e-07, 6.253362997415096e-07, 6.253363365986724e-07, 6.274918338633061e-07, 6.253362559237348e-07, 6.273707567897889e-07, 6.253363698447736e-07, 6.253363473603101e-07, 6.253364098863997e-07, 6.253363512637188e-07, 6.274202730197371e-07, 6.273884989987088e-07, 6.274925507205445e-07]\n"
     ]
    }
   ],
   "source": [
    "from maggeometry import halbach_cylinder\n",
    "from maghelper import get_field_on_axes, get_nonuniformity, make_flux_stream, centered_sweep_range, get_grid_nonuniformity, make_xy_grid, get_grid_mag_and_nonuniformity\n",
    "grid_res = 101\n",
    "grid = make_xy_grid([-10, 10], [-10, 10], grid_res)\n",
    "results_g_center = []\n",
    "results_nonun = []\n",
    "for x in results_x:\n",
    "    magnets = halbach_cylinder(Br, x[0], c_h[0], x[1], n)\n",
    "    Gmag, Gnon, center_field, av_nonuniformity, max_abs_nonuniformity = get_grid_mag_and_nonuniformity(magnets, grid, grid_res)\n",
    "    results_g_center.append(center_field)\n",
    "    results_nonun.append(av_nonuniformity)\n",
    "print(results_g_center)\n",
    "print(results_nonun)"
   ]
  },
  {
   "cell_type": "code",
   "execution_count": 8,
   "id": "4d42a282-5b9f-4517-a7fc-bd9f0e2e41be",
   "metadata": {},
   "outputs": [
    {
     "name": "stdout",
     "output_type": "stream",
     "text": [
      "[6.253363256421444e-07, 6.2533632895384e-07, 6.253363796233741e-07, 6.253363740222459e-07, 6.274911455999379e-07, 6.253362934663032e-07, 6.253363845413412e-07, 6.253362757834314e-07, 6.274554032305518e-07, 6.274847699809959e-07, 6.253363635735029e-07, 6.253363600039595e-07, 6.253362872348846e-07, 6.253362997415096e-07, 6.253363365986724e-07, 6.274918338633061e-07, 6.253362559237348e-07, 6.273707567897889e-07, 6.253363698447736e-07, 6.253363473603101e-07, 6.253364098863997e-07, 6.253363512637188e-07, 6.274202730197371e-07, 6.273884989987088e-07, 6.274925507205445e-07]\n",
      "[6.253363256421444e-07, 6.2533632895384e-07, 6.253363796233741e-07, 6.253363740222459e-07, 6.274911455999379e-07, 6.253362934663032e-07, 6.253363845413412e-07, 6.253362757834314e-07, 6.274554032305518e-07, 6.274847699809959e-07, 6.253363635735029e-07, 6.253363600039595e-07, 6.253362872348846e-07, 6.253362997415096e-07, 6.253363365986724e-07, 6.274918338633061e-07, 6.253362559237348e-07, 6.273707567897889e-07, 6.253363698447736e-07, 6.253363473603101e-07, 6.253364098863997e-07, 6.253363512637188e-07, 6.274202730197371e-07, 6.273884989987088e-07, 6.274925507205445e-07]\n"
     ]
    }
   ],
   "source": [
    "print(results_fun)\n",
    "print(results_nonun)"
   ]
  },
  {
   "cell_type": "code",
   "execution_count": 9,
   "id": "c8fd0acb-f506-49cb-900c-aed1476f3a0f",
   "metadata": {
    "scrolled": true
   },
   "outputs": [
    {
     "name": "stdout",
     "output_type": "stream",
     "text": [
      "Number of unique results: 25\n",
      "    nonuniformity  center_field_gauss  n_rods  cyl_height  cyl_diameter  \\\n",
      "0    6.253363e-07         2402.094904    10.0       640.0     20.000000   \n",
      "1    6.253363e-07         2401.931783    10.0       640.0     20.000000   \n",
      "2    6.253363e-07         2401.959014    10.0       640.0     20.000000   \n",
      "3    6.253363e-07         2401.874996    10.0       640.0     20.000000   \n",
      "4    6.253363e-07         2402.045891    10.0       640.0     20.000000   \n",
      "5    6.253363e-07         2401.858959    10.0       640.0     20.000000   \n",
      "6    6.253363e-07         2401.766726    10.0       640.0     20.000000   \n",
      "7    6.253363e-07         2401.911570    10.0       640.0     20.000000   \n",
      "8    6.253363e-07         2401.820502    10.0       640.0     20.000000   \n",
      "9    6.253364e-07         2401.572816    10.0       640.0     20.000000   \n",
      "10   6.253364e-07         2401.565514    10.0       640.0     20.000000   \n",
      "11   6.253364e-07         2401.672846    10.0       640.0     20.000000   \n",
      "12   6.253364e-07         2401.828082    10.0       640.0     20.000000   \n",
      "13   6.253364e-07         2402.107578    10.0       640.0     19.999779   \n",
      "14   6.253364e-07         2402.061827    10.0       640.0     20.000000   \n",
      "15   6.253364e-07         2401.887816    10.0       640.0     20.000000   \n",
      "16   6.253364e-07         2402.347083    10.0       640.0     20.000000   \n",
      "17   6.273708e-07          174.485244    10.0       640.0      5.387524   \n",
      "18   6.273885e-07          156.194364    10.0       640.0      5.096615   \n",
      "19   6.274203e-07          119.250448    10.0       640.0      4.455794   \n",
      "20   6.274554e-07           80.279407    10.0       640.0      3.654781   \n",
      "21   6.274848e-07           38.051110    10.0       640.0      2.515708   \n",
      "22   6.274911e-07           25.082788    10.0       640.0      2.042153   \n",
      "23   6.274918e-07           16.758611    10.0       640.0      1.669098   \n",
      "24   6.274926e-07           24.441107    10.0       640.0      2.016755   \n",
      "\n",
      "            D  g_cyl_diameter         g_D  \n",
      "0   95.256523       16.979784  206.855221  \n",
      "1   95.259756       11.543357   48.385991  \n",
      "2   95.259216       10.590092  183.559333  \n",
      "3   95.260882        5.610778  166.167073  \n",
      "4   95.257494        9.665297  227.063959  \n",
      "5   95.261200       13.719520   50.226704  \n",
      "6   95.263028       13.285769  289.698207  \n",
      "7   95.260157       18.277263   37.084284  \n",
      "8   95.261962        5.992593   30.796826  \n",
      "9   95.266873       14.627044  234.250700  \n",
      "10  95.267018       16.181888  163.380542  \n",
      "11  95.264890       12.221040  106.199901  \n",
      "12  95.261812       14.519013  294.087096  \n",
      "13  95.255219        7.750392  238.788237  \n",
      "14  95.257179       17.306329  224.253828  \n",
      "15  95.260628        7.223089  226.731283  \n",
      "16  95.251525        8.596441  123.402785  \n",
      "17  95.207176        3.553476  211.620401  \n",
      "18  95.193875        3.932311  150.224153  \n",
      "19  95.247780        2.837375  276.776284  \n",
      "20  95.217993        2.693375  121.248162  \n",
      "21  95.199888        1.649801  226.739684  \n",
      "22  95.183165        1.594981  133.011965  \n",
      "23  95.174930        2.102073   72.677083  \n",
      "24  95.225320        1.760521   96.592808  \n"
     ]
    }
   ],
   "source": [
    "import pandas as pd\n",
    "def make_opt_res_halbach_csv(name, fun, g_center, r_n, r_ch, x, guesses):\n",
    "    r_f = np.array([fun])\n",
    "    r_g = np.array(guesses)\n",
    "    r_gc = np.array([g_center])\n",
    "    r_n = np.array([r_n])\n",
    "    r_ch = np.array([r_ch])\n",
    "    r_x = np.array(x)\n",
    "\n",
    "    a = np.concatenate((r_f.T, r_gc.T, r_n.T, r_ch.T, r_x, r_g), axis=1)\n",
    "    b = a[a[:, 0].argsort()]\n",
    "\n",
    "    columns = ['nonuniformity', 'center_field_gauss', 'n_rods', 'cyl_height']\n",
    "\n",
    "    columns.append('cyl_diameter')\n",
    "    columns.append('D')\n",
    "    columns.append('g_cyl_diameter')\n",
    "    columns.append('g_D')\n",
    "    \n",
    "    \n",
    "    columns = np.array(columns)\n",
    "    b_df = pd.DataFrame(b, columns = columns)\n",
    "    \n",
    "    c = np.concatenate((r_f.T, r_x), axis=1)\n",
    "    new_array = [tuple(row) for row in c]\n",
    "    u = np.unique(new_array, axis=0)\n",
    "    n_unique = len(u)\n",
    "    print('Number of unique results:', n_unique)\n",
    "    print(b_df)\n",
    "    b_df.to_csv(name + str(n_unique) + '.csv')\n",
    "    return b, b_df\n",
    "\n",
    "import datetime\n",
    "today = datetime.datetime.today().strftime('%Y_%m_%d')\n",
    "\n",
    "b, b_df = make_opt_res_halbach_csv(f'results/halbach/pippin/run1/{today}_pippin1_halbach{n}main_1090mT_', results_fun, results_g_center, r_n, c_h, results_x, guesses_x0)"
   ]
  },
  {
   "cell_type": "code",
   "execution_count": 11,
   "id": "c6a8948e-4f7b-4ffd-95a2-abc4cc2d0842",
   "metadata": {
    "scrolled": true
   },
   "outputs": [
    {
     "name": "stdout",
     "output_type": "stream",
     "text": [
      "[[ 10.         640.          20.          95.25652288  16.97978367\n",
      "  206.85522122]\n",
      " [ 10.         640.          20.          95.25975625  11.54335651\n",
      "   48.38599095]\n",
      " [ 10.         640.          20.          95.25921646  10.59009232\n",
      "  183.55933287]\n",
      " [ 10.         640.          20.          95.26088196   5.6107777\n",
      "  166.16707311]\n",
      " [ 10.         640.          20.          95.25749439   9.66529689\n",
      "  227.063959  ]\n",
      " [ 10.         640.          20.          95.26119987  13.71952026\n",
      "   50.22670449]\n",
      " [ 10.         640.          20.          95.26302834  13.28576944\n",
      "  289.69820695]\n",
      " [ 10.         640.          20.          95.26015694  18.27726311\n",
      "   37.08428366]\n",
      " [ 10.         640.          20.          95.26196225   5.9925932\n",
      "   30.7968264 ]\n",
      " [ 10.         640.          20.          95.26687284  14.62704431\n",
      "  234.25070049]\n",
      " [ 10.         640.          20.          95.26701761  16.18188839\n",
      "  163.38054159]\n",
      " [ 10.         640.          20.          95.26488956  12.22104025\n",
      "  106.19990137]\n",
      " [ 10.         640.          20.          95.26181198  14.51901254\n",
      "  294.08709634]\n",
      " [ 10.         640.          19.99977895  95.25521922   7.75039207\n",
      "  238.78823728]\n",
      " [ 10.         640.          20.          95.25717851  17.30632875\n",
      "  224.25382798]\n",
      " [ 10.         640.          20.          95.26062781   7.22308904\n",
      "  226.73128258]\n",
      " [ 10.         640.          20.          95.25152487   8.59644094\n",
      "  123.40278526]\n",
      " [ 10.         640.           5.38752414  95.20717551   3.55347636\n",
      "  211.62040109]\n",
      " [ 10.         640.           5.09661535  95.19387459   3.93231053\n",
      "  150.22415258]\n",
      " [ 10.         640.           4.45579429  95.2477798    2.83737522\n",
      "  276.77628412]\n",
      " [ 10.         640.           3.65478068  95.21799346   2.69337525\n",
      "  121.24816228]\n",
      " [ 10.         640.           2.51570833  95.19988756   1.64980099\n",
      "  226.73968379]\n",
      " [ 10.         640.           2.04215267  95.1831647    1.59498086\n",
      "  133.01196511]\n",
      " [ 10.         640.           1.66909758  95.17492965   2.10207318\n",
      "   72.67708312]\n",
      " [ 10.         640.           2.01675484  95.22531974   1.76052057\n",
      "   96.59280793]]\n"
     ]
    }
   ],
   "source": [
    "st1 = pd.read_csv(f'results/halbach/pippin/run1/10/2023_08_12_pippin1_halbach10main_1090mT_25.csv')\n",
    "st1 = np.delete(st1.to_numpy(), [0,1,2], axis=1) #remove first column of indices\n",
    "print (st1)"
   ]
  },
  {
   "cell_type": "code",
   "execution_count": 12,
   "id": "4e92f018-cdd6-4cd1-973b-1222871e00e6",
   "metadata": {},
   "outputs": [],
   "source": [
    "field_strength_target = 10\n",
    "dist1 = 0\n",
    "\n",
    "grid_res = 101\n",
    "grid = make_xy_grid([-10, 10], [-10, 10], grid_res)\n",
    "Br = 1.09e3\n",
    "n_rods = 10\n",
    "c_h = 640\n",
    "def product_nonuniformity(x):\n",
    "    #x -> n_rods, c_h, c_d, D\n",
    "    c_d, D = x\n",
    "    magnets = halbach_cylinder(Br, c_d, c_h, D, n_rods)\n",
    "    grid_field, center_field, av_nonuniformity, max_abs_nonuniformity = get_grid_nonuniformity(magnets, grid, grid_res)\n",
    "    cost = av_nonuniformity*np.abs(np.abs(center_field) - field_strength_target)\n",
    "    return cost"
   ]
  },
  {
   "cell_type": "code",
   "execution_count": null,
   "id": "0d8dfb4f-e097-4b88-8196-0e696628f45c",
   "metadata": {
    "scrolled": true
   },
   "outputs": [
    {
     "name": "stdout",
     "output_type": "stream",
     "text": [
      "Optimization terminated successfully.\n",
      "         Current function value: 0.001419\n",
      "         Iterations: 65\n",
      "         Function evaluations: 171\n"
     ]
    },
    {
     "name": "stderr",
     "output_type": "stream",
     "text": [
      "/var/folders/06/7pjfbw510cz2ch1m7lx8vvl80000gn/T/ipykernel_99210/2015679465.py:7: RuntimeWarning: Maximum number of iterations has been exceeded.\n",
      "  res2 = minimize(product_nonuniformity, s0[2:4], method=method2, options=options2, bounds=bounds2)\n"
     ]
    }
   ],
   "source": [
    "results2_x = []\n",
    "results2_fun = []\n",
    "method2 = 'Nelder-Mead'\n",
    "bounds2 = ((1, 20), (21, 300))\n",
    "options2 = {'disp': True, 'fatol': 1e-18, 'maxiter': 5e3, 'adaptive': True}\n",
    "for s0 in st1:\n",
    "    res2 = minimize(product_nonuniformity, s0[2:4], method=method2, options=options2, bounds=bounds2)\n",
    "    results2_x.append(res2.x)\n",
    "    results2_fun.append(res2.fun)\n",
    "        \n",
    "print(results2_x)\n",
    "print(results2_fun)"
   ]
  },
  {
   "cell_type": "code",
   "execution_count": 39,
   "id": "952e2ef5-2f4e-4159-aa3d-f1abfd5fa186",
   "metadata": {},
   "outputs": [],
   "source": [
    "r_ch = np.full((1, shots), 640).flatten()\n",
    "r_n = np.full((1, shots), 10).flatten()"
   ]
  },
  {
   "cell_type": "code",
   "execution_count": 49,
   "id": "bdd58cec-9827-4e9f-accb-4c17ef72629c",
   "metadata": {},
   "outputs": [],
   "source": [
    "import pandas as pd\n",
    "def make_opt_res2_halbach_csv(name, nonun, g_center, r_n, r_ch, x, stage1, objective):\n",
    "    r_f = np.array([nonun])\n",
    "    r_gc = np.array([g_center])\n",
    "    r_obj = np.array([objective])\n",
    "    r_n = np.array([r_n])\n",
    "    r_ch = np.array([r_ch])\n",
    "    r_x = np.array(x)\n",
    "    r_s1 = np.array(stage1)\n",
    "\n",
    "    a = np.concatenate((r_f.T, r_gc.T, r_n.T, r_ch.T, r_x, r_s1, r_obj.T), axis=1)\n",
    "    b = a[a[:, 0].argsort()]\n",
    "\n",
    "    columns = ['nonuniformity', 'center_field_gauss', 'n_rods', 'cyl_height']\n",
    "\n",
    "    columns.append('stage2_cyl_diameter')\n",
    "    columns.append('stage2_D')\n",
    "    columns.append('stage1_cyl_diameter')\n",
    "    columns.append('stage1_D')\n",
    "    columns.append('objective')\n",
    "    \n",
    "    \n",
    "    columns = np.array(columns)\n",
    "    b_df = pd.DataFrame(b, columns = columns)\n",
    "    b_df.to_csv(name + '.csv')\n",
    "    return b_df"
   ]
  },
  {
   "cell_type": "code",
   "execution_count": 50,
   "id": "a47e1082-4b14-4e9c-9652-38ae4abf3714",
   "metadata": {},
   "outputs": [
    {
     "name": "stdout",
     "output_type": "stream",
     "text": [
      "[347.84730937028286, 347.85685094903636, 347.84337033066697, 347.8570962095482, 347.849666502276, 347.8606813107586, 347.8503333122094, 347.86016312330935, 347.8569972122414, 347.8610023827259, 347.85825272184286, 347.86487135500784, 347.8613602950767, 347.84504799689216, 347.85345371974574, 347.861367358575, 347.8551577041938, 347.84996784453745, 347.8548231229014, 347.8612389515008, 9.9999999999999, 10.000000000000885, 9.999999999997858, 10.000000000000409, 10.00000000000015]\n",
      "[7.290882813965832e-06, 7.2906767823886545e-06, 7.2909677744630606e-06, 7.290671479058764e-06, 7.29083190977261e-06, 7.290594080330111e-06, 7.290817580403002e-06, 7.290605331034914e-06, 7.2906736418072985e-06, 7.290587141977254e-06, 7.290646530219952e-06, 7.29050384560737e-06, 7.290579482244333e-06, 7.290931553044364e-06, 7.290750078549259e-06, 7.290579324685595e-06, 7.29071328003472e-06, 7.29082541344854e-06, 7.2907205763591195e-06, 7.290582101801496e-06, 6.767981849500208e-06, 8.265616910686207e-06, 8.07432948081031e-06, 8.004669811116541e-06, 8.031971351545395e-06]\n"
     ]
    }
   ],
   "source": [
    "from maggeometry import halbach_cylinder\n",
    "from maghelper import get_field_on_axes, get_nonuniformity, make_flux_stream, centered_sweep_range, get_grid_nonuniformity, make_xy_grid, get_grid_mag_and_nonuniformity\n",
    "grid_res = 101\n",
    "grid = make_xy_grid([-10, 10], [-10, 10], grid_res)\n",
    "results2_g_center = []\n",
    "results2_nonun = []\n",
    "for x in results2_x:\n",
    "    magnets = halbach_cylinder(Br, x[0], r_ch[0], x[1], n)\n",
    "    Gmag, Gnon, center_field, av_nonuniformity, max_abs_nonuniformity = get_grid_mag_and_nonuniformity(magnets, grid, grid_res)\n",
    "    results2_g_center.append(center_field)\n",
    "    results2_nonun.append(av_nonuniformity)\n",
    "print(results2_g_center)\n",
    "print(results2_nonun)"
   ]
  },
  {
   "cell_type": "code",
   "execution_count": 51,
   "id": "5c267bdb-bbf1-4f9e-937b-916fca21785e",
   "metadata": {
    "scrolled": true
   },
   "outputs": [
    {
     "name": "stdout",
     "output_type": "stream",
     "text": [
      "    nonuniformity  center_field_gauss  n_rods  cyl_height  \\\n",
      "0        0.000007           10.000000     6.0       640.0   \n",
      "1        0.000007          347.864871     6.0       640.0   \n",
      "2        0.000007          347.861367     6.0       640.0   \n",
      "3        0.000007          347.861360     6.0       640.0   \n",
      "4        0.000007          347.861239     6.0       640.0   \n",
      "5        0.000007          347.861002     6.0       640.0   \n",
      "6        0.000007          347.860681     6.0       640.0   \n",
      "7        0.000007          347.860163     6.0       640.0   \n",
      "8        0.000007          347.858253     6.0       640.0   \n",
      "9        0.000007          347.857096     6.0       640.0   \n",
      "10       0.000007          347.856997     6.0       640.0   \n",
      "11       0.000007          347.856851     6.0       640.0   \n",
      "12       0.000007          347.855158     6.0       640.0   \n",
      "13       0.000007          347.854823     6.0       640.0   \n",
      "14       0.000007          347.853454     6.0       640.0   \n",
      "15       0.000007          347.850333     6.0       640.0   \n",
      "16       0.000007          347.849968     6.0       640.0   \n",
      "17       0.000007          347.849667     6.0       640.0   \n",
      "18       0.000007          347.847309     6.0       640.0   \n",
      "19       0.000007          347.845048     6.0       640.0   \n",
      "20       0.000007          347.843370     6.0       640.0   \n",
      "21       0.000008           10.000000     6.0       640.0   \n",
      "22       0.000008           10.000000     6.0       640.0   \n",
      "23       0.000008           10.000000     6.0       640.0   \n",
      "24       0.000008           10.000000     6.0       640.0   \n",
      "\n",
      "    stage2_cyl_diameter    stage2_D  stage1_cyl_diameter    stage1_D  \\\n",
      "0              3.237728  184.934161             3.520951  173.816630   \n",
      "1             20.000000  193.646378            20.000000  173.902086   \n",
      "2             20.000000  193.647349            20.000000  173.906598   \n",
      "3             20.000000  193.647351            20.000000  173.899027   \n",
      "4             20.000000  193.647384            20.000000  173.896660   \n",
      "5             20.000000  193.647450            20.000000  173.898388   \n",
      "6             20.000000  193.647539            20.000000  173.899168   \n",
      "7             20.000000  193.647682            20.000000  173.897415   \n",
      "8             20.000000  193.648211            20.000000  173.902510   \n",
      "9             20.000000  193.648532            20.000000  173.902630   \n",
      "10            20.000000  193.648559            20.000000  173.903210   \n",
      "11            20.000000  193.648599            20.000000  173.900590   \n",
      "12            20.000000  193.649068            20.000000  173.905826   \n",
      "13            20.000000  193.649161            20.000000  173.898862   \n",
      "14            20.000000  193.649540            20.000000  173.902959   \n",
      "15            20.000000  193.650405            20.000000  173.898903   \n",
      "16            20.000000  193.650506            20.000000  173.897976   \n",
      "17            20.000000  193.650589            20.000000  173.904795   \n",
      "18            20.000000  193.651242            20.000000  173.901569   \n",
      "19            20.000000  193.651868            20.000000  173.899264   \n",
      "20            20.000000  193.652333            20.000000  173.901595   \n",
      "21             2.656530  151.828447             1.000000  173.758118   \n",
      "22             2.653550  151.658457             1.000000  173.671429   \n",
      "23             2.648996  151.398708             1.000000  173.829987   \n",
      "24             2.629385  150.280135             2.341258  173.826487   \n",
      "\n",
      "       objective  \n",
      "0   6.732516e-19  \n",
      "1   2.463205e-03  \n",
      "2   2.463205e-03  \n",
      "3   2.463205e-03  \n",
      "4   2.463205e-03  \n",
      "5   2.463205e-03  \n",
      "6   2.463205e-03  \n",
      "7   2.463205e-03  \n",
      "8   2.463205e-03  \n",
      "9   2.463205e-03  \n",
      "10  2.463205e-03  \n",
      "11  2.463205e-03  \n",
      "12  2.463205e-03  \n",
      "13  2.463205e-03  \n",
      "14  2.463205e-03  \n",
      "15  2.463205e-03  \n",
      "16  2.463205e-03  \n",
      "17  2.463205e-03  \n",
      "18  2.463205e-03  \n",
      "19  2.463205e-03  \n",
      "20  2.463205e-03  \n",
      "21  3.270404e-18  \n",
      "22  1.198482e-18  \n",
      "23  1.729753e-17  \n",
      "24  7.311977e-18  \n"
     ]
    }
   ],
   "source": [
    "import datetime\n",
    "today = datetime.datetime.today().strftime('%Y_%m_%d')\n",
    "\n",
    "b_df = make_opt_res2_halbach_csv(f'results/halbach/pippin/run1/6/{today}_pippin2_halbach{n}main_1090mT_25.csv', results2_nonun, results2_g_center, r_n, r_ch, results2_x, st1[:, 2:4], results2_fun)\n",
    "print(b_df)"
   ]
  },
  {
   "cell_type": "code",
   "execution_count": null,
   "id": "836fe4bf-625b-4afd-bb10-118a878bb35c",
   "metadata": {},
   "outputs": [],
   "source": []
  }
 ],
 "metadata": {
  "kernelspec": {
   "display_name": "Python 3 (ipykernel)",
   "language": "python",
   "name": "python3"
  },
  "language_info": {
   "codemirror_mode": {
    "name": "ipython",
    "version": 3
   },
   "file_extension": ".py",
   "mimetype": "text/x-python",
   "name": "python",
   "nbconvert_exporter": "python",
   "pygments_lexer": "ipython3",
   "version": "3.11.4"
  }
 },
 "nbformat": 4,
 "nbformat_minor": 5
}
