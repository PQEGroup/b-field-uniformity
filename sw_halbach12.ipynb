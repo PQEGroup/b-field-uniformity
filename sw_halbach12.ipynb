{
 "cells": [
  {
   "cell_type": "code",
   "execution_count": 1,
   "id": "f09b69e8-4464-4b40-8241-84266b1cfbcd",
   "metadata": {},
   "outputs": [],
   "source": [
    "import numpy as np\n",
    "import magpylib as magpy\n",
    "from magpylib.magnet import Cuboid, Cylinder, CylinderSegment\n",
    "from maggeometry import halbach_cylinder\n",
    "import plotly.graph_objects as go\n",
    "from plotly.subplots import make_subplots\n",
    "import matplotlib.pyplot as plt\n",
    "import numpy as np\n",
    "from scipy.optimize import minimize, Bounds\n",
    "from maghelper import get_field_on_axes, get_nonuniformity, make_flux_stream, centered_sweep_range, get_grid_nonuniformity, make_grid"
   ]
  },
  {
   "cell_type": "markdown",
   "id": "49da9989-4214-41f7-908c-374a20df21e8",
   "metadata": {},
   "source": [
    "### Nelder-Mead Adaptive Optimization of Halbach 12 main\n",
    "n = 12\n",
    "\n",
    "### Samwise"
   ]
  },
  {
   "cell_type": "code",
   "execution_count": 2,
   "id": "de664111-788c-4a6e-ad2f-3a54325673bd",
   "metadata": {},
   "outputs": [],
   "source": [
    "# def halbach_cylinder(Br, c_d, c_h, D, n, alternate=False):"
   ]
  },
  {
   "cell_type": "code",
   "execution_count": 3,
   "id": "d59be79b-87f9-4483-a15c-783a1a58ca22",
   "metadata": {},
   "outputs": [],
   "source": [
    "def get_grid_mag_and_target_nonuniformity(magnets, grid, grid_res, target=10, use_z=False):\n",
    "    mT_to_G = 10\n",
    "    B = magnets.getB(grid)\n",
    "    G = B * mT_to_G\n",
    "    # find magnitude of the b-field at all points over grid\n",
    "    Gmag = 0\n",
    "    if use_z:\n",
    "        Gmag = G[:,:,2]\n",
    "    else:\n",
    "        Gmag = np.linalg.norm(G, axis=2)\n",
    "#     Gmag = np.sqrt(G[:,:,0]**2 + G[:,:,1]**2 + G[:,:,2]**2)\n",
    "#     Gmag = G[:,:,2]\n",
    "    # find magnitude of b-field at center of grid\n",
    "    mid_id = int(grid_res/2)\n",
    "    Gcenter = Gmag[mid_id][mid_id]\n",
    "    # calculate nonuniformity with respect to center b-field\n",
    "    Gnon = np.abs((Gmag - Gcenter)/Gcenter)\n",
    "    Gtarget_non = np.abs((Gmag - target)/target)\n",
    "#     Gtarget_non = np.abs((Gmag - target)/target)\n",
    "#     max_nonuniformity = np.max(Gnon)\n",
    "    av_nonuniformity = np.sum(Gnon) / grid_res**2\n",
    "    av_target_nonuniformity = np.sum(Gtarget_non) / grid_res**2\n",
    "#     return Gmag, Gnon, Gcenter, av_nonuniformity, av_target_nonuniformity, max_nonuniformity\n",
    "    return Gcenter, av_nonuniformity, av_target_nonuniformity"
   ]
  },
  {
   "cell_type": "code",
   "execution_count": 4,
   "id": "f147ec97-7d3b-4049-9a0a-92dc843f1c26",
   "metadata": {},
   "outputs": [],
   "source": [
    "from maghelper import get_field_on_axes, get_nonuniformity, make_flux_stream, centered_sweep_range, get_grid_nonuniformity, make_xy_grid"
   ]
  },
  {
   "cell_type": "code",
   "execution_count": 5,
   "id": "eb51176a-db8d-438d-919d-0e9c09e32fb9",
   "metadata": {},
   "outputs": [],
   "source": [
    "n = 12\n",
    "grid_res = 101\n",
    "grid = make_xy_grid([-10, 10], [-10, 10], grid_res)\n",
    "Br = 1.09e3\n",
    "c_h = 640\n",
    "threshold = 0.1 # in G\n",
    "target = 10\n",
    "\n",
    "          #c_d,     D\n",
    "bounds = ((1, 20), (21, 300))\n",
    "\n",
    "def obj1_nonuniformity(x):\n",
    "    magnets = halbach_cylinder(Br, x[0], c_h, x[1], n)\n",
    "    center_field, av_nonuniformity, av_target_nonuniformity = get_grid_mag_and_target_nonuniformity(magnets, grid, grid_res, target)\n",
    "    if (abs(center_field - target) > threshold):\n",
    "        return av_target_nonuniformity\n",
    "    return av_nonuniformity"
   ]
  },
  {
   "cell_type": "code",
   "execution_count": null,
   "id": "e692a56d-49f5-462d-8d85-9e8f2157066d",
   "metadata": {
    "scrolled": true
   },
   "outputs": [
    {
     "name": "stdout",
     "output_type": "stream",
     "text": [
      "[17.501956700862745, 231.56662666210534]\n",
      "Optimization terminated successfully.\n",
      "         Current function value: 0.000027\n",
      "         Iterations: 93\n",
      "         Function evaluations: 231\n",
      "[2.9836176989425987, 195.60211722484058]\n"
     ]
    }
   ],
   "source": [
    "options = {'disp': True, 'fatol': 1e-18, 'maxiter': 5e3, 'adaptive': True}\n",
    "method = \"Nelder-Mead\"\n",
    "\n",
    "shots = 25\n",
    "results_x = []\n",
    "results_fun = []\n",
    "guesses_x0 = []\n",
    "b_len = len(bounds)\n",
    "for i in range(shots):\n",
    "    x0 = [0, 0]\n",
    "    for b in range(b_len):\n",
    "        x0[b] = np.random.uniform(low=bounds[b][0], high=bounds[b][1])\n",
    "    print(x0)\n",
    "    res = minimize(obj1_nonuniformity, x0, method=method, options=options, bounds=bounds)\n",
    "    guesses_x0.append(x0)\n",
    "    results_x.append(res.x)\n",
    "    results_fun.append(res.fun)\n",
    "\n",
    "print(\"Objective function values:\")\n",
    "print(results_fun)\n",
    "print(\"Result parameters:\")\n",
    "print(results_x)\n",
    "print(\"Starting guesses:\")\n",
    "print(guesses_x0)"
   ]
  },
  {
   "cell_type": "code",
   "execution_count": 7,
   "id": "589652d9-7526-4bd5-9856-9cca94938169",
   "metadata": {},
   "outputs": [
    {
     "name": "stdout",
     "output_type": "stream",
     "text": [
      "[array([  3.63986191, 266.22425891]), array([  4.11058208, 300.        ]), array([  3.58834144, 262.51068895]), array([  4.11046278, 300.        ]), array([ 1.28758116, 95.23744008]), array([ 1.29607843, 95.25284018]), array([ 1.28894409, 95.14789273]), array([  4.11054364, 300.        ]), array([ 1.        , 74.19345188]), array([ 1.28976262, 95.1193574 ]), array([ 1.        , 74.19342344]), array([  4.10969743, 300.        ]), array([ 1.2882745 , 95.14282064]), array([  4.10923007, 300.        ]), array([  4.10796129, 300.        ]), array([  4.11051312, 300.        ]), array([  4.10944635, 300.        ]), array([  4.11071357, 300.        ]), array([ 1.28860033, 95.17241344]), array([ 1.29082997, 95.26112591]), array([ 1.2893825 , 95.18017415]), array([  4.11053756, 300.        ]), array([ 1.29299299, 95.2249051 ]), array([  4.10942136, 300.        ]), array([  3.96183874, 289.35291477])]\n"
     ]
    }
   ],
   "source": [
    "print(results_x)"
   ]
  },
  {
   "cell_type": "code",
   "execution_count": 8,
   "id": "e4452b35-0ab3-46a1-98dc-53f18db65ebf",
   "metadata": {},
   "outputs": [],
   "source": [
    "charr = np.full((1, shots), 640).flatten()\n",
    "r_n = np.full((1, shots), n).flatten()"
   ]
  },
  {
   "cell_type": "code",
   "execution_count": 9,
   "id": "3ade58bf-00ea-4069-bf6a-ec6884fb1768",
   "metadata": {},
   "outputs": [],
   "source": [
    "from maggeometry import halbach_cylinder\n",
    "from maghelper import get_field_on_axes, get_nonuniformity, make_flux_stream, centered_sweep_range, get_grid_nonuniformity, make_xy_grid, get_grid_mag_and_nonuniformity\n",
    "grid_res = 101\n",
    "grid = make_xy_grid([-10, 10], [-10, 10], grid_res)\n",
    "results_g_center = []\n",
    "results_nonun = []\n",
    "for x in results_x:\n",
    "    magnets = halbach_cylinder(Br, x[0], charr[0], x[1], n)\n",
    "    Gmag, Gnon, center_field, av_nonuniformity, max_abs_nonuniformity = get_grid_mag_and_nonuniformity(magnets, grid, grid_res)\n",
    "    results_g_center.append(center_field)\n",
    "    results_nonun.append(av_nonuniformity)"
   ]
  },
  {
   "cell_type": "code",
   "execution_count": 10,
   "id": "c8fd0acb-f506-49cb-900c-aed1476f3a0f",
   "metadata": {
    "scrolled": true
   },
   "outputs": [
    {
     "name": "stdout",
     "output_type": "stream",
     "text": [
      "Number of unique results: 25\n",
      "    nonuniformity  center_field_gauss  n_rods  cyl_height  cyl_diameter  \\\n",
      "0    6.274512e-07           10.046407    10.0       640.0      1.292993   \n",
      "1    6.274605e-07            9.959862    10.0       640.0      1.287581   \n",
      "2    6.274623e-07           10.005207    10.0       640.0      1.290830   \n",
      "3    6.274724e-07            9.999760    10.0       640.0      1.288944   \n",
      "4    6.274755e-07           10.088489    10.0       640.0      1.296078   \n",
      "5    6.274792e-07            9.990439    10.0       640.0      1.288274   \n",
      "6    6.274835e-07            9.999775    10.0       640.0      1.289382   \n",
      "7    6.274882e-07            9.989276    10.0       640.0      1.288600   \n",
      "8    6.275038e-07           10.018475    10.0       640.0      1.289763   \n",
      "9    2.396364e-06            9.900032    10.0       640.0      1.000000   \n",
      "10   2.396370e-06            9.900039    10.0       640.0      1.000000   \n",
      "11   1.804764e-05           10.099997    10.0       640.0      3.588341   \n",
      "12   1.882681e-05           10.099993    10.0       640.0      3.639862   \n",
      "13   2.402291e-05           10.099990    10.0       640.0      3.961839   \n",
      "14   2.659750e-05           10.098568    10.0       640.0      4.110463   \n",
      "15   2.659750e-05           10.099155    10.0       640.0      4.110582   \n",
      "16   2.659750e-05           10.099801    10.0       640.0      4.110714   \n",
      "17   2.659750e-05           10.098966    10.0       640.0      4.110544   \n",
      "18   2.659750e-05           10.098936    10.0       640.0      4.110538   \n",
      "19   2.659750e-05           10.098816    10.0       640.0      4.110513   \n",
      "20   2.659750e-05           10.094808    10.0       640.0      4.109697   \n",
      "21   2.659750e-05           10.092512    10.0       640.0      4.109230   \n",
      "22   2.659750e-05           10.093452    10.0       640.0      4.109421   \n",
      "23   2.659750e-05           10.093575    10.0       640.0      4.109446   \n",
      "24   2.659751e-05           10.086281    10.0       640.0      4.107961   \n",
      "\n",
      "             D  g_cyl_diameter         g_D  \n",
      "0    95.224905        2.065356  233.324966  \n",
      "1    95.237440        1.606078  166.495222  \n",
      "2    95.261126        2.395707  105.849391  \n",
      "3    95.147893        6.118877  227.549512  \n",
      "4    95.252840       15.435067  146.696281  \n",
      "5    95.142821        3.492558  124.903337  \n",
      "6    95.180174       12.573563   92.168982  \n",
      "7    95.172413        4.018243  257.520426  \n",
      "8    95.119357       15.998504  135.947689  \n",
      "9    74.193452       18.380728   32.874143  \n",
      "10   74.193423       13.348797   28.926826  \n",
      "11  262.510689       17.639859  158.855124  \n",
      "12  266.224259       13.749130  166.740112  \n",
      "13  289.352915       13.544703  175.472865  \n",
      "14  300.000000       12.825099  245.194229  \n",
      "15  300.000000       14.576513  225.410647  \n",
      "16  300.000000       11.641629  270.713501  \n",
      "17  300.000000       11.864688  238.495072  \n",
      "18  300.000000        5.069652  268.855692  \n",
      "19  300.000000        6.160380  292.066757  \n",
      "20  300.000000       19.308434  253.966994  \n",
      "21  300.000000       19.918843   97.943901  \n",
      "22  300.000000        5.416449  284.473978  \n",
      "23  300.000000       19.731198   94.653753  \n",
      "24  300.000000        9.314410  274.839157  \n"
     ]
    }
   ],
   "source": [
    "import pandas as pd\n",
    "def make_opt_res_halbach_csv(name, fun, g_center, r_n, r_ch, x, guesses):\n",
    "    r_f = np.array([fun])\n",
    "    r_g = np.array(guesses)\n",
    "    r_gc = np.array([g_center])\n",
    "    r_n = np.array([r_n])\n",
    "    r_ch = np.array([r_ch])\n",
    "    r_x = np.array(x)\n",
    "    a = np.concatenate((r_f.T, r_gc.T, r_n.T, r_ch.T, r_x, r_g), axis=1)\n",
    "    b = a[a[:, 0].argsort()]\n",
    "\n",
    "    columns = ['nonuniformity', 'center_field_gauss', 'n_rods', 'cyl_height']\n",
    "\n",
    "    columns.append('cyl_diameter')\n",
    "    columns.append('D')\n",
    "    columns.append('g_cyl_diameter')\n",
    "    columns.append('g_D')\n",
    "    \n",
    "    \n",
    "    columns = np.array(columns)\n",
    "    b_df = pd.DataFrame(b, columns = columns)\n",
    "    \n",
    "    c = np.concatenate((r_f.T, r_x), axis=1)\n",
    "    new_array = [tuple(row) for row in c]\n",
    "    u = np.unique(new_array, axis=0)\n",
    "    n_unique = len(u)\n",
    "    print('Number of unique results:', n_unique)\n",
    "    print(b_df)\n",
    "    b_df.to_csv(name + str(n_unique) + '.csv')\n",
    "    return b, b_df\n",
    "\n",
    "import datetime\n",
    "today = datetime.datetime.today().strftime('%Y_%m_%d')\n",
    "\n",
    "b, b_df = make_opt_res_halbach_csv(f'results/halbach/samwise/{n}_{today}_samwise_halbach_main_1090mT_', results_fun, results_g_center, r_n, charr, results_x, guesses_x0)"
   ]
  },
  {
   "cell_type": "code",
   "execution_count": 12,
   "id": "cdc0acc2-1d04-4dd5-9eb7-0e33c143f57b",
   "metadata": {},
   "outputs": [
    {
     "name": "stdout",
     "output_type": "stream",
     "text": [
      "1.5573750827657786e-07\n"
     ]
    }
   ],
   "source": [
    "m = halbach_cylinder(Br, 1.101233, 640, 68.228286, n)\n",
    "Gmag, Gnon, center_field, av_nonuniformity, max_abs_nonuniformity = get_grid_mag_and_nonuniformity(m, grid, grid_res)\n",
    "print(av_nonuniformity)"
   ]
  },
  {
   "cell_type": "code",
   "execution_count": null,
   "id": "836fe4bf-625b-4afd-bb10-118a878bb35c",
   "metadata": {},
   "outputs": [],
   "source": []
  }
 ],
 "metadata": {
  "kernelspec": {
   "display_name": "Python 3 (ipykernel)",
   "language": "python",
   "name": "python3"
  },
  "language_info": {
   "codemirror_mode": {
    "name": "ipython",
    "version": 3
   },
   "file_extension": ".py",
   "mimetype": "text/x-python",
   "name": "python",
   "nbconvert_exporter": "python",
   "pygments_lexer": "ipython3",
   "version": "3.11.4"
  }
 },
 "nbformat": 4,
 "nbformat_minor": 5
}
